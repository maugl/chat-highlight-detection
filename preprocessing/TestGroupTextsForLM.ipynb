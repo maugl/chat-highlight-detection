{
 "cells": [
  {
   "cell_type": "code",
   "execution_count": 8,
   "id": "f3e43954-bafa-41e8-ac5c-9c9aee90c30d",
   "metadata": {},
   "outputs": [],
   "source": [
    "import random"
   ]
  },
  {
   "cell_type": "code",
   "execution_count": 24,
   "id": "79e58abd-6010-4f84-8921-fd9dbc64c08e",
   "metadata": {},
   "outputs": [],
   "source": [
    "class Tokenizer():\n",
    "    def __init__(self, pad_token):\n",
    "        self.pad_token_id=pad_token"
   ]
  },
  {
   "cell_type": "code",
   "execution_count": 26,
   "id": "3413e214-776b-4336-932a-4016b3a6d2cb",
   "metadata": {},
   "outputs": [],
   "source": [
    "tokenizer = Tokenizer(-1)"
   ]
  },
  {
   "cell_type": "code",
   "execution_count": 66,
   "id": "ea1bb4e6-80d6-45b4-bfff-78a8373ae9f3",
   "metadata": {},
   "outputs": [],
   "source": [
    "block_size = 12\n",
    "\n",
    "def group_texts(examples):\n",
    "    # Concatenate all texts.\n",
    "    concatenated_examples = {k: sum(examples[k], []) for k in examples.keys()}\n",
    "    total_length = len(concatenated_examples[list(examples.keys())[0]])\n",
    "    # We drop the small remainder, we could add padding if the model supported it instead of this drop, you can\n",
    "        # customize this part to your needs.\n",
    "    remainder = total_length % block_size\n",
    "    total_length = (total_length // block_size) * block_size\n",
    "    # Split by chunks of max_len.\n",
    "    result = {\n",
    "        k: [t[i : i + block_size] for i in range(0, total_length, block_size)]\n",
    "        for k, t in concatenated_examples.items()\n",
    "    }\n",
    "    # add remaining tokens\n",
    "    if remainder > 0:\n",
    "        for k in concatenated_examples.keys():\n",
    "            if k == \"input_ids\":\n",
    "                result[k].append(concatenated_examples[k][-remainder:] + ([tokenizer.pad_token_id]* (block_size-remainder)))\n",
    "            else:  \n",
    "                result[k].append(concatenated_examples[k][-remainder:] + ([type(concatenated_examples[k][0])()] * (block_size-remainder)))\n",
    "\n",
    "    result[\"labels\"] = result[\"input_ids\"].copy()\n",
    "    return result"
   ]
  },
  {
   "cell_type": "code",
   "execution_count": 67,
   "id": "53504354-a909-4b0f-afcc-7f60160b76e8",
   "metadata": {},
   "outputs": [],
   "source": [
    "dataset = {\"input_ids\":[[100] + [random.randint(0,100) for j in range(random.randint(3,15))] + [200] for i in range(20)]}"
   ]
  },
  {
   "cell_type": "code",
   "execution_count": 68,
   "id": "5f58bc1e-f733-48ea-90b8-a8dd38979190",
   "metadata": {},
   "outputs": [],
   "source": [
    "dataset[\"attention_mask\"] = [[1 for j in range(len(elm))] for elm in dataset[\"input_ids\"]]"
   ]
  },
  {
   "cell_type": "code",
   "execution_count": 69,
   "id": "c161d5cf-1399-407c-952c-9457f9f2f1be",
   "metadata": {},
   "outputs": [
    {
     "data": {
      "text/plain": [
       "{'input_ids': [[100, 72, 90, 66, 63, 48, 20, 7, 8, 200],\n",
       "  [100, 40, 19, 11, 6, 21, 82, 200],\n",
       "  [100, 46, 0, 98, 200],\n",
       "  [100, 22, 4, 40, 42, 45, 200],\n",
       "  [100, 74, 92, 99, 86, 49, 62, 27, 19, 21, 58, 49, 81, 75, 39, 38, 200],\n",
       "  [100, 9, 53, 29, 16, 97, 19, 78, 77, 21, 3, 80, 95, 200],\n",
       "  [100, 26, 67, 82, 61, 18, 65, 97, 75, 24, 70, 34, 200],\n",
       "  [100, 58, 83, 63, 35, 62, 100, 8, 67, 0, 55, 64, 200],\n",
       "  [100, 97, 35, 34, 0, 38, 200],\n",
       "  [100, 100, 61, 31, 200],\n",
       "  [100, 35, 38, 80, 200],\n",
       "  [100, 52, 16, 93, 78, 18, 80, 99, 95, 7, 18, 6, 9, 16, 60, 200],\n",
       "  [100, 84, 54, 99, 45, 93, 92, 86, 71, 5, 99, 23, 52, 200],\n",
       "  [100, 57, 33, 40, 68, 88, 200],\n",
       "  [100, 15, 21, 6, 43, 54, 79, 75, 81, 96, 72, 29, 42, 78, 80, 46, 200],\n",
       "  [100, 66, 84, 82, 100, 95, 8, 52, 76, 83, 17, 42, 36, 45, 87, 200],\n",
       "  [100, 89, 48, 26, 37, 45, 49, 200],\n",
       "  [100, 64, 99, 41, 200],\n",
       "  [100, 87, 98, 49, 93, 60, 80, 82, 25, 69, 18, 200],\n",
       "  [100, 65, 56, 40, 14, 200]],\n",
       " 'attention_mask': [[1, 1, 1, 1, 1, 1, 1, 1, 1, 1],\n",
       "  [1, 1, 1, 1, 1, 1, 1, 1],\n",
       "  [1, 1, 1, 1, 1],\n",
       "  [1, 1, 1, 1, 1, 1, 1],\n",
       "  [1, 1, 1, 1, 1, 1, 1, 1, 1, 1, 1, 1, 1, 1, 1, 1, 1],\n",
       "  [1, 1, 1, 1, 1, 1, 1, 1, 1, 1, 1, 1, 1, 1],\n",
       "  [1, 1, 1, 1, 1, 1, 1, 1, 1, 1, 1, 1, 1],\n",
       "  [1, 1, 1, 1, 1, 1, 1, 1, 1, 1, 1, 1, 1],\n",
       "  [1, 1, 1, 1, 1, 1, 1],\n",
       "  [1, 1, 1, 1, 1],\n",
       "  [1, 1, 1, 1, 1],\n",
       "  [1, 1, 1, 1, 1, 1, 1, 1, 1, 1, 1, 1, 1, 1, 1, 1],\n",
       "  [1, 1, 1, 1, 1, 1, 1, 1, 1, 1, 1, 1, 1, 1],\n",
       "  [1, 1, 1, 1, 1, 1, 1],\n",
       "  [1, 1, 1, 1, 1, 1, 1, 1, 1, 1, 1, 1, 1, 1, 1, 1, 1],\n",
       "  [1, 1, 1, 1, 1, 1, 1, 1, 1, 1, 1, 1, 1, 1, 1, 1],\n",
       "  [1, 1, 1, 1, 1, 1, 1, 1],\n",
       "  [1, 1, 1, 1, 1],\n",
       "  [1, 1, 1, 1, 1, 1, 1, 1, 1, 1, 1, 1],\n",
       "  [1, 1, 1, 1, 1, 1]]}"
      ]
     },
     "execution_count": 69,
     "metadata": {},
     "output_type": "execute_result"
    }
   ],
   "source": [
    "dataset"
   ]
  },
  {
   "cell_type": "code",
   "execution_count": 70,
   "id": "c5f3c28a-c03c-42d9-9f4c-4f9c5f431b99",
   "metadata": {},
   "outputs": [
    {
     "name": "stdout",
     "output_type": "stream",
     "text": [
      "1\n",
      "[200]\n",
      "[1]\n"
     ]
    }
   ],
   "source": [
    "data_set_grouped = group_texts(dataset)"
   ]
  },
  {
   "cell_type": "code",
   "execution_count": 71,
   "id": "f57cb831-8f88-4680-8ba7-2cbfcfe2acea",
   "metadata": {},
   "outputs": [
    {
     "data": {
      "text/plain": [
       "{'input_ids': [[100, 72, 90, 66, 63, 48, 20, 7, 8, 200, 100, 40],\n",
       "  [19, 11, 6, 21, 82, 200, 100, 46, 0, 98, 200, 100],\n",
       "  [22, 4, 40, 42, 45, 200, 100, 74, 92, 99, 86, 49],\n",
       "  [62, 27, 19, 21, 58, 49, 81, 75, 39, 38, 200, 100],\n",
       "  [9, 53, 29, 16, 97, 19, 78, 77, 21, 3, 80, 95],\n",
       "  [200, 100, 26, 67, 82, 61, 18, 65, 97, 75, 24, 70],\n",
       "  [34, 200, 100, 58, 83, 63, 35, 62, 100, 8, 67, 0],\n",
       "  [55, 64, 200, 100, 97, 35, 34, 0, 38, 200, 100, 100],\n",
       "  [61, 31, 200, 100, 35, 38, 80, 200, 100, 52, 16, 93],\n",
       "  [78, 18, 80, 99, 95, 7, 18, 6, 9, 16, 60, 200],\n",
       "  [100, 84, 54, 99, 45, 93, 92, 86, 71, 5, 99, 23],\n",
       "  [52, 200, 100, 57, 33, 40, 68, 88, 200, 100, 15, 21],\n",
       "  [6, 43, 54, 79, 75, 81, 96, 72, 29, 42, 78, 80],\n",
       "  [46, 200, 100, 66, 84, 82, 100, 95, 8, 52, 76, 83],\n",
       "  [17, 42, 36, 45, 87, 200, 100, 89, 48, 26, 37, 45],\n",
       "  [49, 200, 100, 64, 99, 41, 200, 100, 87, 98, 49, 93],\n",
       "  [60, 80, 82, 25, 69, 18, 200, 100, 65, 56, 40, 14],\n",
       "  [200, -1, -1, -1, -1, -1, -1, -1, -1, -1, -1, -1]],\n",
       " 'attention_mask': [[1, 1, 1, 1, 1, 1, 1, 1, 1, 1, 1, 1],\n",
       "  [1, 1, 1, 1, 1, 1, 1, 1, 1, 1, 1, 1],\n",
       "  [1, 1, 1, 1, 1, 1, 1, 1, 1, 1, 1, 1],\n",
       "  [1, 1, 1, 1, 1, 1, 1, 1, 1, 1, 1, 1],\n",
       "  [1, 1, 1, 1, 1, 1, 1, 1, 1, 1, 1, 1],\n",
       "  [1, 1, 1, 1, 1, 1, 1, 1, 1, 1, 1, 1],\n",
       "  [1, 1, 1, 1, 1, 1, 1, 1, 1, 1, 1, 1],\n",
       "  [1, 1, 1, 1, 1, 1, 1, 1, 1, 1, 1, 1],\n",
       "  [1, 1, 1, 1, 1, 1, 1, 1, 1, 1, 1, 1],\n",
       "  [1, 1, 1, 1, 1, 1, 1, 1, 1, 1, 1, 1],\n",
       "  [1, 1, 1, 1, 1, 1, 1, 1, 1, 1, 1, 1],\n",
       "  [1, 1, 1, 1, 1, 1, 1, 1, 1, 1, 1, 1],\n",
       "  [1, 1, 1, 1, 1, 1, 1, 1, 1, 1, 1, 1],\n",
       "  [1, 1, 1, 1, 1, 1, 1, 1, 1, 1, 1, 1],\n",
       "  [1, 1, 1, 1, 1, 1, 1, 1, 1, 1, 1, 1],\n",
       "  [1, 1, 1, 1, 1, 1, 1, 1, 1, 1, 1, 1],\n",
       "  [1, 1, 1, 1, 1, 1, 1, 1, 1, 1, 1, 1],\n",
       "  [1, 0, 0, 0, 0, 0, 0, 0, 0, 0, 0, 0]],\n",
       " 'labels': [[100, 72, 90, 66, 63, 48, 20, 7, 8, 200, 100, 40],\n",
       "  [19, 11, 6, 21, 82, 200, 100, 46, 0, 98, 200, 100],\n",
       "  [22, 4, 40, 42, 45, 200, 100, 74, 92, 99, 86, 49],\n",
       "  [62, 27, 19, 21, 58, 49, 81, 75, 39, 38, 200, 100],\n",
       "  [9, 53, 29, 16, 97, 19, 78, 77, 21, 3, 80, 95],\n",
       "  [200, 100, 26, 67, 82, 61, 18, 65, 97, 75, 24, 70],\n",
       "  [34, 200, 100, 58, 83, 63, 35, 62, 100, 8, 67, 0],\n",
       "  [55, 64, 200, 100, 97, 35, 34, 0, 38, 200, 100, 100],\n",
       "  [61, 31, 200, 100, 35, 38, 80, 200, 100, 52, 16, 93],\n",
       "  [78, 18, 80, 99, 95, 7, 18, 6, 9, 16, 60, 200],\n",
       "  [100, 84, 54, 99, 45, 93, 92, 86, 71, 5, 99, 23],\n",
       "  [52, 200, 100, 57, 33, 40, 68, 88, 200, 100, 15, 21],\n",
       "  [6, 43, 54, 79, 75, 81, 96, 72, 29, 42, 78, 80],\n",
       "  [46, 200, 100, 66, 84, 82, 100, 95, 8, 52, 76, 83],\n",
       "  [17, 42, 36, 45, 87, 200, 100, 89, 48, 26, 37, 45],\n",
       "  [49, 200, 100, 64, 99, 41, 200, 100, 87, 98, 49, 93],\n",
       "  [60, 80, 82, 25, 69, 18, 200, 100, 65, 56, 40, 14],\n",
       "  [200, -1, -1, -1, -1, -1, -1, -1, -1, -1, -1, -1]]}"
      ]
     },
     "execution_count": 71,
     "metadata": {},
     "output_type": "execute_result"
    }
   ],
   "source": [
    "data_set_grouped"
   ]
  },
  {
   "cell_type": "code",
   "execution_count": null,
   "id": "c33892fb-ec6e-4b90-905d-4a46e8c0b866",
   "metadata": {},
   "outputs": [],
   "source": []
  },
  {
   "cell_type": "code",
   "execution_count": null,
   "id": "7c21d694-6a20-4d5c-9ecb-ab2b78953020",
   "metadata": {},
   "outputs": [],
   "source": []
  }
 ],
 "metadata": {
  "kernelspec": {
   "display_name": "Python 3 (ipykernel)",
   "language": "python",
   "name": "python3"
  },
  "language_info": {
   "codemirror_mode": {
    "name": "ipython",
    "version": 3
   },
   "file_extension": ".py",
   "mimetype": "text/x-python",
   "name": "python",
   "nbconvert_exporter": "python",
   "pygments_lexer": "ipython3",
   "version": "3.8.12"
  }
 },
 "nbformat": 4,
 "nbformat_minor": 5
}
