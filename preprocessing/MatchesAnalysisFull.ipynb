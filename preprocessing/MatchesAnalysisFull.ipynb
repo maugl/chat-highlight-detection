{
 "cells": [
  {
   "cell_type": "code",
   "execution_count": 2,
   "id": "a7ae4bf1-a1b1-4ff4-b289-5181f10efc8a",
   "metadata": {},
   "outputs": [],
   "source": [
    "from data_loading import ChatHighlightData\n",
    "import numpy as np\n",
    "import matplotlib.pyplot as plt\n",
    "import pandas as pd"
   ]
  },
  {
   "cell_type": "code",
   "execution_count": 3,
   "id": "f6f986fe-0f9b-4668-b423-918d9d87db9c",
   "metadata": {},
   "outputs": [],
   "source": [
    "def get_hl_lens(chat_highlight_data):\n",
    "    matches_hl_lengths = list()\n",
    "\n",
    "    for name, match_data in chat_highlight_data.get_match_meta_data().items():\n",
    "        if match_data[\"highlight_lengths\"]:\n",
    "            for i, (hl_start, hl_end) in enumerate(match_data[\"highlight_spans\"]):\n",
    "                matches_hl_lengths.append((name, i,hl_start, hl_end, hl_end - hl_start, (hl_end - hl_start)/30))\n",
    "        else:\n",
    "            print(\"no highlights in match: \", name)\n",
    "    return matches_hl_lengths"
   ]
  },
  {
   "cell_type": "markdown",
   "id": "54d9a406-23fc-40d9-8a2a-a145aa2d1be6",
   "metadata": {},
   "source": [
    "## Chat Highlight data total"
   ]
  },
  {
   "cell_type": "code",
   "execution_count": 4,
   "id": "a632a3f0-9c6d-4638-b1f8-7e4b926f0342",
   "metadata": {},
   "outputs": [],
   "source": [
    "chd = ChatHighlightData()\n",
    "chd.load_data(file_identifier=\"nalcs_*\")"
   ]
  },
  {
   "cell_type": "code",
   "execution_count": 5,
   "id": "200028f4-60d1-4510-abcd-6ec84987055e",
   "metadata": {},
   "outputs": [
    {
     "data": {
      "text/plain": [
       "218"
      ]
     },
     "execution_count": 5,
     "metadata": {},
     "output_type": "execute_result"
    }
   ],
   "source": [
    "len(chd.chat)"
   ]
  },
  {
   "cell_type": "code",
   "execution_count": 9,
   "id": "58b04afc-f8f9-4ae5-b539-8074275f3849",
   "metadata": {},
   "outputs": [
    {
     "data": {
      "text/plain": [
       "{'video_count': 218,\n",
       " 'video_length_secs': 595657.0333333333,\n",
       " 'highlight_count': 3106,\n",
       " 'highlight_length_secs': 62549.333333333336,\n",
       " 'highlight_min_len_frames': 9,\n",
       " 'highlight_max_len_frames': 13460,\n",
       " 'chat_message_count': 1733448,\n",
       " 'chat_message_count_avg_video': 7951.59633027523,\n",
       " 'chat_message_count_hl': 288428,\n",
       " 'chat_message_count_non_hl': 1445020,\n",
       " 'chat_message_count_avg_hl': 92.8615582743078,\n",
       " 'highlight_length_proportion': 0.10500897300465577,\n",
       " 'highlight_message_count_proportion': 0.1663897619080584}"
      ]
     },
     "execution_count": 9,
     "metadata": {},
     "output_type": "execute_result"
    }
   ],
   "source": [
    "chd.get_data_totals()"
   ]
  },
  {
   "cell_type": "code",
   "execution_count": 106,
   "id": "a49c2101-19d4-429c-8760-09736248a0a2",
   "metadata": {},
   "outputs": [
    {
     "data": {
      "text/plain": [
       "165.46028703703612"
      ]
     },
     "execution_count": 106,
     "metadata": {},
     "output_type": "execute_result"
    }
   ],
   "source": [
    "# vid len\n",
    "595657.03333333 / 60 / 60"
   ]
  },
  {
   "cell_type": "code",
   "execution_count": 6,
   "id": "909797c4-5c2e-460a-84a6-d26f759c6ab1",
   "metadata": {},
   "outputs": [
    {
     "name": "stdout",
     "output_type": "stream",
     "text": [
      "no highlights in match:  nalcs_w8d3_TSM_FOX_g1\n",
      "no highlights in match:  nalcs_w6d2_FLY_NV_g2\n",
      "no highlights in match:  nalcs_w8d3_TSM_FOX_g2\n"
     ]
    }
   ],
   "source": [
    "matches_hl_lengths = get_hl_lens(chd)"
   ]
  },
  {
   "cell_type": "code",
   "execution_count": 11,
   "id": "4f288437-10df-4bd0-b804-f22069bd3325",
   "metadata": {},
   "outputs": [
    {
     "data": {
      "text/plain": [
       "('nalcs_w7d2_P1_FOX_g1', 0, 12224, 12382, 158, 5.266666666666667)"
      ]
     },
     "execution_count": 11,
     "metadata": {},
     "output_type": "execute_result"
    }
   ],
   "source": [
    "matches_hl_lengths[0]"
   ]
  },
  {
   "cell_type": "code",
   "execution_count": 7,
   "id": "bc957b7e-b833-455e-a14a-346f0bdd8b98",
   "metadata": {},
   "outputs": [],
   "source": [
    "hl_lens = [m[4] for m in matches_hl_lengths]"
   ]
  },
  {
   "cell_type": "code",
   "execution_count": 8,
   "id": "fa7f758c-d359-4e98-b908-834218b187ef",
   "metadata": {},
   "outputs": [
    {
     "data": {
      "text/plain": [
       "(13459, 8, 603.1468126207341, 610.8422987365651, 373128.31392577104)"
      ]
     },
     "execution_count": 8,
     "metadata": {},
     "output_type": "execute_result"
    }
   ],
   "source": [
    "# highlight duration numbers\n",
    "np.max(hl_lens), np.min(hl_lens),  np.mean(hl_lens), np.std(hl_lens), np.var(hl_lens)"
   ]
  },
  {
   "cell_type": "code",
   "execution_count": 9,
   "id": "c80cba5c-fe7b-48e5-b9df-a22c44be42a6",
   "metadata": {},
   "outputs": [
    {
     "data": {
      "text/plain": [
       "(448.6333333333333,\n",
       " 0.26666666666666666,\n",
       " 20.10489375402447,\n",
       " 20.361409957885503,\n",
       " 12437.610464192368)"
      ]
     },
     "execution_count": 9,
     "metadata": {},
     "output_type": "execute_result"
    }
   ],
   "source": [
    "np.max(hl_lens)/30, np.min(hl_lens)/30,  np.mean(hl_lens)/30, np.std(hl_lens)/30, np.var(hl_lens)/30"
   ]
  },
  {
   "cell_type": "code",
   "execution_count": 94,
   "id": "7f4ee38d-a5d4-42ce-90ed-49270f9d2f5b",
   "metadata": {},
   "outputs": [
    {
     "data": {
      "text/plain": [
       "2966"
      ]
     },
     "execution_count": 94,
     "metadata": {},
     "output_type": "execute_result"
    }
   ],
   "source": [
    "sum(np.asarray(hl_lens) < 1800)"
   ]
  },
  {
   "cell_type": "code",
   "execution_count": 95,
   "id": "a1ddcd25-e635-4054-aaa8-1697fd40c011",
   "metadata": {},
   "outputs": [
    {
     "data": {
      "text/plain": [
       "0.9549259497746297"
      ]
     },
     "execution_count": 95,
     "metadata": {},
     "output_type": "execute_result"
    }
   ],
   "source": [
    "# highlights below 1 minute in length\n",
    "2966/3106"
   ]
  },
  {
   "cell_type": "code",
   "execution_count": 27,
   "id": "bcaeeee7-76f6-4bff-bc21-653cf748737b",
   "metadata": {},
   "outputs": [
    {
     "name": "stdout",
     "output_type": "stream",
     "text": [
      "59.7 0.26666666666666666 16.942099348168128 11.926610999233796 142.24404992704459\n"
     ]
    }
   ],
   "source": [
    "short_highlights_only = (np.asarray(hl_lens)/30)[np.asarray(hl_lens)/30<60]\n",
    "print(np.max(short_highlights_only), \n",
    "np.min(short_highlights_only),  \n",
    "np.mean(short_highlights_only), \n",
    "np.std(short_highlights_only),\n",
    "np.var(short_highlights_only))"
   ]
  },
  {
   "cell_type": "code",
   "execution_count": 23,
   "id": "5090e557-b5dd-4101-af39-e894cd997579",
   "metadata": {},
   "outputs": [
    {
     "data": {
      "image/png": "[encoded data removed]",
      "text/plain": [
       "<Figure size 432x288 with 1 Axes>"
      ]
     },
     "metadata": {
      "needs_background": "light"
     },
     "output_type": "display_data"
    }
   ],
   "source": [
    "plt.hist((np.asarray(hl_lens)/30)[np.asarray(hl_lens)/30<60], bins=20)\n",
    "plt.show()"
   ]
  },
  {
   "cell_type": "markdown",
   "id": "69c86e3f-4b19-4a68-af1e-07c7e841d35b",
   "metadata": {},
   "source": [
    "### Avg HL count per match"
   ]
  },
  {
   "cell_type": "code",
   "execution_count": 101,
   "id": "e023b018-a3b0-4c5e-aa19-6d005d6790cb",
   "metadata": {},
   "outputs": [
    {
     "data": {
      "text/plain": [
       "dict_keys(['highlight_spans', 'highlight_lengths', 'highlight_count', 'highlight_avg_len'])"
      ]
     },
     "execution_count": 101,
     "metadata": {},
     "output_type": "execute_result"
    }
   ],
   "source": [
    "chd.get_match_meta_data()[\"nalcs_w7d2_P1_FOX_g1\"].keys()"
   ]
  },
  {
   "cell_type": "code",
   "execution_count": 103,
   "id": "2516043d-52fc-4d75-92d0-91b9fbb238e4",
   "metadata": {},
   "outputs": [
    {
     "name": "stdout",
     "output_type": "stream",
     "text": [
      "no highlights in match:  nalcs_w8d3_TSM_FOX_g1\n",
      "no highlights in match:  nalcs_w6d2_FLY_NV_g2\n",
      "no highlights in match:  nalcs_w8d3_TSM_FOX_g2\n"
     ]
    }
   ],
   "source": [
    "hl_counts = list()\n",
    "for name, match_data in chd.get_match_meta_data().items():\n",
    "    if match_data[\"highlight_count\"]:\n",
    "        hl_counts.append(match_data[\"highlight_count\"])\n",
    "    else:\n",
    "        print(\"no highlights in match: \", name)\n"
   ]
  },
  {
   "cell_type": "code",
   "execution_count": null,
   "id": "bc4283e0-b9f8-4a1a-a277-99cf3829390d",
   "metadata": {},
   "outputs": [],
   "source": []
  },
  {
   "cell_type": "code",
   "execution_count": 104,
   "id": "7e31c54b-967b-42ae-81d2-8dcfd7453c30",
   "metadata": {},
   "outputs": [
    {
     "data": {
      "text/plain": [
       "(30, 5, 14.446511627906977, 3.6885333845492787, 13.605278528934559)"
      ]
     },
     "execution_count": 104,
     "metadata": {},
     "output_type": "execute_result"
    }
   ],
   "source": [
    "np.max(hl_counts), np.min(hl_counts),  np.mean(hl_counts), np.std(hl_counts), np.var(hl_counts)"
   ]
  },
  {
   "cell_type": "markdown",
   "id": "8552c178-9b62-48dd-9d36-b85fbe76104a",
   "metadata": {
    "tags": []
   },
   "source": [
    "## Chat Highlight data train"
   ]
  },
  {
   "cell_type": "code",
   "execution_count": 12,
   "id": "02ccae45-1fd1-4ad3-a05c-aafc5c51f8a0",
   "metadata": {},
   "outputs": [],
   "source": [
    "chd_trn = ChatHighlightData()\n",
    "chd_trn.load_data(file_identifier=\"nalcs_w*_g[13]\")"
   ]
  },
  {
   "cell_type": "code",
   "execution_count": 13,
   "id": "7642a4bd-12ad-478b-bbb3-77cc4f03d5fc",
   "metadata": {},
   "outputs": [
    {
     "data": {
      "text/plain": [
       "{'video_count': 128,\n",
       " 'video_length_secs': 352680.03333333327,\n",
       " 'highlight_count': 1813,\n",
       " 'highlight_length_secs': 36332.29999999998,\n",
       " 'highlight_min_len_frames': 9,\n",
       " 'highlight_max_len_frames': 7845,\n",
       " 'chat_message_count': 1053699,\n",
       " 'chat_message_count_avg_video': 8232.0234375,\n",
       " 'chat_message_count_hl': 170485,\n",
       " 'chat_message_count_non_hl': 883214,\n",
       " 'chat_message_count_avg_hl': 94.03474903474904,\n",
       " 'highlight_length_proportion': 0.1030177400648614,\n",
       " 'highlight_message_count_proportion': 0.16179668007656836}"
      ]
     },
     "execution_count": 13,
     "metadata": {},
     "output_type": "execute_result"
    }
   ],
   "source": [
    "chd_trn.get_data_totals()"
   ]
  },
  {
   "cell_type": "code",
   "execution_count": 52,
   "id": "11eaf641-687a-4b98-82e5-8a5db33e64e6",
   "metadata": {},
   "outputs": [
    {
     "name": "stdout",
     "output_type": "stream",
     "text": [
      "no highlights in match:  nalcs_w8d3_TSM_FOX_g1\n"
     ]
    },
    {
     "data": {
      "text/plain": [
       "(7844, 8, 600.196359624931, 560.9739393864005, 314691.7606706969)"
      ]
     },
     "execution_count": 52,
     "metadata": {},
     "output_type": "execute_result"
    }
   ],
   "source": [
    "matches_hl_lengths_trn = get_hl_lens(chd_trn)\n",
    "hl_lens_trn = [m[4] for m in matches_hl_lengths_trn]\n",
    "np.max(hl_lens_trn), np.min(hl_lens_trn),  np.mean(hl_lens_trn), np.std(hl_lens_trn), np.var(hl_lens_trn)"
   ]
  },
  {
   "cell_type": "markdown",
   "id": "5cf38ed8-746d-4045-be01-33ced961b926",
   "metadata": {},
   "source": [
    "## Chat Highlight data val"
   ]
  },
  {
   "cell_type": "code",
   "execution_count": 14,
   "id": "3356fe4a-b4cb-483e-8a2c-2657553a6794",
   "metadata": {},
   "outputs": [],
   "source": [
    "chd_val = ChatHighlightData()\n",
    "chd_val.load_data(file_identifier=\"nalcs_w[1-4]*_g2\")"
   ]
  },
  {
   "cell_type": "code",
   "execution_count": 15,
   "id": "81ae09a2-bc46-4e66-85b0-48d4ab38c024",
   "metadata": {},
   "outputs": [
    {
     "data": {
      "text/plain": [
       "{'video_count': 40,\n",
       " 'video_length_secs': 110174.30000000002,\n",
       " 'highlight_count': 584,\n",
       " 'highlight_length_secs': 11705.199999999997,\n",
       " 'highlight_min_len_frames': 30,\n",
       " 'highlight_max_len_frames': 13460,\n",
       " 'chat_message_count': 330148,\n",
       " 'chat_message_count_avg_video': 8253.7,\n",
       " 'chat_message_count_hl': 56203,\n",
       " 'chat_message_count_non_hl': 273945,\n",
       " 'chat_message_count_avg_hl': 96.23801369863014,\n",
       " 'highlight_length_proportion': 0.10624256292075371,\n",
       " 'highlight_message_count_proportion': 0.1702357730472394}"
      ]
     },
     "execution_count": 15,
     "metadata": {},
     "output_type": "execute_result"
    }
   ],
   "source": [
    "chd_val.get_data_totals()"
   ]
  },
  {
   "cell_type": "code",
   "execution_count": 53,
   "id": "70e33f6c-e6e2-4988-bd37-bff1c90f4b36",
   "metadata": {},
   "outputs": [
    {
     "data": {
      "text/plain": [
       "(13459, 29, 600.2945205479452, 752.8044318232427, 566714.5125727153)"
      ]
     },
     "execution_count": 53,
     "metadata": {},
     "output_type": "execute_result"
    }
   ],
   "source": [
    "matches_hl_lengths_val = get_hl_lens(chd_val)\n",
    "hl_lens_val = [m[4] for m in matches_hl_lengths_val]\n",
    "np.max(hl_lens_val), np.min(hl_lens_val),  np.mean(hl_lens_val), np.std(hl_lens_val), np.var(hl_lens_val)"
   ]
  },
  {
   "cell_type": "markdown",
   "id": "580b9627-f6c3-475c-b62d-0c22acb0ad2f",
   "metadata": {},
   "source": [
    "## Chat Highlight data test"
   ]
  },
  {
   "cell_type": "code",
   "execution_count": 16,
   "id": "4142ec22-ae79-4723-8ed3-c29742ff1a08",
   "metadata": {},
   "outputs": [],
   "source": [
    "chd_tst = ChatHighlightData()\n",
    "chd_tst.load_data(file_identifier=\"nalcs_w[5-9]*_g2\")"
   ]
  },
  {
   "cell_type": "code",
   "execution_count": 17,
   "id": "726b2f71-3735-44e0-b27d-3439d9af7e20",
   "metadata": {},
   "outputs": [
    {
     "data": {
      "text/plain": [
       "{'video_count': 50,\n",
       " 'video_length_secs': 132802.69999999998,\n",
       " 'highlight_count': 709,\n",
       " 'highlight_length_secs': 14511.833333333332,\n",
       " 'highlight_min_len_frames': 10,\n",
       " 'highlight_max_len_frames': 5015,\n",
       " 'chat_message_count': 349601,\n",
       " 'chat_message_count_avg_video': 6992.02,\n",
       " 'chat_message_count_hl': 61740,\n",
       " 'chat_message_count_non_hl': 287861,\n",
       " 'chat_message_count_avg_hl': 87.08039492242595,\n",
       " 'highlight_length_proportion': 0.10927363173590096,\n",
       " 'highlight_message_count_proportion': 0.17660132551108262}"
      ]
     },
     "execution_count": 17,
     "metadata": {},
     "output_type": "execute_result"
    }
   ],
   "source": [
    "chd_tst.get_data_totals()"
   ]
  },
  {
   "cell_type": "code",
   "execution_count": 54,
   "id": "af17e525-d24a-4e8f-a77c-bc260c409832",
   "metadata": {},
   "outputs": [
    {
     "name": "stdout",
     "output_type": "stream",
     "text": [
      "no highlights in match:  nalcs_w6d2_FLY_NV_g2\n",
      "no highlights in match:  nalcs_w8d3_TSM_FOX_g2\n"
     ]
    },
    {
     "data": {
      "text/plain": [
       "(5014, 9, 613.0409026798308, 602.4739380253301, 362974.8459997493)"
      ]
     },
     "execution_count": 54,
     "metadata": {},
     "output_type": "execute_result"
    }
   ],
   "source": [
    "matches_hl_lengths_tst = get_hl_lens(chd_tst)\n",
    "hl_lens_tst = [m[4] for m in matches_hl_lengths_tst]\n",
    "np.max(hl_lens_tst), np.min(hl_lens_tst),  np.mean(hl_lens_tst), np.std(hl_lens_tst), np.var(hl_lens_tst)"
   ]
  },
  {
   "cell_type": "code",
   "execution_count": null,
   "id": "c64b7a68-9615-4201-8ba2-079c93500c99",
   "metadata": {},
   "outputs": [],
   "source": []
  },
  {
   "cell_type": "markdown",
   "id": "828f3df7-ded3-410c-8bf4-3f06cb1fee51",
   "metadata": {},
   "source": [
    "## Data table for chd stats"
   ]
  },
  {
   "cell_type": "code",
   "execution_count": 83,
   "id": "eb69d189-1b01-444c-b30c-16149dddc93d",
   "metadata": {},
   "outputs": [
    {
     "data": {
      "text/html": [
       "<div>\n",
       "<style scoped>\n",
       "    .dataframe tbody tr th:only-of-type {\n",
       "        vertical-align: middle;\n",
       "    }\n",
       "\n",
       "    .dataframe tbody tr th {\n",
       "        vertical-align: top;\n",
       "    }\n",
       "\n",
       "    .dataframe thead th {\n",
       "        text-align: right;\n",
       "    }\n",
       "</style>\n",
       "<table border=\"1\" class=\"dataframe\">\n",
       "  <thead>\n",
       "    <tr style=\"text-align: right;\">\n",
       "      <th></th>\n",
       "      <th>split</th>\n",
       "      <th>video_count</th>\n",
       "      <th>video_length_secs</th>\n",
       "      <th>highlight_count</th>\n",
       "      <th>highlight_length_secs</th>\n",
       "      <th>highlight_min_len_frames</th>\n",
       "      <th>highlight_max_len_frames</th>\n",
       "      <th>chat_message_count</th>\n",
       "      <th>chat_message_count_avg_video</th>\n",
       "      <th>chat_message_count_hl</th>\n",
       "      <th>chat_message_count_non_hl</th>\n",
       "      <th>chat_message_count_avg_hl</th>\n",
       "      <th>highlight_length_proportion</th>\n",
       "      <th>highlight_message_count_proportion</th>\n",
       "    </tr>\n",
       "  </thead>\n",
       "  <tbody>\n",
       "    <tr>\n",
       "      <th>0</th>\n",
       "      <td>all</td>\n",
       "      <td>218</td>\n",
       "      <td>595657.033333</td>\n",
       "      <td>3106</td>\n",
       "      <td>62549.333333</td>\n",
       "      <td>9</td>\n",
       "      <td>13460</td>\n",
       "      <td>1733448</td>\n",
       "      <td>7951.596330</td>\n",
       "      <td>288428</td>\n",
       "      <td>1445020</td>\n",
       "      <td>92.861558</td>\n",
       "      <td>0.105009</td>\n",
       "      <td>0.166390</td>\n",
       "    </tr>\n",
       "    <tr>\n",
       "      <th>1</th>\n",
       "      <td>trn</td>\n",
       "      <td>128</td>\n",
       "      <td>352680.033333</td>\n",
       "      <td>1813</td>\n",
       "      <td>36332.300000</td>\n",
       "      <td>9</td>\n",
       "      <td>7845</td>\n",
       "      <td>1053699</td>\n",
       "      <td>8232.023438</td>\n",
       "      <td>170485</td>\n",
       "      <td>883214</td>\n",
       "      <td>94.034749</td>\n",
       "      <td>0.103018</td>\n",
       "      <td>0.161797</td>\n",
       "    </tr>\n",
       "    <tr>\n",
       "      <th>2</th>\n",
       "      <td>val</td>\n",
       "      <td>40</td>\n",
       "      <td>110174.300000</td>\n",
       "      <td>584</td>\n",
       "      <td>11705.200000</td>\n",
       "      <td>30</td>\n",
       "      <td>13460</td>\n",
       "      <td>330148</td>\n",
       "      <td>8253.700000</td>\n",
       "      <td>56203</td>\n",
       "      <td>273945</td>\n",
       "      <td>96.238014</td>\n",
       "      <td>0.106243</td>\n",
       "      <td>0.170236</td>\n",
       "    </tr>\n",
       "    <tr>\n",
       "      <th>3</th>\n",
       "      <td>tst</td>\n",
       "      <td>50</td>\n",
       "      <td>132802.700000</td>\n",
       "      <td>709</td>\n",
       "      <td>14511.833333</td>\n",
       "      <td>10</td>\n",
       "      <td>5015</td>\n",
       "      <td>349601</td>\n",
       "      <td>6992.020000</td>\n",
       "      <td>61740</td>\n",
       "      <td>287861</td>\n",
       "      <td>87.080395</td>\n",
       "      <td>0.109274</td>\n",
       "      <td>0.176601</td>\n",
       "    </tr>\n",
       "  </tbody>\n",
       "</table>\n",
       "</div>"
      ],
      "text/plain": [
       "  split  video_count  video_length_secs  highlight_count  \\\n",
       "0   all          218      595657.033333             3106   \n",
       "1   trn          128      352680.033333             1813   \n",
       "2   val           40      110174.300000              584   \n",
       "3   tst           50      132802.700000              709   \n",
       "\n",
       "   highlight_length_secs  highlight_min_len_frames  highlight_max_len_frames  \\\n",
       "0           62549.333333                         9                     13460   \n",
       "1           36332.300000                         9                      7845   \n",
       "2           11705.200000                        30                     13460   \n",
       "3           14511.833333                        10                      5015   \n",
       "\n",
       "   chat_message_count  chat_message_count_avg_video  chat_message_count_hl  \\\n",
       "0             1733448                   7951.596330                 288428   \n",
       "1             1053699                   8232.023438                 170485   \n",
       "2              330148                   8253.700000                  56203   \n",
       "3              349601                   6992.020000                  61740   \n",
       "\n",
       "   chat_message_count_non_hl  chat_message_count_avg_hl  \\\n",
       "0                    1445020                  92.861558   \n",
       "1                     883214                  94.034749   \n",
       "2                     273945                  96.238014   \n",
       "3                     287861                  87.080395   \n",
       "\n",
       "   highlight_length_proportion  highlight_message_count_proportion  \n",
       "0                     0.105009                            0.166390  \n",
       "1                     0.103018                            0.161797  \n",
       "2                     0.106243                            0.170236  \n",
       "3                     0.109274                            0.176601  "
      ]
     },
     "execution_count": 83,
     "metadata": {},
     "output_type": "execute_result"
    }
   ],
   "source": [
    "data1 = chd.get_data_totals()\n",
    "data1[\"split\"] = \"all\"\n",
    "data2 = chd_trn.get_data_totals()\n",
    "data2[\"split\"] = \"trn\"\n",
    "data3 = chd_val.get_data_totals()\n",
    "data3[\"split\"] = \"val\"\n",
    "data4 = chd_tst.get_data_totals()\n",
    "data4[\"split\"] = \"tst\"\n",
    "df = pd.DataFrame.from_records([data1,data2,data3,data4])\n",
    "df = df.reindex(columns=['split', 'video_count', 'video_length_secs', 'highlight_count', 'highlight_length_secs', 'highlight_min_len_frames', 'highlight_max_len_frames', 'chat_message_count', 'chat_message_count_avg_video', 'chat_message_count_hl', 'chat_message_count_non_hl', 'chat_message_count_avg_hl', 'highlight_length_proportion', 'highlight_message_count_proportion'])\n",
    "df"
   ]
  },
  {
   "cell_type": "code",
   "execution_count": 84,
   "id": "175ca4d7-54ed-46b6-baf7-812a60cf00a2",
   "metadata": {},
   "outputs": [
    {
     "data": {
      "text/plain": [
       "'\\\\begin{tabular}{llrrrrrrrrrrrrr}\\n\\\\toprule\\n{} & split &  video\\\\_count &  video\\\\_length\\\\_secs &  highlight\\\\_count &  highlight\\\\_length\\\\_secs &  highlight\\\\_min\\\\_len\\\\_frames &  highlight\\\\_max\\\\_len\\\\_frames &  chat\\\\_message\\\\_count &  chat\\\\_message\\\\_count\\\\_avg\\\\_video &  chat\\\\_message\\\\_count\\\\_hl &  chat\\\\_message\\\\_count\\\\_non\\\\_hl &  chat\\\\_message\\\\_count\\\\_avg\\\\_hl &  highlight\\\\_length\\\\_proportion &  highlight\\\\_message\\\\_count\\\\_proportion \\\\\\\\\\n\\\\midrule\\n0 &   all &          218 &      595657.033333 &             3106 &           62549.333333 &                         9 &                     13460 &             1733448 &                   7951.596330 &                 288428 &                    1445020 &                  92.861558 &                     0.105009 &                            0.166390 \\\\\\\\\\n1 &   trn &          128 &      352680.033333 &             1813 &           36332.300000 &                         9 &                      7845 &             1053699 &                   8232.023438 &                 170485 &                     883214 &                  94.034749 &                     0.103018 &                            0.161797 \\\\\\\\\\n2 &   val &           40 &      110174.300000 &              584 &           11705.200000 &                        30 &                     13460 &              330148 &                   8253.700000 &                  56203 &                     273945 &                  96.238014 &                     0.106243 &                            0.170236 \\\\\\\\\\n3 &   tst &           50 &      132802.700000 &              709 &           14511.833333 &                        10 &                      5015 &              349601 &                   6992.020000 &                  61740 &                     287861 &                  87.080395 &                     0.109274 &                            0.176601 \\\\\\\\\\n\\\\bottomrule\\n\\\\end{tabular}\\n'"
      ]
     },
     "execution_count": 84,
     "metadata": {},
     "output_type": "execute_result"
    }
   ],
   "source": [
    "df.to_latex()"
   ]
  },
  {
   "cell_type": "code",
   "execution_count": null,
   "id": "c909fda5-e3ec-4aab-b7e3-3b946bbb2a2a",
   "metadata": {},
   "outputs": [],
   "source": []
  },
  {
   "cell_type": "markdown",
   "id": "100e9c76-078e-4ebd-82c6-03331567dc2f",
   "metadata": {},
   "source": [
    "## Highlight example"
   ]
  },
  {
   "cell_type": "code",
   "execution_count": 4,
   "id": "cefbce4d-7800-4480-a082-ee413470c38c",
   "metadata": {},
   "outputs": [],
   "source": [
    "example_match = chd.get_highlight_data()[\"nalcs_w4d3_FOX_TSM_g1\"]"
   ]
  },
  {
   "cell_type": "code",
   "execution_count": 21,
   "id": "72bb9f7a-6f80-4805-9f75-d0d36e8a8f9c",
   "metadata": {},
   "outputs": [],
   "source": [
    "import matplotlib\n",
    "matplotlib.rcParams['figure.figsize'] = [10, 5]"
   ]
  },
  {
   "cell_type": "code",
   "execution_count": 23,
   "id": "7822289b-0a46-4c57-88f6-b19ced0dbffe",
   "metadata": {},
   "outputs": [
    {
     "data": {
      "image/png": "[encoded data removed]",
      "text/plain": [
       "<Figure size 720x360 with 1 Axes>"
      ]
     },
     "metadata": {
      "needs_background": "light"
     },
     "output_type": "display_data"
    }
   ],
   "source": [
    "plt.plot(list(range(len(example_match))), example_match)\n",
    "plt.title(\"Highlight annotation in the game nalcs_w4d3_FOX_TSM_g1\")\n",
    "plt.xlabel(\"frames\")\n",
    "plt.ylabel(\"highlights\")\n",
    "plt.show()"
   ]
  },
  {
   "cell_type": "code",
   "execution_count": 33,
   "id": "17d9c148-4abb-4e2f-86ff-97401b13bb39",
   "metadata": {},
   "outputs": [
    {
     "name": "stdout",
     "output_type": "stream",
     "text": [
      "matplotlib: 3.5.0\n"
     ]
    }
   ],
   "source": [
    "import matplotlib\n",
    "print('matplotlib: {}'.format(matplotlib.__version__))"
   ]
  },
  {
   "cell_type": "code",
   "execution_count": null,
   "id": "d41cc834-6b3f-4559-a454-350407e4c6d0",
   "metadata": {},
   "outputs": [],
   "source": []
  }
 ],
 "metadata": {
  "kernelspec": {
   "display_name": "Python 3 (ipykernel)",
   "language": "python",
   "name": "python3"
  },
  "language_info": {
   "codemirror_mode": {
    "name": "ipython",
    "version": 3
   },
   "file_extension": ".py",
   "mimetype": "text/x-python",
   "name": "python",
   "nbconvert_exporter": "python",
   "pygments_lexer": "ipython3",
   "version": "3.8.12"
  }
 },
 "nbformat": 4,
 "nbformat_minor": 5
}
