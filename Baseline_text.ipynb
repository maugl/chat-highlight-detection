{
 "cells": [
  {
   "cell_type": "code",
   "execution_count": 1,
   "id": "444356b2-23fc-49d0-b8eb-767a08049c42",
   "metadata": {},
   "outputs": [],
   "source": [
    "from analysis import load_chat, load_highlights, remove_missing_matches, cut_same_length\n",
    "import re\n",
    "import numpy as np\n",
    "import pandas as pd\n",
    "\n",
    "from sklearn.metrics import precision_recall_fscore_support, accuracy_score, ConfusionMatrixDisplay, classification_report\n",
    "from sklearn.feature_extraction.text import TfidfTransformer, CountVectorizer\n",
    "from sklearn.naive_bayes import MultinomialNB\n",
    "from sklearn.pipeline import Pipeline\n",
    "from sklearn.model_selection import GridSearchCV\n",
    "\n",
    "import matplotlib.pyplot as plt"
   ]
  },
  {
   "cell_type": "markdown",
   "id": "3c3c79fc-dca6-4237-bbd3-8097d4a2527d",
   "metadata": {},
   "source": [
    "## Data Loading"
   ]
  },
  {
   "cell_type": "code",
   "execution_count": 2,
   "id": "c28235da-ff5f-4474-a924-ec54dd9909c4",
   "metadata": {},
   "outputs": [],
   "source": [
    "def chat_hl_to_documents(ch_match, hl_match, frames_per_doc=210, hl_threshold=0.5, offset=0):\n",
    "    # make non-overlapping windows of frames_per_doc/30 seconds\n",
    "    # TODO: implement offset to adjust for comment lag\n",
    "    chm = [ch_match[i:i+frames_per_doc] for i in range(0,len(ch_match),frames_per_doc)]\n",
    "    hlm = [hl_match[i:i+frames_per_doc] for i in range(0,len(hl_match),frames_per_doc)]\n",
    "    \n",
    "    chm_docs = list()\n",
    "    hlm_docs = list()\n",
    "    \n",
    "    for m_doc, h_doc in zip(chm, hlm):\n",
    "        chm_docs.append(re.sub(\"\\n+\", \" \", \"\".join(m_doc)).strip())\n",
    "        \n",
    "        # chm_docs.append(\"\".join(m_doc))\n",
    "        hlm_docs.append(int(sum(h_doc) >= hl_threshold))\n",
    "    \n",
    "    return chm_docs, hlm_docs"
   ]
  },
  {
   "cell_type": "code",
   "execution_count": 3,
   "id": "ded49d82-e355-48f4-bc80-e7f7eeec31e2",
   "metadata": {},
   "outputs": [],
   "source": [
    "def shuffle_two_iters(a1, a2, rng_seed=42):\n",
    "    # shuffles two iterables in the same way and turns them into numpy arrays\n",
    "    shuffle_inds = list(range(len(a1)))\n",
    "    np.random.default_rng(rng_seed).shuffle(shuffle_inds)\n",
    "    \n",
    "    ret1 = np.asarray(a1)[shuffle_inds]\n",
    "    ret2 = np.asarray(a2)[shuffle_inds]\n",
    "    return ret1, ret2"
   ]
  },
  {
   "cell_type": "code",
   "execution_count": 4,
   "id": "c53a531f-9029-4d0f-8a81-3ebd02e0d1f6",
   "metadata": {},
   "outputs": [],
   "source": [
    "def load_train_val_docs(mode=\"train\", load_random=5, random_state=42, shuffle=True, frames_per_doc=120, hl_threshold=0.5, offset=0):    \n",
    "    if mode == \"train\":\n",
    "        file_regex = \"nalcs_w[134579]*_g[13]\" # weeks 1,3,4,5,7,9 games 1 and 3 of each match for training\n",
    "    if mode == \"val\":\n",
    "        file_regex = \"nalcs_w[268]*_g[13]\" # weeks 2,6,8 games 1 and 3 of each match for validation\n",
    "\n",
    "    chat = load_chat(\"data/final_data\", load_random=load_random, random_state=random_state, file_identifier=file_regex)\n",
    "    highlights = load_highlights(\"data/gt\", file_identifier=file_regex)\n",
    "\n",
    "    remove_missing_matches(chat, highlights)\n",
    "\n",
    "    chat_docs = list()\n",
    "    hl_docs = list()\n",
    "\n",
    "    for match in chat.keys():\n",
    "        ch_match, hl_match = cut_same_length(chat[match], highlights[match])\n",
    "        cd, hd  = chat_hl_to_documents(ch_match, hl_match, frames_per_doc=frames_per_doc, hl_threshold=hl_threshold, offset=offset)\n",
    "        # put all documents together\n",
    "        chat_docs.extend(cd)\n",
    "        hl_docs.extend(hd)\n",
    "\n",
    "    # garbage collect chat and highlights    \n",
    "    \n",
    "    if shuffle:\n",
    "        chat_docs, hl_docs = shuffle_two_iters(chat_docs, hl_docs)\n",
    "        \n",
    "    return chat_docs, hl_docs"
   ]
  },
  {
   "cell_type": "code",
   "execution_count": 11,
   "id": "8f3e509e-2e86-4d0e-8355-2dc068b4a388",
   "metadata": {},
   "outputs": [
    {
     "name": "stdout",
     "output_type": "stream",
     "text": [
      "missing in highlights:\t {'nalcs_w5d2_C9_TMS_g1'}\n",
      "missing in chat:\t {'nalcs_w4d3_FLY_C9_g3', 'nalcs_w1d3_TSM_IMT_g3', 'nalcs_w5d3_P1_C9_g1', 'nalcs_w9d2_FOX_NV_g3', 'nalcs_w7d2_CLG_DIG_g1', 'nalcs_w1d3_TSM_IMT_g1', 'nalcs_w1d3_DIG_C9_g1', 'nalcs_w4d1_IMT_DIG_g1', 'nalcs_w5d3_FLY_TSM_g3', 'nalcs_w3d3_P1_TSM_g3', 'nalcs_w1d3_DIG_C9_g3', 'nalcs_w3d2_TL_FOX_g1', 'nalcs_w1d1_FOX_P1_g1', 'nalcs_w1d2_FOX_IMT_g1', 'nalcs_w1d1_TSM_C9_g1', 'nalcs_w1d2_DIG_P1_g3', 'nalcs_w7d3_TL_NV_g1', 'nalcs_w9d2_TL_TSM_g3', 'nalcs_w7d3_IMT_TSM_g1', 'nalcs_w9d2_IMT_CLG_g1', 'nalcs_w4d2_TSM_NV_g1', 'nalcs_w9d1_C9_DIG_g1', 'nalcs_w9d3_TSM_P1_g1', 'nalcs_w9d3_CLG_NV_g1', 'nalcs_w1d2_CLG_TL_g1', 'nalcs_w7d2_NV_TSM_g3', 'nalcs_w9d2_TL_TSM_g1', 'nalcs_w9d3_FLY_TL_g3', 'nalcs_w3d1_NV_TL_g1', 'nalcs_w3d3_C9_FOX_g1', 'nalcs_w7d2_P1_FOX_g1', 'nalcs_w3d2_TL_FOX_g3', 'nalcs_w3d3_DIG_CLG_g1', 'nalcs_w1d3_TL_FLY_g3', 'nalcs_w9d2_FOX_NV_g1', 'nalcs_w4d1_C9_TL_g1', 'nalcs_w4d2_CLG_FOX_g1', 'nalcs_w4d3_FOX_TSM_g1', 'nalcs_w5d2_TL_DIG_g3', 'nalcs_w5d3_FLY_TSM_g1', 'nalcs_w3d2_CLG_TSM_g1', 'nalcs_w5d2_TL_DIG_g1', 'nalcs_w5d2_CLG_IMT_g3', 'nalcs_w5d1_NV_P1_g1', 'nalcs_w9d3_CLG_NV_g3', 'nalcs_w7d2_NV_TSM_g1', 'nalcs_w4d3_CLG_P1_g1', 'nalcs_w4d1_C9_TL_g3', 'nalcs_w1d2_NV_FLY_g1', 'nalcs_w9d3_FLY_TL_g1', 'nalcs_w3d2_CLG_TSM_g3', 'nalcs_w5d2_NV_FOX_g1', 'nalcs_w5d2_C9_TSM_g1', 'nalcs_w7d1_FLY_P1_g1', 'nalcs_w4d3_FLY_C9_g1', 'nalcs_w5d3_IMT_FOX_g1', 'nalcs_w3d2_FLY_DIG_g1', 'nalcs_w7d3_CLG_C9_g1', 'nalcs_w4d3_DIG_NV_g1', 'nalcs_w7d3_FOX_DIG_g3', 'nalcs_w1d3_NV_CLG_g1', 'nalcs_w5d3_TL_CLG_g3', 'nalcs_w5d2_CLG_IMT_g1', 'nalcs_w5d2_C9_TSM_g3', 'nalcs_w7d3_CLG_C9_g3', 'nalcs_w7d1_TL_C9_g1', 'nalcs_w4d2_TL_IMT_g1', 'nalcs_w1d2_DIG_P1_g1', 'nalcs_w9d1_FLY_FOX_g1', 'nalcs_w9d3_DIG_IMT_g1', 'nalcs_w3d3_P1_TSM_g1', 'nalcs_w9d2_C9_P1_g1', 'nalcs_w7d3_TL_NV_g3', 'nalcs_w4d2_P1_FLY_g1', 'nalcs_w4d3_CLG_P1_g3', 'nalcs_w3d3_IMT_FLY_g1', 'nalcs_w3d2_C9_NV_g1', 'nalcs_w1d3_TL_FLY_g1', 'nalcs_w7d3_FOX_DIG_g1', 'nalcs_w7d3_IMT_TSM_g3', 'nalcs_w1d2_FOX_IMT_g3'}\n"
     ]
    }
   ],
   "source": [
    "ch_train, hl_train = load_train_val_docs(mode=\"train\")"
   ]
  },
  {
   "cell_type": "markdown",
   "id": "4db64a17-5b46-490b-b618-82b806d9037a",
   "metadata": {},
   "source": [
    "### Oversampling for balancing data"
   ]
  },
  {
   "cell_type": "code",
   "execution_count": 5,
   "id": "f8130076-85b0-4a8b-ae48-a121cf9149d5",
   "metadata": {},
   "outputs": [],
   "source": [
    "def balance_data_parallel(x, y, strategy=\"oversample\"):\n",
    "    x_pos = x[y == 1]\n",
    "    y_pos = y[y == 1]\n",
    "    x_neg = x[y == 0]\n",
    "    y_neg = y[y == 0]\n",
    "    if len(y_pos) != len(y_neg):\n",
    "        x_small = x_pos if len(x_pos) < len(x_neg) else x_neg\n",
    "        y_small = y_pos if len(y_pos) < len(y_neg) else y_neg\n",
    "        x_large = x_pos if len(x_pos) >= len(x_neg) else x_neg\n",
    "        y_large = y_pos if len(y_pos) >= len(y_neg) else y_neg\n",
    "        \n",
    "        if strategy == \"oversample\":            \n",
    "            repeat_amount = int(len(y_large) / len(y_small))\n",
    "            x_small_rep = np.repeat(x_small, repeat_amount)\n",
    "            y_small_rep = np.repeat(y_small, repeat_amount)\n",
    "            \n",
    "            x_balanced = np.concatenate([x_small_rep, x_large])\n",
    "            y_balanced = np.concatenate([y_small_rep, y_large])\n",
    "        if strategy == \"undersample\":\n",
    "            inds_under = np.random.choice(np.arange(len(x_large)), len(x_small), replace=False)\n",
    "            \n",
    "            x_large_under = x_large[inds_under]\n",
    "            y_large_under = y_large[inds_under]\n",
    "            \n",
    "            x_balanced = np.concatenate([x_small, x_large_under])\n",
    "            y_balanced = np.concatenate([y_small, y_large_under])\n",
    "        \n",
    "        return shuffle_two_iters(x_balanced, y_balanced)\n",
    "    else:\n",
    "        return x, y\n"
   ]
  },
  {
   "cell_type": "code",
   "execution_count": 13,
   "id": "b98a319a-dd01-464b-a447-1cb4bad29acc",
   "metadata": {},
   "outputs": [
    {
     "data": {
      "text/html": [
       "<div>\n",
       "<style scoped>\n",
       "    .dataframe tbody tr th:only-of-type {\n",
       "        vertical-align: middle;\n",
       "    }\n",
       "\n",
       "    .dataframe tbody tr th {\n",
       "        vertical-align: top;\n",
       "    }\n",
       "\n",
       "    .dataframe thead th {\n",
       "        text-align: right;\n",
       "    }\n",
       "</style>\n",
       "<table border=\"1\" class=\"dataframe\">\n",
       "  <thead>\n",
       "    <tr style=\"text-align: right;\">\n",
       "      <th></th>\n",
       "      <th>step</th>\n",
       "      <th>total_train_samples</th>\n",
       "      <th>num_highlight_samples</th>\n",
       "      <th>num_non_highlight_samples</th>\n",
       "    </tr>\n",
       "  </thead>\n",
       "  <tbody>\n",
       "    <tr>\n",
       "      <th>0</th>\n",
       "      <td>before_over_sampling</td>\n",
       "      <td>2768</td>\n",
       "      <td>355</td>\n",
       "      <td>2413</td>\n",
       "    </tr>\n",
       "  </tbody>\n",
       "</table>\n",
       "</div>"
      ],
      "text/plain": [
       "                   step  total_train_samples  num_highlight_samples  \\\n",
       "0  before_over_sampling                 2768                    355   \n",
       "\n",
       "   num_non_highlight_samples  \n",
       "0                       2413  "
      ]
     },
     "execution_count": 13,
     "metadata": {},
     "output_type": "execute_result"
    }
   ],
   "source": [
    "# over-sample\n",
    "ch_pos = ch_train[hl_train == 1]\n",
    "hl_pos = hl_train[hl_train == 1]\n",
    "ch_neg = ch_train[hl_train == 0]\n",
    "hl_neg = hl_train[hl_train == 0]\n",
    "\n",
    "df_sample_numbers = pd.DataFrame({\"step\": \"before_over_sampling\", \"total_train_samples\": [len(hl_train)], \"num_highlight_samples\": [len(hl_pos)],  \"num_non_highlight_samples\": [len(hl_neg)]})\n",
    "df_sample_numbers"
   ]
  },
  {
   "cell_type": "code",
   "execution_count": 14,
   "id": "60268444-2113-492e-a5f6-bb5931b18581",
   "metadata": {},
   "outputs": [
    {
     "data": {
      "text/html": [
       "<div>\n",
       "<style scoped>\n",
       "    .dataframe tbody tr th:only-of-type {\n",
       "        vertical-align: middle;\n",
       "    }\n",
       "\n",
       "    .dataframe tbody tr th {\n",
       "        vertical-align: top;\n",
       "    }\n",
       "\n",
       "    .dataframe thead th {\n",
       "        text-align: right;\n",
       "    }\n",
       "</style>\n",
       "<table border=\"1\" class=\"dataframe\">\n",
       "  <thead>\n",
       "    <tr style=\"text-align: right;\">\n",
       "      <th></th>\n",
       "      <th>step</th>\n",
       "      <th>total_train_samples</th>\n",
       "      <th>num_highlight_samples</th>\n",
       "      <th>num_non_highlight_samples</th>\n",
       "    </tr>\n",
       "  </thead>\n",
       "  <tbody>\n",
       "    <tr>\n",
       "      <th>0</th>\n",
       "      <td>before_over_sampling</td>\n",
       "      <td>2768</td>\n",
       "      <td>355</td>\n",
       "      <td>2413</td>\n",
       "    </tr>\n",
       "    <tr>\n",
       "      <th>1</th>\n",
       "      <td>after_over_sampling</td>\n",
       "      <td>4543</td>\n",
       "      <td>2130</td>\n",
       "      <td>2413</td>\n",
       "    </tr>\n",
       "  </tbody>\n",
       "</table>\n",
       "</div>"
      ],
      "text/plain": [
       "                   step  total_train_samples  num_highlight_samples  \\\n",
       "0  before_over_sampling                 2768                    355   \n",
       "1   after_over_sampling                 4543                   2130   \n",
       "\n",
       "   num_non_highlight_samples  \n",
       "0                       2413  \n",
       "1                       2413  "
      ]
     },
     "execution_count": 14,
     "metadata": {},
     "output_type": "execute_result"
    }
   ],
   "source": [
    "hl_pos_rep = np.repeat(hl_pos, int(len(hl_neg) / len(hl_pos)))\n",
    "ch_pos_rep = np.repeat(ch_pos, int(len(hl_neg) / len(hl_pos)))\n",
    "\n",
    "hl_train_balanced = np.concatenate([hl_pos_rep, hl_neg])\n",
    "ch_train_balanced = np.concatenate([ch_pos_rep, ch_neg])\n",
    "\n",
    "ch_train_balanced_shuffled, hl_train_balanced_shuffled = shuffle_two_iters(ch_train_balanced, hl_train_balanced)\n",
    "\n",
    "df_sample_numbers = df_sample_numbers.append({\"step\": \"after_over_sampling\", \"total_train_samples\": len(hl_train_balanced_shuffled), \"num_highlight_samples\": len(hl_pos_rep),  \"num_non_highlight_samples\": len(hl_neg)}, ignore_index=True)\n",
    "df_sample_numbers"
   ]
  },
  {
   "cell_type": "code",
   "execution_count": 15,
   "id": "e13eaf6f-f126-4150-a5af-f522184edb7e",
   "metadata": {},
   "outputs": [
    {
     "data": {
      "text/plain": [
       "array(['FeelsBad YOUR TIME TO SHINE FeelsBadMan WHAT HAPPENED TO FLYQUEST fly feelsbad FREEQUEST LUL CLOWN FIESTA KreyGasm easy lmao DIG PogChamp NA SO BAD 4Head j4 mid no more Jebaited DIGNITAS DIGNITAS PogChamp DIG PogChamp PogChamp PogChamp PogChamp gg POG lose vs dig = disband LUL DIG PogChamp WutFace FAILED QUEST LUL fly trolling DIG PogChamp NV LUL PLOWED haHAA m DIG PogChamp (poolparty) WutFace nv 9>2 Kappa DIG PogChamp',\n",
       "       'QUEM É BRASIL, DIGITE 1 NICOLE ANISTON Kreygasm LUL LUL WTF WTF LOLOL balls? SSUMDAY PogChamp sumday 1 v9 FLYQUEST LL ??????? ????? HELLO??!? WutFace ???? ???? DIG PogChamp altec? kleane Kreygasm PogChamp team? KARTHUS YOOOO DOG keaneW keaneW keaneW keaneW keaneW LUL triple TAUNT Keane PogChamp ????? Throw LUL DIG PogChamp FLY????????? KEANE PogChamp ??????? BALLS LUL FIESTA BALLS ? KEANE PogChamp DIG IN 2017 PogChamp PogChamp LUL DIG PogChamp DIG PogChamp DIG PogChamp report balls LUL D2 flyquest wtf PogChamp PogChamp PogChamp PogChamp PogChamp PogChamp ?',\n",
       "       '4Head CODY !!! CODY WON CODY DID IT Fake PogChamp CODY WON 2-1 FLY INC P PogChamp B HAI LUL CODY FUN SO UGLY P PogChamp B LOLOLO POB FLAME HORIZON PogChamp BibleThump pobChamp pobChamp pobChamp pobChamp pobChamp pobChamp',\n",
       "       \"Zed LUL 🤔 PogChamp FLY? ??????? ??????????? REKT PogChamp BALLS!!!!! FIESTA VisLaud SHEN CARRY PogChamp FeelsBadMan I'M NOT BETTER THAN ANYONE FeelsBadMan PogChamp BALLS LUL BALLS IS ACTUALLY TRASH, HE COULD HAVE KILLED THOSE 3 PPL PogChamp balls PogChamp LUL DIG PogChamp ! TEAM??????? NA-CLOWNFIESTA LOL ????????/ LUL D2 D2 FIGHTING GRAVES IN A CHOKE POINT LUL HOLY *** PogChamp DIG PogChamp DIG PogChamp LOL LOL ???\",\n",
       "       '@ZionsFutureWife HeyGuys yo',\n",
       "       'LUL NOW LOL PogChamp PogChamp NOW PogChamp PogChamp PogChamp SMOrc REMOVE KEBAB SMOrc PogChamp L U L NO MOre ANELE REKT PogChamp RYU PogChamp HotPokket behave chat HotPokket 4Head at 44:44 NAO RYU PogChamp PogChamp',\n",
       "       '11 GG ADRIAN LUL FREE TYLER1 BigBrother SMITE KING LUL DARDUMB 11 NotLikeThis LUL LL 4 barons LUL RUINED LUL VARUS Q LUL',\n",
       "       'GG GG EZ NO RE Kappa Kappa Kappa kappa envy lul GG EZ PZ C9 Jebaited PogChamp PogChamp DIG STOP SCREAMING COP LOL FeelsBadMan MY TIME FeelsBadMan FREE QUEST 4Head 4Head 4Head zero ult combos LUL NV LUL gg ez Imagine if they had taric support PogChamp ez LUL Plow SwiftRage gg FLYQUEST NotLikeThis DIG COACH COP COP PogChamp PLOW 4Heas wait what VIRTUS PLOW PogChamp NV LUL diddly doger wtf FREEQuest FREEQUEST LUL DIG otofuMacho otofuMacho PLOWED COP CRAFT PogChamp COP A GOD DIG PogChamp FallQuest LUL',\n",
       "       'tyler1LUL Fly actually looking like worst place team lol the *** flyquest 0 dmge LOSEQUEST LUL',\n",
       "       'LUL SMOrc KILL REIGNOVER SMOrc ftnaOK ftnaOK ftnaOK SMOrc SUB IN CHAUSTER jhin doing baron LUL'],\n",
       "      dtype='<U792')"
      ]
     },
     "execution_count": 15,
     "metadata": {},
     "output_type": "execute_result"
    }
   ],
   "source": [
    "ch_train[hl_train == 1][:10]"
   ]
  },
  {
   "cell_type": "markdown",
   "id": "a78731f6-891d-47fe-ac69-274e7c16ecfa",
   "metadata": {
    "tags": []
   },
   "source": [
    "## Testing text classification with TFIDF and NaiveBayes\n",
    "https://scikit-learn.org/stable/tutorial/text_analytics/working_with_text_data.html"
   ]
  },
  {
   "cell_type": "markdown",
   "id": "2b747f1d-653a-4dee-a933-06d72735936f",
   "metadata": {
    "jp-MarkdownHeadingCollapsed": true,
    "tags": []
   },
   "source": [
    "### In individual steps\n"
   ]
  },
  {
   "cell_type": "code",
   "execution_count": 183,
   "id": "b174bf25-69c3-4060-8e58-8835c3dc2596",
   "metadata": {},
   "outputs": [
    {
     "data": {
      "text/plain": [
       "(2768, 6608)"
      ]
     },
     "execution_count": 183,
     "metadata": {},
     "output_type": "execute_result"
    }
   ],
   "source": [
    "count_vect = CountVectorizer() # TODO add parameters\n",
    "X_train_counts = count_vect.fit_transform(ch_train)\n",
    "#X_train_counts = count_vect.fit_transform(ch_train_balanced_shuffled)\n",
    "\n",
    "X_train_counts.shape"
   ]
  },
  {
   "cell_type": "code",
   "execution_count": 184,
   "id": "a8a3e499-d05c-4d2f-95d8-e4077a13c170",
   "metadata": {},
   "outputs": [
    {
     "data": {
      "text/plain": [
       "4541"
      ]
     },
     "execution_count": 184,
     "metadata": {},
     "output_type": "execute_result"
    }
   ],
   "source": [
    "count_vect.vocabulary_.get(u'pogchamp')"
   ]
  },
  {
   "cell_type": "code",
   "execution_count": 185,
   "id": "4af697ba-98e2-432d-b8cf-06cf405bbda2",
   "metadata": {},
   "outputs": [
    {
     "data": {
      "text/plain": [
       "(2768, 6608)"
      ]
     },
     "execution_count": 185,
     "metadata": {},
     "output_type": "execute_result"
    }
   ],
   "source": [
    "tfidf_transformer = TfidfTransformer()\n",
    "X_train_tfidf = tfidf_transformer.fit_transform(X_train_counts)\n",
    "X_train_tfidf.shape"
   ]
  },
  {
   "cell_type": "code",
   "execution_count": 186,
   "id": "88fcab4b-4098-4d98-a2f7-e105225cd3c7",
   "metadata": {},
   "outputs": [],
   "source": [
    "# y_train = hl_train\n",
    "y_train = hl_train_balanced_shuffled"
   ]
  },
  {
   "cell_type": "code",
   "execution_count": 187,
   "id": "2d3531ab-cc7e-4657-b35a-3afbb01f68e9",
   "metadata": {},
   "outputs": [],
   "source": [
    "clf = MultinomialNB().fit(X_train_tfidf, y_train)"
   ]
  },
  {
   "cell_type": "code",
   "execution_count": 188,
   "id": "9dd6f9d9-6837-47ab-993c-54b56dbbeeb8",
   "metadata": {},
   "outputs": [
    {
     "name": "stdout",
     "output_type": "stream",
     "text": [
      "missing in highlights:\t {'nalcs_w6d2_FOX_C9_g1'}\n",
      "missing in chat:\t {'nalcs_w2d3_FOX_FLY_g3', 'nalcs_w8d2_TSM_FLY_g1', 'nalcs_w2d2_IMT_C9_g1', 'nalcs_w8d2_NV_DIG_g1', 'nalcs_w8d2_C9_IMT_g3', 'nalcs_w2d2_TSM_TL_g3', 'nalcs_w6d1_IMT_TL_g1', 'nalcs_w8d2_NV_DIG_g3', 'nalcs_w2d2_DIG_FOX_g3', 'nalcs_w8d2_TL_P1_g1', 'nalcs_w6d1_P1_CLG_g3', 'nalcs_w2d3_C9_CLG_g3', 'nalcs_w2d1_TSM_DIG_g1', 'nalcs_w6d1_P1_CLG_g1', 'nalcs_w2d3_C9_CLG_g1', 'nalcs_w8d2_C9_IMT_g1', 'nalcs_w2d3_NV_IMT_g3', 'nalcs_w8d2_TSM_FLY_g3', 'nalcs_w6d2_FLY_NV_g3', 'nalcs_w2d2_P1_NV_g1', 'nalcs_w2d2_DIG_FOX_g1', 'nalcs_w2d1_FLY_CLG_g1', 'nalcs_w2d1_TSM_DIG_g3', 'nalcs_w6d3_C9_FLY_g1', 'nalcs_w8d1_DIG_TL_g1', 'nalcs_w8d1_FOX_CLG_g1', 'nalcs_w6d2_TSM_CLG_g1', 'nalcs_w2d2_TSM_TL_g1', 'nalcs_w6d3_FOX_TL_g3', 'nalcs_w8d3_CLG_FLY_g1', 'nalcs_w8d3_P1_IMT_g1', 'nalcs_w2d3_P1_TL_g1', 'nalcs_w8d3_NV_C9_g1', 'nalcs_w6d2_P1_DIG_g3', 'nalcs_w6d1_IMT_TL_g3', 'nalcs_w8d3_TSM_FOX_g1', 'nalcs_w6d3_DIG_TSM_g1', 'nalcs_w2d3_FOX_FLY_g1', 'nalcs_w6d3_FOX_TL_g1'}\n"
     ]
    }
   ],
   "source": [
    "# load validation data\n",
    "ch_val, hl_val = load_train_val_docs(mode=\"val\")"
   ]
  },
  {
   "cell_type": "code",
   "execution_count": 189,
   "id": "c830fed5-c348-42ea-bebd-3d2589c749d0",
   "metadata": {},
   "outputs": [],
   "source": [
    "y_true = hl_val"
   ]
  },
  {
   "cell_type": "code",
   "execution_count": 196,
   "id": "09be2811-eef6-4704-8a5a-4430255a4468",
   "metadata": {},
   "outputs": [
    {
     "name": "stderr",
     "output_type": "stream",
     "text": [
      "/home/max/miniconda3/envs/chat-highlight-detection/lib/python3.8/site-packages/sklearn/metrics/_classification.py:1308: UndefinedMetricWarning: Precision and F-score are ill-defined and being set to 0.0 due to no predicted samples. Use `zero_division` parameter to control this behavior.\n",
      "  _warn_prf(average, modifier, msg_start, len(result))\n"
     ]
    },
    {
     "ename": "TypeError",
     "evalue": "'numpy.float64' object is not iterable",
     "output_type": "error",
     "traceback": [
      "\u001b[0;31m---------------------------------------------------------------------------\u001b[0m",
      "\u001b[0;31mTypeError\u001b[0m                                 Traceback (most recent call last)",
      "\u001b[0;32m/tmp/ipykernel_67090/2570884798.py\u001b[0m in \u001b[0;36m<module>\u001b[0;34m\u001b[0m\n\u001b[1;32m     13\u001b[0m \u001b[0;31m# print(accuracy_score(y_true, y_pred))\u001b[0m\u001b[0;34m\u001b[0m\u001b[0;34m\u001b[0m\u001b[0;34m\u001b[0m\u001b[0m\n\u001b[1;32m     14\u001b[0m \u001b[0;34m\u001b[0m\u001b[0m\n\u001b[0;32m---> 15\u001b[0;31m \u001b[0meval_scores\u001b[0m\u001b[0;34m(\u001b[0m\u001b[0my_true\u001b[0m\u001b[0;34m,\u001b[0m \u001b[0my_pred\u001b[0m\u001b[0;34m)\u001b[0m\u001b[0;34m\u001b[0m\u001b[0;34m\u001b[0m\u001b[0m\n\u001b[0m",
      "\u001b[0;32m~/git/chat-highlight-detection/baselines.py\u001b[0m in \u001b[0;36meval_scores\u001b[0;34m(gold, pred)\u001b[0m\n\u001b[1;32m    222\u001b[0m     \u001b[0macc\u001b[0m \u001b[0;34m=\u001b[0m \u001b[0maccuracy_score\u001b[0m\u001b[0;34m(\u001b[0m\u001b[0mgold\u001b[0m\u001b[0;34m,\u001b[0m \u001b[0mpred\u001b[0m\u001b[0;34m)\u001b[0m\u001b[0;34m\u001b[0m\u001b[0;34m\u001b[0m\u001b[0m\n\u001b[1;32m    223\u001b[0m \u001b[0;34m\u001b[0m\u001b[0m\n\u001b[0;32m--> 224\u001b[0;31m     return {\"precision\": list(p),\n\u001b[0m\u001b[1;32m    225\u001b[0m             \u001b[0;34m\"recall\"\u001b[0m\u001b[0;34m:\u001b[0m \u001b[0mlist\u001b[0m\u001b[0;34m(\u001b[0m\u001b[0mr\u001b[0m\u001b[0;34m)\u001b[0m\u001b[0;34m,\u001b[0m\u001b[0;34m\u001b[0m\u001b[0;34m\u001b[0m\u001b[0m\n\u001b[1;32m    226\u001b[0m             \u001b[0;34m\"f-score\"\u001b[0m\u001b[0;34m:\u001b[0m \u001b[0mlist\u001b[0m\u001b[0;34m(\u001b[0m\u001b[0mf\u001b[0m\u001b[0;34m)\u001b[0m\u001b[0;34m,\u001b[0m\u001b[0;34m\u001b[0m\u001b[0;34m\u001b[0m\u001b[0m\n",
      "\u001b[0;31mTypeError\u001b[0m: 'numpy.float64' object is not iterable"
     ]
    }
   ],
   "source": [
    "docs_new = ch_val\n",
    "X_new_counts = count_vect.transform(docs_new)\n",
    "X_new_tfidf = tfidf_transformer.transform(X_new_counts)\n",
    "\n",
    "y_pred = clf.predict(X_new_tfidf)\n",
    "\n",
    "\"\"\"\n",
    "for doc, pred, true in zip(docs_new, y_pred, y_true):\n",
    "        if pred == true == 1:\n",
    "             print(doc, pred, true)\n",
    "\"\"\"\n",
    "print(precision_recall_fscore_support(y_true, y_pred, average=\"binary\"))\n",
    "print(accuracy_score(y_true, y_pred))"
   ]
  },
  {
   "cell_type": "markdown",
   "id": "69a84d7e-91af-4bab-88ea-a54d6fb19a18",
   "metadata": {},
   "source": [
    "### In a pipeline"
   ]
  },
  {
   "cell_type": "code",
   "execution_count": 6,
   "id": "0401d299-a77e-411c-bb1d-8f8085a334df",
   "metadata": {},
   "outputs": [],
   "source": [
    "text_clf = Pipeline([\n",
    "    ('vect', CountVectorizer()),\n",
    "    ('tfidf', TfidfTransformer()),\n",
    "    ('clf', MultinomialNB())\n",
    "])"
   ]
  },
  {
   "cell_type": "code",
   "execution_count": 7,
   "id": "90cc89c7-aa49-41cb-85cd-7a4dc8f04124",
   "metadata": {},
   "outputs": [
    {
     "name": "stdout",
     "output_type": "stream",
     "text": [
      "missing in highlights:\t {'nalcs_w5d2_C9_TMS_g1'}\n",
      "missing in chat:\t {'nalcs_w9d3_FLY_TL_g3', 'nalcs_w5d3_IMT_FOX_g1', 'nalcs_w7d2_P1_FOX_g1', 'nalcs_w3d2_C9_NV_g1', 'nalcs_w5d2_CLG_IMT_g1', 'nalcs_w9d1_FLY_FOX_g1', 'nalcs_w3d1_NV_TL_g1', 'nalcs_w7d3_TL_NV_g1', 'nalcs_w9d2_TL_TSM_g1', 'nalcs_w1d2_CLG_TL_g1', 'nalcs_w5d2_C9_TSM_g1', 'nalcs_w1d3_DIG_C9_g1', 'nalcs_w1d3_TL_FLY_g3', 'nalcs_w7d3_CLG_C9_g3', 'nalcs_w1d1_TSM_C9_g1', 'nalcs_w1d2_DIG_P1_g3', 'nalcs_w7d1_FLY_P1_g1', 'nalcs_w5d2_NV_FOX_g1', 'nalcs_w7d2_CLG_DIG_g1', 'nalcs_w5d2_C9_TSM_g3', 'nalcs_w5d3_FLY_TSM_g1', 'nalcs_w7d3_TL_NV_g3', 'nalcs_w7d1_TL_C9_g1', 'nalcs_w5d3_TL_CLG_g3', 'nalcs_w5d3_FLY_TSM_g3', 'nalcs_w3d2_CLG_TSM_g1', 'nalcs_w4d3_DIG_NV_g1', 'nalcs_w4d1_IMT_DIG_g1', 'nalcs_w9d2_FOX_NV_g1', 'nalcs_w4d3_CLG_P1_g1', 'nalcs_w1d2_FOX_IMT_g3', 'nalcs_w7d3_IMT_TSM_g1', 'nalcs_w3d2_TL_FOX_g1', 'nalcs_w9d3_TSM_P1_g1', 'nalcs_w7d3_FOX_DIG_g1', 'nalcs_w9d2_FOX_NV_g3', 'nalcs_w1d3_TSM_IMT_g3', 'nalcs_w1d3_TSM_IMT_g1', 'nalcs_w1d3_NV_CLG_g1', 'nalcs_w1d3_TL_FLY_g1', 'nalcs_w1d2_DIG_P1_g1', 'nalcs_w3d3_P1_TSM_g3', 'nalcs_w7d3_IMT_TSM_g3', 'nalcs_w5d1_NV_P1_g1', 'nalcs_w5d2_CLG_IMT_g3', 'nalcs_w7d3_FOX_DIG_g3', 'nalcs_w4d2_TL_IMT_g1', 'nalcs_w5d3_P1_C9_g1', 'nalcs_w7d3_CLG_C9_g1', 'nalcs_w5d2_TL_DIG_g1', 'nalcs_w3d3_P1_TSM_g1', 'nalcs_w9d3_CLG_NV_g1', 'nalcs_w4d1_C9_TL_g1', 'nalcs_w9d2_IMT_CLG_g1', 'nalcs_w1d2_FOX_IMT_g1', 'nalcs_w4d1_C9_TL_g3', 'nalcs_w4d3_CLG_P1_g3', 'nalcs_w1d3_DIG_C9_g3', 'nalcs_w9d3_DIG_IMT_g1', 'nalcs_w9d3_CLG_NV_g3', 'nalcs_w9d2_TL_TSM_g3', 'nalcs_w9d2_C9_P1_g1', 'nalcs_w3d3_IMT_FLY_g1', 'nalcs_w5d2_TL_DIG_g3', 'nalcs_w4d3_FLY_C9_g1', 'nalcs_w1d1_FOX_P1_g1', 'nalcs_w4d3_FLY_C9_g3', 'nalcs_w3d3_C9_FOX_g1', 'nalcs_w4d2_P1_FLY_g1', 'nalcs_w9d1_C9_DIG_g1', 'nalcs_w3d2_TL_FOX_g3', 'nalcs_w7d2_NV_TSM_g1', 'nalcs_w3d2_FLY_DIG_g1', 'nalcs_w4d2_CLG_FOX_g1', 'nalcs_w9d3_FLY_TL_g1', 'nalcs_w7d2_NV_TSM_g3', 'nalcs_w4d3_FOX_TSM_g1', 'nalcs_w3d3_DIG_CLG_g1', 'nalcs_w3d2_CLG_TSM_g3', 'nalcs_w4d2_TSM_NV_g1', 'nalcs_w1d2_NV_FLY_g1'}\n"
     ]
    }
   ],
   "source": [
    "ch_train, hl_train = load_train_val_docs(mode=\"train\", load_random=5, random_state=42)"
   ]
  },
  {
   "cell_type": "code",
   "execution_count": 8,
   "id": "61211697-f5c6-4401-a0b0-d57fc0eca6c5",
   "metadata": {},
   "outputs": [
    {
     "name": "stdout",
     "output_type": "stream",
     "text": [
      "missing in highlights:\t {'nalcs_w6d2_FOX_C9_g1'}\n",
      "missing in chat:\t {'nalcs_w6d2_FLY_NV_g3', 'nalcs_w2d2_DIG_FOX_g1', 'nalcs_w6d2_P1_DIG_g3', 'nalcs_w8d2_NV_DIG_g1', 'nalcs_w8d2_TSM_FLY_g1', 'nalcs_w2d1_FLY_CLG_g1', 'nalcs_w6d3_C9_FLY_g1', 'nalcs_w2d2_TSM_TL_g1', 'nalcs_w6d1_P1_CLG_g1', 'nalcs_w6d1_P1_CLG_g3', 'nalcs_w8d2_C9_IMT_g3', 'nalcs_w2d2_TSM_TL_g3', 'nalcs_w8d1_FOX_CLG_g1', 'nalcs_w8d3_NV_C9_g1', 'nalcs_w2d3_NV_IMT_g3', 'nalcs_w8d3_CLG_FLY_g1', 'nalcs_w6d1_IMT_TL_g1', 'nalcs_w2d1_TSM_DIG_g1', 'nalcs_w2d3_P1_TL_g1', 'nalcs_w6d3_FOX_TL_g1', 'nalcs_w8d3_P1_IMT_g1', 'nalcs_w2d3_FOX_FLY_g3', 'nalcs_w2d3_C9_CLG_g3', 'nalcs_w2d1_TSM_DIG_g3', 'nalcs_w8d1_DIG_TL_g1', 'nalcs_w6d3_FOX_TL_g3', 'nalcs_w2d2_P1_NV_g1', 'nalcs_w2d2_IMT_C9_g1', 'nalcs_w2d3_C9_CLG_g1', 'nalcs_w8d2_TL_P1_g1', 'nalcs_w6d3_DIG_TSM_g1', 'nalcs_w2d2_DIG_FOX_g3', 'nalcs_w6d2_TSM_CLG_g1', 'nalcs_w8d2_NV_DIG_g3', 'nalcs_w8d2_TSM_FLY_g3', 'nalcs_w8d3_TSM_FOX_g1', 'nalcs_w2d3_FOX_FLY_g1', 'nalcs_w8d2_C9_IMT_g1', 'nalcs_w6d1_IMT_TL_g3'}\n"
     ]
    }
   ],
   "source": [
    "# load validation data\n",
    "ch_val, hl_val = load_train_val_docs(mode=\"val\", load_random=5, random_state=42)"
   ]
  },
  {
   "cell_type": "code",
   "execution_count": 9,
   "id": "b6fea854-a7b7-4c5e-957c-34441445f9c8",
   "metadata": {},
   "outputs": [],
   "source": [
    "# x_val, y_val = balance_data_parallel(ch_val, hl_val, strategy=\"undersample\") => doesn't make sense\n",
    "x_val, y_val = ch_val, hl_val"
   ]
  },
  {
   "cell_type": "code",
   "execution_count": 34,
   "id": "8856bbbb-5ee5-41da-9304-b59bfb47bba8",
   "metadata": {},
   "outputs": [],
   "source": [
    "x_train, y_train = balance_data_parallel(ch_train, hl_train, strategy=\"oversample\")"
   ]
  },
  {
   "cell_type": "code",
   "execution_count": 11,
   "id": "c753bff6-c17c-49c9-8fd8-d8c12e385487",
   "metadata": {},
   "outputs": [
    {
     "name": "stdout",
     "output_type": "stream",
     "text": [
      "0.2006, 0.3657, 0.2591, 0.7488\n"
     ]
    }
   ],
   "source": [
    "text_clf.fit(x_train, y_train)\n",
    "y_pred = text_clf.predict(x_val)\n",
    "\n",
    "p,r,f,_ = precision_recall_fscore_support(y_val, y_pred, average=\"binary\")\n",
    "print(f\"{p:.04f}, {r:.04f}, {f:.04f}, {accuracy_score(y_val, y_pred):.04f}\")"
   ]
  },
  {
   "cell_type": "code",
   "execution_count": 12,
   "id": "c2255af4-7412-4e58-bcab-eff6a2e390c3",
   "metadata": {},
   "outputs": [
    {
     "data": {
      "text/plain": [
       "(361, 2645)"
      ]
     },
     "execution_count": 12,
     "metadata": {},
     "output_type": "execute_result"
    }
   ],
   "source": [
    "sum(hl_val==1), sum(hl_val==0)"
   ]
  },
  {
   "cell_type": "code",
   "execution_count": 13,
   "id": "6badc75c-64c5-4ab8-9e54-46edf2a80705",
   "metadata": {},
   "outputs": [
    {
     "data": {
      "image/png": "[encoded data removed]",
      "text/plain": [
       "<Figure size 432x288 with 2 Axes>"
      ]
     },
     "metadata": {
      "needs_background": "light"
     },
     "output_type": "display_data"
    }
   ],
   "source": [
    "cf = ConfusionMatrixDisplay.from_estimator(text_clf, x_val, y_val)\n",
    "plt.show()"
   ]
  },
  {
   "cell_type": "code",
   "execution_count": 14,
   "id": "28c65a02-96c0-493b-88fa-f25c04953043",
   "metadata": {},
   "outputs": [
    {
     "name": "stdout",
     "output_type": "stream",
     "text": [
      "               precision    recall  f1-score   support\n",
      "\n",
      "non-highlight       0.90      0.80      0.85      2645\n",
      "    highlight       0.20      0.37      0.26       361\n",
      "\n",
      "     accuracy                           0.75      3006\n",
      "    macro avg       0.55      0.58      0.55      3006\n",
      " weighted avg       0.82      0.75      0.78      3006\n",
      "\n"
     ]
    }
   ],
   "source": [
    "print(classification_report(y_val, y_pred, target_names=[\"non-highlight\", \"highlight\"]))"
   ]
  },
  {
   "cell_type": "code",
   "execution_count": 15,
   "id": "fd2d0ae5-e16a-4997-befa-f66603aea543",
   "metadata": {},
   "outputs": [],
   "source": [
    "def eval_results(y_true, y_pred):\n",
    "    cf = ConfusionMatrixDisplay.from_predictions(y_true, y_pred)\n",
    "    plt.show()\n",
    "    print(classification_report(y_true, y_pred, target_names=[\"non-highlight\", \"highlight\"]))"
   ]
  },
  {
   "cell_type": "code",
   "execution_count": 28,
   "id": "469beb35-dffd-48e6-990b-d3e1dbd9b827",
   "metadata": {},
   "outputs": [],
   "source": [
    "parameters = {\n",
    "     'vect__ngram_range': [(1, 1), (1, 2)],\n",
    "     'tfidf__use_idf': (True, False),\n",
    "     'clf__alpha': (1e-2, 1e-3, 0.2, 0.5, 1.0),\n",
    "}"
   ]
  },
  {
   "cell_type": "code",
   "execution_count": 29,
   "id": "3506f2d0-ea4c-4343-b298-2bcb01fad736",
   "metadata": {},
   "outputs": [],
   "source": [
    "gs_clf = GridSearchCV(text_clf, parameters, cv=5, n_jobs=-1, scoring=\"precision\")"
   ]
  },
  {
   "cell_type": "code",
   "execution_count": 30,
   "id": "df88e563-fe1f-4ff0-85fc-f92ed71b9434",
   "metadata": {},
   "outputs": [],
   "source": [
    "gs_clf = gs_clf.fit(x_train, y_train)"
   ]
  },
  {
   "cell_type": "code",
   "execution_count": 31,
   "id": "83782d78-b7ca-44a4-b7c4-e3f8bb7b04a8",
   "metadata": {},
   "outputs": [
    {
     "data": {
      "text/plain": [
       "0.6979607259125332"
      ]
     },
     "execution_count": 31,
     "metadata": {},
     "output_type": "execute_result"
    }
   ],
   "source": [
    "gs_clf.best_score_"
   ]
  },
  {
   "cell_type": "code",
   "execution_count": 32,
   "id": "bc367e0e-c13a-4610-b338-33461d58347a",
   "metadata": {},
   "outputs": [
    {
     "data": {
      "text/plain": [
       "{'clf__alpha': 0.01, 'tfidf__use_idf': False, 'vect__ngram_range': (1, 1)}"
      ]
     },
     "execution_count": 32,
     "metadata": {},
     "output_type": "execute_result"
    }
   ],
   "source": [
    "gs_clf.best_params_"
   ]
  },
  {
   "cell_type": "code",
   "execution_count": null,
   "id": "0001fdfc-d9aa-46fe-a943-553387bdac29",
   "metadata": {},
   "outputs": [],
   "source": []
  },
  {
   "cell_type": "code",
   "execution_count": 33,
   "id": "b7d91a41-16e4-4e51-bc7e-21d7bc28beaa",
   "metadata": {},
   "outputs": [
    {
     "data": {
      "image/png": "[encoded data removed]",
      "text/plain": [
       "<Figure size 432x288 with 2 Axes>"
      ]
     },
     "metadata": {
      "needs_background": "light"
     },
     "output_type": "display_data"
    },
    {
     "name": "stdout",
     "output_type": "stream",
     "text": [
      "               precision    recall  f1-score   support\n",
      "\n",
      "non-highlight       0.91      0.65      0.76      2645\n",
      "    highlight       0.17      0.55      0.26       361\n",
      "\n",
      "     accuracy                           0.63      3006\n",
      "    macro avg       0.54      0.60      0.51      3006\n",
      " weighted avg       0.82      0.63      0.70      3006\n",
      "\n"
     ]
    }
   ],
   "source": [
    "best_test_clf = gs_clf.best_estimator_\n",
    "y_pred = best_test_clf.predict(x_val)\n",
    "eval_results(y_val, y_pred)"
   ]
  },
  {
   "cell_type": "markdown",
   "id": "02d3d3fe-35c4-4a5e-a896-cbed24a61de6",
   "metadata": {},
   "source": [
    "## Adding different embedding"
   ]
  },
  {
   "cell_type": "code",
   "execution_count": null,
   "id": "e93169dc-42cc-4748-a80a-5f81fc3e0d83",
   "metadata": {},
   "outputs": [],
   "source": []
  }
 ],
 "metadata": {
  "kernelspec": {
   "display_name": "Python 3 (ipykernel)",
   "language": "python",
   "name": "python3"
  },
  "language_info": {
   "codemirror_mode": {
    "name": "ipython",
    "version": 3
   },
   "file_extension": ".py",
   "mimetype": "text/x-python",
   "name": "python",
   "nbconvert_exporter": "python",
   "pygments_lexer": "ipython3",
   "version": "3.8.12"
  }
 },
 "nbformat": 4,
 "nbformat_minor": 5
}
