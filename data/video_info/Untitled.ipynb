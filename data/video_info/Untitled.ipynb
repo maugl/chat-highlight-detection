{
 "cells": [
  {
   "cell_type": "code",
   "execution_count": 1,
   "id": "6c9334ec-b65c-48cd-8e51-5d78459668aa",
   "metadata": {},
   "outputs": [],
   "source": [
    "import pandas as pd\n",
    "from zipfile import ZipFile"
   ]
  },
  {
   "cell_type": "code",
   "execution_count": 3,
   "id": "44b77b1d-a3a9-4658-9490-5f1c80c0ceaa",
   "metadata": {},
   "outputs": [],
   "source": [
    "msg_info = pd.read_csv(\"msg_info.csv\")"
   ]
  },
  {
   "cell_type": "code",
   "execution_count": 6,
   "id": "05d5341e-0181-472a-a06a-3e37ee6d762c",
   "metadata": {},
   "outputs": [
    {
     "data": {
      "text/html": [
       "<div>\n",
       "<style scoped>\n",
       "    .dataframe tbody tr th:only-of-type {\n",
       "        vertical-align: middle;\n",
       "    }\n",
       "\n",
       "    .dataframe tbody tr th {\n",
       "        vertical-align: top;\n",
       "    }\n",
       "\n",
       "    .dataframe thead th {\n",
       "        text-align: right;\n",
       "    }\n",
       "</style>\n",
       "<table border=\"1\" class=\"dataframe\">\n",
       "  <thead>\n",
       "    <tr style=\"text-align: right;\">\n",
       "      <th></th>\n",
       "      <th>Unnamed: 0</th>\n",
       "      <th>num_tokens</th>\n",
       "      <th>num_chars</th>\n",
       "      <th>longest_message_toks</th>\n",
       "      <th>shortest_message_toks</th>\n",
       "      <th>longest_message_chars</th>\n",
       "      <th>shortest_message_chars</th>\n",
       "    </tr>\n",
       "  </thead>\n",
       "  <tbody>\n",
       "    <tr>\n",
       "      <th>count</th>\n",
       "      <td>5.954000e+03</td>\n",
       "      <td>5.954000e+03</td>\n",
       "      <td>5.954000e+03</td>\n",
       "      <td>5954.000000</td>\n",
       "      <td>5954.000000</td>\n",
       "      <td>5954.000000</td>\n",
       "      <td>5954.0</td>\n",
       "    </tr>\n",
       "    <tr>\n",
       "      <th>mean</th>\n",
       "      <td>3.187481e+08</td>\n",
       "      <td>6.801954e+04</td>\n",
       "      <td>3.041709e+05</td>\n",
       "      <td>41.072724</td>\n",
       "      <td>1.018139</td>\n",
       "      <td>153.090359</td>\n",
       "      <td>0.0</td>\n",
       "    </tr>\n",
       "    <tr>\n",
       "      <th>std</th>\n",
       "      <td>3.585900e+08</td>\n",
       "      <td>1.699069e+05</td>\n",
       "      <td>7.655676e+05</td>\n",
       "      <td>43.164793</td>\n",
       "      <td>0.567624</td>\n",
       "      <td>134.296857</td>\n",
       "      <td>0.0</td>\n",
       "    </tr>\n",
       "    <tr>\n",
       "      <th>min</th>\n",
       "      <td>3.590598e+06</td>\n",
       "      <td>1.000000e+00</td>\n",
       "      <td>0.000000e+00</td>\n",
       "      <td>1.000000</td>\n",
       "      <td>1.000000</td>\n",
       "      <td>0.000000</td>\n",
       "      <td>0.0</td>\n",
       "    </tr>\n",
       "    <tr>\n",
       "      <th>25%</th>\n",
       "      <td>3.812734e+07</td>\n",
       "      <td>1.000000e+00</td>\n",
       "      <td>0.000000e+00</td>\n",
       "      <td>1.000000</td>\n",
       "      <td>1.000000</td>\n",
       "      <td>0.000000</td>\n",
       "      <td>0.0</td>\n",
       "    </tr>\n",
       "    <tr>\n",
       "      <th>50%</th>\n",
       "      <td>1.502307e+08</td>\n",
       "      <td>5.870500e+03</td>\n",
       "      <td>2.562000e+04</td>\n",
       "      <td>41.000000</td>\n",
       "      <td>1.000000</td>\n",
       "      <td>162.000000</td>\n",
       "      <td>0.0</td>\n",
       "    </tr>\n",
       "    <tr>\n",
       "      <th>75%</th>\n",
       "      <td>4.825888e+08</td>\n",
       "      <td>6.110425e+04</td>\n",
       "      <td>2.661098e+05</td>\n",
       "      <td>61.000000</td>\n",
       "      <td>1.000000</td>\n",
       "      <td>235.000000</td>\n",
       "      <td>0.0</td>\n",
       "    </tr>\n",
       "    <tr>\n",
       "      <th>max</th>\n",
       "      <td>1.419109e+09</td>\n",
       "      <td>2.459735e+06</td>\n",
       "      <td>1.467572e+07</td>\n",
       "      <td>487.000000</td>\n",
       "      <td>42.000000</td>\n",
       "      <td>500.000000</td>\n",
       "      <td>0.0</td>\n",
       "    </tr>\n",
       "  </tbody>\n",
       "</table>\n",
       "</div>"
      ],
      "text/plain": [
       "         Unnamed: 0    num_tokens     num_chars  longest_message_toks  \\\n",
       "count  5.954000e+03  5.954000e+03  5.954000e+03           5954.000000   \n",
       "mean   3.187481e+08  6.801954e+04  3.041709e+05             41.072724   \n",
       "std    3.585900e+08  1.699069e+05  7.655676e+05             43.164793   \n",
       "min    3.590598e+06  1.000000e+00  0.000000e+00              1.000000   \n",
       "25%    3.812734e+07  1.000000e+00  0.000000e+00              1.000000   \n",
       "50%    1.502307e+08  5.870500e+03  2.562000e+04             41.000000   \n",
       "75%    4.825888e+08  6.110425e+04  2.661098e+05             61.000000   \n",
       "max    1.419109e+09  2.459735e+06  1.467572e+07            487.000000   \n",
       "\n",
       "       shortest_message_toks  longest_message_chars  shortest_message_chars  \n",
       "count            5954.000000            5954.000000                  5954.0  \n",
       "mean                1.018139             153.090359                     0.0  \n",
       "std                 0.567624             134.296857                     0.0  \n",
       "min                 1.000000               0.000000                     0.0  \n",
       "25%                 1.000000               0.000000                     0.0  \n",
       "50%                 1.000000             162.000000                     0.0  \n",
       "75%                 1.000000             235.000000                     0.0  \n",
       "max                42.000000             500.000000                     0.0  "
      ]
     },
     "execution_count": 6,
     "metadata": {},
     "output_type": "execute_result"
    }
   ],
   "source": [
    "msg_info.describe()"
   ]
  },
  {
   "cell_type": "code",
   "execution_count": null,
   "id": "28cad293-17f2-4bea-acbd-d29b9b599ffc",
   "metadata": {},
   "outputs": [],
   "source": [
    "with open ZipFile()"
   ]
  },
  {
   "cell_type": "code",
   "execution_count": 8,
   "id": "3cc53c4c-47f7-48ad-9d00-9d2f7df3c134",
   "metadata": {},
   "outputs": [
    {
     "name": "stdout",
     "output_type": "stream",
     "text": [
      "3110\n"
     ]
    }
   ],
   "source": [
    "!ls ../videos_chat/corpus | wc -l"
   ]
  },
  {
   "cell_type": "code",
   "execution_count": null,
   "id": "31102111-82e1-4c60-9f2b-1f4e5c8d8d67",
   "metadata": {},
   "outputs": [],
   "source": []
  }
 ],
 "metadata": {
  "kernelspec": {
   "display_name": "Python 3 (ipykernel)",
   "language": "python",
   "name": "python3"
  },
  "language_info": {
   "codemirror_mode": {
    "name": "ipython",
    "version": 3
   },
   "file_extension": ".py",
   "mimetype": "text/x-python",
   "name": "python",
   "nbconvert_exporter": "python",
   "pygments_lexer": "ipython3",
   "version": "3.8.12"
  }
 },
 "nbformat": 4,
 "nbformat_minor": 5
}
