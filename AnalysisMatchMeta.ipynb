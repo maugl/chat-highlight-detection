{
 "cells": [
  {
   "cell_type": "code",
   "execution_count": 12,
   "id": "7b3f56e8-ab41-4587-9e9b-3f69d0587943",
   "metadata": {},
   "outputs": [],
   "source": [
    "import json\n",
    "import math\n",
    "import numpy as np\n",
    "import pandas as pd\n",
    "from data_loading import ChatHighlightData\n",
    "import utils\n",
    "import matplotlib.pyplot as plt\n",
    "from sklearn.neighbors import KernelDensity\n",
    "from sklearn.preprocessing import MinMaxScaler\n",
    "import re"
   ]
  },
  {
   "cell_type": "code",
   "execution_count": 3,
   "id": "ab2aaf62-523f-4860-90d9-34d1a200f555",
   "metadata": {},
   "outputs": [],
   "source": [
    "# pre-computed meta-data for the matches in the training set\n",
    "with open(\"data/analysis/MatchesMeta_train.json\", \"r\") as in_file:\n",
    "    matches_meta = json.load(in_file)"
   ]
  },
  {
   "cell_type": "markdown",
   "id": "3cee121d-fd9b-40a3-917b-46f4ca388267",
   "metadata": {},
   "source": [
    "should be 133, but is 128 because highlight annotations of some matches are missing:\n",
    "\n",
    "* nalcs_w5d2_C9_TMS_g1 https://www.youtube.com/watch?v=uh0npPZsUUc (typo in team name)\n",
    "* nalcs_w6d3_IMT_NV_g1 https://www.youtube.com/watch?v=U9msQYsWcOo\n",
    "* nalcs_w6d2_FOX_C9_g1 https://www.youtube.com/watch?v=JF2o7xIg0no\n",
    "* nalcs_w6d2_FLY_NV_g1 https://www.youtube.com/watch?v=TyZRsAT6P5k\n",
    "* nalcs_w5d2_C9_TMS_g3 https://www.youtube.com/watch?v=xtNhxrG2U5A\n",
    "\n",
    "The chat for the matches is present\n",
    "\n",
    "\n",
    "Fu et. al report \n",
    "\n",
    "|tournament|train|val|test|total|\n",
    "|-----|--:|-:|-:|--:|\n",
    "|NALCS|128|40|50|218|\n",
    "|LMS|57|18|28|103|\n"
   ]
  },
  {
   "cell_type": "code",
   "execution_count": 23,
   "id": "eef5c269-89b9-4278-91c1-326783466f81",
   "metadata": {},
   "outputs": [
    {
     "data": {
      "text/plain": [
       "128"
      ]
     },
     "execution_count": 23,
     "metadata": {},
     "output_type": "execute_result"
    }
   ],
   "source": [
    "len(matches_meta)"
   ]
  },
  {
   "cell_type": "code",
   "execution_count": 7,
   "id": "01cbe8e9-dc9f-47c5-9c7a-4cdf8bbad877",
   "metadata": {},
   "outputs": [
    {
     "data": {
      "text/plain": [
       "['highlight_spans',\n",
       " 'highlight_lengths',\n",
       " 'highlight_count',\n",
       " 'highlight_avg_len',\n",
       " 'highlights',\n",
       " 'chat_message_density',\n",
       " 'chat_emote_density',\n",
       " 'chat_copypasta_density']"
      ]
     },
     "execution_count": 7,
     "metadata": {},
     "output_type": "execute_result"
    }
   ],
   "source": [
    "list(matches_meta[list(matches_meta.keys())[0]].keys())"
   ]
  },
  {
   "cell_type": "markdown",
   "id": "876f4b52-7432-411c-9a40-9779a15498f0",
   "metadata": {},
   "source": [
    "### Shortest highlight"
   ]
  },
  {
   "cell_type": "code",
   "execution_count": 60,
   "id": "65f96ae4-c1ba-41f5-b552-a7dea481ea5d",
   "metadata": {},
   "outputs": [
    {
     "name": "stdout",
     "output_type": "stream",
     "text": [
      "no highlights in match:  nalcs_w8d3_TSM_FOX_g1\n"
     ]
    }
   ],
   "source": [
    "matches_hl_lengths = list()\n",
    "\n",
    "for name, match_data in matches_meta.items():\n",
    "    if match_data[\"highlight_lengths\"]:\n",
    "        for i, (hl_start, hl_end) in enumerate(match_data[\"highlight_spans\"]):\n",
    "            matches_hl_lengths.append((name, i,hl_start, hl_end, hl_end - hl_start, (hl_end - hl_start)/30))\n",
    "    else:\n",
    "        print(\"no highlights in match: \", name)"
   ]
  },
  {
   "cell_type": "code",
   "execution_count": 50,
   "id": "4f01933f-2c82-4929-8381-750983bbe16f",
   "metadata": {},
   "outputs": [
    {
     "name": "stdout",
     "output_type": "stream",
     "text": [
      "shortest highlight: ('nalcs_w5d2_TL_DIG_g3', 55729, 55737, 8, 0.26666666666666666)\n",
      "longest highlight: ('nalcs_w4d1_C9_TL_g3', 42455, 50299, 7844, 261.46666666666664)\n"
     ]
    }
   ],
   "source": [
    "matches_hl_lengths_sorted = sorted(matches_hl_lengths, key=lambda x: x[-1])\n",
    "\n",
    "print(\"shortest highlight:\", matches_hl_lengths_sorted[0])\n",
    "print(\"longest highlight:\", matches_hl_lengths_sorted[-1])"
   ]
  },
  {
   "cell_type": "code",
   "execution_count": 52,
   "id": "5a3012dd-9e9a-46d1-b10b-ada4cf66df7d",
   "metadata": {},
   "outputs": [
    {
     "name": "stdout",
     "output_type": "stream",
     "text": [
      "1 9106 9385 279 9.3\n",
      "2 15309 16009 700 23.33\n",
      "3 27923 28503 580 19.33\n",
      "4 31221 31590 369 12.3\n",
      "5 37273 37823 550 18.33\n",
      "6 46649 47066 417 13.9\n",
      "7 51135 52495 1360 45.33\n",
      "8 52883 53152 269 8.97\n",
      "9 55308 55657 349 11.63\n",
      "10 55729 55737 8 0.27\n",
      "11 58598 59188 590 19.67\n",
      "12 61916 63029 1113 37.1\n",
      "13 67418 70760 3342 111.4\n"
     ]
    }
   ],
   "source": [
    "min_len_match_name = matches_hl_lengths_sorted[0][0]\n",
    "\n",
    "for i, (start, end) in enumerate(matches_meta[min_len_match_name][\"highlight_spans\"]):\n",
    "    print(i+1, start, end, end-start, round((end-start)/30, 2))"
   ]
  },
  {
   "cell_type": "code",
   "execution_count": 64,
   "id": "517edad4-dfc0-4ca6-bee5-c50c9a3aa46d",
   "metadata": {},
   "outputs": [
    {
     "data": {
      "text/html": [
       "<div>\n",
       "<style scoped>\n",
       "    .dataframe tbody tr th:only-of-type {\n",
       "        vertical-align: middle;\n",
       "    }\n",
       "\n",
       "    .dataframe tbody tr th {\n",
       "        vertical-align: top;\n",
       "    }\n",
       "\n",
       "    .dataframe thead th {\n",
       "        text-align: right;\n",
       "    }\n",
       "</style>\n",
       "<table border=\"1\" class=\"dataframe\">\n",
       "  <thead>\n",
       "    <tr style=\"text-align: right;\">\n",
       "      <th></th>\n",
       "      <th>match_name</th>\n",
       "      <th>hl_index_in_match</th>\n",
       "      <th>hl_start_frame</th>\n",
       "      <th>hl_end_frame</th>\n",
       "      <th>hl_duration_frames</th>\n",
       "      <th>hl_duration_secs</th>\n",
       "    </tr>\n",
       "  </thead>\n",
       "  <tbody>\n",
       "    <tr>\n",
       "      <th>783</th>\n",
       "      <td>nalcs_w5d2_TL_DIG_g3</td>\n",
       "      <td>9</td>\n",
       "      <td>55729</td>\n",
       "      <td>55737</td>\n",
       "      <td>8</td>\n",
       "      <td>0.266667</td>\n",
       "    </tr>\n",
       "    <tr>\n",
       "      <th>1567</th>\n",
       "      <td>nalcs_w5d2_CLG_IMT_g3</td>\n",
       "      <td>8</td>\n",
       "      <td>51933</td>\n",
       "      <td>51952</td>\n",
       "      <td>19</td>\n",
       "      <td>0.633333</td>\n",
       "    </tr>\n",
       "    <tr>\n",
       "      <th>580</th>\n",
       "      <td>nalcs_w1d3_TSM_IMT_g1</td>\n",
       "      <td>20</td>\n",
       "      <td>105641</td>\n",
       "      <td>105660</td>\n",
       "      <td>19</td>\n",
       "      <td>0.633333</td>\n",
       "    </tr>\n",
       "    <tr>\n",
       "      <th>666</th>\n",
       "      <td>nalcs_w9d3_CLG_NV_g3</td>\n",
       "      <td>16</td>\n",
       "      <td>83516</td>\n",
       "      <td>83536</td>\n",
       "      <td>20</td>\n",
       "      <td>0.666667</td>\n",
       "    </tr>\n",
       "    <tr>\n",
       "      <th>159</th>\n",
       "      <td>nalcs_w2d3_C9_CLG_g3</td>\n",
       "      <td>18</td>\n",
       "      <td>97418</td>\n",
       "      <td>97447</td>\n",
       "      <td>29</td>\n",
       "      <td>0.966667</td>\n",
       "    </tr>\n",
       "    <tr>\n",
       "      <th>1394</th>\n",
       "      <td>nalcs_w2d3_P1_TL_g1</td>\n",
       "      <td>13</td>\n",
       "      <td>65226</td>\n",
       "      <td>65255</td>\n",
       "      <td>29</td>\n",
       "      <td>0.966667</td>\n",
       "    </tr>\n",
       "    <tr>\n",
       "      <th>359</th>\n",
       "      <td>nalcs_w1d3_NV_CLG_g1</td>\n",
       "      <td>14</td>\n",
       "      <td>79672</td>\n",
       "      <td>79710</td>\n",
       "      <td>38</td>\n",
       "      <td>1.266667</td>\n",
       "    </tr>\n",
       "    <tr>\n",
       "      <th>1515</th>\n",
       "      <td>nalcs_w3d2_C9_NV_g1</td>\n",
       "      <td>6</td>\n",
       "      <td>55160</td>\n",
       "      <td>55200</td>\n",
       "      <td>40</td>\n",
       "      <td>1.333333</td>\n",
       "    </tr>\n",
       "    <tr>\n",
       "      <th>1049</th>\n",
       "      <td>nalcs_w1d1_FOX_P1_g1</td>\n",
       "      <td>12</td>\n",
       "      <td>75469</td>\n",
       "      <td>75517</td>\n",
       "      <td>48</td>\n",
       "      <td>1.600000</td>\n",
       "    </tr>\n",
       "    <tr>\n",
       "      <th>1365</th>\n",
       "      <td>nalcs_w2d2_P1_NV_g1</td>\n",
       "      <td>8</td>\n",
       "      <td>75516</td>\n",
       "      <td>75575</td>\n",
       "      <td>59</td>\n",
       "      <td>1.966667</td>\n",
       "    </tr>\n",
       "    <tr>\n",
       "      <th>650</th>\n",
       "      <td>nalcs_w9d3_CLG_NV_g3</td>\n",
       "      <td>0</td>\n",
       "      <td>10573</td>\n",
       "      <td>10632</td>\n",
       "      <td>59</td>\n",
       "      <td>1.966667</td>\n",
       "    </tr>\n",
       "    <tr>\n",
       "      <th>1703</th>\n",
       "      <td>nalcs_w8d2_TSM_FLY_g3</td>\n",
       "      <td>13</td>\n",
       "      <td>59445</td>\n",
       "      <td>59505</td>\n",
       "      <td>60</td>\n",
       "      <td>2.000000</td>\n",
       "    </tr>\n",
       "    <tr>\n",
       "      <th>1556</th>\n",
       "      <td>nalcs_w4d3_CLG_P1_g1</td>\n",
       "      <td>11</td>\n",
       "      <td>76167</td>\n",
       "      <td>76236</td>\n",
       "      <td>69</td>\n",
       "      <td>2.300000</td>\n",
       "    </tr>\n",
       "    <tr>\n",
       "      <th>758</th>\n",
       "      <td>nalcs_w9d1_FLY_FOX_g1</td>\n",
       "      <td>0</td>\n",
       "      <td>10266</td>\n",
       "      <td>10335</td>\n",
       "      <td>69</td>\n",
       "      <td>2.300000</td>\n",
       "    </tr>\n",
       "    <tr>\n",
       "      <th>1534</th>\n",
       "      <td>nalcs_w6d1_IMT_TL_g3</td>\n",
       "      <td>2</td>\n",
       "      <td>30935</td>\n",
       "      <td>31004</td>\n",
       "      <td>69</td>\n",
       "      <td>2.300000</td>\n",
       "    </tr>\n",
       "    <tr>\n",
       "      <th>945</th>\n",
       "      <td>nalcs_w8d2_NV_DIG_g3</td>\n",
       "      <td>0</td>\n",
       "      <td>8862</td>\n",
       "      <td>8931</td>\n",
       "      <td>69</td>\n",
       "      <td>2.300000</td>\n",
       "    </tr>\n",
       "    <tr>\n",
       "      <th>1403</th>\n",
       "      <td>nalcs_w8d3_NV_C9_g1</td>\n",
       "      <td>7</td>\n",
       "      <td>59756</td>\n",
       "      <td>59825</td>\n",
       "      <td>69</td>\n",
       "      <td>2.300000</td>\n",
       "    </tr>\n",
       "    <tr>\n",
       "      <th>426</th>\n",
       "      <td>nalcs_w7d3_CLG_C9_g1</td>\n",
       "      <td>5</td>\n",
       "      <td>48159</td>\n",
       "      <td>48228</td>\n",
       "      <td>69</td>\n",
       "      <td>2.300000</td>\n",
       "    </tr>\n",
       "    <tr>\n",
       "      <th>1364</th>\n",
       "      <td>nalcs_w2d2_P1_NV_g1</td>\n",
       "      <td>7</td>\n",
       "      <td>74109</td>\n",
       "      <td>74178</td>\n",
       "      <td>69</td>\n",
       "      <td>2.300000</td>\n",
       "    </tr>\n",
       "    <tr>\n",
       "      <th>1760</th>\n",
       "      <td>nalcs_w9d3_FLY_TL_g3</td>\n",
       "      <td>0</td>\n",
       "      <td>10006</td>\n",
       "      <td>10075</td>\n",
       "      <td>69</td>\n",
       "      <td>2.300000</td>\n",
       "    </tr>\n",
       "    <tr>\n",
       "      <th>305</th>\n",
       "      <td>nalcs_w9d3_CLG_NV_g1</td>\n",
       "      <td>0</td>\n",
       "      <td>11555</td>\n",
       "      <td>11625</td>\n",
       "      <td>70</td>\n",
       "      <td>2.333333</td>\n",
       "    </tr>\n",
       "    <tr>\n",
       "      <th>1190</th>\n",
       "      <td>nalcs_w9d2_TL_TSM_g3</td>\n",
       "      <td>0</td>\n",
       "      <td>9492</td>\n",
       "      <td>9562</td>\n",
       "      <td>70</td>\n",
       "      <td>2.333333</td>\n",
       "    </tr>\n",
       "    <tr>\n",
       "      <th>402</th>\n",
       "      <td>nalcs_w7d3_FOX_DIG_g3</td>\n",
       "      <td>6</td>\n",
       "      <td>50410</td>\n",
       "      <td>50488</td>\n",
       "      <td>78</td>\n",
       "      <td>2.600000</td>\n",
       "    </tr>\n",
       "    <tr>\n",
       "      <th>1638</th>\n",
       "      <td>nalcs_w9d3_DIG_IMT_g1</td>\n",
       "      <td>18</td>\n",
       "      <td>117923</td>\n",
       "      <td>118001</td>\n",
       "      <td>78</td>\n",
       "      <td>2.600000</td>\n",
       "    </tr>\n",
       "    <tr>\n",
       "      <th>732</th>\n",
       "      <td>nalcs_w9d2_IMT_CLG_g1</td>\n",
       "      <td>0</td>\n",
       "      <td>8142</td>\n",
       "      <td>8221</td>\n",
       "      <td>79</td>\n",
       "      <td>2.633333</td>\n",
       "    </tr>\n",
       "    <tr>\n",
       "      <th>1071</th>\n",
       "      <td>nalcs_w8d1_DIG_TL_g1</td>\n",
       "      <td>0</td>\n",
       "      <td>11181</td>\n",
       "      <td>11260</td>\n",
       "      <td>79</td>\n",
       "      <td>2.633333</td>\n",
       "    </tr>\n",
       "    <tr>\n",
       "      <th>886</th>\n",
       "      <td>nalcs_w5d1_NV_P1_g1</td>\n",
       "      <td>12</td>\n",
       "      <td>97640</td>\n",
       "      <td>97719</td>\n",
       "      <td>79</td>\n",
       "      <td>2.633333</td>\n",
       "    </tr>\n",
       "    <tr>\n",
       "      <th>805</th>\n",
       "      <td>nalcs_w9d2_FOX_NV_g3</td>\n",
       "      <td>0</td>\n",
       "      <td>7619</td>\n",
       "      <td>7698</td>\n",
       "      <td>79</td>\n",
       "      <td>2.633333</td>\n",
       "    </tr>\n",
       "    <tr>\n",
       "      <th>112</th>\n",
       "      <td>nalcs_w4d3_FLY_C9_g3</td>\n",
       "      <td>17</td>\n",
       "      <td>145628</td>\n",
       "      <td>145707</td>\n",
       "      <td>79</td>\n",
       "      <td>2.633333</td>\n",
       "    </tr>\n",
       "    <tr>\n",
       "      <th>195</th>\n",
       "      <td>nalcs_w6d3_FOX_TL_g3</td>\n",
       "      <td>2</td>\n",
       "      <td>31427</td>\n",
       "      <td>31506</td>\n",
       "      <td>79</td>\n",
       "      <td>2.633333</td>\n",
       "    </tr>\n",
       "    <tr>\n",
       "      <th>1345</th>\n",
       "      <td>nalcs_w8d2_TSM_FLY_g1</td>\n",
       "      <td>0</td>\n",
       "      <td>8624</td>\n",
       "      <td>8703</td>\n",
       "      <td>79</td>\n",
       "      <td>2.633333</td>\n",
       "    </tr>\n",
       "    <tr>\n",
       "      <th>1652</th>\n",
       "      <td>nalcs_w8d3_CLG_FLY_g1</td>\n",
       "      <td>0</td>\n",
       "      <td>9340</td>\n",
       "      <td>9419</td>\n",
       "      <td>79</td>\n",
       "      <td>2.633333</td>\n",
       "    </tr>\n",
       "    <tr>\n",
       "      <th>1607</th>\n",
       "      <td>nalcs_w5d3_IMT_FOX_g1</td>\n",
       "      <td>11</td>\n",
       "      <td>77738</td>\n",
       "      <td>77817</td>\n",
       "      <td>79</td>\n",
       "      <td>2.633333</td>\n",
       "    </tr>\n",
       "    <tr>\n",
       "      <th>470</th>\n",
       "      <td>nalcs_w9d3_TSM_P1_g1</td>\n",
       "      <td>0</td>\n",
       "      <td>10249</td>\n",
       "      <td>10328</td>\n",
       "      <td>79</td>\n",
       "      <td>2.633333</td>\n",
       "    </tr>\n",
       "    <tr>\n",
       "      <th>1620</th>\n",
       "      <td>nalcs_w9d3_DIG_IMT_g1</td>\n",
       "      <td>0</td>\n",
       "      <td>11240</td>\n",
       "      <td>11319</td>\n",
       "      <td>79</td>\n",
       "      <td>2.633333</td>\n",
       "    </tr>\n",
       "    <tr>\n",
       "      <th>382</th>\n",
       "      <td>nalcs_w9d1_C9_DIG_g1</td>\n",
       "      <td>0</td>\n",
       "      <td>12346</td>\n",
       "      <td>12425</td>\n",
       "      <td>79</td>\n",
       "      <td>2.633333</td>\n",
       "    </tr>\n",
       "    <tr>\n",
       "      <th>250</th>\n",
       "      <td>nalcs_w8d3_NV_C9_g3</td>\n",
       "      <td>0</td>\n",
       "      <td>9542</td>\n",
       "      <td>9622</td>\n",
       "      <td>80</td>\n",
       "      <td>2.666667</td>\n",
       "    </tr>\n",
       "    <tr>\n",
       "      <th>509</th>\n",
       "      <td>nalcs_w9d2_C9_P1_g1</td>\n",
       "      <td>0</td>\n",
       "      <td>13175</td>\n",
       "      <td>13255</td>\n",
       "      <td>80</td>\n",
       "      <td>2.666667</td>\n",
       "    </tr>\n",
       "    <tr>\n",
       "      <th>1732</th>\n",
       "      <td>nalcs_w9d3_FLY_TL_g1</td>\n",
       "      <td>0</td>\n",
       "      <td>10540</td>\n",
       "      <td>10629</td>\n",
       "      <td>89</td>\n",
       "      <td>2.966667</td>\n",
       "    </tr>\n",
       "    <tr>\n",
       "      <th>948</th>\n",
       "      <td>nalcs_w8d2_NV_DIG_g3</td>\n",
       "      <td>3</td>\n",
       "      <td>28702</td>\n",
       "      <td>28791</td>\n",
       "      <td>89</td>\n",
       "      <td>2.966667</td>\n",
       "    </tr>\n",
       "    <tr>\n",
       "      <th>113</th>\n",
       "      <td>nalcs_w4d3_FLY_C9_g3</td>\n",
       "      <td>18</td>\n",
       "      <td>149855</td>\n",
       "      <td>149944</td>\n",
       "      <td>89</td>\n",
       "      <td>2.966667</td>\n",
       "    </tr>\n",
       "    <tr>\n",
       "      <th>265</th>\n",
       "      <td>nalcs_w9d2_FOX_NV_g1</td>\n",
       "      <td>0</td>\n",
       "      <td>8177</td>\n",
       "      <td>8266</td>\n",
       "      <td>89</td>\n",
       "      <td>2.966667</td>\n",
       "    </tr>\n",
       "    <tr>\n",
       "      <th>523</th>\n",
       "      <td>nalcs_w9d2_C9_P1_g1</td>\n",
       "      <td>14</td>\n",
       "      <td>72506</td>\n",
       "      <td>72595</td>\n",
       "      <td>89</td>\n",
       "      <td>2.966667</td>\n",
       "    </tr>\n",
       "    <tr>\n",
       "      <th>1396</th>\n",
       "      <td>nalcs_w8d3_NV_C9_g1</td>\n",
       "      <td>0</td>\n",
       "      <td>9672</td>\n",
       "      <td>9761</td>\n",
       "      <td>89</td>\n",
       "      <td>2.966667</td>\n",
       "    </tr>\n",
       "    <tr>\n",
       "      <th>1061</th>\n",
       "      <td>nalcs_w2d1_TSM_DIG_g1</td>\n",
       "      <td>8</td>\n",
       "      <td>52607</td>\n",
       "      <td>52696</td>\n",
       "      <td>89</td>\n",
       "      <td>2.966667</td>\n",
       "    </tr>\n",
       "    <tr>\n",
       "      <th>217</th>\n",
       "      <td>nalcs_w4d2_CLG_FOX_g1</td>\n",
       "      <td>13</td>\n",
       "      <td>74947</td>\n",
       "      <td>75036</td>\n",
       "      <td>89</td>\n",
       "      <td>2.966667</td>\n",
       "    </tr>\n",
       "    <tr>\n",
       "      <th>48</th>\n",
       "      <td>nalcs_w8d1_FOX_CLG_g1</td>\n",
       "      <td>0</td>\n",
       "      <td>11538</td>\n",
       "      <td>11627</td>\n",
       "      <td>89</td>\n",
       "      <td>2.966667</td>\n",
       "    </tr>\n",
       "    <tr>\n",
       "      <th>120</th>\n",
       "      <td>nalcs_w4d3_CLG_P1_g3</td>\n",
       "      <td>5</td>\n",
       "      <td>54788</td>\n",
       "      <td>54886</td>\n",
       "      <td>98</td>\n",
       "      <td>3.266667</td>\n",
       "    </tr>\n",
       "    <tr>\n",
       "      <th>1035</th>\n",
       "      <td>nalcs_w4d3_FOX_TSM_g1</td>\n",
       "      <td>14</td>\n",
       "      <td>60366</td>\n",
       "      <td>60464</td>\n",
       "      <td>98</td>\n",
       "      <td>3.266667</td>\n",
       "    </tr>\n",
       "    <tr>\n",
       "      <th>697</th>\n",
       "      <td>nalcs_w3d1_IMT_P1_g1</td>\n",
       "      <td>17</td>\n",
       "      <td>90131</td>\n",
       "      <td>90230</td>\n",
       "      <td>99</td>\n",
       "      <td>3.300000</td>\n",
       "    </tr>\n",
       "  </tbody>\n",
       "</table>\n",
       "</div>"
      ],
      "text/plain": [
       "                 match_name  hl_index_in_match  hl_start_frame  hl_end_frame  \\\n",
       "783    nalcs_w5d2_TL_DIG_g3                  9           55729         55737   \n",
       "1567  nalcs_w5d2_CLG_IMT_g3                  8           51933         51952   \n",
       "580   nalcs_w1d3_TSM_IMT_g1                 20          105641        105660   \n",
       "666    nalcs_w9d3_CLG_NV_g3                 16           83516         83536   \n",
       "159    nalcs_w2d3_C9_CLG_g3                 18           97418         97447   \n",
       "1394    nalcs_w2d3_P1_TL_g1                 13           65226         65255   \n",
       "359    nalcs_w1d3_NV_CLG_g1                 14           79672         79710   \n",
       "1515    nalcs_w3d2_C9_NV_g1                  6           55160         55200   \n",
       "1049   nalcs_w1d1_FOX_P1_g1                 12           75469         75517   \n",
       "1365    nalcs_w2d2_P1_NV_g1                  8           75516         75575   \n",
       "650    nalcs_w9d3_CLG_NV_g3                  0           10573         10632   \n",
       "1703  nalcs_w8d2_TSM_FLY_g3                 13           59445         59505   \n",
       "1556   nalcs_w4d3_CLG_P1_g1                 11           76167         76236   \n",
       "758   nalcs_w9d1_FLY_FOX_g1                  0           10266         10335   \n",
       "1534   nalcs_w6d1_IMT_TL_g3                  2           30935         31004   \n",
       "945    nalcs_w8d2_NV_DIG_g3                  0            8862          8931   \n",
       "1403    nalcs_w8d3_NV_C9_g1                  7           59756         59825   \n",
       "426    nalcs_w7d3_CLG_C9_g1                  5           48159         48228   \n",
       "1364    nalcs_w2d2_P1_NV_g1                  7           74109         74178   \n",
       "1760   nalcs_w9d3_FLY_TL_g3                  0           10006         10075   \n",
       "305    nalcs_w9d3_CLG_NV_g1                  0           11555         11625   \n",
       "1190   nalcs_w9d2_TL_TSM_g3                  0            9492          9562   \n",
       "402   nalcs_w7d3_FOX_DIG_g3                  6           50410         50488   \n",
       "1638  nalcs_w9d3_DIG_IMT_g1                 18          117923        118001   \n",
       "732   nalcs_w9d2_IMT_CLG_g1                  0            8142          8221   \n",
       "1071   nalcs_w8d1_DIG_TL_g1                  0           11181         11260   \n",
       "886     nalcs_w5d1_NV_P1_g1                 12           97640         97719   \n",
       "805    nalcs_w9d2_FOX_NV_g3                  0            7619          7698   \n",
       "112    nalcs_w4d3_FLY_C9_g3                 17          145628        145707   \n",
       "195    nalcs_w6d3_FOX_TL_g3                  2           31427         31506   \n",
       "1345  nalcs_w8d2_TSM_FLY_g1                  0            8624          8703   \n",
       "1652  nalcs_w8d3_CLG_FLY_g1                  0            9340          9419   \n",
       "1607  nalcs_w5d3_IMT_FOX_g1                 11           77738         77817   \n",
       "470    nalcs_w9d3_TSM_P1_g1                  0           10249         10328   \n",
       "1620  nalcs_w9d3_DIG_IMT_g1                  0           11240         11319   \n",
       "382    nalcs_w9d1_C9_DIG_g1                  0           12346         12425   \n",
       "250     nalcs_w8d3_NV_C9_g3                  0            9542          9622   \n",
       "509     nalcs_w9d2_C9_P1_g1                  0           13175         13255   \n",
       "1732   nalcs_w9d3_FLY_TL_g1                  0           10540         10629   \n",
       "948    nalcs_w8d2_NV_DIG_g3                  3           28702         28791   \n",
       "113    nalcs_w4d3_FLY_C9_g3                 18          149855        149944   \n",
       "265    nalcs_w9d2_FOX_NV_g1                  0            8177          8266   \n",
       "523     nalcs_w9d2_C9_P1_g1                 14           72506         72595   \n",
       "1396    nalcs_w8d3_NV_C9_g1                  0            9672          9761   \n",
       "1061  nalcs_w2d1_TSM_DIG_g1                  8           52607         52696   \n",
       "217   nalcs_w4d2_CLG_FOX_g1                 13           74947         75036   \n",
       "48    nalcs_w8d1_FOX_CLG_g1                  0           11538         11627   \n",
       "120    nalcs_w4d3_CLG_P1_g3                  5           54788         54886   \n",
       "1035  nalcs_w4d3_FOX_TSM_g1                 14           60366         60464   \n",
       "697    nalcs_w3d1_IMT_P1_g1                 17           90131         90230   \n",
       "\n",
       "      hl_duration_frames  hl_duration_secs  \n",
       "783                    8          0.266667  \n",
       "1567                  19          0.633333  \n",
       "580                   19          0.633333  \n",
       "666                   20          0.666667  \n",
       "159                   29          0.966667  \n",
       "1394                  29          0.966667  \n",
       "359                   38          1.266667  \n",
       "1515                  40          1.333333  \n",
       "1049                  48          1.600000  \n",
       "1365                  59          1.966667  \n",
       "650                   59          1.966667  \n",
       "1703                  60          2.000000  \n",
       "1556                  69          2.300000  \n",
       "758                   69          2.300000  \n",
       "1534                  69          2.300000  \n",
       "945                   69          2.300000  \n",
       "1403                  69          2.300000  \n",
       "426                   69          2.300000  \n",
       "1364                  69          2.300000  \n",
       "1760                  69          2.300000  \n",
       "305                   70          2.333333  \n",
       "1190                  70          2.333333  \n",
       "402                   78          2.600000  \n",
       "1638                  78          2.600000  \n",
       "732                   79          2.633333  \n",
       "1071                  79          2.633333  \n",
       "886                   79          2.633333  \n",
       "805                   79          2.633333  \n",
       "112                   79          2.633333  \n",
       "195                   79          2.633333  \n",
       "1345                  79          2.633333  \n",
       "1652                  79          2.633333  \n",
       "1607                  79          2.633333  \n",
       "470                   79          2.633333  \n",
       "1620                  79          2.633333  \n",
       "382                   79          2.633333  \n",
       "250                   80          2.666667  \n",
       "509                   80          2.666667  \n",
       "1732                  89          2.966667  \n",
       "948                   89          2.966667  \n",
       "113                   89          2.966667  \n",
       "265                   89          2.966667  \n",
       "523                   89          2.966667  \n",
       "1396                  89          2.966667  \n",
       "1061                  89          2.966667  \n",
       "217                   89          2.966667  \n",
       "48                    89          2.966667  \n",
       "120                   98          3.266667  \n",
       "1035                  98          3.266667  \n",
       "697                   99          3.300000  "
      ]
     },
     "execution_count": 64,
     "metadata": {},
     "output_type": "execute_result"
    }
   ],
   "source": [
    "df = pd.DataFrame(matches_hl_lengths, columns=[\"match_name\", \"hl_index_in_match\", \"hl_start_frame\", \"hl_end_frame\", \"hl_duration_frames\", \"hl_duration_secs\"])\n",
    "df.sort_values([\"hl_duration_frames\"]).head(50)"
   ]
  },
  {
   "cell_type": "markdown",
   "id": "3fd083ae-9e84-498d-9c84-93a44994ad7f",
   "metadata": {},
   "source": [
    "looks like there is screen tearing [nalcs_w5d2_TL_DIG_g3 at the screen tearing location](https://youtu.be/zWdtNCGZDRM?t=293) could be a possible reason for the 9 frame highlight\n",
    "\n",
    "may wanna filter that out"
   ]
  },
  {
   "cell_type": "markdown",
   "id": "f04d6d17-b7d8-4e0e-bf82-66d81bb81cb4",
   "metadata": {},
   "source": [
    "### Matches without highlights\n",
    "Looking at nalcs_w8d3_TSM_FOX_g1, nalcs_w8d3_TSM_FOX_g1nalcs_w8d3_TSM_FOX_g2"
   ]
  },
  {
   "cell_type": "code",
   "execution_count": 19,
   "id": "1d478247-2caa-42cb-baf2-0476579b88c1",
   "metadata": {},
   "outputs": [],
   "source": [
    "gold_data_TSM_FOX_g1 = np.load(\"data/gt/nalcs_w8d3_TSM_FOX_g1.npy\")\n",
    "gold_data_TSM_FOX_g2 = np.load(\"data/gt/nalcs_w8d3_TSM_FOX_g2.npy\")"
   ]
  },
  {
   "cell_type": "code",
   "execution_count": 21,
   "id": "98d8b005-7466-481a-a31f-3401090d221d",
   "metadata": {},
   "outputs": [
    {
     "name": "stdout",
     "output_type": "stream",
     "text": [
      "0\n",
      "0\n"
     ]
    }
   ],
   "source": [
    "print(gold_data_TSM_FOX_g1.sum())\n",
    "print(gold_data_TSM_FOX_g2.sum())"
   ]
  },
  {
   "cell_type": "markdown",
   "id": "ecee9741-411f-4c1a-84fe-af1d4be56a77",
   "metadata": {},
   "source": [
    "There are actually no detected highlights in this match, however, on youtube we find a video. The naming conventions are not upheld on the youtube channel, so it may have been missed when crawling:\n",
    "\n",
    "* [nalcs_w8d3_TSM_FOX_g1](https://www.youtube.com/watch?v=onMKVMeXbI4)\n",
    "* [nalcs_w8d3_TSM_FOX_g2](https://www.youtube.com/watch?v=ZoC3qcv6Gr0)"
   ]
  },
  {
   "cell_type": "markdown",
   "id": "15527a9d-5b6b-4076-95c7-5f389652e75f",
   "metadata": {},
   "source": [
    "## Distribution of message densities in matches"
   ]
  },
  {
   "cell_type": "code",
   "execution_count": 3,
   "id": "3dcc7dd5-e025-4dfb-8908-7f9ca5c1c0e2",
   "metadata": {},
   "outputs": [],
   "source": [
    "chd = ChatHighlightData()\n",
    "chd.load_data(file_identifier=\"nalcs*\")"
   ]
  },
  {
   "cell_type": "code",
   "execution_count": 4,
   "id": "7060f523-5f01-4ddb-83c4-11a42a3e6739",
   "metadata": {},
   "outputs": [],
   "source": [
    "data_totals = chd.get_data_totals()"
   ]
  },
  {
   "cell_type": "code",
   "execution_count": 5,
   "id": "5ab3d9cd-f9b6-46e8-8fbd-e46f8da3636a",
   "metadata": {},
   "outputs": [
    {
     "data": {
      "text/plain": [
       "174.60866602711147"
      ]
     },
     "execution_count": 5,
     "metadata": {},
     "output_type": "execute_result"
    }
   ],
   "source": [
    "data_totals[\"chat_message_count\"]/(data_totals[\"video_length_secs\"]/60)"
   ]
  },
  {
   "cell_type": "markdown",
   "id": "ec92a196-6474-4b90-a0a3-0a4bc1b3daf4",
   "metadata": {},
   "source": [
    "characteristics of message counts per video where one __video__ is one __match__ in the tournament"
   ]
  },
  {
   "cell_type": "code",
   "execution_count": 76,
   "id": "cd9384b3-1089-4c6b-8fd0-eb7eb2b8456e",
   "metadata": {},
   "outputs": [],
   "source": [
    "def determine_split(m):\n",
    "    if re.match(\"nalcs_w.*_g1\", m):\n",
    "        return \"g1\"\n",
    "    elif re.match(\"nalcs_w.*_g2\", m):\n",
    "        return \"g2\"\n",
    "    elif re.match(\"nalcs_w.*_g3\", m):\n",
    "        return \"g3\""
   ]
  },
  {
   "cell_type": "code",
   "execution_count": 54,
   "id": "4e1075d4-0bc7-4e25-a11b-a5e6ecf9b970",
   "metadata": {},
   "outputs": [],
   "source": [
    "match = re.match(\"nalcs_w.*_g[13]\", \"nalcs_w5d3_TL_CLG_g3\")"
   ]
  },
  {
   "cell_type": "code",
   "execution_count": 55,
   "id": "95f340d1-dc7a-452d-8368-2148c7bee962",
   "metadata": {},
   "outputs": [
    {
     "name": "stdout",
     "output_type": "stream",
     "text": [
      "False\n"
     ]
    }
   ],
   "source": [
    "print(match is None)"
   ]
  },
  {
   "cell_type": "code",
   "execution_count": null,
   "id": "7a7a4b7a-c5b1-4fc8-a481-c897eb925824",
   "metadata": {},
   "outputs": [],
   "source": []
  },
  {
   "cell_type": "code",
   "execution_count": 77,
   "id": "85bb8194-f551-4ffc-afee-ad0165b798c5",
   "metadata": {
    "tags": []
   },
   "outputs": [],
   "source": [
    "msg_counts =  list()\n",
    "video_lengths = list()\n",
    "split = list()\n",
    "for match, data in chd.chat.items():\n",
    "    msg_counts.append(len(utils.unpack_messages(data)))\n",
    "    video_lengths.append(len(data))\n",
    "    split.append(determine_split(match))"
   ]
  },
  {
   "cell_type": "code",
   "execution_count": 16,
   "id": "81f998f1-a67e-4822-8480-d16e5219f195",
   "metadata": {},
   "outputs": [
    {
     "data": {
      "text/plain": [
       "5364.576250815363"
      ]
     },
     "execution_count": 16,
     "metadata": {},
     "output_type": "execute_result"
    }
   ],
   "source": [
    "np.std(msg_counts)"
   ]
  },
  {
   "cell_type": "code",
   "execution_count": 17,
   "id": "0edaf9fd-ccb6-4df8-af45-46248b1f43d1",
   "metadata": {},
   "outputs": [],
   "source": [
    "video_lens_mins = np.asarray(video_lengths)/30/60"
   ]
  },
  {
   "cell_type": "code",
   "execution_count": 18,
   "id": "6a0da686-8e5f-4e9d-a592-a84422b78a09",
   "metadata": {},
   "outputs": [],
   "source": [
    "video_msg_per_min = np.asarray(msg_counts)/video_lens_mins"
   ]
  },
  {
   "cell_type": "code",
   "execution_count": 19,
   "id": "db61ae97-03a8-4eb7-99b5-ced656945676",
   "metadata": {},
   "outputs": [
    {
     "data": {
      "text/plain": [
       "(173.48236005998083, 105.00346365170638, 16.457191964765283, 492.3325512417548)"
      ]
     },
     "execution_count": 19,
     "metadata": {},
     "output_type": "execute_result"
    }
   ],
   "source": [
    "np.mean(video_msg_per_min), np.std(video_msg_per_min), video_msg_per_min.min(), video_msg_per_min.max()"
   ]
  },
  {
   "cell_type": "code",
   "execution_count": 20,
   "id": "afbb8628-8fa4-4742-a6b1-98f18a148854",
   "metadata": {},
   "outputs": [
    {
     "data": {
      "text/plain": [
       "(45.53952854230378, 8.710836916472084, 30.308888888888887, 88.46499999999999)"
      ]
     },
     "execution_count": 20,
     "metadata": {},
     "output_type": "execute_result"
    }
   ],
   "source": [
    "video_lens_mins.mean(), video_lens_mins.std(), video_lens_mins.min(), video_lens_mins.max()"
   ]
  },
  {
   "cell_type": "code",
   "execution_count": 70,
   "id": "9642e0d8-db72-4dc9-8c42-a276075027a5",
   "metadata": {},
   "outputs": [
    {
     "data": {
      "image/png": "[encoded data removed]",
      "text/plain": [
       "<Figure size 432x288 with 1 Axes>"
      ]
     },
     "metadata": {
      "needs_background": "light"
     },
     "output_type": "display_data"
    }
   ],
   "source": [
    "plt.hist(video_msg_per_min, bins=50)\n",
    "plt.show()"
   ]
  },
  {
   "cell_type": "code",
   "execution_count": 78,
   "id": "d437039e-d725-40ec-9d75-ada5c6407e39",
   "metadata": {},
   "outputs": [],
   "source": [
    "vmpm_g1 = [vmpm for vmpm, s in zip(video_msg_per_min, split) if s == \"trn\"]\n",
    "vmpm_g2 = [vmpm for vmpm, s in zip(video_msg_per_min, split) if s == \"val\"]\n",
    "vmpm_g3 = [vmpm for vmpm, s in zip(video_msg_per_min, split) if s == \"tst\"]"
   ]
  },
  {
   "cell_type": "code",
   "execution_count": 79,
   "id": "29c48fe1-7969-4158-8d18-c5cbdc57857f",
   "metadata": {},
   "outputs": [
    {
     "data": {
      "image/png": "[encoded data removed]",
      "text/plain": [
       "<Figure size 432x288 with 3 Axes>"
      ]
     },
     "metadata": {
      "needs_background": "light"
     },
     "output_type": "display_data"
    }
   ],
   "source": [
    "figure, axis = plt.subplots(3,1)\n",
    "for i, s in enumerate([vmpm_g1, vmpm_g2, vmpm_g3]):\n",
    "    axis[i].hist(s, bins=20)\n",
    "plt.show()"
   ]
  },
  {
   "cell_type": "markdown",
   "id": "f4f701fb-da97-4d9c-91ec-8a28863de05d",
   "metadata": {},
   "source": [
    "We see two distributions in the message_per minute measure (maybe group stage and finals stage?) => TODO: check twitch streams literature reference for this"
   ]
  },
  {
   "cell_type": "markdown",
   "id": "0007bb9f-4678-4ced-8c3f-4dd3ba983574",
   "metadata": {},
   "source": [
    "Follow this guide to get the bi-modal distribution out: https://machinelearningmastery.com/probability-density-estimation/"
   ]
  },
  {
   "cell_type": "code",
   "execution_count": 52,
   "id": "2b4949a2-7d74-4821-ba09-4105a03f9358",
   "metadata": {},
   "outputs": [],
   "source": []
  },
  {
   "cell_type": "code",
   "execution_count": 125,
   "id": "ea24fac5-e4fd-427d-82cb-9896e1f7bcc7",
   "metadata": {},
   "outputs": [],
   "source": [
    "def model_from_samples(s, b):\n",
    "    # fit density\n",
    "    sample = s.reshape((-1, 1))\n",
    "    m = KernelDensity(bandwidth=b, kernel='gaussian')\n",
    "    return m.fit(s)"
   ]
  },
  {
   "cell_type": "code",
   "execution_count": 126,
   "id": "effa0a6c-0a32-44c4-8833-48b4de89c5e4",
   "metadata": {},
   "outputs": [],
   "source": [
    "def plot_model(v, model):\n",
    "    # sample probabilities for a range of outcomes\n",
    "    values = np.arange(0,v.max(),1)\n",
    "    values = values.reshape((-1, 1))\n",
    "    probabilities = m.score_samples(values)\n",
    "    probabilities = np.exp(probabilities)\n",
    "    \n",
    "    # plot the histogram and pdf\n",
    "    plt.hist(v, bins=50, density=True)\n",
    "    plt.plot(values[:], probabilities)\n",
    "    plt.show()"
   ]
  },
  {
   "cell_type": "code",
   "execution_count": 127,
   "id": "481c6c7d-034b-4a26-8d5e-dc2e28eabd2b",
   "metadata": {},
   "outputs": [
    {
     "data": {
      "image/png": "[encoded data removed]",
      "text/plain": [
       "<Figure size 432x288 with 1 Axes>"
      ]
     },
     "metadata": {
      "needs_background": "light"
     },
     "output_type": "display_data"
    }
   ],
   "source": [
    "vals = video_msg_per_min.reshape((-1,1))\n",
    "m = model_from_samples(vals, 20)\n",
    "plot_model(vals, m)"
   ]
  },
  {
   "cell_type": "code",
   "execution_count": null,
   "id": "ad759999-8ee4-42af-b415-b0d0f1e2d89d",
   "metadata": {},
   "outputs": [],
   "source": []
  },
  {
   "cell_type": "code",
   "execution_count": 140,
   "id": "8a713aa7-44bf-4567-95fb-e12fdd08c510",
   "metadata": {},
   "outputs": [
    {
     "data": {
      "text/plain": [
       "(array([ 7., 26., 44., 40., 33., 20., 21., 24., 16.,  9., 17., 18., 30.,\n",
       "        41., 34., 16., 22., 20., 18.,  8.,  5.,  6.,  5.,  7.,  3.,  1.,\n",
       "         1.,  1.,  3.,  4.]),\n",
       " array([  3.59039142,  19.63729371,  35.684196  ,  51.73109829,\n",
       "         67.77800057,  83.82490286,  99.87180515, 115.91870744,\n",
       "        131.96560972, 148.01251201, 164.0594143 , 180.10631659,\n",
       "        196.15321887, 212.20012116, 228.24702345, 244.29392574,\n",
       "        260.34082802, 276.38773031, 292.4346326 , 308.48153489,\n",
       "        324.52843717, 340.57533946, 356.62224175, 372.66914404,\n",
       "        388.71604632, 404.76294861, 420.8098509 , 436.85675319,\n",
       "        452.90365547, 468.95055776, 484.99746005]),\n",
       " <BarContainer object of 30 artists>)"
      ]
     },
     "execution_count": 142,
     "metadata": {},
     "output_type": "execute_result"
    },
    {
     "data": {
      "image/png": "[encoded data removed]",
      "text/plain": [
       "<Figure size 432x288 with 1 Axes>"
      ]
     },
     "metadata": {
      "needs_background": "light"
     },
     "output_type": "display_data"
    }
   ],
   "source": [
    "plt.hist(m.sample(500), bins=30)"
   ]
  },
  {
   "cell_type": "code",
   "execution_count": null,
   "id": "4cc634e1-b42c-4fa9-ad2f-63685c04ac78",
   "metadata": {},
   "outputs": [],
   "source": []
  }
 ],
 "metadata": {
  "kernelspec": {
   "display_name": "Python 3 (ipykernel)",
   "language": "python",
   "name": "python3"
  },
  "language_info": {
   "codemirror_mode": {
    "name": "ipython",
    "version": 3
   },
   "file_extension": ".py",
   "mimetype": "text/x-python",
   "name": "python",
   "nbconvert_exporter": "python",
   "pygments_lexer": "ipython3",
   "version": "3.8.12"
  }
 },
 "nbformat": 4,
 "nbformat_minor": 5
}
