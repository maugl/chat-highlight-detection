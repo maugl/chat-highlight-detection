{
 "cells": [
  {
   "cell_type": "code",
   "execution_count": 3,
   "id": "d4b86ebf-00d1-47c3-8045-9b6e3d37600e",
   "metadata": {},
   "outputs": [],
   "source": [
    "import json\n",
    "import pandas as pd"
   ]
  },
  {
   "cell_type": "code",
   "execution_count": null,
   "id": "e4ffce87-2215-429f-9591-276a4c981d14",
   "metadata": {},
   "outputs": [],
   "source": []
  },
  {
   "cell_type": "markdown",
   "id": "5a1ee544-b1fd-4a2b-bf69-61fe58aaf2f6",
   "metadata": {},
   "source": [
    "## Real time peak predictor"
   ]
  },
  {
   "cell_type": "code",
   "execution_count": 16,
   "id": "4c77c6f0-90a0-433f-8ec9-e9af28e60b9a",
   "metadata": {},
   "outputs": [],
   "source": [
    "with open(\"../data/analysis/baselines/grid_search/GridSearchCV_RealTimePeakPredictor_20220330_15_17_11_PART_60.json\") as in_file:\n",
    "    data_rtpp = json.load(in_file)"
   ]
  },
  {
   "cell_type": "code",
   "execution_count": 17,
   "id": "b8bb6619-8d39-4ad6-8396-ee8d01526148",
   "metadata": {},
   "outputs": [],
   "source": [
    "df = pd.DataFrame.from_records(data_rtpp)"
   ]
  },
  {
   "cell_type": "code",
   "execution_count": null,
   "id": "723449f6-af4b-430f-a5dd-9d71bb0d5042",
   "metadata": {},
   "outputs": [],
   "source": []
  },
  {
   "cell_type": "code",
   "execution_count": 18,
   "id": "2d585295-0765-41c3-97b6-75374f3c8420",
   "metadata": {},
   "outputs": [
    {
     "data": {
      "text/html": [
       "<div>\n",
       "<style scoped>\n",
       "    .dataframe tbody tr th:only-of-type {\n",
       "        vertical-align: middle;\n",
       "    }\n",
       "\n",
       "    .dataframe tbody tr th {\n",
       "        vertical-align: top;\n",
       "    }\n",
       "\n",
       "    .dataframe thead th {\n",
       "        text-align: right;\n",
       "    }\n",
       "</style>\n",
       "<table border=\"1\" class=\"dataframe\">\n",
       "  <thead>\n",
       "    <tr style=\"text-align: right;\">\n",
       "      <th></th>\n",
       "      <th>best_params</th>\n",
       "      <th>best_score</th>\n",
       "      <th>prep_params</th>\n",
       "    </tr>\n",
       "  </thead>\n",
       "  <tbody>\n",
       "    <tr>\n",
       "      <th>60</th>\n",
       "      <td>{'avg__kw_args': {'N': 5}, 'clf__influence': 0...</td>\n",
       "      <td>0.000000</td>\n",
       "      <td>{'measure': 'emote_density', 'step': 80, 'wind...</td>\n",
       "    </tr>\n",
       "    <tr>\n",
       "      <th>36</th>\n",
       "      <td>{'avg__kw_args': {'N': 5}, 'clf__influence': 0...</td>\n",
       "      <td>0.000000</td>\n",
       "      <td>{'measure': 'emote_density', 'step': 20, 'wind...</td>\n",
       "    </tr>\n",
       "    <tr>\n",
       "      <th>37</th>\n",
       "      <td>{'avg__kw_args': {'N': 5}, 'clf__influence': 0...</td>\n",
       "      <td>0.000000</td>\n",
       "      <td>{'measure': 'emote_density', 'step': 20, 'wind...</td>\n",
       "    </tr>\n",
       "    <tr>\n",
       "      <th>38</th>\n",
       "      <td>{'avg__kw_args': {'N': 5}, 'clf__influence': 0...</td>\n",
       "      <td>0.000000</td>\n",
       "      <td>{'measure': 'emote_density', 'step': 20, 'wind...</td>\n",
       "    </tr>\n",
       "    <tr>\n",
       "      <th>39</th>\n",
       "      <td>{'avg__kw_args': {'N': 5}, 'clf__influence': 0...</td>\n",
       "      <td>0.000000</td>\n",
       "      <td>{'measure': 'emote_density', 'step': 20, 'wind...</td>\n",
       "    </tr>\n",
       "    <tr>\n",
       "      <th>...</th>\n",
       "      <td>...</td>\n",
       "      <td>...</td>\n",
       "      <td>...</td>\n",
       "    </tr>\n",
       "    <tr>\n",
       "      <th>6</th>\n",
       "      <td>{'avg__kw_args': {'N': 5}, 'clf__influence': 0...</td>\n",
       "      <td>0.219214</td>\n",
       "      <td>{'measure': 'message_density', 'step': 20, 'wi...</td>\n",
       "    </tr>\n",
       "    <tr>\n",
       "      <th>18</th>\n",
       "      <td>{'avg__kw_args': {'N': 5}, 'clf__influence': 0...</td>\n",
       "      <td>0.219236</td>\n",
       "      <td>{'measure': 'message_density', 'step': 60, 'wi...</td>\n",
       "    </tr>\n",
       "    <tr>\n",
       "      <th>12</th>\n",
       "      <td>{'avg__kw_args': {'N': 5}, 'clf__influence': 0...</td>\n",
       "      <td>0.219412</td>\n",
       "      <td>{'measure': 'message_density', 'step': 40, 'wi...</td>\n",
       "    </tr>\n",
       "    <tr>\n",
       "      <th>20</th>\n",
       "      <td>{'avg__kw_args': {'N': 5}, 'clf__influence': 0...</td>\n",
       "      <td>0.220644</td>\n",
       "      <td>{'measure': 'message_density', 'step': 60, 'wi...</td>\n",
       "    </tr>\n",
       "    <tr>\n",
       "      <th>13</th>\n",
       "      <td>{'avg__kw_args': {'N': 5}, 'clf__influence': 0...</td>\n",
       "      <td>0.220860</td>\n",
       "      <td>{'measure': 'message_density', 'step': 40, 'wi...</td>\n",
       "    </tr>\n",
       "  </tbody>\n",
       "</table>\n",
       "<p>61 rows × 3 columns</p>\n",
       "</div>"
      ],
      "text/plain": [
       "                                          best_params  best_score  \\\n",
       "60  {'avg__kw_args': {'N': 5}, 'clf__influence': 0...    0.000000   \n",
       "36  {'avg__kw_args': {'N': 5}, 'clf__influence': 0...    0.000000   \n",
       "37  {'avg__kw_args': {'N': 5}, 'clf__influence': 0...    0.000000   \n",
       "38  {'avg__kw_args': {'N': 5}, 'clf__influence': 0...    0.000000   \n",
       "39  {'avg__kw_args': {'N': 5}, 'clf__influence': 0...    0.000000   \n",
       "..                                                ...         ...   \n",
       "6   {'avg__kw_args': {'N': 5}, 'clf__influence': 0...    0.219214   \n",
       "18  {'avg__kw_args': {'N': 5}, 'clf__influence': 0...    0.219236   \n",
       "12  {'avg__kw_args': {'N': 5}, 'clf__influence': 0...    0.219412   \n",
       "20  {'avg__kw_args': {'N': 5}, 'clf__influence': 0...    0.220644   \n",
       "13  {'avg__kw_args': {'N': 5}, 'clf__influence': 0...    0.220860   \n",
       "\n",
       "                                          prep_params  \n",
       "60  {'measure': 'emote_density', 'step': 80, 'wind...  \n",
       "36  {'measure': 'emote_density', 'step': 20, 'wind...  \n",
       "37  {'measure': 'emote_density', 'step': 20, 'wind...  \n",
       "38  {'measure': 'emote_density', 'step': 20, 'wind...  \n",
       "39  {'measure': 'emote_density', 'step': 20, 'wind...  \n",
       "..                                                ...  \n",
       "6   {'measure': 'message_density', 'step': 20, 'wi...  \n",
       "18  {'measure': 'message_density', 'step': 60, 'wi...  \n",
       "12  {'measure': 'message_density', 'step': 40, 'wi...  \n",
       "20  {'measure': 'message_density', 'step': 60, 'wi...  \n",
       "13  {'measure': 'message_density', 'step': 40, 'wi...  \n",
       "\n",
       "[61 rows x 3 columns]"
      ]
     },
     "execution_count": 18,
     "metadata": {},
     "output_type": "execute_result"
    }
   ],
   "source": [
    "df.sort_values(\"best_score\")"
   ]
  },
  {
   "cell_type": "code",
   "execution_count": 19,
   "id": "46770ae7-452c-4bb9-8f26-efa60e467884",
   "metadata": {},
   "outputs": [
    {
     "data": {
      "text/plain": [
       "{'best_params': {'avg__kw_args': {'N': 5},\n",
       "  'clf__influence': 0.7,\n",
       "  'clf__lag': 35,\n",
       "  'clf__threshold': 2},\n",
       " 'best_score': 0.2208597245194782,\n",
       " 'prep_params': {'measure': 'message_density', 'step': 40, 'window': 200}}"
      ]
     },
     "execution_count": 19,
     "metadata": {},
     "output_type": "execute_result"
    }
   ],
   "source": [
    "data_rtpp[13]"
   ]
  },
  {
   "cell_type": "markdown",
   "id": "447792b8-266b-4557-a09d-c84f3ed26ea9",
   "metadata": {},
   "source": [
    "## SciPy peaks"
   ]
  },
  {
   "cell_type": "code",
   "execution_count": 20,
   "id": "01871b50-2b48-48bd-b186-0ad2758c3df0",
   "metadata": {},
   "outputs": [],
   "source": [
    "with open(\"../data/analysis/baselines/grid_search/GridSearchCV_ScipyPeaks_20220330_12_52_44.json\") as in_file:\n",
    "    data_spp = json.load(in_file)"
   ]
  },
  {
   "cell_type": "code",
   "execution_count": 21,
   "id": "00cd4cc2-4e01-4aa5-8830-95d16477c910",
   "metadata": {},
   "outputs": [],
   "source": [
    "df = pd.DataFrame.from_records(data_spp)"
   ]
  },
  {
   "cell_type": "code",
   "execution_count": 22,
   "id": "453f6849-d48b-4c62-94f1-8acab42a3b95",
   "metadata": {},
   "outputs": [
    {
     "data": {
      "text/html": [
       "<div>\n",
       "<style scoped>\n",
       "    .dataframe tbody tr th:only-of-type {\n",
       "        vertical-align: middle;\n",
       "    }\n",
       "\n",
       "    .dataframe tbody tr th {\n",
       "        vertical-align: top;\n",
       "    }\n",
       "\n",
       "    .dataframe thead th {\n",
       "        text-align: right;\n",
       "    }\n",
       "</style>\n",
       "<table border=\"1\" class=\"dataframe\">\n",
       "  <thead>\n",
       "    <tr style=\"text-align: right;\">\n",
       "      <th></th>\n",
       "      <th>best_params</th>\n",
       "      <th>best_score</th>\n",
       "      <th>prep_params</th>\n",
       "    </tr>\n",
       "  </thead>\n",
       "  <tbody>\n",
       "    <tr>\n",
       "      <th>45</th>\n",
       "      <td>{'avg__kw_args': {'N': 500}, 'clf__prominence'...</td>\n",
       "      <td>0.010209</td>\n",
       "      <td>{'measure': 'emote_density', 'step': 40, 'wind...</td>\n",
       "    </tr>\n",
       "    <tr>\n",
       "      <th>48</th>\n",
       "      <td>{'avg__kw_args': {'N': 50}, 'clf__prominence':...</td>\n",
       "      <td>0.014073</td>\n",
       "      <td>{'measure': 'emote_density', 'step': 40, 'wind...</td>\n",
       "    </tr>\n",
       "    <tr>\n",
       "      <th>75</th>\n",
       "      <td>{'avg__kw_args': {'N': 50}, 'clf__prominence':...</td>\n",
       "      <td>0.015856</td>\n",
       "      <td>{'measure': 'copypasta_density', 'step': 20, '...</td>\n",
       "    </tr>\n",
       "    <tr>\n",
       "      <th>51</th>\n",
       "      <td>{'avg__kw_args': {'N': 50}, 'clf__prominence':...</td>\n",
       "      <td>0.016017</td>\n",
       "      <td>{'measure': 'emote_density', 'step': 60, 'wind...</td>\n",
       "    </tr>\n",
       "    <tr>\n",
       "      <th>41</th>\n",
       "      <td>{'avg__kw_args': {'N': 50}, 'clf__prominence':...</td>\n",
       "      <td>0.016287</td>\n",
       "      <td>{'measure': 'emote_density', 'step': 20, 'wind...</td>\n",
       "    </tr>\n",
       "    <tr>\n",
       "      <th>...</th>\n",
       "      <td>...</td>\n",
       "      <td>...</td>\n",
       "      <td>...</td>\n",
       "    </tr>\n",
       "    <tr>\n",
       "      <th>13</th>\n",
       "      <td>{'avg__kw_args': {'N': 5}, 'clf__prominence': ...</td>\n",
       "      <td>0.219219</td>\n",
       "      <td>{'measure': 'message_density', 'step': 40, 'wi...</td>\n",
       "    </tr>\n",
       "    <tr>\n",
       "      <th>33</th>\n",
       "      <td>{'avg__kw_args': {'N': 5}, 'clf__prominence': ...</td>\n",
       "      <td>0.219972</td>\n",
       "      <td>{'measure': 'message_density', 'step': 100, 'w...</td>\n",
       "    </tr>\n",
       "    <tr>\n",
       "      <th>26</th>\n",
       "      <td>{'avg__kw_args': {'N': 5}, 'clf__prominence': ...</td>\n",
       "      <td>0.240734</td>\n",
       "      <td>{'measure': 'message_density', 'step': 80, 'wi...</td>\n",
       "    </tr>\n",
       "    <tr>\n",
       "      <th>30</th>\n",
       "      <td>{'avg__kw_args': {'N': 5}, 'clf__prominence': ...</td>\n",
       "      <td>0.241794</td>\n",
       "      <td>{'measure': 'message_density', 'step': 100, 'w...</td>\n",
       "    </tr>\n",
       "    <tr>\n",
       "      <th>27</th>\n",
       "      <td>{'avg__kw_args': {'N': 5}, 'clf__prominence': ...</td>\n",
       "      <td>0.243103</td>\n",
       "      <td>{'measure': 'message_density', 'step': 80, 'wi...</td>\n",
       "    </tr>\n",
       "  </tbody>\n",
       "</table>\n",
       "<p>105 rows × 3 columns</p>\n",
       "</div>"
      ],
      "text/plain": [
       "                                          best_params  best_score  \\\n",
       "45  {'avg__kw_args': {'N': 500}, 'clf__prominence'...    0.010209   \n",
       "48  {'avg__kw_args': {'N': 50}, 'clf__prominence':...    0.014073   \n",
       "75  {'avg__kw_args': {'N': 50}, 'clf__prominence':...    0.015856   \n",
       "51  {'avg__kw_args': {'N': 50}, 'clf__prominence':...    0.016017   \n",
       "41  {'avg__kw_args': {'N': 50}, 'clf__prominence':...    0.016287   \n",
       "..                                                ...         ...   \n",
       "13  {'avg__kw_args': {'N': 5}, 'clf__prominence': ...    0.219219   \n",
       "33  {'avg__kw_args': {'N': 5}, 'clf__prominence': ...    0.219972   \n",
       "26  {'avg__kw_args': {'N': 5}, 'clf__prominence': ...    0.240734   \n",
       "30  {'avg__kw_args': {'N': 5}, 'clf__prominence': ...    0.241794   \n",
       "27  {'avg__kw_args': {'N': 5}, 'clf__prominence': ...    0.243103   \n",
       "\n",
       "                                          prep_params  \n",
       "45  {'measure': 'emote_density', 'step': 40, 'wind...  \n",
       "48  {'measure': 'emote_density', 'step': 40, 'wind...  \n",
       "75  {'measure': 'copypasta_density', 'step': 20, '...  \n",
       "51  {'measure': 'emote_density', 'step': 60, 'wind...  \n",
       "41  {'measure': 'emote_density', 'step': 20, 'wind...  \n",
       "..                                                ...  \n",
       "13  {'measure': 'message_density', 'step': 40, 'wi...  \n",
       "33  {'measure': 'message_density', 'step': 100, 'w...  \n",
       "26  {'measure': 'message_density', 'step': 80, 'wi...  \n",
       "30  {'measure': 'message_density', 'step': 100, 'w...  \n",
       "27  {'measure': 'message_density', 'step': 80, 'wi...  \n",
       "\n",
       "[105 rows x 3 columns]"
      ]
     },
     "execution_count": 22,
     "metadata": {},
     "output_type": "execute_result"
    }
   ],
   "source": [
    "df.sort_values(\"best_score\")"
   ]
  },
  {
   "cell_type": "code",
   "execution_count": 24,
   "id": "3b066ff4-4914-46f8-b9da-47d1c4c26f95",
   "metadata": {},
   "outputs": [
    {
     "data": {
      "text/plain": [
       "{'best_params': {'avg__kw_args': {'N': 5},\n",
       "  'clf__prominence': 0.5,\n",
       "  'clf__rel_height': 0.6,\n",
       "  'clf__shift': 0.3,\n",
       "  'clf__width': [5, 2000]},\n",
       " 'best_score': 0.24310302651971893,\n",
       " 'prep_params': {'measure': 'message_density', 'step': 80, 'window': 200}}"
      ]
     },
     "execution_count": 24,
     "metadata": {},
     "output_type": "execute_result"
    }
   ],
   "source": [
    "data_spp[27]"
   ]
  },
  {
   "cell_type": "code",
   "execution_count": null,
   "id": "71bb7e29-a18f-4f20-82b5-2f5ef077b86d",
   "metadata": {},
   "outputs": [],
   "source": []
  }
 ],
 "metadata": {
  "kernelspec": {
   "display_name": "Python 3 (ipykernel)",
   "language": "python",
   "name": "python3"
  },
  "language_info": {
   "codemirror_mode": {
    "name": "ipython",
    "version": 3
   },
   "file_extension": ".py",
   "mimetype": "text/x-python",
   "name": "python",
   "nbconvert_exporter": "python",
   "pygments_lexer": "ipython3",
   "version": "3.8.12"
  }
 },
 "nbformat": 4,
 "nbformat_minor": 5
}
