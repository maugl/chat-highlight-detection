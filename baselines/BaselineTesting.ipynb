{
 "cells": [
  {
   "cell_type": "code",
   "execution_count": 13,
   "id": "4676ec59-573c-4be0-963b-cfdba9b7d810",
   "metadata": {},
   "outputs": [],
   "source": [
    "import sys\n",
    "sys.path.append('../')"
   ]
  },
  {
   "cell_type": "code",
   "execution_count": 14,
   "id": "02bc039b-b9c1-4b49-8255-4c820d13dd78",
   "metadata": {},
   "outputs": [
    {
     "name": "stderr",
     "output_type": "stream",
     "text": [
      "2022-08-10 11:39:36.504176: W tensorflow/stream_executor/platform/default/dso_loader.cc:64] Could not load dynamic library 'libcudart.so.11.0'; dlerror: libcudart.so.11.0: cannot open shared object file: No such file or directory\n",
      "2022-08-10 11:39:36.504239: I tensorflow/stream_executor/cuda/cudart_stub.cc:29] Ignore above cudart dlerror if you do not have a GPU set up on your machine.\n"
     ]
    }
   ],
   "source": [
    "from data_loading import ChatHighlightData\n",
    "import numpy as np\n",
    "from datetime import datetime\n",
    "import json\n",
    "\n",
    "from utils import moving_avg\n",
    "\n",
    "from sklearn.pipeline import Pipeline\n",
    "from sklearn.model_selection import ParameterGrid, GridSearchCV\n",
    "from sklearn.preprocessing import MinMaxScaler\n",
    "from sklearn.preprocessing import FunctionTransformer\n",
    "from sklearn.preprocessing import MinMaxScaler\n",
    "from ScipyPeaks import ScipyPeaks\n",
    "from RealTimePeakPredictor import RealTimePeakPredictor\n",
    "\n",
    "from analysis import load_chat, load_highlights, remove_missing_matches, cut_same_length\n",
    "import re\n",
    "import numpy as np\n",
    "import pandas as pd\n",
    "\n",
    "from sklearn.metrics import precision_recall_fscore_support, accuracy_score, ConfusionMatrixDisplay, classification_report\n",
    "from sklearn.feature_extraction.text import TfidfTransformer, CountVectorizer\n",
    "from sklearn.naive_bayes import MultinomialNB\n",
    "from sklearn.linear_model import LogisticRegression\n",
    "from sklearn.model_selection import GridSearchCV\n",
    "from sklearn.svm import SVC\n",
    "from sklearn.pipeline import Pipeline\n",
    "\n",
    "import matplotlib.pyplot as plt\n",
    "from gensim.models import KeyedVectors\n",
    "from zeugma.embeddings import EmbeddingTransformer\n",
    "\n",
    "import plotly.express as px\n"
   ]
  },
  {
   "cell_type": "markdown",
   "id": "387b5c2e-c355-49a1-9152-c5b3db0ff757",
   "metadata": {
    "jp-MarkdownHeadingCollapsed": true,
    "tags": []
   },
   "source": [
    "## \"Best\" Parameter settings per baseline (Grid search with cross validation or default params)\n",
    "\n",
    "|baseline|preprocessing|parameters|training_scores|\n",
    "|--------|-------------|----------|--------------:|\n",
    "|SPP|MinMaxScaler per match, mvg_avg: N=1500|prominence: 0.14 rel_height: 0.7 width: [600, 5000] shift: 0.3|f: 0.195303 (on val partition)|\n",
    "|SPP in interactive viz| MinMaxScaler per match, mvg_avg: N=1500, scale:1 | prominence: 0.2 rel_height: 0.35 width: [600, 5000] shift: 0.9 width_scale:0.8| f: 0.32525 (on test+val partition)|\n",
    "|SPP in pipeline|'measure': 'message_density', 'step': 20 (scale), 'window': 150, MinMaxScaler mvg_avg=50| prominence: 0.5, rel_height: 0.6, clf__shift: 0.3, width: [5, 2000]|f: 0.146922 (on val partition)|\n",
    "|RTPP in pipeline|'measure': 'message_density', 'step': 40 (scale), 'window': 200, MinMaxScaler mvg_avg=5| influence: 0.7, lag: 35, threshold: 2| f:0.220860 (on val partition)|\n",
    "|text TFIDF > multiNB|documents: all comments in 7 sec window (non-overlapping) concatenated|default params|p: 0.25 r: 0.60 f: 0.36 (on val partition)|\n",
    "|text TFIDF > multiNB|documents: all comments in 7 sec window (non-overlapping) concatenated|'clf__alpha': 0.001, 'tfidf__use_idf': True, 'vect__ngram_range': (1, 2)|p:0.30, r:0.25 f:0.27 (on val partition)|\n",
    "|text W2V > LR|documents: all comments in 7 sec window (non-overlapping) concatenated|default params|p: 0.24 r:0.60 f:0.34 (on val partition)|\n",
    "|text W2V > LR|documents: all comments in 7 sec window (non-overlapping) concatenated|clf__C: 0.01, 'clf__penalty': 'l2', 'w2v__aggregation': 'average'}|p: 0.24 r:0.60 f:0.34 (on val partition)|"
   ]
  },
  {
   "cell_type": "code",
   "execution_count": 20,
   "id": "39a7760c-f2a1-422a-b90f-10b225ec4790",
   "metadata": {},
   "outputs": [],
   "source": [
    "def eval_results(y_true, y_pred):\n",
    "    cf = ConfusionMatrixDisplay.from_predictions(y_true, y_pred)\n",
    "    plt.show()\n",
    "    print(classification_report(y_true, y_pred, target_names=[\"non-highlight\", \"highlight\"]))"
   ]
  },
  {
   "cell_type": "markdown",
   "id": "c7b807b1-7227-4aa3-8d3c-b8eb2466a8d2",
   "metadata": {
    "tags": []
   },
   "source": [
    "## Message density classifiers"
   ]
  },
  {
   "cell_type": "markdown",
   "id": "f360b245-b4a7-407c-b397-b4bda951737c",
   "metadata": {
    "jp-MarkdownHeadingCollapsed": true,
    "tags": []
   },
   "source": [
    "### Data loading"
   ]
  },
  {
   "cell_type": "code",
   "execution_count": 4,
   "id": "18c4707b-6803-4460-9674-5ab65b0c43fd",
   "metadata": {},
   "outputs": [],
   "source": [
    "# data loading\n",
    "def load_data(mode, ch_dir, hl_dir, em_dir, param_grid):\n",
    "    if mode == \"small\":\n",
    "        file_identifier = \"nalcs_w1*_g1\"\n",
    "    if mode == \"train\":\n",
    "        file_identifier = \"nalcs_w*_g[13]\"\n",
    "    if mode == \"val\":\n",
    "        file_identifier = \"nalcs_w[1-4]*_g[13]\" # validation partition\n",
    "    if mode == \"test\":\n",
    "        file_identifier = \"nalcs_w[5-9]*_g[2]\" # test partition\n",
    "\n",
    "    chd = ChatHighlightData(chat_dir=ch_dir, highlight_dir=hl_dir, emote_dir=em_dir, frame_rate=30)\n",
    "    chd.load_data(file_identifier=file_identifier)\n",
    "    chd.load_emotes()\n",
    "\n",
    "    pg = list(ParameterGrid(param_grid))\n",
    "\n",
    "    for i, params in enumerate(pg):\n",
    "        chd.set_window_step(window=params[\"window\"], step=params[\"step\"])\n",
    "\n",
    "        x_data = chd.get_chat_measure(params[\"measure\"])\n",
    "        y_data = chd.get_highlight_data()\n",
    "\n",
    "        x = np.empty(0)\n",
    "        y = np.empty(0)\n",
    "        for m in x_data.keys():\n",
    "            x = np.concatenate([x, x_data[m]])\n",
    "            y = np.concatenate([y, y_data[m]])\n",
    "        yield i, x, y, params"
   ]
  },
  {
   "cell_type": "markdown",
   "id": "8163fc72-079c-4f84-8076-b4823862fbd1",
   "metadata": {
    "tags": []
   },
   "source": [
    "### ScipyPeaks "
   ]
  },
  {
   "cell_type": "markdown",
   "id": "43af062a-b124-4398-a2cd-6968bebc58e0",
   "metadata": {
    "jp-MarkdownHeadingCollapsed": true,
    "tags": []
   },
   "source": [
    "#### SPP in interactive viz"
   ]
  },
  {
   "cell_type": "code",
   "execution_count": 21,
   "id": "3f4b167c-06ce-476e-89cb-86749c1b3655",
   "metadata": {},
   "outputs": [],
   "source": [
    "with open(\"../data/baseline_vis_test_data.json\", \"r\") as in_file:\n",
    "    hl_msg_data = json.load(in_file)\n",
    "\n",
    "dat = hl_msg_data\n",
    "matches = list(sorted(hl_msg_data.keys()))"
   ]
  },
  {
   "cell_type": "code",
   "execution_count": 22,
   "id": "43a554df-2bf0-45c5-8cb2-0ba7abaa60e7",
   "metadata": {},
   "outputs": [],
   "source": [
    "val_matches = list()\n",
    "val_data = dict()\n",
    "for m in matches:\n",
    "    # re_res = re.match(\"*\", m)\n",
    "    # if re_res:\n",
    "    val_matches.append(m)\n",
    "    val_data[m] = hl_msg_data[m]"
   ]
  },
  {
   "cell_type": "code",
   "execution_count": 23,
   "id": "680d6cef-b926-402e-9dfc-86748a356fb3",
   "metadata": {},
   "outputs": [
    {
     "data": {
      "text/plain": [
       "50"
      ]
     },
     "execution_count": 23,
     "metadata": {},
     "output_type": "execute_result"
    }
   ],
   "source": [
    "len(val_matches)"
   ]
  },
  {
   "cell_type": "code",
   "execution_count": 29,
   "id": "30e1c7de-e1bc-4bae-aa94-5c9f5fa914cf",
   "metadata": {},
   "outputs": [],
   "source": [
    "# hand chosen\n",
    "cur_params = {\n",
    "    \"prominence\": 0.2,\n",
    "    \"rel_height\": 0.35,\n",
    "    \"width\": [600, 5000],\n",
    "    \"shift\": 0.9,\n",
    "    \"width_scale\":0.8\n",
    "}"
   ]
  },
  {
   "cell_type": "code",
   "execution_count": 25,
   "id": "5c1a2793-2edb-4d9b-9af8-939961929c2c",
   "metadata": {},
   "outputs": [],
   "source": [
    "\"\"\"# chosen by gridsearch with cross validation\n",
    "cur_params = {\n",
    "    \"shift\": 0.3,\n",
    "    \"prominence\": 0.14,\n",
    "    \"width\": [600, 5000],\n",
    "    \"rel_height\": 0.7\n",
    "}\"\"\""
   ]
  },
  {
   "cell_type": "code",
   "execution_count": 30,
   "id": "9bdb5126-c770-40a7-bad3-801f7d1f7ab2",
   "metadata": {},
   "outputs": [],
   "source": [
    "total_msg_dens = list()\n",
    "total_hl_data = list()\n",
    "for n, dat in val_data.items():\n",
    "    total_msg_dens.extend(dat[\"msg_dens\"])\n",
    "    total_hl_data.extend(dat[\"highlights\"])\n",
    "            \n",
    "pred = ScipyPeaks(**cur_params).predict(total_msg_dens)"
   ]
  },
  {
   "cell_type": "code",
   "execution_count": 31,
   "id": "1b30ffe5-6495-400f-bf7f-2cc4cabbd22e",
   "metadata": {},
   "outputs": [
    {
     "data": {
      "image/png": "[encoded data removed]",
      "text/plain": [
       "<Figure size 432x288 with 2 Axes>"
      ]
     },
     "metadata": {
      "needs_background": "light"
     },
     "output_type": "display_data"
    },
    {
     "name": "stdout",
     "output_type": "stream",
     "text": [
      "               precision    recall  f1-score   support\n",
      "\n",
      "non-highlight       0.87      0.92      0.89   3349971\n",
      "    highlight       0.40      0.27      0.32    634110\n",
      "\n",
      "     accuracy                           0.82   3984081\n",
      "    macro avg       0.63      0.60      0.61   3984081\n",
      " weighted avg       0.79      0.82      0.80   3984081\n",
      "\n"
     ]
    }
   ],
   "source": [
    "eval_results(pred, total_hl_data)"
   ]
  },
  {
   "cell_type": "code",
   "execution_count": 28,
   "id": "7b642113-3d39-41be-864f-ef16e61937c1",
   "metadata": {},
   "outputs": [],
   "source": [
    "col1 = np.concatenate([total_hl_data, pred])\n",
    "col2 = np.concatenate([[\"highlight\"]*len(total_hl_data),[\"prediction\"]*len(pred)])\n",
    "col3 = range(len(pred)*2)"
   ]
  },
  {
   "cell_type": "code",
   "execution_count": 25,
   "id": "a5cad149-cc15-4542-a1ba-06ba7575c446",
   "metadata": {},
   "outputs": [
    {
     "data": {
      "text/plain": [
       "((6717862,), (6717862,), 6717862)"
      ]
     },
     "execution_count": 25,
     "metadata": {},
     "output_type": "execute_result"
    }
   ],
   "source": [
    "col1.shape, col2.shape, len(col3)"
   ]
  },
  {
   "cell_type": "code",
   "execution_count": 26,
   "id": "116bc931-9fff-4dc4-9126-6ffab41ad3aa",
   "metadata": {},
   "outputs": [],
   "source": [
    "plot_data = zip(col1, col2, col3)"
   ]
  },
  {
   "cell_type": "code",
   "execution_count": 27,
   "id": "31b10564-6ccc-4701-9c9f-17d14f2d38ee",
   "metadata": {},
   "outputs": [],
   "source": [
    "df_plot = pd.DataFrame(plot_data, columns=[\"value\", \"type\", \"data_point\"])"
   ]
  },
  {
   "cell_type": "code",
   "execution_count": 28,
   "id": "3dfb6dfb-882f-4558-a185-3b7c0f4ace8d",
   "metadata": {},
   "outputs": [
    {
     "data": {
      "text/html": [
       "<div>\n",
       "<style scoped>\n",
       "    .dataframe tbody tr th:only-of-type {\n",
       "        vertical-align: middle;\n",
       "    }\n",
       "\n",
       "    .dataframe tbody tr th {\n",
       "        vertical-align: top;\n",
       "    }\n",
       "\n",
       "    .dataframe thead th {\n",
       "        text-align: right;\n",
       "    }\n",
       "</style>\n",
       "<table border=\"1\" class=\"dataframe\">\n",
       "  <thead>\n",
       "    <tr style=\"text-align: right;\">\n",
       "      <th></th>\n",
       "      <th>value</th>\n",
       "      <th>type</th>\n",
       "      <th>data_point</th>\n",
       "    </tr>\n",
       "  </thead>\n",
       "  <tbody>\n",
       "    <tr>\n",
       "      <th>0</th>\n",
       "      <td>0.0</td>\n",
       "      <td>highlight</td>\n",
       "      <td>0</td>\n",
       "    </tr>\n",
       "    <tr>\n",
       "      <th>1</th>\n",
       "      <td>0.0</td>\n",
       "      <td>highlight</td>\n",
       "      <td>1</td>\n",
       "    </tr>\n",
       "    <tr>\n",
       "      <th>2</th>\n",
       "      <td>0.0</td>\n",
       "      <td>highlight</td>\n",
       "      <td>2</td>\n",
       "    </tr>\n",
       "    <tr>\n",
       "      <th>3</th>\n",
       "      <td>0.0</td>\n",
       "      <td>highlight</td>\n",
       "      <td>3</td>\n",
       "    </tr>\n",
       "    <tr>\n",
       "      <th>4</th>\n",
       "      <td>0.0</td>\n",
       "      <td>highlight</td>\n",
       "      <td>4</td>\n",
       "    </tr>\n",
       "    <tr>\n",
       "      <th>...</th>\n",
       "      <td>...</td>\n",
       "      <td>...</td>\n",
       "      <td>...</td>\n",
       "    </tr>\n",
       "    <tr>\n",
       "      <th>6717857</th>\n",
       "      <td>0.0</td>\n",
       "      <td>prediction</td>\n",
       "      <td>6717857</td>\n",
       "    </tr>\n",
       "    <tr>\n",
       "      <th>6717858</th>\n",
       "      <td>0.0</td>\n",
       "      <td>prediction</td>\n",
       "      <td>6717858</td>\n",
       "    </tr>\n",
       "    <tr>\n",
       "      <th>6717859</th>\n",
       "      <td>0.0</td>\n",
       "      <td>prediction</td>\n",
       "      <td>6717859</td>\n",
       "    </tr>\n",
       "    <tr>\n",
       "      <th>6717860</th>\n",
       "      <td>0.0</td>\n",
       "      <td>prediction</td>\n",
       "      <td>6717860</td>\n",
       "    </tr>\n",
       "    <tr>\n",
       "      <th>6717861</th>\n",
       "      <td>0.0</td>\n",
       "      <td>prediction</td>\n",
       "      <td>6717861</td>\n",
       "    </tr>\n",
       "  </tbody>\n",
       "</table>\n",
       "<p>6717862 rows × 3 columns</p>\n",
       "</div>"
      ],
      "text/plain": [
       "         value        type  data_point\n",
       "0          0.0   highlight           0\n",
       "1          0.0   highlight           1\n",
       "2          0.0   highlight           2\n",
       "3          0.0   highlight           3\n",
       "4          0.0   highlight           4\n",
       "...        ...         ...         ...\n",
       "6717857    0.0  prediction     6717857\n",
       "6717858    0.0  prediction     6717858\n",
       "6717859    0.0  prediction     6717859\n",
       "6717860    0.0  prediction     6717860\n",
       "6717861    0.0  prediction     6717861\n",
       "\n",
       "[6717862 rows x 3 columns]"
      ]
     },
     "execution_count": 28,
     "metadata": {},
     "output_type": "execute_result"
    }
   ],
   "source": [
    "df_plot"
   ]
  },
  {
   "cell_type": "code",
   "execution_count": 33,
   "id": "bc500df0-dd67-43df-adf4-9ed2905e55c7",
   "metadata": {},
   "outputs": [
    {
     "data": {
      "text/html": [
       "<div>\n",
       "<style scoped>\n",
       "    .dataframe tbody tr th:only-of-type {\n",
       "        vertical-align: middle;\n",
       "    }\n",
       "\n",
       "    .dataframe tbody tr th {\n",
       "        vertical-align: top;\n",
       "    }\n",
       "\n",
       "    .dataframe thead th {\n",
       "        text-align: right;\n",
       "    }\n",
       "</style>\n",
       "<table border=\"1\" class=\"dataframe\">\n",
       "  <thead>\n",
       "    <tr style=\"text-align: right;\">\n",
       "      <th></th>\n",
       "      <th>value</th>\n",
       "      <th>type</th>\n",
       "      <th>data_point</th>\n",
       "    </tr>\n",
       "  </thead>\n",
       "  <tbody>\n",
       "    <tr>\n",
       "      <th>0</th>\n",
       "      <td>0.0</td>\n",
       "      <td>highlight</td>\n",
       "      <td>0</td>\n",
       "    </tr>\n",
       "    <tr>\n",
       "      <th>1</th>\n",
       "      <td>0.0</td>\n",
       "      <td>highlight</td>\n",
       "      <td>1</td>\n",
       "    </tr>\n",
       "    <tr>\n",
       "      <th>2</th>\n",
       "      <td>0.0</td>\n",
       "      <td>highlight</td>\n",
       "      <td>2</td>\n",
       "    </tr>\n",
       "    <tr>\n",
       "      <th>3</th>\n",
       "      <td>0.0</td>\n",
       "      <td>highlight</td>\n",
       "      <td>3</td>\n",
       "    </tr>\n",
       "    <tr>\n",
       "      <th>4</th>\n",
       "      <td>0.0</td>\n",
       "      <td>highlight</td>\n",
       "      <td>4</td>\n",
       "    </tr>\n",
       "    <tr>\n",
       "      <th>5</th>\n",
       "      <td>0.0</td>\n",
       "      <td>highlight</td>\n",
       "      <td>5</td>\n",
       "    </tr>\n",
       "    <tr>\n",
       "      <th>6</th>\n",
       "      <td>0.0</td>\n",
       "      <td>highlight</td>\n",
       "      <td>6</td>\n",
       "    </tr>\n",
       "    <tr>\n",
       "      <th>7</th>\n",
       "      <td>0.0</td>\n",
       "      <td>highlight</td>\n",
       "      <td>7</td>\n",
       "    </tr>\n",
       "    <tr>\n",
       "      <th>8</th>\n",
       "      <td>0.0</td>\n",
       "      <td>highlight</td>\n",
       "      <td>8</td>\n",
       "    </tr>\n",
       "    <tr>\n",
       "      <th>9</th>\n",
       "      <td>0.0</td>\n",
       "      <td>highlight</td>\n",
       "      <td>9</td>\n",
       "    </tr>\n",
       "  </tbody>\n",
       "</table>\n",
       "</div>"
      ],
      "text/plain": [
       "   value       type  data_point\n",
       "0    0.0  highlight           0\n",
       "1    0.0  highlight           1\n",
       "2    0.0  highlight           2\n",
       "3    0.0  highlight           3\n",
       "4    0.0  highlight           4\n",
       "5    0.0  highlight           5\n",
       "6    0.0  highlight           6\n",
       "7    0.0  highlight           7\n",
       "8    0.0  highlight           8\n",
       "9    0.0  highlight           9"
      ]
     },
     "execution_count": 33,
     "metadata": {},
     "output_type": "execute_result"
    }
   ],
   "source": [
    "df_plot.iloc[:10,:]"
   ]
  },
  {
   "cell_type": "code",
   "execution_count": 34,
   "id": "153aa258-850a-4ec1-bea3-160d25790095",
   "metadata": {},
   "outputs": [
    {
     "data": {
      "application/vnd.plotly.v1+json": {
       "config": {
        "plotlyServerURL": "https://plot.ly"
       },
       "data": [
        {
         "hovertemplate": "type=highlight<br>data_point=%{x}<br>value=%{y}<extra></extra>",
         "legendgroup": "highlight",
         "line": {
          "color": "#636efa",
          "dash": "solid"
         },
         "marker": {
          "symbol": "circle"
         },
         "mode": "lines",
         "name": "highlight",
         "orientation": "v",
         "showlegend": true,
         "type": "scatter",
         "x": [
          0,
          1,
          2,
          3,
          4,
          5,
          6,
          7,
          8,
          9
         ],
         "xaxis": "x",
         "y": [
          0,
          0,
          0,
          0,
          0,
          0,
          0,
          0,
          0,
          0
         ],
         "yaxis": "y"
        }
       ],
       "layout": {
        "autosize": true,
        "legend": {
         "title": {
          "text": "type"
         },
         "tracegroupgap": 0
        },
        "template": {
         "data": {
          "bar": [
           {
            "error_x": {
             "color": "#2a3f5f"
            },
            "error_y": {
             "color": "#2a3f5f"
            },
            "marker": {
             "line": {
              "color": "#E5ECF6",
              "width": 0.5
             },
             "pattern": {
              "fillmode": "overlay",
              "size": 10,
              "solidity": 0.2
             }
            },
            "type": "bar"
           }
          ],
          "barpolar": [
           {
            "marker": {
             "line": {
              "color": "#E5ECF6",
              "width": 0.5
             },
             "pattern": {
              "fillmode": "overlay",
              "size": 10,
              "solidity": 0.2
             }
            },
            "type": "barpolar"
           }
          ],
          "carpet": [
           {
            "aaxis": {
             "endlinecolor": "#2a3f5f",
             "gridcolor": "white",
             "linecolor": "white",
             "minorgridcolor": "white",
             "startlinecolor": "#2a3f5f"
            },
            "baxis": {
             "endlinecolor": "#2a3f5f",
             "gridcolor": "white",
             "linecolor": "white",
             "minorgridcolor": "white",
             "startlinecolor": "#2a3f5f"
            },
            "type": "carpet"
           }
          ],
          "choropleth": [
           {
            "colorbar": {
             "outlinewidth": 0,
             "ticks": ""
            },
            "type": "choropleth"
           }
          ],
          "contour": [
           {
            "colorbar": {
             "outlinewidth": 0,
             "ticks": ""
            },
            "colorscale": [
             [
              0,
              "#0d0887"
             ],
             [
              0.1111111111111111,
              "#46039f"
             ],
             [
              0.2222222222222222,
              "#7201a8"
             ],
             [
              0.3333333333333333,
              "#9c179e"
             ],
             [
              0.4444444444444444,
              "#bd3786"
             ],
             [
              0.5555555555555556,
              "#d8576b"
             ],
             [
              0.6666666666666666,
              "#ed7953"
             ],
             [
              0.7777777777777778,
              "#fb9f3a"
             ],
             [
              0.8888888888888888,
              "#fdca26"
             ],
             [
              1,
              "#f0f921"
             ]
            ],
            "type": "contour"
           }
          ],
          "contourcarpet": [
           {
            "colorbar": {
             "outlinewidth": 0,
             "ticks": ""
            },
            "type": "contourcarpet"
           }
          ],
          "heatmap": [
           {
            "colorbar": {
             "outlinewidth": 0,
             "ticks": ""
            },
            "colorscale": [
             [
              0,
              "#0d0887"
             ],
             [
              0.1111111111111111,
              "#46039f"
             ],
             [
              0.2222222222222222,
              "#7201a8"
             ],
             [
              0.3333333333333333,
              "#9c179e"
             ],
             [
              0.4444444444444444,
              "#bd3786"
             ],
             [
              0.5555555555555556,
              "#d8576b"
             ],
             [
              0.6666666666666666,
              "#ed7953"
             ],
             [
              0.7777777777777778,
              "#fb9f3a"
             ],
             [
              0.8888888888888888,
              "#fdca26"
             ],
             [
              1,
              "#f0f921"
             ]
            ],
            "type": "heatmap"
           }
          ],
          "heatmapgl": [
           {
            "colorbar": {
             "outlinewidth": 0,
             "ticks": ""
            },
            "colorscale": [
             [
              0,
              "#0d0887"
             ],
             [
              0.1111111111111111,
              "#46039f"
             ],
             [
              0.2222222222222222,
              "#7201a8"
             ],
             [
              0.3333333333333333,
              "#9c179e"
             ],
             [
              0.4444444444444444,
              "#bd3786"
             ],
             [
              0.5555555555555556,
              "#d8576b"
             ],
             [
              0.6666666666666666,
              "#ed7953"
             ],
             [
              0.7777777777777778,
              "#fb9f3a"
             ],
             [
              0.8888888888888888,
              "#fdca26"
             ],
             [
              1,
              "#f0f921"
             ]
            ],
            "type": "heatmapgl"
           }
          ],
          "histogram": [
           {
            "marker": {
             "pattern": {
              "fillmode": "overlay",
              "size": 10,
              "solidity": 0.2
             }
            },
            "type": "histogram"
           }
          ],
          "histogram2d": [
           {
            "colorbar": {
             "outlinewidth": 0,
             "ticks": ""
            },
            "colorscale": [
             [
              0,
              "#0d0887"
             ],
             [
              0.1111111111111111,
              "#46039f"
             ],
             [
              0.2222222222222222,
              "#7201a8"
             ],
             [
              0.3333333333333333,
              "#9c179e"
             ],
             [
              0.4444444444444444,
              "#bd3786"
             ],
             [
              0.5555555555555556,
              "#d8576b"
             ],
             [
              0.6666666666666666,
              "#ed7953"
             ],
             [
              0.7777777777777778,
              "#fb9f3a"
             ],
             [
              0.8888888888888888,
              "#fdca26"
             ],
             [
              1,
              "#f0f921"
             ]
            ],
            "type": "histogram2d"
           }
          ],
          "histogram2dcontour": [
           {
            "colorbar": {
             "outlinewidth": 0,
             "ticks": ""
            },
            "colorscale": [
             [
              0,
              "#0d0887"
             ],
             [
              0.1111111111111111,
              "#46039f"
             ],
             [
              0.2222222222222222,
              "#7201a8"
             ],
             [
              0.3333333333333333,
              "#9c179e"
             ],
             [
              0.4444444444444444,
              "#bd3786"
             ],
             [
              0.5555555555555556,
              "#d8576b"
             ],
             [
              0.6666666666666666,
              "#ed7953"
             ],
             [
              0.7777777777777778,
              "#fb9f3a"
             ],
             [
              0.8888888888888888,
              "#fdca26"
             ],
             [
              1,
              "#f0f921"
             ]
            ],
            "type": "histogram2dcontour"
           }
          ],
          "mesh3d": [
           {
            "colorbar": {
             "outlinewidth": 0,
             "ticks": ""
            },
            "type": "mesh3d"
           }
          ],
          "parcoords": [
           {
            "line": {
             "colorbar": {
              "outlinewidth": 0,
              "ticks": ""
             }
            },
            "type": "parcoords"
           }
          ],
          "pie": [
           {
            "automargin": true,
            "type": "pie"
           }
          ],
          "scatter": [
           {
            "marker": {
             "colorbar": {
              "outlinewidth": 0,
              "ticks": ""
             }
            },
            "type": "scatter"
           }
          ],
          "scatter3d": [
           {
            "line": {
             "colorbar": {
              "outlinewidth": 0,
              "ticks": ""
             }
            },
            "marker": {
             "colorbar": {
              "outlinewidth": 0,
              "ticks": ""
             }
            },
            "type": "scatter3d"
           }
          ],
          "scattercarpet": [
           {
            "marker": {
             "colorbar": {
              "outlinewidth": 0,
              "ticks": ""
             }
            },
            "type": "scattercarpet"
           }
          ],
          "scattergeo": [
           {
            "marker": {
             "colorbar": {
              "outlinewidth": 0,
              "ticks": ""
             }
            },
            "type": "scattergeo"
           }
          ],
          "scattergl": [
           {
            "marker": {
             "colorbar": {
              "outlinewidth": 0,
              "ticks": ""
             }
            },
            "type": "scattergl"
           }
          ],
          "scattermapbox": [
           {
            "marker": {
             "colorbar": {
              "outlinewidth": 0,
              "ticks": ""
             }
            },
            "type": "scattermapbox"
           }
          ],
          "scatterpolar": [
           {
            "marker": {
             "colorbar": {
              "outlinewidth": 0,
              "ticks": ""
             }
            },
            "type": "scatterpolar"
           }
          ],
          "scatterpolargl": [
           {
            "marker": {
             "colorbar": {
              "outlinewidth": 0,
              "ticks": ""
             }
            },
            "type": "scatterpolargl"
           }
          ],
          "scatterternary": [
           {
            "marker": {
             "colorbar": {
              "outlinewidth": 0,
              "ticks": ""
             }
            },
            "type": "scatterternary"
           }
          ],
          "surface": [
           {
            "colorbar": {
             "outlinewidth": 0,
             "ticks": ""
            },
            "colorscale": [
             [
              0,
              "#0d0887"
             ],
             [
              0.1111111111111111,
              "#46039f"
             ],
             [
              0.2222222222222222,
              "#7201a8"
             ],
             [
              0.3333333333333333,
              "#9c179e"
             ],
             [
              0.4444444444444444,
              "#bd3786"
             ],
             [
              0.5555555555555556,
              "#d8576b"
             ],
             [
              0.6666666666666666,
              "#ed7953"
             ],
             [
              0.7777777777777778,
              "#fb9f3a"
             ],
             [
              0.8888888888888888,
              "#fdca26"
             ],
             [
              1,
              "#f0f921"
             ]
            ],
            "type": "surface"
           }
          ],
          "table": [
           {
            "cells": {
             "fill": {
              "color": "#EBF0F8"
             },
             "line": {
              "color": "white"
             }
            },
            "header": {
             "fill": {
              "color": "#C8D4E3"
             },
             "line": {
              "color": "white"
             }
            },
            "type": "table"
           }
          ]
         },
         "layout": {
          "annotationdefaults": {
           "arrowcolor": "#2a3f5f",
           "arrowhead": 0,
           "arrowwidth": 1
          },
          "autotypenumbers": "strict",
          "coloraxis": {
           "colorbar": {
            "outlinewidth": 0,
            "ticks": ""
           }
          },
          "colorscale": {
           "diverging": [
            [
             0,
             "#8e0152"
            ],
            [
             0.1,
             "#c51b7d"
            ],
            [
             0.2,
             "#de77ae"
            ],
            [
             0.3,
             "#f1b6da"
            ],
            [
             0.4,
             "#fde0ef"
            ],
            [
             0.5,
             "#f7f7f7"
            ],
            [
             0.6,
             "#e6f5d0"
            ],
            [
             0.7,
             "#b8e186"
            ],
            [
             0.8,
             "#7fbc41"
            ],
            [
             0.9,
             "#4d9221"
            ],
            [
             1,
             "#276419"
            ]
           ],
           "sequential": [
            [
             0,
             "#0d0887"
            ],
            [
             0.1111111111111111,
             "#46039f"
            ],
            [
             0.2222222222222222,
             "#7201a8"
            ],
            [
             0.3333333333333333,
             "#9c179e"
            ],
            [
             0.4444444444444444,
             "#bd3786"
            ],
            [
             0.5555555555555556,
             "#d8576b"
            ],
            [
             0.6666666666666666,
             "#ed7953"
            ],
            [
             0.7777777777777778,
             "#fb9f3a"
            ],
            [
             0.8888888888888888,
             "#fdca26"
            ],
            [
             1,
             "#f0f921"
            ]
           ],
           "sequentialminus": [
            [
             0,
             "#0d0887"
            ],
            [
             0.1111111111111111,
             "#46039f"
            ],
            [
             0.2222222222222222,
             "#7201a8"
            ],
            [
             0.3333333333333333,
             "#9c179e"
            ],
            [
             0.4444444444444444,
             "#bd3786"
            ],
            [
             0.5555555555555556,
             "#d8576b"
            ],
            [
             0.6666666666666666,
             "#ed7953"
            ],
            [
             0.7777777777777778,
             "#fb9f3a"
            ],
            [
             0.8888888888888888,
             "#fdca26"
            ],
            [
             1,
             "#f0f921"
            ]
           ]
          },
          "colorway": [
           "#636efa",
           "#EF553B",
           "#00cc96",
           "#ab63fa",
           "#FFA15A",
           "#19d3f3",
           "#FF6692",
           "#B6E880",
           "#FF97FF",
           "#FECB52"
          ],
          "font": {
           "color": "#2a3f5f"
          },
          "geo": {
           "bgcolor": "white",
           "lakecolor": "white",
           "landcolor": "#E5ECF6",
           "showlakes": true,
           "showland": true,
           "subunitcolor": "white"
          },
          "hoverlabel": {
           "align": "left"
          },
          "hovermode": "closest",
          "mapbox": {
           "style": "light"
          },
          "paper_bgcolor": "white",
          "plot_bgcolor": "#E5ECF6",
          "polar": {
           "angularaxis": {
            "gridcolor": "white",
            "linecolor": "white",
            "ticks": ""
           },
           "bgcolor": "#E5ECF6",
           "radialaxis": {
            "gridcolor": "white",
            "linecolor": "white",
            "ticks": ""
           }
          },
          "scene": {
           "xaxis": {
            "backgroundcolor": "#E5ECF6",
            "gridcolor": "white",
            "gridwidth": 2,
            "linecolor": "white",
            "showbackground": true,
            "ticks": "",
            "zerolinecolor": "white"
           },
           "yaxis": {
            "backgroundcolor": "#E5ECF6",
            "gridcolor": "white",
            "gridwidth": 2,
            "linecolor": "white",
            "showbackground": true,
            "ticks": "",
            "zerolinecolor": "white"
           },
           "zaxis": {
            "backgroundcolor": "#E5ECF6",
            "gridcolor": "white",
            "gridwidth": 2,
            "linecolor": "white",
            "showbackground": true,
            "ticks": "",
            "zerolinecolor": "white"
           }
          },
          "shapedefaults": {
           "line": {
            "color": "#2a3f5f"
           }
          },
          "ternary": {
           "aaxis": {
            "gridcolor": "white",
            "linecolor": "white",
            "ticks": ""
           },
           "baxis": {
            "gridcolor": "white",
            "linecolor": "white",
            "ticks": ""
           },
           "bgcolor": "#E5ECF6",
           "caxis": {
            "gridcolor": "white",
            "linecolor": "white",
            "ticks": ""
           }
          },
          "title": {
           "x": 0.05
          },
          "xaxis": {
           "automargin": true,
           "gridcolor": "white",
           "linecolor": "white",
           "ticks": "",
           "title": {
            "standoff": 15
           },
           "zerolinecolor": "white",
           "zerolinewidth": 2
          },
          "yaxis": {
           "automargin": true,
           "gridcolor": "white",
           "linecolor": "white",
           "ticks": "",
           "title": {
            "standoff": 15
           },
           "zerolinecolor": "white",
           "zerolinewidth": 2
          }
         }
        },
        "title": {
         "text": "SPP in interactive viz"
        },
        "xaxis": {
         "anchor": "y",
         "autorange": true,
         "domain": [
          0,
          1
         ],
         "range": [
          0,
          9
         ],
         "title": {
          "text": "data_point"
         },
         "type": "linear"
        },
        "yaxis": {
         "anchor": "x",
         "autorange": true,
         "domain": [
          0,
          1
         ],
         "range": [
          -1,
          1
         ],
         "title": {
          "text": "value"
         },
         "type": "linear"
        }
       }
      },
      "image/png": "[encoded data removed]",
      "text/html": [
       "<div>                            <div id=\"64c04e3c-97ff-457c-b2f6-bd99594b3584\" class=\"plotly-graph-div\" style=\"height:525px; width:100%;\"></div>            <script type=\"text/javascript\">                require([\"plotly\"], function(Plotly) {                    window.PLOTLYENV=window.PLOTLYENV || {};                                    if (document.getElementById(\"64c04e3c-97ff-457c-b2f6-bd99594b3584\")) {                    Plotly.newPlot(                        \"64c04e3c-97ff-457c-b2f6-bd99594b3584\",                        [{\"hovertemplate\":\"type=highlight<br>data_point=%{x}<br>value=%{y}<extra></extra>\",\"legendgroup\":\"highlight\",\"line\":{\"color\":\"#636efa\",\"dash\":\"solid\"},\"marker\":{\"symbol\":\"circle\"},\"mode\":\"lines\",\"name\":\"highlight\",\"orientation\":\"v\",\"showlegend\":true,\"x\":[0,1,2,3,4,5,6,7,8,9],\"xaxis\":\"x\",\"y\":[0.0,0.0,0.0,0.0,0.0,0.0,0.0,0.0,0.0,0.0],\"yaxis\":\"y\",\"type\":\"scatter\"}],                        {\"template\":{\"data\":{\"bar\":[{\"error_x\":{\"color\":\"#2a3f5f\"},\"error_y\":{\"color\":\"#2a3f5f\"},\"marker\":{\"line\":{\"color\":\"#E5ECF6\",\"width\":0.5},\"pattern\":{\"fillmode\":\"overlay\",\"size\":10,\"solidity\":0.2}},\"type\":\"bar\"}],\"barpolar\":[{\"marker\":{\"line\":{\"color\":\"#E5ECF6\",\"width\":0.5},\"pattern\":{\"fillmode\":\"overlay\",\"size\":10,\"solidity\":0.2}},\"type\":\"barpolar\"}],\"carpet\":[{\"aaxis\":{\"endlinecolor\":\"#2a3f5f\",\"gridcolor\":\"white\",\"linecolor\":\"white\",\"minorgridcolor\":\"white\",\"startlinecolor\":\"#2a3f5f\"},\"baxis\":{\"endlinecolor\":\"#2a3f5f\",\"gridcolor\":\"white\",\"linecolor\":\"white\",\"minorgridcolor\":\"white\",\"startlinecolor\":\"#2a3f5f\"},\"type\":\"carpet\"}],\"choropleth\":[{\"colorbar\":{\"outlinewidth\":0,\"ticks\":\"\"},\"type\":\"choropleth\"}],\"contour\":[{\"colorbar\":{\"outlinewidth\":0,\"ticks\":\"\"},\"colorscale\":[[0.0,\"#0d0887\"],[0.1111111111111111,\"#46039f\"],[0.2222222222222222,\"#7201a8\"],[0.3333333333333333,\"#9c179e\"],[0.4444444444444444,\"#bd3786\"],[0.5555555555555556,\"#d8576b\"],[0.6666666666666666,\"#ed7953\"],[0.7777777777777778,\"#fb9f3a\"],[0.8888888888888888,\"#fdca26\"],[1.0,\"#f0f921\"]],\"type\":\"contour\"}],\"contourcarpet\":[{\"colorbar\":{\"outlinewidth\":0,\"ticks\":\"\"},\"type\":\"contourcarpet\"}],\"heatmap\":[{\"colorbar\":{\"outlinewidth\":0,\"ticks\":\"\"},\"colorscale\":[[0.0,\"#0d0887\"],[0.1111111111111111,\"#46039f\"],[0.2222222222222222,\"#7201a8\"],[0.3333333333333333,\"#9c179e\"],[0.4444444444444444,\"#bd3786\"],[0.5555555555555556,\"#d8576b\"],[0.6666666666666666,\"#ed7953\"],[0.7777777777777778,\"#fb9f3a\"],[0.8888888888888888,\"#fdca26\"],[1.0,\"#f0f921\"]],\"type\":\"heatmap\"}],\"heatmapgl\":[{\"colorbar\":{\"outlinewidth\":0,\"ticks\":\"\"},\"colorscale\":[[0.0,\"#0d0887\"],[0.1111111111111111,\"#46039f\"],[0.2222222222222222,\"#7201a8\"],[0.3333333333333333,\"#9c179e\"],[0.4444444444444444,\"#bd3786\"],[0.5555555555555556,\"#d8576b\"],[0.6666666666666666,\"#ed7953\"],[0.7777777777777778,\"#fb9f3a\"],[0.8888888888888888,\"#fdca26\"],[1.0,\"#f0f921\"]],\"type\":\"heatmapgl\"}],\"histogram\":[{\"marker\":{\"pattern\":{\"fillmode\":\"overlay\",\"size\":10,\"solidity\":0.2}},\"type\":\"histogram\"}],\"histogram2d\":[{\"colorbar\":{\"outlinewidth\":0,\"ticks\":\"\"},\"colorscale\":[[0.0,\"#0d0887\"],[0.1111111111111111,\"#46039f\"],[0.2222222222222222,\"#7201a8\"],[0.3333333333333333,\"#9c179e\"],[0.4444444444444444,\"#bd3786\"],[0.5555555555555556,\"#d8576b\"],[0.6666666666666666,\"#ed7953\"],[0.7777777777777778,\"#fb9f3a\"],[0.8888888888888888,\"#fdca26\"],[1.0,\"#f0f921\"]],\"type\":\"histogram2d\"}],\"histogram2dcontour\":[{\"colorbar\":{\"outlinewidth\":0,\"ticks\":\"\"},\"colorscale\":[[0.0,\"#0d0887\"],[0.1111111111111111,\"#46039f\"],[0.2222222222222222,\"#7201a8\"],[0.3333333333333333,\"#9c179e\"],[0.4444444444444444,\"#bd3786\"],[0.5555555555555556,\"#d8576b\"],[0.6666666666666666,\"#ed7953\"],[0.7777777777777778,\"#fb9f3a\"],[0.8888888888888888,\"#fdca26\"],[1.0,\"#f0f921\"]],\"type\":\"histogram2dcontour\"}],\"mesh3d\":[{\"colorbar\":{\"outlinewidth\":0,\"ticks\":\"\"},\"type\":\"mesh3d\"}],\"parcoords\":[{\"line\":{\"colorbar\":{\"outlinewidth\":0,\"ticks\":\"\"}},\"type\":\"parcoords\"}],\"pie\":[{\"automargin\":true,\"type\":\"pie\"}],\"scatter\":[{\"marker\":{\"colorbar\":{\"outlinewidth\":0,\"ticks\":\"\"}},\"type\":\"scatter\"}],\"scatter3d\":[{\"line\":{\"colorbar\":{\"outlinewidth\":0,\"ticks\":\"\"}},\"marker\":{\"colorbar\":{\"outlinewidth\":0,\"ticks\":\"\"}},\"type\":\"scatter3d\"}],\"scattercarpet\":[{\"marker\":{\"colorbar\":{\"outlinewidth\":0,\"ticks\":\"\"}},\"type\":\"scattercarpet\"}],\"scattergeo\":[{\"marker\":{\"colorbar\":{\"outlinewidth\":0,\"ticks\":\"\"}},\"type\":\"scattergeo\"}],\"scattergl\":[{\"marker\":{\"colorbar\":{\"outlinewidth\":0,\"ticks\":\"\"}},\"type\":\"scattergl\"}],\"scattermapbox\":[{\"marker\":{\"colorbar\":{\"outlinewidth\":0,\"ticks\":\"\"}},\"type\":\"scattermapbox\"}],\"scatterpolar\":[{\"marker\":{\"colorbar\":{\"outlinewidth\":0,\"ticks\":\"\"}},\"type\":\"scatterpolar\"}],\"scatterpolargl\":[{\"marker\":{\"colorbar\":{\"outlinewidth\":0,\"ticks\":\"\"}},\"type\":\"scatterpolargl\"}],\"scatterternary\":[{\"marker\":{\"colorbar\":{\"outlinewidth\":0,\"ticks\":\"\"}},\"type\":\"scatterternary\"}],\"surface\":[{\"colorbar\":{\"outlinewidth\":0,\"ticks\":\"\"},\"colorscale\":[[0.0,\"#0d0887\"],[0.1111111111111111,\"#46039f\"],[0.2222222222222222,\"#7201a8\"],[0.3333333333333333,\"#9c179e\"],[0.4444444444444444,\"#bd3786\"],[0.5555555555555556,\"#d8576b\"],[0.6666666666666666,\"#ed7953\"],[0.7777777777777778,\"#fb9f3a\"],[0.8888888888888888,\"#fdca26\"],[1.0,\"#f0f921\"]],\"type\":\"surface\"}],\"table\":[{\"cells\":{\"fill\":{\"color\":\"#EBF0F8\"},\"line\":{\"color\":\"white\"}},\"header\":{\"fill\":{\"color\":\"#C8D4E3\"},\"line\":{\"color\":\"white\"}},\"type\":\"table\"}]},\"layout\":{\"annotationdefaults\":{\"arrowcolor\":\"#2a3f5f\",\"arrowhead\":0,\"arrowwidth\":1},\"autotypenumbers\":\"strict\",\"coloraxis\":{\"colorbar\":{\"outlinewidth\":0,\"ticks\":\"\"}},\"colorscale\":{\"diverging\":[[0,\"#8e0152\"],[0.1,\"#c51b7d\"],[0.2,\"#de77ae\"],[0.3,\"#f1b6da\"],[0.4,\"#fde0ef\"],[0.5,\"#f7f7f7\"],[0.6,\"#e6f5d0\"],[0.7,\"#b8e186\"],[0.8,\"#7fbc41\"],[0.9,\"#4d9221\"],[1,\"#276419\"]],\"sequential\":[[0.0,\"#0d0887\"],[0.1111111111111111,\"#46039f\"],[0.2222222222222222,\"#7201a8\"],[0.3333333333333333,\"#9c179e\"],[0.4444444444444444,\"#bd3786\"],[0.5555555555555556,\"#d8576b\"],[0.6666666666666666,\"#ed7953\"],[0.7777777777777778,\"#fb9f3a\"],[0.8888888888888888,\"#fdca26\"],[1.0,\"#f0f921\"]],\"sequentialminus\":[[0.0,\"#0d0887\"],[0.1111111111111111,\"#46039f\"],[0.2222222222222222,\"#7201a8\"],[0.3333333333333333,\"#9c179e\"],[0.4444444444444444,\"#bd3786\"],[0.5555555555555556,\"#d8576b\"],[0.6666666666666666,\"#ed7953\"],[0.7777777777777778,\"#fb9f3a\"],[0.8888888888888888,\"#fdca26\"],[1.0,\"#f0f921\"]]},\"colorway\":[\"#636efa\",\"#EF553B\",\"#00cc96\",\"#ab63fa\",\"#FFA15A\",\"#19d3f3\",\"#FF6692\",\"#B6E880\",\"#FF97FF\",\"#FECB52\"],\"font\":{\"color\":\"#2a3f5f\"},\"geo\":{\"bgcolor\":\"white\",\"lakecolor\":\"white\",\"landcolor\":\"#E5ECF6\",\"showlakes\":true,\"showland\":true,\"subunitcolor\":\"white\"},\"hoverlabel\":{\"align\":\"left\"},\"hovermode\":\"closest\",\"mapbox\":{\"style\":\"light\"},\"paper_bgcolor\":\"white\",\"plot_bgcolor\":\"#E5ECF6\",\"polar\":{\"angularaxis\":{\"gridcolor\":\"white\",\"linecolor\":\"white\",\"ticks\":\"\"},\"bgcolor\":\"#E5ECF6\",\"radialaxis\":{\"gridcolor\":\"white\",\"linecolor\":\"white\",\"ticks\":\"\"}},\"scene\":{\"xaxis\":{\"backgroundcolor\":\"#E5ECF6\",\"gridcolor\":\"white\",\"gridwidth\":2,\"linecolor\":\"white\",\"showbackground\":true,\"ticks\":\"\",\"zerolinecolor\":\"white\"},\"yaxis\":{\"backgroundcolor\":\"#E5ECF6\",\"gridcolor\":\"white\",\"gridwidth\":2,\"linecolor\":\"white\",\"showbackground\":true,\"ticks\":\"\",\"zerolinecolor\":\"white\"},\"zaxis\":{\"backgroundcolor\":\"#E5ECF6\",\"gridcolor\":\"white\",\"gridwidth\":2,\"linecolor\":\"white\",\"showbackground\":true,\"ticks\":\"\",\"zerolinecolor\":\"white\"}},\"shapedefaults\":{\"line\":{\"color\":\"#2a3f5f\"}},\"ternary\":{\"aaxis\":{\"gridcolor\":\"white\",\"linecolor\":\"white\",\"ticks\":\"\"},\"baxis\":{\"gridcolor\":\"white\",\"linecolor\":\"white\",\"ticks\":\"\"},\"bgcolor\":\"#E5ECF6\",\"caxis\":{\"gridcolor\":\"white\",\"linecolor\":\"white\",\"ticks\":\"\"}},\"title\":{\"x\":0.05},\"xaxis\":{\"automargin\":true,\"gridcolor\":\"white\",\"linecolor\":\"white\",\"ticks\":\"\",\"title\":{\"standoff\":15},\"zerolinecolor\":\"white\",\"zerolinewidth\":2},\"yaxis\":{\"automargin\":true,\"gridcolor\":\"white\",\"linecolor\":\"white\",\"ticks\":\"\",\"title\":{\"standoff\":15},\"zerolinecolor\":\"white\",\"zerolinewidth\":2}}},\"xaxis\":{\"anchor\":\"y\",\"domain\":[0.0,1.0],\"title\":{\"text\":\"data_point\"}},\"yaxis\":{\"anchor\":\"x\",\"domain\":[0.0,1.0],\"title\":{\"text\":\"value\"}},\"legend\":{\"title\":{\"text\":\"type\"},\"tracegroupgap\":0},\"title\":{\"text\":\"SPP in interactive viz\"}},                        {\"responsive\": true}                    ).then(function(){\n",
       "                            \n",
       "var gd = document.getElementById('64c04e3c-97ff-457c-b2f6-bd99594b3584');\n",
       "var x = new MutationObserver(function (mutations, observer) {{\n",
       "        var display = window.getComputedStyle(gd).display;\n",
       "        if (!display || display === 'none') {{\n",
       "            console.log([gd, 'removed!']);\n",
       "            Plotly.purge(gd);\n",
       "            observer.disconnect();\n",
       "        }}\n",
       "}});\n",
       "\n",
       "// Listen for the removal of the full notebook cells\n",
       "var notebookContainer = gd.closest('#notebook-container');\n",
       "if (notebookContainer) {{\n",
       "    x.observe(notebookContainer, {childList: true});\n",
       "}}\n",
       "\n",
       "// Listen for the clearing of the current output cell\n",
       "var outputEl = gd.closest('.output');\n",
       "if (outputEl) {{\n",
       "    x.observe(outputEl, {childList: true});\n",
       "}}\n",
       "\n",
       "                        })                };                });            </script>        </div>"
      ]
     },
     "metadata": {},
     "output_type": "display_data"
    }
   ],
   "source": [
    "fig = px.line(df_plot.iloc[:10,:], x=\"data_point\", y=\"value\", title='SPP in interactive viz', color=\"type\")\n",
    "fig.show()"
   ]
  },
  {
   "cell_type": "markdown",
   "id": "afdae2d0-721f-41d4-8ff2-c100f89ef20c",
   "metadata": {
    "jp-MarkdownHeadingCollapsed": true,
    "tags": []
   },
   "source": [
    "### RealTimePeakPredictor RTPP"
   ]
  },
  {
   "cell_type": "code",
   "execution_count": null,
   "id": "52c2deff-1356-4c0e-b3e9-a2dfa24b8469",
   "metadata": {},
   "outputs": [],
   "source": []
  },
  {
   "cell_type": "code",
   "execution_count": 91,
   "id": "e6208c3e-db17-4aee-9913-0fd93facf4d5",
   "metadata": {},
   "outputs": [],
   "source": [
    "with open(\"../data/baseline_vis_test_data.json\", \"r\") as in_file:\n",
    "    hl_msg_data = json.load(in_file)\n",
    "\n",
    "dat = hl_msg_data\n",
    "matches = list(sorted(hl_msg_data.keys()))"
   ]
  },
  {
   "cell_type": "code",
   "execution_count": 92,
   "id": "a9b8565c-07ad-4dbf-b7e3-a2864f334d9f",
   "metadata": {},
   "outputs": [],
   "source": [
    "val_matches = list()\n",
    "val_data = dict()\n",
    "for m in matches:\n",
    "    # re_res = re.match(\"*\", m)\n",
    "    # if re_res:\n",
    "    val_matches.append(m)\n",
    "    val_data[m] = hl_msg_data[m]"
   ]
  },
  {
   "cell_type": "code",
   "execution_count": 93,
   "id": "276e4fdb-dd97-4328-b33a-5c9a61dbaa0a",
   "metadata": {},
   "outputs": [
    {
     "data": {
      "text/plain": [
       "50"
      ]
     },
     "execution_count": 93,
     "metadata": {},
     "output_type": "execute_result"
    }
   ],
   "source": [
    "len(val_matches)"
   ]
  },
  {
   "cell_type": "code",
   "execution_count": 96,
   "id": "28ff6dc9-f19d-4740-98b2-c1691e31a6a2",
   "metadata": {},
   "outputs": [],
   "source": [
    "cur_params = {\n",
    "    \"lag\": 30,\n",
    "    \"threshold\": 2.0,\n",
    "    \"influence\": 0.7,\n",
    "}"
   ]
  },
  {
   "cell_type": "code",
   "execution_count": 97,
   "id": "3a304be1-7fd9-4e89-a125-85ead370e8a9",
   "metadata": {},
   "outputs": [],
   "source": [
    "total_msg_dens = list()\n",
    "total_hl_data = list()\n",
    "for n, dat in val_data.items():\n",
    "    total_msg_dens.extend(dat[\"msg_dens\"])\n",
    "    total_hl_data.extend(dat[\"highlights\"])\n",
    "            \n",
    "pred = RealTimePeakPredictor(**cur_params).predict(total_msg_dens)"
   ]
  },
  {
   "cell_type": "code",
   "execution_count": 98,
   "id": "f0e8f14b-eaff-4019-a1f5-e133069e0564",
   "metadata": {},
   "outputs": [
    {
     "data": {
      "image/png": "[encoded data removed]",
      "text/plain": [
       "<Figure size 432x288 with 2 Axes>"
      ]
     },
     "metadata": {
      "needs_background": "light"
     },
     "output_type": "display_data"
    },
    {
     "name": "stdout",
     "output_type": "stream",
     "text": [
      "               precision    recall  f1-score   support\n",
      "\n",
      "non-highlight       0.73      0.89      0.80   2881711\n",
      "    highlight       0.30      0.12      0.17   1102370\n",
      "\n",
      "     accuracy                           0.68   3984081\n",
      "    macro avg       0.51      0.51      0.49   3984081\n",
      " weighted avg       0.61      0.68      0.63   3984081\n",
      "\n"
     ]
    }
   ],
   "source": [
    "eval_results(pred, total_hl_data)"
   ]
  },
  {
   "cell_type": "markdown",
   "id": "04103793-3c20-47e4-a567-45ddba8aef5e",
   "metadata": {},
   "source": [
    "#### SPP in pipeline"
   ]
  },
  {
   "cell_type": "code",
   "execution_count": 23,
   "id": "a9d03b27-e858-464e-beaf-ed423eda5f9c",
   "metadata": {},
   "outputs": [],
   "source": [
    "SPP_param_grid = {\n",
    "        \"measure\": [\"message_density\"],\n",
    "        \"window\": [150],\n",
    "        \"step\": [20]\n",
    "    }\n",
    "trn = load_data(\"train\", ch_dir=\"../data/final_data/\", hl_dir=\"../data/gt/\", em_dir=\"../data/emotes/\", param_grid=SPP_param_grid)\n",
    "i_trn, x_trn, y_trn, p_trn = next(trn)\n",
    "\n",
    "dval = load_data(\"val\", ch_dir=\"../data/final_data/\", hl_dir=\"../data/gt/\", em_dir=\"../data/emotes/\", param_grid=SPP_param_grid)\n",
    "i_val, x_val, y_val, p_val = next(dval)"
   ]
  },
  {
   "cell_type": "code",
   "execution_count": 26,
   "id": "fcfde4e6-bfc2-47db-8088-4d5e735ea56c",
   "metadata": {},
   "outputs": [],
   "source": [
    "# spp = ScipyPeaks(prominence=0.5, rel_height=0.6, shift=0.3, width=[5, 2000])\n",
    "spp = Pipeline([(\"avg\", FunctionTransformer(moving_avg, kw_args={\"N\": 50})),\n",
    "                       (\"scaler\", MinMaxScaler()),\n",
    "                       (\"clf\", ScipyPeaks(prominence=0.5, rel_height=0.6, shift=0.3, width=[5, 2000]))\n",
    "                     ])"
   ]
  },
  {
   "cell_type": "code",
   "execution_count": 31,
   "id": "56a85fa1-2d70-4836-9549-25ff8ea76335",
   "metadata": {},
   "outputs": [
    {
     "data": {
      "text/plain": [
       "Pipeline(steps=[('avg',\n",
       "                 FunctionTransformer(func=<function moving_avg at 0x7f45c92aa4c0>,\n",
       "                                     kw_args={'N': 50})),\n",
       "                ('scaler', MinMaxScaler()),\n",
       "                ('clf', <ScipyPeaks.ScipyPeaks object at 0x7f45c7cefd00>)])"
      ]
     },
     "execution_count": 31,
     "metadata": {},
     "output_type": "execute_result"
    }
   ],
   "source": [
    "spp.fit(x_trn.reshape(-1,1))"
   ]
  },
  {
   "cell_type": "code",
   "execution_count": 32,
   "id": "133d5035-05ab-478d-936d-3607b3221c9e",
   "metadata": {},
   "outputs": [],
   "source": [
    "y_pred = spp.predict(x_val.reshape(-1,1))"
   ]
  },
  {
   "cell_type": "code",
   "execution_count": 33,
   "id": "b4159c57-3125-433c-b80f-380f01731079",
   "metadata": {},
   "outputs": [
    {
     "data": {
      "image/png": "[encoded data removed]",
      "text/plain": [
       "<Figure size 432x288 with 2 Axes>"
      ]
     },
     "metadata": {
      "needs_background": "light"
     },
     "output_type": "display_data"
    },
    {
     "name": "stdout",
     "output_type": "stream",
     "text": [
      "               precision    recall  f1-score   support\n",
      "\n",
      "non-highlight       0.91      0.99      0.95    151499\n",
      "    highlight       0.48      0.05      0.10     16470\n",
      "\n",
      "     accuracy                           0.90    167969\n",
      "    macro avg       0.69      0.52      0.52    167969\n",
      " weighted avg       0.86      0.90      0.86    167969\n",
      "\n"
     ]
    }
   ],
   "source": [
    "eval_results(y, y_pred)"
   ]
  },
  {
   "cell_type": "code",
   "execution_count": 51,
   "id": "c9fbe673-8b82-49a6-88f8-142048596665",
   "metadata": {},
   "outputs": [
    {
     "data": {
      "image/png": "[encoded data removed]",
      "text/plain": [
       "<Figure size 432x288 with 1 Axes>"
      ]
     },
     "metadata": {
      "needs_background": "light"
     },
     "output_type": "display_data"
    }
   ],
   "source": [
    "plt.plot(y[:600], label=\"highlights\")\n",
    "plt.plot(y_pred[:600], label=\"SPP\")\n",
    "plt.legend()\n",
    "plt.show()"
   ]
  },
  {
   "cell_type": "markdown",
   "id": "0cdf0e4c-1437-44b5-8075-aae5bc7f9556",
   "metadata": {
    "jp-MarkdownHeadingCollapsed": true,
    "tags": []
   },
   "source": [
    "### Real time peak predictor"
   ]
  },
  {
   "cell_type": "markdown",
   "id": "ae8a390f-10d3-46ab-83d6-ce33281e6495",
   "metadata": {
    "tags": []
   },
   "source": [
    "#### RTPP in pipeline"
   ]
  },
  {
   "cell_type": "code",
   "execution_count": 20,
   "id": "81eb6357-89f0-4cdb-a8c3-a3c629103add",
   "metadata": {},
   "outputs": [],
   "source": [
    "RTPP_param_grid = {\n",
    "        \"measure\": [\"message_density\"],\n",
    "        \"window\": [200],\n",
    "        \"step\": [40]\n",
    "    }\n",
    "trn = load_data(\"train\", ch_dir=\"../data/final_data/\", hl_dir=\"../data/gt/\", em_dir=\"../data/emotes/\", param_grid=RTPP_param_grid)\n",
    "i_trn, x_trn, y_trn, p_trn = next(trn)\n",
    "\n",
    "dval = load_data(\"val\", ch_dir=\"../data/final_data/\", hl_dir=\"../data/gt/\", em_dir=\"../data/emotes/\", param_grid=RTPP_param_grid)\n",
    "i_val, x_val, y_val, p_val = next(dval))\n",
    "\n",
    "dval = load_data(\"test\", ch_dir=\"../data/final_data/\", hl_dir=\"../data/gt/\", em_dir=\"../data/emotes/\", param_grid=RTPP_param_grid)\n",
    "i_val, x_val, y_val, p_val = next(dval))"
   ]
  },
  {
   "cell_type": "code",
   "execution_count": 34,
   "id": "adff55a4-fd82-4a8d-853f-15d61ff3cf68",
   "metadata": {},
   "outputs": [],
   "source": [
    "rtpp = Pipeline([(\"avg\", FunctionTransformer(moving_avg, kw_args={\"N\": 5})),\n",
    "                       (\"scaler\", MinMaxScaler()),\n",
    "                       (\"clf\", RealTimePeakPredictor(influence=0.7, lag=35, threshold=2))\n",
    "                     ])"
   ]
  },
  {
   "cell_type": "code",
   "execution_count": 36,
   "id": "524a7855-dd40-426b-8cc6-dfa6c1f12200",
   "metadata": {},
   "outputs": [
    {
     "data": {
      "text/plain": [
       "Pipeline(steps=[('avg',\n",
       "                 FunctionTransformer(func=<function moving_avg at 0x7f45c92aa4c0>,\n",
       "                                     kw_args={'N': 5})),\n",
       "                ('scaler', MinMaxScaler()),\n",
       "                ('clf',\n",
       "                 <RealTimePeakPredictor.RealTimePeakPredictor object at 0x7f4578652d30>)])"
      ]
     },
     "execution_count": 36,
     "metadata": {},
     "output_type": "execute_result"
    }
   ],
   "source": [
    "rtpp.fit(x_trn.reshape(-1,1))"
   ]
  },
  {
   "cell_type": "code",
   "execution_count": 37,
   "id": "fc120acd-201b-4c9b-aa9e-634ace7d4d93",
   "metadata": {},
   "outputs": [],
   "source": [
    "y_pred = rtpp.predict(x_val.reshape(-1,1))"
   ]
  },
  {
   "cell_type": "code",
   "execution_count": 38,
   "id": "5a48b71b-440f-4f51-948e-f8d1bcd7ed6c",
   "metadata": {},
   "outputs": [
    {
     "data": {
      "image/png": "[encoded data removed]",
      "text/plain": [
       "<Figure size 432x288 with 2 Axes>"
      ]
     },
     "metadata": {
      "needs_background": "light"
     },
     "output_type": "display_data"
    },
    {
     "name": "stdout",
     "output_type": "stream",
     "text": [
      "               precision    recall  f1-score   support\n",
      "\n",
      "non-highlight       0.91      0.83      0.87    151499\n",
      "    highlight       0.15      0.29      0.20     16470\n",
      "\n",
      "     accuracy                           0.77    167969\n",
      "    macro avg       0.53      0.56      0.53    167969\n",
      " weighted avg       0.84      0.77      0.80    167969\n",
      "\n"
     ]
    }
   ],
   "source": [
    "eval_results(y, y_pred)"
   ]
  },
  {
   "cell_type": "code",
   "execution_count": 53,
   "id": "df77f426-795c-4535-a907-e71b55bbcc78",
   "metadata": {},
   "outputs": [
    {
     "data": {
      "image/png": "[encoded data removed]",
      "text/plain": [
       "<Figure size 432x288 with 1 Axes>"
      ]
     },
     "metadata": {
      "needs_background": "light"
     },
     "output_type": "display_data"
    }
   ],
   "source": [
    "plt.plot(y[:600], label=\"highlights\")\n",
    "plt.plot(y_pred[:600], label=\"RTPP\")\n",
    "plt.legend()\n",
    "plt.show()"
   ]
  },
  {
   "cell_type": "code",
   "execution_count": null,
   "id": "adb54e6a-86a2-46a0-ac6b-179b09c22417",
   "metadata": {},
   "outputs": [],
   "source": []
  },
  {
   "cell_type": "markdown",
   "id": "9d729e01-671b-463f-bebc-be528f1ca2fe",
   "metadata": {},
   "source": [
    "## Text classifiers"
   ]
  },
  {
   "cell_type": "markdown",
   "id": "80d11ab3-f123-464f-bd46-6cfa86a600b3",
   "metadata": {},
   "source": [
    "### Data loading"
   ]
  },
  {
   "cell_type": "code",
   "execution_count": 15,
   "id": "27f7ab2c-0824-4806-b3a2-7e9d759e6446",
   "metadata": {},
   "outputs": [],
   "source": [
    "def chat_hl_to_documents(ch_match, hl_match, step=30, frames_per_doc=210, hl_threshold=0.5, offset=0):\n",
    "    # make non-overlapping windows of frames_per_doc/30 seconds\n",
    "    # TODO: implement offset to adjust for comment lag\n",
    "    # chm = [ch_match[i:i+frames_per_doc] for i in range(0,len(ch_match), frames_per_doc)]\n",
    "    # hlm = [hl_match[i:i+frames_per_doc] for i in range(0,len(hl_match), frames_per_doc)]\n",
    "    \n",
    "    chm = [ch_match[i:i+frames_per_doc] for i in range(0,len(ch_match), step)]\n",
    "    hlm = [hl_match[i:i+frames_per_doc] for i in range(0,len(hl_match), step)]\n",
    "    \n",
    "    chm_docs = list()\n",
    "    hlm_docs = list()\n",
    "    \n",
    "    for m_doc, h_doc in zip(chm, hlm):\n",
    "        chm_docs.append(re.sub(\"\\n+\", \" \", \"\".join(m_doc)).strip().lower())\n",
    "        hlm_docs.append(h_doc[0])\n",
    "        # chm_docs.append(\"\".join(m_doc))\n",
    "        # hlm_docs.append(int(sum(h_doc) >= hl_threshold))\n",
    "        \n",
    "    \n",
    "    return chm_docs, hlm_docs"
   ]
  },
  {
   "cell_type": "code",
   "execution_count": 16,
   "id": "97ee42de-cba5-4d52-a967-ab0bc9928c9f",
   "metadata": {},
   "outputs": [],
   "source": [
    "def shuffle_two_iters(a1, a2, rng_seed=42):\n",
    "    # shuffles two iterables in the same way and turns them into numpy arrays\n",
    "    shuffle_inds = list(range(len(a1)))\n",
    "    np.random.default_rng(rng_seed).shuffle(shuffle_inds)\n",
    "    \n",
    "    ret1 = np.asarray(a1)[shuffle_inds]\n",
    "    ret2 = np.asarray(a2)[shuffle_inds]\n",
    "    return ret1, ret2"
   ]
  },
  {
   "cell_type": "code",
   "execution_count": 17,
   "id": "daff549b-5536-4cac-81fb-af3020ff07e2",
   "metadata": {},
   "outputs": [],
   "source": [
    "def load_train_val_docs(mode=\"train\", load_random=5, random_state=42, shuffle=True, frames_per_doc=120, hl_threshold=0.5, offset=0):    \n",
    "    if mode == \"train\":\n",
    "        file_regex = \"nalcs_w[134579]*_g[13]\" # weeks 1,3,4,5,7,9 games 1 and 3 of each match for training\n",
    "    if mode == \"val\":\n",
    "        file_regex = \"nalcs_w[1-4]*_g[2]\" # weeks 2,6,8 games 1 and 3 of each match for validation\n",
    "    if mode == \"test\":\n",
    "        file_regex = \"nalcs_w[5-9]*_g[2]\" # weeks 2,6,8 games 1 and 3 of each match for validation\n",
    "\n",
    "\n",
    "    chat = load_chat(\"../data/final_data\", load_random=load_random, random_state=random_state, file_identifier=file_regex)\n",
    "    highlights = load_highlights(\"../data/gt\", file_identifier=file_regex)\n",
    "\n",
    "    remove_missing_matches(chat, highlights)\n",
    "\n",
    "    chat_docs = list()\n",
    "    hl_docs = list()\n",
    "\n",
    "    for match in chat.keys():\n",
    "        ch_match, hl_match = cut_same_length(chat[match], highlights[match])\n",
    "        cd, hd  = chat_hl_to_documents(ch_match, hl_match, frames_per_doc=frames_per_doc, hl_threshold=hl_threshold, offset=offset)\n",
    "        # put all documents together\n",
    "        chat_docs.extend(cd)\n",
    "        hl_docs.extend(hd)\n",
    "\n",
    "    # garbage collect chat and highlights    \n",
    "    \n",
    "    if shuffle:\n",
    "        chat_docs, hl_docs = shuffle_two_iters(chat_docs, hl_docs)\n",
    "        \n",
    "    return chat_docs, hl_docs"
   ]
  },
  {
   "cell_type": "code",
   "execution_count": 18,
   "id": "a94c6a21-e37c-416d-985e-83cd74f3dff8",
   "metadata": {},
   "outputs": [],
   "source": [
    "def balance_data_parallel(x, y, strategy=\"oversample\"):\n",
    "    x_pos = x[y == 1]\n",
    "    y_pos = y[y == 1]\n",
    "    x_neg = x[y == 0]\n",
    "    y_neg = y[y == 0]\n",
    "    if len(y_pos) != len(y_neg):\n",
    "        x_small = x_pos if len(x_pos) < len(x_neg) else x_neg\n",
    "        y_small = y_pos if len(y_pos) < len(y_neg) else y_neg\n",
    "        x_large = x_pos if len(x_pos) >= len(x_neg) else x_neg\n",
    "        y_large = y_pos if len(y_pos) >= len(y_neg) else y_neg\n",
    "        \n",
    "        if strategy == \"oversample\":            \n",
    "            repeat_amount = int(len(y_large) / len(y_small))\n",
    "            len_difference = len(y_large)-len(y_small)*repeat_amount\n",
    "            x_small_rep = np.concatenate([np.repeat(x_small, repeat_amount), x_small[:len_difference]])\n",
    "            y_small_rep = np.concatenate([np.repeat(y_small, repeat_amount), y_small[:len_difference]])\n",
    "            \n",
    "            x_balanced = np.concatenate([x_small_rep, x_large])\n",
    "            y_balanced = np.concatenate([y_small_rep, y_large])\n",
    "        if strategy == \"undersample\":\n",
    "            inds_under = np.random.choice(np.arange(len(x_large)), len(x_small), replace=False)\n",
    "            \n",
    "            x_large_under = x_large[inds_under]\n",
    "            y_large_under = y_large[inds_under]\n",
    "            \n",
    "            x_balanced = np.concatenate([x_small, x_large_under])\n",
    "            y_balanced = np.concatenate([y_small, y_large_under])\n",
    "        \n",
    "        return shuffle_two_iters(x_balanced, y_balanced)\n",
    "    else:\n",
    "        return x, y\n"
   ]
  },
  {
   "cell_type": "code",
   "execution_count": 19,
   "id": "1af538e5-3052-434a-9aea-8b044daee158",
   "metadata": {},
   "outputs": [],
   "source": [
    "ch_train, hl_train = load_train_val_docs(mode=\"train\", frames_per_doc=210, load_random=None, random_state=None)"
   ]
  },
  {
   "cell_type": "code",
   "execution_count": 20,
   "id": "e0a4d7ea-471e-498e-a5fc-b497fd3e5c80",
   "metadata": {},
   "outputs": [],
   "source": [
    "# load validation data\n",
    "ch_val, hl_val = load_train_val_docs(mode=\"val\", frames_per_doc=210, load_random=None, random_state=None)"
   ]
  },
  {
   "cell_type": "code",
   "execution_count": 21,
   "id": "26b0a933-18c0-4f6f-bbc8-2038c4b2e962",
   "metadata": {},
   "outputs": [],
   "source": [
    "# load test data\n",
    "x_tst, y_tst = load_train_val_docs(mode=\"test\", frames_per_doc=210, load_random=None, random_state=None)"
   ]
  },
  {
   "cell_type": "code",
   "execution_count": 22,
   "id": "0adb02f5-3ab3-4bb0-b6a3-e35db97390d8",
   "metadata": {},
   "outputs": [
    {
     "data": {
      "text/plain": [
       "(132829,)"
      ]
     },
     "execution_count": 22,
     "metadata": {},
     "output_type": "execute_result"
    }
   ],
   "source": [
    "x_tst.shape"
   ]
  },
  {
   "cell_type": "code",
   "execution_count": 23,
   "id": "0aca758a-ffae-48f8-803d-7201883d37c0",
   "metadata": {},
   "outputs": [
    {
     "data": {
      "text/plain": [
       "(240750,)"
      ]
     },
     "execution_count": 23,
     "metadata": {},
     "output_type": "execute_result"
    }
   ],
   "source": [
    "hl_train.shape"
   ]
  },
  {
   "cell_type": "code",
   "execution_count": null,
   "id": "103c7072-9682-4559-8c80-b13ae62d4a57",
   "metadata": {},
   "outputs": [],
   "source": [
    "x_val, y_val = balance_data_parallel(ch_val, hl_val, strategy=\"oversample\") # => doesn't make sense\n",
    "# x_val, y_val = ch_val, hl_val"
   ]
  },
  {
   "cell_type": "code",
   "execution_count": null,
   "id": "6a288dc7-a304-4464-8c29-eecea7562e10",
   "metadata": {},
   "outputs": [],
   "source": [
    "x_val.shape"
   ]
  },
  {
   "cell_type": "code",
   "execution_count": null,
   "id": "63568e39-2618-47c6-af0d-542145676dd5",
   "metadata": {},
   "outputs": [],
   "source": [
    "x_train, y_train = balance_data_parallel(ch_train, hl_train, strategy=\"oversample\")"
   ]
  },
  {
   "cell_type": "code",
   "execution_count": null,
   "id": "ed277506-6f46-46eb-943f-c82e95d15fda",
   "metadata": {},
   "outputs": [],
   "source": [
    "x_train = np.concatenate([x_train, x_val])\n",
    "y_train= np.concatenate([y_train, y_val])"
   ]
  },
  {
   "cell_type": "code",
   "execution_count": null,
   "id": "b410df13-477b-49ff-9772-d297c6fcb0e9",
   "metadata": {},
   "outputs": [],
   "source": [
    "x_train.shape, x_train.shape"
   ]
  },
  {
   "cell_type": "markdown",
   "id": "03af8348-3a9f-4d30-9164-da41470d3baa",
   "metadata": {},
   "source": [
    "### TFIDF > MultinomialNaiveBayes"
   ]
  },
  {
   "cell_type": "code",
   "execution_count": 17,
   "id": "4ff489e1-eeda-4ece-a0f5-2ffe3db99622",
   "metadata": {},
   "outputs": [],
   "source": [
    "text_clf = Pipeline([\n",
    "    ('vect', CountVectorizer()),\n",
    "    ('tfidf', TfidfTransformer()),\n",
    "    ('clf', MultinomialNB())\n",
    "])"
   ]
  },
  {
   "cell_type": "code",
   "execution_count": 18,
   "id": "8c97937d-e15b-4d71-ba60-675777867dc7",
   "metadata": {},
   "outputs": [
    {
     "data": {
      "text/plain": [
       "Pipeline(steps=[('vect', CountVectorizer()), ('tfidf', TfidfTransformer()),\n",
       "                ('clf', MultinomialNB())])"
      ]
     },
     "execution_count": 18,
     "metadata": {},
     "output_type": "execute_result"
    }
   ],
   "source": [
    "text_clf.fit(x_train, y_train)"
   ]
  },
  {
   "cell_type": "code",
   "execution_count": 21,
   "id": "7aaa29fc-8026-43c4-9e26-1c3853217894",
   "metadata": {},
   "outputs": [
    {
     "data": {
      "image/png": "[encoded data removed]",
      "text/plain": [
       "<Figure size 432x288 with 2 Axes>"
      ]
     },
     "metadata": {
      "needs_background": "light"
     },
     "output_type": "display_data"
    },
    {
     "name": "stdout",
     "output_type": "stream",
     "text": [
      "               precision    recall  f1-score   support\n",
      "\n",
      "non-highlight       0.93      0.75      0.83     16244\n",
      "    highlight       0.30      0.65      0.41      2754\n",
      "\n",
      "     accuracy                           0.73     18998\n",
      "    macro avg       0.62      0.70      0.62     18998\n",
      " weighted avg       0.84      0.73      0.77     18998\n",
      "\n"
     ]
    }
   ],
   "source": [
    "y_pred = text_clf.predict(x_tst)\n",
    "eval_results(y_tst, y_pred)"
   ]
  },
  {
   "cell_type": "code",
   "execution_count": 22,
   "id": "82c36e12-9b5a-4b27-9e72-0ae93829572f",
   "metadata": {},
   "outputs": [
    {
     "data": {
      "image/png": "[encoded data removed]",
      "text/plain": [
       "<Figure size 432x288 with 1 Axes>"
      ]
     },
     "metadata": {
      "needs_background": "light"
     },
     "output_type": "display_data"
    }
   ],
   "source": [
    "plt.plot(y_tst[1000:1100], label=\"highlights\")\n",
    "plt.plot(y_pred[1000:1100], label=\"TFIDF > MultinomialNaiveBayes\")\n",
    "plt.legend()\n",
    "plt.show()"
   ]
  },
  {
   "cell_type": "markdown",
   "id": "40c61d6e-cf89-4ffb-86ce-9e1ec33db00b",
   "metadata": {},
   "source": [
    "### Word2Vec > LogisticRegression"
   ]
  },
  {
   "cell_type": "code",
   "execution_count": 23,
   "id": "3150276c-ad91-4e2e-9e35-aee3aea05c21",
   "metadata": {},
   "outputs": [],
   "source": [
    "LR_clf = Pipeline([\n",
    "    ('w2v', EmbeddingTransformer(\"/home/max/git/chat-highlight-detection/data/embeddings/twitch_emote_embedding_all_top1000.kvmodel\")),\n",
    "    ('clf', LogisticRegression(max_iter=1000))\n",
    "    # ('clf', SVC(kernel=\"rbf\"))\n",
    "])"
   ]
  },
  {
   "cell_type": "code",
   "execution_count": 24,
   "id": "ffe93298-8982-4582-acd0-fa5a45df25b9",
   "metadata": {},
   "outputs": [
    {
     "data": {
      "text/plain": [
       "Pipeline(steps=[('w2v',\n",
       "                 EmbeddingTransformer(model=<gensim.models.keyedvectors.Word2VecKeyedVectors object at 0x7f4b1bf0fa60>)),\n",
       "                ('clf', LogisticRegression(max_iter=1000))])"
      ]
     },
     "execution_count": 24,
     "metadata": {},
     "output_type": "execute_result"
    }
   ],
   "source": [
    "LR_clf.fit(x_train, y_train)"
   ]
  },
  {
   "cell_type": "code",
   "execution_count": 25,
   "id": "2ae2dffb-738c-4b60-85ea-46f835009706",
   "metadata": {},
   "outputs": [
    {
     "data": {
      "image/png": "[encoded data removed]",
      "text/plain": [
       "<Figure size 432x288 with 2 Axes>"
      ]
     },
     "metadata": {
      "needs_background": "light"
     },
     "output_type": "display_data"
    },
    {
     "name": "stdout",
     "output_type": "stream",
     "text": [
      "               precision    recall  f1-score   support\n",
      "\n",
      "non-highlight       0.93      0.73      0.81     16244\n",
      "    highlight       0.29      0.66      0.40      2754\n",
      "\n",
      "     accuracy                           0.72     18998\n",
      "    macro avg       0.61      0.69      0.61     18998\n",
      " weighted avg       0.83      0.72      0.76     18998\n",
      "\n"
     ]
    }
   ],
   "source": [
    "y_pred = LR_clf.predict(x_tst)\n",
    "eval_results(y_tst, y_pred)"
   ]
  },
  {
   "cell_type": "code",
   "execution_count": null,
   "id": "37344815-7224-44f7-90c3-2b11d2f93c36",
   "metadata": {},
   "outputs": [],
   "source": []
  },
  {
   "cell_type": "code",
   "execution_count": 26,
   "id": "07832dc0-091d-42f6-906f-73a01966a1b6",
   "metadata": {},
   "outputs": [
    {
     "data": {
      "image/png": "[encoded data removed]",
      "text/plain": [
       "<Figure size 432x288 with 1 Axes>"
      ]
     },
     "metadata": {
      "needs_background": "light"
     },
     "output_type": "display_data"
    }
   ],
   "source": [
    "plt.plot(y_tst[1000:1100], label=\"highlights\")\n",
    "plt.plot(y_pred[1000:1100], label=\"RTPP\")\n",
    "plt.legend()\n",
    "plt.show()"
   ]
  },
  {
   "cell_type": "code",
   "execution_count": null,
   "id": "28f0478c-605b-4d12-a483-697dc498e5f5",
   "metadata": {},
   "outputs": [],
   "source": []
  },
  {
   "cell_type": "code",
   "execution_count": null,
   "id": "932d0070-cd27-4195-957f-fdff5ef74a34",
   "metadata": {},
   "outputs": [],
   "source": []
  }
 ],
 "metadata": {
  "kernelspec": {
   "display_name": "Python 3 (ipykernel)",
   "language": "python",
   "name": "python3"
  },
  "language_info": {
   "codemirror_mode": {
    "name": "ipython",
    "version": 3
   },
   "file_extension": ".py",
   "mimetype": "text/x-python",
   "name": "python",
   "nbconvert_exporter": "python",
   "pygments_lexer": "ipython3",
   "version": "3.8.12"
  }
 },
 "nbformat": 4,
 "nbformat_minor": 5
}
