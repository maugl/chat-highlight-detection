{
 "cells": [
  {
   "cell_type": "code",
   "execution_count": 1,
   "id": "5e9ecde5-3e6b-4313-ab4f-becce9e55286",
   "metadata": {},
   "outputs": [],
   "source": [
    "import sys\n",
    "sys.path.append('../')"
   ]
  },
  {
   "cell_type": "code",
   "execution_count": 2,
   "id": "a9b6e87a",
   "metadata": {},
   "outputs": [],
   "source": [
    "from baselines import load_experiments_data, eval_scores\n",
    "from ScipyPeaks import ScipyPeaks\n",
    "from utils import moving_avg\n",
    "from sklearn.preprocessing import MinMaxScaler\n",
    "import json\n",
    "import matplotlib.pyplot as plt"
   ]
  },
  {
   "cell_type": "markdown",
   "id": "65f3a022",
   "metadata": {
    "jp-MarkdownHeadingCollapsed": true,
    "tags": []
   },
   "source": [
    "## Preparations\n",
    "only need to run this code once to create ```baseline_vis_data.json```"
   ]
  },
  {
   "cell_type": "code",
   "execution_count": 10,
   "id": "80439d22",
   "metadata": {
    "scrolled": true
   },
   "outputs": [],
   "source": [
    "# 1st and 3rd matches are train set, 2nd match is test set\n",
    "matches = load_experiments_data(\"nalcs_*g[13]\", load_random=None, random_state=None, data_path=\"../data\")"
   ]
  },
  {
   "cell_type": "code",
   "execution_count": 11,
   "id": "a9dfd64a",
   "metadata": {},
   "outputs": [],
   "source": [
    "hl_msg_data = dict()\n",
    "for name, data in matches.items():\n",
    "    hl_msg_data[name] = dict()\n",
    "    hl_msg_data[name][\"msg_dens\"] = MinMaxScaler().fit_transform(moving_avg(data[\"chat_message_density\"], N=1500).reshape(-1, 1)).ravel().tolist()\n",
    "    hl_msg_data[name][\"highlights\"] = data[\"highlights\"].tolist()"
   ]
  },
  {
   "cell_type": "code",
   "execution_count": 12,
   "id": "f7d32cfd",
   "metadata": {},
   "outputs": [],
   "source": [
    "with open(\"../data/baseline_vis_data.json\", \"w\") as out_file:\n",
    "    json.dump(hl_msg_data, out_file)"
   ]
  },
  {
   "cell_type": "code",
   "execution_count": 10,
   "id": "ca605220",
   "metadata": {},
   "outputs": [
    {
     "ename": "IndexError",
     "evalue": "list index out of range",
     "output_type": "error",
     "traceback": [
      "\u001b[0;31m---------------------------------------------------------------------------\u001b[0m",
      "\u001b[0;31mIndexError\u001b[0m                                Traceback (most recent call last)",
      "\u001b[0;32m/tmp/ipykernel_82086/2250450036.py\u001b[0m in \u001b[0;36m<module>\u001b[0;34m\u001b[0m\n\u001b[0;32m----> 1\u001b[0;31m \u001b[0mmd\u001b[0m\u001b[0;34m,\u001b[0m \u001b[0mhl\u001b[0m \u001b[0;34m=\u001b[0m \u001b[0mhl_msg_data\u001b[0m\u001b[0;34m[\u001b[0m\u001b[0mlist\u001b[0m\u001b[0;34m(\u001b[0m\u001b[0mhl_msg_data\u001b[0m\u001b[0;34m.\u001b[0m\u001b[0mkeys\u001b[0m\u001b[0;34m(\u001b[0m\u001b[0;34m)\u001b[0m\u001b[0;34m)\u001b[0m\u001b[0;34m[\u001b[0m\u001b[0;36m0\u001b[0m\u001b[0;34m]\u001b[0m\u001b[0;34m]\u001b[0m\u001b[0;34m[\u001b[0m\u001b[0;34m\"msg_dens\"\u001b[0m\u001b[0;34m]\u001b[0m\u001b[0;34m,\u001b[0m \u001b[0mhl_msg_data\u001b[0m\u001b[0;34m[\u001b[0m\u001b[0mlist\u001b[0m\u001b[0;34m(\u001b[0m\u001b[0mhl_msg_data\u001b[0m\u001b[0;34m.\u001b[0m\u001b[0mkeys\u001b[0m\u001b[0;34m(\u001b[0m\u001b[0;34m)\u001b[0m\u001b[0;34m)\u001b[0m\u001b[0;34m[\u001b[0m\u001b[0;36m0\u001b[0m\u001b[0;34m]\u001b[0m\u001b[0;34m]\u001b[0m\u001b[0;34m[\u001b[0m\u001b[0;34m\"highlights\"\u001b[0m\u001b[0;34m]\u001b[0m\u001b[0;34m\u001b[0m\u001b[0;34m\u001b[0m\u001b[0m\n\u001b[0m",
      "\u001b[0;31mIndexError\u001b[0m: list index out of range"
     ]
    }
   ],
   "source": [
    "md, hl = hl_msg_data[list(hl_msg_data.keys())[0]][\"msg_dens\"], hl_msg_data[list(hl_msg_data.keys())[0]][\"highlights\"]"
   ]
  },
  {
   "cell_type": "code",
   "execution_count": 11,
   "id": "ebbe90b4",
   "metadata": {},
   "outputs": [
    {
     "ename": "NameError",
     "evalue": "name 'md' is not defined",
     "output_type": "error",
     "traceback": [
      "\u001b[0;31m---------------------------------------------------------------------------\u001b[0m",
      "\u001b[0;31mNameError\u001b[0m                                 Traceback (most recent call last)",
      "\u001b[0;32m/tmp/ipykernel_82086/1821479121.py\u001b[0m in \u001b[0;36m<module>\u001b[0;34m\u001b[0m\n\u001b[0;32m----> 1\u001b[0;31m \u001b[0mplt\u001b[0m\u001b[0;34m.\u001b[0m\u001b[0mplot\u001b[0m\u001b[0;34m(\u001b[0m\u001b[0mlist\u001b[0m\u001b[0;34m(\u001b[0m\u001b[0mrange\u001b[0m\u001b[0;34m(\u001b[0m\u001b[0mlen\u001b[0m\u001b[0;34m(\u001b[0m\u001b[0mmd\u001b[0m\u001b[0;34m)\u001b[0m\u001b[0;34m)\u001b[0m\u001b[0;34m)\u001b[0m\u001b[0;34m,\u001b[0m \u001b[0mmd\u001b[0m\u001b[0;34m)\u001b[0m\u001b[0;34m\u001b[0m\u001b[0;34m\u001b[0m\u001b[0m\n\u001b[0m\u001b[1;32m      2\u001b[0m \u001b[0mplt\u001b[0m\u001b[0;34m.\u001b[0m\u001b[0mplot\u001b[0m\u001b[0;34m(\u001b[0m\u001b[0mlist\u001b[0m\u001b[0;34m(\u001b[0m\u001b[0mrange\u001b[0m\u001b[0;34m(\u001b[0m\u001b[0mlen\u001b[0m\u001b[0;34m(\u001b[0m\u001b[0mhl\u001b[0m\u001b[0;34m)\u001b[0m\u001b[0;34m)\u001b[0m\u001b[0;34m)\u001b[0m\u001b[0;34m,\u001b[0m \u001b[0mhl\u001b[0m\u001b[0;34m)\u001b[0m\u001b[0;34m\u001b[0m\u001b[0;34m\u001b[0m\u001b[0m\n\u001b[1;32m      3\u001b[0m \u001b[0mplt\u001b[0m\u001b[0;34m.\u001b[0m\u001b[0mshow\u001b[0m\u001b[0;34m(\u001b[0m\u001b[0;34m)\u001b[0m\u001b[0;34m\u001b[0m\u001b[0;34m\u001b[0m\u001b[0m\n",
      "\u001b[0;31mNameError\u001b[0m: name 'md' is not defined"
     ]
    }
   ],
   "source": [
    "plt.plot(list(range(len(md))), md)\n",
    "plt.plot(list(range(len(hl))), hl)\n",
    "plt.show()"
   ]
  },
  {
   "cell_type": "markdown",
   "id": "b0c5fcbe",
   "metadata": {},
   "source": [
    "## Interactive Visualisation\n",
    "\n",
    "callbacks for dynamically changing visualizations: https://dash.plotly.com/basic-callbacks\n",
    "\n",
    "plotly/dash in jupyter: https://medium.com/plotly/introducing-jupyterdash-811f1f57c02e\n",
    "\n",
    "baseline based on: https://docs.scipy.org/doc/scipy/reference/generated/scipy.signal.find_peaks.html#scipy.signal.find_peaks"
   ]
  },
  {
   "cell_type": "code",
   "execution_count": 3,
   "id": "396942dd",
   "metadata": {},
   "outputs": [],
   "source": [
    "with open(\"../data/baseline_vis_data.json\", \"r\") as in_file:\n",
    "    hl_msg_data = json.load(in_file)\n",
    "matches = list(sorted(hl_msg_data.keys()))"
   ]
  },
  {
   "cell_type": "code",
   "execution_count": 4,
   "id": "3c90b325",
   "metadata": {
    "scrolled": true
   },
   "outputs": [],
   "source": [
    "import plotly.express as px\n",
    "import dash\n",
    "from jupyter_dash import JupyterDash\n",
    "import dash_core_components as dcc\n",
    "import dash_html_components as html\n",
    "from dash.dependencies import Input, Output\n",
    "import plotly.graph_objects as go\n",
    "\n",
    "# Build App\n",
    "app = JupyterDash(__name__)\n",
    "# Create server variable with Flask server object for use with gunicorn\n",
    "server = app.server\n",
    "\n",
    "app.layout = html.Div([\n",
    "    html.H1(\"SciPy Find Peaks Parameters on highlight data\"),\n",
    "    # graph component\n",
    "    dcc.Graph(id='graph'),\n",
    "    html.Label([\n",
    "        \"match 1: the name of the match for which data should be displayed\",\n",
    "        dcc.Dropdown(\n",
    "            id='match1-dropdown', clearable=False,\n",
    "            value=matches[0], options=[\n",
    "                {'label': m, 'value': m}\n",
    "                for m in matches\n",
    "            ])\n",
    "    ]),\n",
    "    # match selector\n",
    "    html.Label([\n",
    "        \"scale: use every scale-th data point\",\n",
    "        dcc.Slider(1,100,1,\n",
    "            value=10,\n",
    "            marks=None,\n",
    "            id=\"scale-slider\",\n",
    "            tooltip={\"placement\": \"bottom\", \"always_visible\": True}\n",
    "        )\n",
    "    ]),\n",
    "    # parameter selectors\n",
    "    html.Label([\n",
    "        \"shift: shift by shift*width\",\n",
    "        dcc.Slider(-1,1,0.1,\n",
    "            value=0,\n",
    "            marks=None,\n",
    "            id=\"shift-slider\",\n",
    "            tooltip={\"placement\": \"bottom\", \"always_visible\": True}\n",
    "        )\n",
    "    ]),\n",
    "    html.Label([\n",
    "        \"width-scale: width = width-scale*width of recognized peak\",\n",
    "        dcc.Slider(0,2,0.01,\n",
    "            value=1,\n",
    "            marks=None,\n",
    "            id=\"width-scale-slider\",\n",
    "            tooltip={\"placement\": \"bottom\", \"always_visible\": True}\n",
    "        )\n",
    "    ]),\n",
    "    html.Label([\n",
    "        \"min-max-width: minimum/maximum width for recognizing the peak\",\n",
    "        dcc.RangeSlider(0,10000,50,\n",
    "            value=[50, 500],\n",
    "            marks=None,\n",
    "            id=\"width-slider\",\n",
    "            tooltip={\"placement\": \"bottom\", \"always_visible\": True}\n",
    "        )\n",
    "    ]),\n",
    "    html.Label([\n",
    "        \"prominence: The prominence of a peak measures how much a peak stands out from the surrounding baseline of the signal and is defined as the vertical distance between the peak and its lowest contour line.\",\n",
    "        dcc.Slider(0,1,0.01,\n",
    "            value=0.14,\n",
    "            marks=None,\n",
    "            id=\"prominence-slider\",\n",
    "            tooltip={\"placement\": \"bottom\", \"always_visible\": True}\n",
    "        )\n",
    "    ]),\n",
    "    html.Label([\n",
    "        \"rel-height: Chooses the relative height at which the peak width is measured as a percentage of its prominence.\",\n",
    "        dcc.Slider(0,1,0.01,\n",
    "            value=0.6,\n",
    "            marks=None,\n",
    "            id=\"rel-height-slider\",\n",
    "            tooltip={\"placement\": \"bottom\", \"always_visible\": True}\n",
    "        )\n",
    "    ]),\n",
    "    # output evaluation metrics\n",
    "    html.Div([\n",
    "        \"Evaluate current configuration on training set (may take a while for low 'scale' values)\",\n",
    "        html.Div(id=\"results\"),\n",
    "        html.Button('Calculate', id='submit-calc', n_clicks=0),\n",
    "        dcc.RadioItems(['use button', 'keep updated'], 'use button', id=\"keep-updated\")\n",
    "    ])\n",
    "])\n",
    "\n",
    "# Define callback to update graph\n",
    "@app.callback(\n",
    "    Output('graph', 'figure'),\n",
    "    Output('results', 'children'),\n",
    "    [Input(\"match1-dropdown\", \"value\"),\n",
    "    Input(\"scale-slider\", \"value\"),\n",
    "    Input(\"shift-slider\", \"value\"),\n",
    "    Input(\"width-slider\", \"value\"),\n",
    "    Input(\"width-scale-slider\", \"value\"),\n",
    "    Input(\"rel-height-slider\", \"value\"),\n",
    "    Input(\"prominence-slider\", \"value\"),\n",
    "    Input(\"submit-calc\", \"n_clicks\"),\n",
    "    Input(\"keep-updated\", \"value\"),\n",
    "    ]\n",
    ")\n",
    "def update_figure(match1, scale, shift, width, width_scale, rel_height, prominence, submit_calc, keep_updated):\n",
    "    # check which component triggered the update\n",
    "    ctx = dash.callback_context\n",
    "\n",
    "    if not ctx.triggered:\n",
    "        button_id = 'No clicks yet'\n",
    "    else:\n",
    "        button_id = ctx.triggered[0]['prop_id'].split('.')[0]\n",
    "    \n",
    "    ssp_params = {\n",
    "        \"shift\": shift,\n",
    "        \"width_scale\": width_scale,\n",
    "        \"scipy_params\":{\n",
    "            \"width\": width,\n",
    "            \"rel_height\": rel_height,\n",
    "            \"prominence\": prominence\n",
    "        }\n",
    "    }\n",
    "    \n",
    "    cur_params = ssp_params\n",
    "    \n",
    "    x = list(range(len(hl_msg_data[match1][\"msg_dens\"][::scale])))\n",
    "    msg_dens = hl_msg_data[match1][\"msg_dens\"][::scale]\n",
    "    spp = ScipyPeaks(**ssp_params).predict(msg_dens)\n",
    "        \n",
    "    fig = go.Figure()\n",
    "    fig.add_trace(go.Scatter(x=x, y=hl_msg_data[match1][\"highlights\"][::scale],\n",
    "                        mode='lines',\n",
    "                        name='highlights'))\n",
    "    fig.add_trace(go.Scatter(x=x, y=msg_dens,\n",
    "                        mode='lines',\n",
    "                        name='message_density'))\n",
    "    fig.add_trace(go.Scatter(x=x, y=spp,\n",
    "                        mode='lines',\n",
    "                        name='ScipyPeaks'))\n",
    "    \n",
    "    evaluation = {\"precision\": 0,\n",
    "            \"recall\": 0,\n",
    "            \"f-score\": 0,\n",
    "            \"accuracy\": 0\n",
    "            }\n",
    "        \n",
    "    # calculate evaluation if button is clicked\n",
    "    if button_id == \"submit-calc\" or keep_updated == \"keep updated\":\n",
    "        total_msg_dens = list()\n",
    "        total_hl_data = list()\n",
    "\n",
    "        for n, dat in hl_msg_data.items():\n",
    "            total_msg_dens.extend(dat[\"msg_dens\"][::scale])\n",
    "            total_hl_data.extend(dat[\"highlights\"][::scale])\n",
    "            \n",
    "        pred = ScipyPeaks(**cur_params).predict(total_msg_dens)\n",
    "        evaluation = eval_scores(total_hl_data, pred)\n",
    "        \n",
    "    eval_result = html.Table([\n",
    "                    html.Tr([html.Th('Precision'),\n",
    "                             html.Th('Recall'),\n",
    "                             html.Th('F-score'),\n",
    "                             html.Th('Accuracy')]),\n",
    "                    html.Tr([html.Td(\"{:.5f}\".format(evaluation[\"precision\"])),\n",
    "                             html.Td(\"{:.5f}\".format(evaluation[\"recall\"])),\n",
    "                             html.Td(\"{:.5f}\".format(evaluation[\"f-score\"])),\n",
    "                             html.Td(\"{:.5f}\".format(evaluation[\"accuracy\"]))])\n",
    "    ])\n",
    "    \n",
    "    return fig, eval_result\n"
   ]
  },
  {
   "cell_type": "code",
   "execution_count": 5,
   "id": "36f6b95f-a1dc-4480-bc9b-2bbeb1494678",
   "metadata": {},
   "outputs": [],
   "source": [
    "# Run app and display result inline in the notebook\n",
    "app.run_server(mode='jupyterlab')"
   ]
  },
  {
   "cell_type": "code",
   "execution_count": 10,
   "id": "8886b0bb",
   "metadata": {},
   "outputs": [
    {
     "data": {
      "text/html": [
       "\n",
       "        <iframe\n",
       "            width=\"100%\"\n",
       "            height=\"650\"\n",
       "            src=\"http://127.0.0.1:8050/\"\n",
       "            frameborder=\"0\"\n",
       "            allowfullscreen\n",
       "            \n",
       "        ></iframe>\n",
       "        "
      ],
      "text/plain": [
       "<IPython.lib.display.IFrame at 0x7f3ffc7e1a90>"
      ]
     },
     "metadata": {},
     "output_type": "display_data"
    }
   ],
   "source": [
    "# Run app and display result inline in the notebook\n",
    "app.run_server(mode='inline')"
   ]
  },
  {
   "cell_type": "code",
   "execution_count": null,
   "id": "ac524878-b012-4d0a-a9b0-010a33b61d0f",
   "metadata": {},
   "outputs": [],
   "source": []
  }
 ],
 "metadata": {
  "kernelspec": {
   "display_name": "Python 3 (ipykernel)",
   "language": "python",
   "name": "python3"
  },
  "language_info": {
   "codemirror_mode": {
    "name": "ipython",
    "version": 3
   },
   "file_extension": ".py",
   "mimetype": "text/x-python",
   "name": "python",
   "nbconvert_exporter": "python",
   "pygments_lexer": "ipython3",
   "version": "3.8.12"
  }
 },
 "nbformat": 4,
 "nbformat_minor": 5
}
