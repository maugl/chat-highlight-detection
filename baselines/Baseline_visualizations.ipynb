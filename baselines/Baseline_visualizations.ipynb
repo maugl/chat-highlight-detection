{
 "cells": [
  {
   "cell_type": "code",
   "execution_count": 3,
   "id": "5e9ecde5-3e6b-4313-ab4f-becce9e55286",
   "metadata": {},
   "outputs": [],
   "source": [
    "import sys\n",
    "sys.path.append('../')"
   ]
  },
  {
   "cell_type": "code",
   "execution_count": 4,
   "id": "a9b6e87a",
   "metadata": {},
   "outputs": [],
   "source": [
    "from baselines import load_experiments_data, eval_scores\n",
    "from ScipyPeaks import ScipyPeaks\n",
    "from utils import moving_avg\n",
    "from sklearn.preprocessing import MinMaxScaler\n",
    "import json\n",
    "import matplotlib.pyplot as plt"
   ]
  },
  {
   "cell_type": "markdown",
   "id": "65f3a022",
   "metadata": {
    "jp-MarkdownHeadingCollapsed": true,
    "tags": []
   },
   "source": [
    "## Preparations\n",
    "only need to run this code once to create ```baseline_vis_data.json```"
   ]
  },
  {
   "cell_type": "code",
   "execution_count": 8,
   "id": "80439d22",
   "metadata": {
    "scrolled": true
   },
   "outputs": [],
   "source": [
    "# 1st and 3rd matches are train set, 2nd match is test set\n",
    "trn_matches = load_experiments_data(\"nalcs_w*_g[13]\", load_random=None, random_state=None, data_path=\"../data\")\n",
    "tst_matches = load_experiments_data(\"nalcs_w[5-9]*_g[2]\", load_random=None, random_state=None, data_path=\"../data\")"
   ]
  },
  {
   "cell_type": "code",
   "execution_count": 17,
   "id": "cc7adcea-1eef-4cc3-9e1b-093802e10444",
   "metadata": {},
   "outputs": [],
   "source": [
    "val_matches = load_experiments_data(\"nalcs_w[1-4]*_g[2]\", load_random=None, random_state=None, data_path=\"../data\")"
   ]
  },
  {
   "cell_type": "code",
   "execution_count": 23,
   "id": "5e8120c8-5226-4f69-a54d-b347171dafc6",
   "metadata": {},
   "outputs": [],
   "source": [
    "trn_matches.update(val_matches)"
   ]
  },
  {
   "cell_type": "code",
   "execution_count": 24,
   "id": "b70f7535-5503-4500-a29a-9bf9a041a9ee",
   "metadata": {},
   "outputs": [
    {
     "data": {
      "text/plain": [
       "168"
      ]
     },
     "execution_count": 24,
     "metadata": {},
     "output_type": "execute_result"
    }
   ],
   "source": [
    "len(trn_matches)"
   ]
  },
  {
   "cell_type": "code",
   "execution_count": 26,
   "id": "6dcf559a-ba77-4eb6-a6f1-469324cbdb4d",
   "metadata": {},
   "outputs": [
    {
     "data": {
      "text/plain": [
       "[1, 2, 3, 2, 3, 4]"
      ]
     },
     "execution_count": 26,
     "metadata": {},
     "output_type": "execute_result"
    }
   ],
   "source": [
    "l = [1,2,3]\n",
    "l.extend([2,3,4])\n",
    "l"
   ]
  },
  {
   "cell_type": "code",
   "execution_count": 29,
   "id": "61259938-a6c4-445c-8ca4-bb86a7bfceed",
   "metadata": {},
   "outputs": [
    {
     "data": {
      "text/plain": [
       "MinMaxScaler()"
      ]
     },
     "execution_count": 29,
     "metadata": {},
     "output_type": "execute_result"
    }
   ],
   "source": [
    "# scaling for evaluation\n",
    "scaler = MinMaxScaler()\n",
    "cmd = list()\n",
    "for name, data in trn_matches.items():\n",
    "    cmd.extend(moving_avg(data[\"chat_message_density\"], N=1500).reshape(-1, 1))\n",
    "scaler.fit(cmd)"
   ]
  },
  {
   "cell_type": "code",
   "execution_count": 31,
   "id": "c3290095-dcfe-4d45-aa1c-4281ed63230d",
   "metadata": {},
   "outputs": [
    {
     "data": {
      "text/plain": [
       "77248"
      ]
     },
     "execution_count": 31,
     "metadata": {},
     "output_type": "execute_result"
    }
   ],
   "source": [
    "scaler.n_samples_seen_"
   ]
  },
  {
   "cell_type": "code",
   "execution_count": 32,
   "id": "a9dfd64a",
   "metadata": {},
   "outputs": [],
   "source": [
    "hl_msg_data = dict()\n",
    "for name, data in tst_matches.items():\n",
    "    hl_msg_data[name] = dict()\n",
    "    hl_msg_data[name][\"msg_dens\"] = scaler.fit_transform(moving_avg(data[\"chat_message_density\"], N=1500).reshape(-1, 1)).ravel().tolist()\n",
    "    hl_msg_data[name][\"highlights\"] = data[\"highlights\"].tolist()"
   ]
  },
  {
   "cell_type": "code",
   "execution_count": 33,
   "id": "f7d32cfd",
   "metadata": {},
   "outputs": [],
   "source": [
    "with open(\"../data/baseline_vis_test_data.json\", \"w\") as out_file:\n",
    "    json.dump(hl_msg_data, out_file)"
   ]
  },
  {
   "cell_type": "code",
   "execution_count": 34,
   "id": "ca605220",
   "metadata": {},
   "outputs": [],
   "source": [
    "md, hl = hl_msg_data[list(hl_msg_data.keys())[0]][\"msg_dens\"], hl_msg_data[list(hl_msg_data.keys())[0]][\"highlights\"]"
   ]
  },
  {
   "cell_type": "code",
   "execution_count": 35,
   "id": "ebbe90b4",
   "metadata": {},
   "outputs": [
    {
     "data": {
      "image/png": "[encoded data removed]",
      "text/plain": [
       "<Figure size 432x288 with 1 Axes>"
      ]
     },
     "metadata": {
      "needs_background": "light"
     },
     "output_type": "display_data"
    }
   ],
   "source": [
    "plt.plot(list(range(len(md))), md)\n",
    "plt.plot(list(range(len(hl))), hl)\n",
    "plt.show()"
   ]
  },
  {
   "cell_type": "markdown",
   "id": "b0c5fcbe",
   "metadata": {
    "tags": []
   },
   "source": [
    "## Interactive Visualisation\n",
    "\n",
    "callbacks for dynamically changing visualizations: https://dash.plotly.com/basic-callbacks\n",
    "\n",
    "plotly/dash in jupyter: https://medium.com/plotly/introducing-jupyterdash-811f1f57c02e\n",
    "\n",
    "baseline based on: https://docs.scipy.org/doc/scipy/reference/generated/scipy.signal.find_peaks.html#scipy.signal.find_peaks"
   ]
  },
  {
   "cell_type": "code",
   "execution_count": 7,
   "id": "396942dd",
   "metadata": {},
   "outputs": [],
   "source": [
    "with open(\"../data/baseline_vis_data.json\", \"r\") as in_file:\n",
    "    hl_msg_data = json.load(in_file)\n",
    "matches = list(sorted(hl_msg_data.keys()))"
   ]
  },
  {
   "cell_type": "code",
   "execution_count": 8,
   "id": "3c90b325",
   "metadata": {
    "scrolled": true
   },
   "outputs": [],
   "source": [
    "import plotly.express as px\n",
    "import dash\n",
    "from jupyter_dash import JupyterDash\n",
    "import dash_core_components as dcc\n",
    "import dash_html_components as html\n",
    "from dash.dependencies import Input, Output\n",
    "import plotly.graph_objects as go\n",
    "\n",
    "# Build App\n",
    "app = JupyterDash(__name__)\n",
    "# Create server variable with Flask server object for use with gunicorn\n",
    "server = app.server\n",
    "\n",
    "app.layout = html.Div([\n",
    "    html.H1(\"SciPy Find Peaks Parameters on highlight data\"),\n",
    "    # graph component\n",
    "    dcc.Graph(id='graph'),\n",
    "    html.Label([\n",
    "        \"match 1: the name of the match for which data should be displayed\",\n",
    "        dcc.Dropdown(\n",
    "            id='match1-dropdown', clearable=False,\n",
    "            value=matches[0], options=[\n",
    "                {'label': m, 'value': m}\n",
    "                for m in matches\n",
    "            ])\n",
    "    ]),\n",
    "    # match selector\n",
    "    html.Label([\n",
    "        \"scale: use every scale-th data point\",\n",
    "        dcc.Slider(1,100,1,\n",
    "            value=10,\n",
    "            marks=None,\n",
    "            id=\"scale-slider\",\n",
    "            tooltip={\"placement\": \"bottom\", \"always_visible\": True}\n",
    "        )\n",
    "    ]),\n",
    "    # parameter selectors\n",
    "    html.Label([\n",
    "        \"shift: shift by shift*width\",\n",
    "        dcc.Slider(-1,1,0.1,\n",
    "            value=0,\n",
    "            marks=None,\n",
    "            id=\"shift-slider\",\n",
    "            tooltip={\"placement\": \"bottom\", \"always_visible\": True}\n",
    "        )\n",
    "    ]),\n",
    "    html.Label([\n",
    "        \"width-scale: width = width-scale*width of recognized peak\",\n",
    "        dcc.Slider(0,2,0.01,\n",
    "            value=1,\n",
    "            marks=None,\n",
    "            id=\"width-scale-slider\",\n",
    "            tooltip={\"placement\": \"bottom\", \"always_visible\": True}\n",
    "        )\n",
    "    ]),\n",
    "    html.Label([\n",
    "        \"min-max-width: minimum/maximum width for recognizing the peak\",\n",
    "        dcc.RangeSlider(0,10000,50,\n",
    "            value=[50, 500],\n",
    "            marks=None,\n",
    "            id=\"width-slider\",\n",
    "            tooltip={\"placement\": \"bottom\", \"always_visible\": True}\n",
    "        )\n",
    "    ]),\n",
    "    html.Label([\n",
    "        \"prominence: The prominence of a peak measures how much a peak stands out from the surrounding baseline of the signal and is defined as the vertical distance between the peak and its lowest contour line.\",\n",
    "        dcc.Slider(0,1,0.01,\n",
    "            value=0.14,\n",
    "            marks=None,\n",
    "            id=\"prominence-slider\",\n",
    "            tooltip={\"placement\": \"bottom\", \"always_visible\": True}\n",
    "        )\n",
    "    ]),\n",
    "    html.Label([\n",
    "        \"rel-height: Chooses the relative height at which the peak width is measured as a percentage of its prominence.\",\n",
    "        dcc.Slider(0,1,0.01,\n",
    "            value=0.6,\n",
    "            marks=None,\n",
    "            id=\"rel-height-slider\",\n",
    "            tooltip={\"placement\": \"bottom\", \"always_visible\": True}\n",
    "        )\n",
    "    ]),\n",
    "    # output evaluation metrics\n",
    "    html.Div([\n",
    "        \"Evaluate current configuration on training set (may take a while for low 'scale' values)\",\n",
    "        html.Div(id=\"results\"),\n",
    "        html.Button('Calculate', id='submit-calc', n_clicks=0),\n",
    "        dcc.RadioItems(['use button', 'keep updated'], 'use button', id=\"keep-updated\")\n",
    "    ])\n",
    "])\n",
    "\n",
    "# Define callback to update graph\n",
    "@app.callback(\n",
    "    Output('graph', 'figure'),\n",
    "    Output('results', 'children'),\n",
    "    [Input(\"match1-dropdown\", \"value\"),\n",
    "    Input(\"scale-slider\", \"value\"),\n",
    "    Input(\"shift-slider\", \"value\"),\n",
    "    Input(\"width-slider\", \"value\"),\n",
    "    Input(\"width-scale-slider\", \"value\"),\n",
    "    Input(\"rel-height-slider\", \"value\"),\n",
    "    Input(\"prominence-slider\", \"value\"),\n",
    "    Input(\"submit-calc\", \"n_clicks\"),\n",
    "    Input(\"keep-updated\", \"value\"),\n",
    "    ]\n",
    ")\n",
    "def update_figure(match1, scale, shift, width, width_scale, rel_height, prominence, submit_calc, keep_updated):\n",
    "    # check which component triggered the update\n",
    "    ctx = dash.callback_context\n",
    "\n",
    "    if not ctx.triggered:\n",
    "        button_id = 'No clicks yet'\n",
    "    else:\n",
    "        button_id = ctx.triggered[0]['prop_id'].split('.')[0]\n",
    "    \n",
    "    ssp_params = {\n",
    "        \"shift\": shift,\n",
    "        \"width_scale\": width_scale,\n",
    "        \"scipy_params\":{\n",
    "            \"width\": width,\n",
    "            \"rel_height\": rel_height,\n",
    "            \"prominence\": prominence\n",
    "        }\n",
    "    }\n",
    "    \n",
    "    cur_params = ssp_params\n",
    "    \n",
    "    x = list(range(len(hl_msg_data[match1][\"msg_dens\"][::scale])))\n",
    "    msg_dens = hl_msg_data[match1][\"msg_dens\"][::scale]\n",
    "    spp = ScipyPeaks(**ssp_params).predict(msg_dens)\n",
    "        \n",
    "    fig = go.Figure()\n",
    "    fig.add_trace(go.Scatter(x=x, y=hl_msg_data[match1][\"highlights\"][::scale],\n",
    "                        mode='lines',\n",
    "                        name='highlights'))\n",
    "    fig.add_trace(go.Scatter(x=x, y=msg_dens,\n",
    "                        mode='lines',\n",
    "                        name='message_density'))\n",
    "    fig.add_trace(go.Scatter(x=x, y=spp,\n",
    "                        mode='lines',\n",
    "                        name='ScipyPeaks'))\n",
    "    \n",
    "    evaluation = {\"precision\": 0,\n",
    "            \"recall\": 0,\n",
    "            \"f-score\": 0,\n",
    "            \"accuracy\": 0\n",
    "            }\n",
    "        \n",
    "    # calculate evaluation if button is clicked\n",
    "    if button_id == \"submit-calc\" or keep_updated == \"keep updated\":\n",
    "        total_msg_dens = list()\n",
    "        total_hl_data = list()\n",
    "\n",
    "        for n, dat in hl_msg_data.items():\n",
    "            total_msg_dens.extend(dat[\"msg_dens\"][::scale])\n",
    "            total_hl_data.extend(dat[\"highlights\"][::scale])\n",
    "            \n",
    "        pred = ScipyPeaks(**cur_params).predict(total_msg_dens)\n",
    "        evaluation = eval_scores(total_hl_data, pred)\n",
    "        \n",
    "    eval_result = html.Table([\n",
    "                    html.Tr([html.Th('Precision'),\n",
    "                             html.Th('Recall'),\n",
    "                             html.Th('F-score'),\n",
    "                             html.Th('Accuracy')]),\n",
    "                    html.Tr([html.Td(\"{:.5f}\".format(evaluation[\"precision\"])),\n",
    "                             html.Td(\"{:.5f}\".format(evaluation[\"recall\"])),\n",
    "                             html.Td(\"{:.5f}\".format(evaluation[\"f-score\"])),\n",
    "                             html.Td(\"{:.5f}\".format(evaluation[\"accuracy\"]))])\n",
    "    ])\n",
    "    \n",
    "    return fig, eval_result\n"
   ]
  },
  {
   "cell_type": "code",
   "execution_count": 9,
   "id": "36f6b95f-a1dc-4480-bc9b-2bbeb1494678",
   "metadata": {},
   "outputs": [],
   "source": [
    "# Run app and display result inline in the notebook\n",
    "app.run_server(mode='jupyterlab')"
   ]
  },
  {
   "cell_type": "code",
   "execution_count": 10,
   "id": "8886b0bb",
   "metadata": {},
   "outputs": [
    {
     "data": {
      "text/html": [
       "\n",
       "        <iframe\n",
       "            width=\"100%\"\n",
       "            height=\"650\"\n",
       "            src=\"http://127.0.0.1:8050/\"\n",
       "            frameborder=\"0\"\n",
       "            allowfullscreen\n",
       "            \n",
       "        ></iframe>\n",
       "        "
      ],
      "text/plain": [
       "<IPython.lib.display.IFrame at 0x7f3ffc7e1a90>"
      ]
     },
     "metadata": {},
     "output_type": "display_data"
    }
   ],
   "source": [
    "# Run app and display result inline in the notebook\n",
    "app.run_server(mode='inline')"
   ]
  },
  {
   "cell_type": "code",
   "execution_count": null,
   "id": "ac524878-b012-4d0a-a9b0-010a33b61d0f",
   "metadata": {},
   "outputs": [],
   "source": [
    "cl"
   ]
  }
 ],
 "metadata": {
  "kernelspec": {
   "display_name": "Python 3 (ipykernel)",
   "language": "python",
   "name": "python3"
  },
  "language_info": {
   "codemirror_mode": {
    "name": "ipython",
    "version": 3
   },
   "file_extension": ".py",
   "mimetype": "text/x-python",
   "name": "python",
   "nbconvert_exporter": "python",
   "pygments_lexer": "ipython3",
   "version": "3.8.12"
  }
 },
 "nbformat": 4,
 "nbformat_minor": 5
}
