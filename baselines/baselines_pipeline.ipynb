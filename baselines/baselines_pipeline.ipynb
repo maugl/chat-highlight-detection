{
 "cells": [
  {
   "cell_type": "code",
   "execution_count": 1,
   "id": "91c2b5d2-8764-47d8-96d1-16156a30e2a8",
   "metadata": {},
   "outputs": [],
   "source": [
    "import sys\n",
    "sys.path.insert(0, \"../\")"
   ]
  },
  {
   "cell_type": "code",
   "execution_count": 2,
   "id": "2954a5dd-61ac-40a2-8473-90e792713b4b",
   "metadata": {},
   "outputs": [],
   "source": [
    "from data_loading import ChatHighlightData\n",
    "import numpy as np\n",
    "from datetime import datetime\n",
    "import json\n",
    "\n",
    "from utils import moving_avg\n",
    "\n",
    "from sklearn.pipeline import Pipeline\n",
    "from sklearn.model_selection import ParameterGrid, GridSearchCV\n",
    "from sklearn.preprocessing import MinMaxScaler\n",
    "from sklearn.preprocessing import FunctionTransformer\n",
    "from sklearn.preprocessing import MinMaxScaler\n",
    "from baselines.ScipyPeaks import ScipyPeaks\n",
    "from baselines.RealTimePeakPredictor import RealTimePeakPredictor"
   ]
  },
  {
   "cell_type": "markdown",
   "id": "7cfe0a0f-1307-446c-ac04-a0d62ca3a91f",
   "metadata": {},
   "source": [
    "## Parameters for Preprocessing\n",
    "\n",
    "### Chat measures\n",
    "```['message_density', 'average_message_lengths_chars', 'message_diversity', 'emote_density', 'copypasta_density']```\n",
    "### Window size\n",
    "Number of frames to consider around the current frame\n",
    "### Scale / Step ```k```\n",
    "Which frames to consider: each ```k```th frame\n",
    "\n",
    "This one has an influence for both, x and y"
   ]
  },
  {
   "cell_type": "code",
   "execution_count": 3,
   "id": "e1e14b9c-d20a-46c4-86e4-3937d09dc95e",
   "metadata": {},
   "outputs": [],
   "source": [
    "def load_data(mode, ch_dir, hl_dir, em_dir, param_grid):\n",
    "    if mode == \"small\":\n",
    "        file_identifier = \"nalcs_w1*_g1\"\n",
    "    if mode == \"train\":\n",
    "        file_identifier = \"nalcs_w[134579]*_g[13]\"\n",
    "    if mode == \"test\":\n",
    "        file_identifier = \"nalcs_w[268]*_g[13]\"\n",
    "\n",
    "    chd = ChatHighlightData(chat_dir=ch_dir, highlight_dir=hl_dir, emote_dir=em_dir, frame_rate=30)\n",
    "    chd.load_data(file_identifier=file_identifier)\n",
    "    chd.load_emotes()\n",
    "\n",
    "    pg = list(ParameterGrid(param_grid))\n",
    "\n",
    "    for i, params in enumerate(pg):\n",
    "        chd.set_window_step(window=params[\"window\"], step=params[\"step\"])\n",
    "\n",
    "        x_data = chd.get_chat_measure(params[\"measure\"])\n",
    "        y_data = chd.get_highlight_data()\n",
    "\n",
    "        x = np.empty(0)\n",
    "        y = np.empty(0)\n",
    "        for m in x_data.keys():\n",
    "            x = np.concatenate([x, x_data[m]])\n",
    "            y = np.concatenate([y, y_data[m]])\n",
    "        yield i, x, y, params"
   ]
  },
  {
   "cell_type": "code",
   "execution_count": 4,
   "id": "f612758b-3285-4c00-8ec4-6b1f7899f40f",
   "metadata": {},
   "outputs": [],
   "source": [
    "def param_search(prep_param_grid, eval_params, model, data_loader):\n",
    "    best_scores_params = list()\n",
    "\n",
    "    print(f\"{datetime.now().strftime('%Y%m%d_%H_%M_%S')}\")\n",
    "\n",
    "    for i,x,y,p in data_loader:\n",
    "        pl = Pipeline([(\"avg\", FunctionTransformer(moving_avg)),\n",
    "                       (\"scaler\", MinMaxScaler()),\n",
    "                       (\"clf\", model())\n",
    "                     ])\n",
    "        \n",
    "        gs = GridSearchCV(pl, eval_params, cv=5, n_jobs=4, scoring=[\"f1\"], refit=\"f1\", verbose=1)\n",
    "        gs.fit(x.reshape((-1,1)),y)\n",
    "\n",
    "        best_scores_params.append({\n",
    "            \"best_params\": gs.best_params_,\n",
    "            \"best_score\": gs.best_score_,\n",
    "            \"prep_params\": p\n",
    "        })\n",
    "        if i%30 == 0:\n",
    "            print(f\"{datetime.now().strftime('%Y%m%d_%H_%M_%S')}: evaluated {i} configurations\")\n",
    "            with open(f\"../data/analysis/baselines/grid_search/GridSearchCV_{type(model()).__name__}_{datetime.now().strftime('%Y%m%d_%H_%M_%S')}_PART_{i}.json\", \"w\") as out_file:\n",
    "                json.dump(best_scores_params, out_file)\n",
    "\n",
    "    print(f\"{datetime.now().strftime('%Y%m%d_%H_%M_%S')}\")\n",
    "    with open(f\"../data/analysis/baselines/grid_search/GridSearchCV_{type(model()).__name__}_{datetime.now().strftime('%Y%m%d_%H_%M_%S')}.json\", \"w\") as out_file:\n",
    "        json.dump(best_scores_params, out_file)"
   ]
  },
  {
   "cell_type": "code",
   "execution_count": 24,
   "id": "708ca357-bb66-4d55-92a6-91a046c4f937",
   "metadata": {},
   "outputs": [],
   "source": [
    "prep_param_grid = {\n",
    "        \"measure\": [\"emote_density\", \"copypasta_density\"],\n",
    "        \"window\": list(range(50,201,25)),\n",
    "        \"step\": list(range(20,101,20))\n",
    "    }"
   ]
  },
  {
   "cell_type": "code",
   "execution_count": 25,
   "id": "5337654b-662f-465a-8210-f069b0811b85",
   "metadata": {},
   "outputs": [],
   "source": [
    "eval_params_SPP = {\n",
    "        \"avg__kw_args\": [\n",
    "            {\"N\": 5},\n",
    "            {\"N\": 50},\n",
    "            {\"N\": 500},\n",
    "        ],\n",
    "        \"clf__prominence\": [0.5, 0.55, 0.6, 0.65, 0.7],\n",
    "        \"clf__width\": [[5,2000]],\n",
    "        \"clf__rel_height\": [0.4, 0.5, 0.6],\n",
    "        \"clf__shift\": [0.25, 0.3, 0.35]\n",
    "      }"
   ]
  },
  {
   "cell_type": "code",
   "execution_count": 26,
   "id": "088bd710-2024-4c83-9b39-9284ad0c8f91",
   "metadata": {},
   "outputs": [],
   "source": [
    "eval_params_RTPP = {\n",
    "    \"avg__kw_args\": [\n",
    "        {\"N\": 5},\n",
    "        {\"N\": 50},\n",
    "        {\"N\": 500},\n",
    "    ],\n",
    "    \"clf__lag\": [25, 30, 35],\n",
    "    \"clf__threshold\": [1,2],\n",
    "    \"clf__influence\": [0.7]\n",
    "  }"
   ]
  },
  {
   "cell_type": "code",
   "execution_count": 27,
   "id": "4c7c6e5d-df45-4e97-bb6f-d94fff6938c2",
   "metadata": {},
   "outputs": [],
   "source": [
    "model_list = [ScipyPeaks, RealTimePeakPredictor]"
   ]
  },
  {
   "cell_type": "code",
   "execution_count": 30,
   "id": "92251279-3d4d-4961-8d76-b2bc5fef9b73",
   "metadata": {},
   "outputs": [],
   "source": [
    "model = ScipyPeaks\n",
    "mode = \"train\"\n",
    "dat = iter(load_data(mode, ch_dir=\"../data/final_data/\", hl_dir=\"../data/gt/\", em_dir=\"../data/emotes/\", param_grid=prep_param_grid))"
   ]
  },
  {
   "cell_type": "code",
   "execution_count": 31,
   "id": "8a5aa811-0101-4ac1-99d9-173c7dc756ab",
   "metadata": {},
   "outputs": [],
   "source": [
    "for i,x,y,p in dat:\n",
    "    if x.dtype != np.float64:\n",
    "        print(f\"wrong datatype {x.dtype} at {i} with parameters\\n{p}\")\n",
    "    if np.any(np.isinf(x)) or np.any(np.isnan(x)):\n",
    "        print(f\"problem with x at {i} with parameters\\n{p}\")\n",
    "        print(x)\n",
    "    if np.any(np.isinf(y)) or np.any(np.isnan(y)):\n",
    "        print(f\"problem with y at {i} with parameters\\n{p}\")\n",
    "        print(y)     \n",
    "              \n",
    "    for N in [5, 50, 500]:\n",
    "        x_avg = moving_avg(x, N=5)\n",
    "        if x_avg.dtype != np.float64:\n",
    "            print(f\"wrong datatype {x_avg.dtype} at {i} with parameters\\n{p} and moving average of {N}\")\n",
    "        if np.any(np.isinf(x_avg)) or np.any(np.isnan(x_avg)):\n",
    "            print(f\"problem with x_avg at {i} with parameters\\n{p} and moving average of {N}\")\n",
    "            print(x_avg)\n",
    "        x_avg_scld = MinMaxScaler().fit_transform(x_avg.reshape((-1,1)))\n",
    "        if x_avg_scld.dtype != np.float64:\n",
    "            print(f\"wrong datatype {x_avg_scld.dtype} at {i} with parameters\\n{p} and moving average of {N}\")\n",
    "        if np.any(np.isinf(x_avg)) or np.any(np.isnan(x_avg)):\n",
    "            print(f\"problem with x_avg_scld at {i} with parameters\\n{p} and moving average of {N} and MinMaxScaling\")\n",
    "            print(x_avg_scld)"
   ]
  },
  {
   "cell_type": "code",
   "execution_count": null,
   "id": "19463fa4-6137-40bb-b74c-44de2a139615",
   "metadata": {},
   "outputs": [],
   "source": []
  },
  {
   "cell_type": "code",
   "execution_count": 13,
   "id": "e85e8b74-21c2-4f53-958a-aac1e7c3b911",
   "metadata": {},
   "outputs": [
    {
     "name": "stdout",
     "output_type": "stream",
     "text": [
      "20220330_12_34_21\n",
      "Fitting 5 folds for each of 135 candidates, totalling 675 fits\n",
      "20220330_12_34_40: evaluated 0 configurations\n",
      "Fitting 5 folds for each of 135 candidates, totalling 675 fits\n",
      "Fitting 5 folds for each of 135 candidates, totalling 675 fits\n",
      "Fitting 5 folds for each of 135 candidates, totalling 675 fits\n",
      "Fitting 5 folds for each of 135 candidates, totalling 675 fits\n",
      "Fitting 5 folds for each of 135 candidates, totalling 675 fits\n",
      "Fitting 5 folds for each of 135 candidates, totalling 675 fits\n",
      "Fitting 5 folds for each of 135 candidates, totalling 675 fits\n",
      "Fitting 5 folds for each of 135 candidates, totalling 675 fits\n",
      "Fitting 5 folds for each of 135 candidates, totalling 675 fits\n",
      "Fitting 5 folds for each of 135 candidates, totalling 675 fits\n",
      "Fitting 5 folds for each of 135 candidates, totalling 675 fits\n",
      "Fitting 5 folds for each of 135 candidates, totalling 675 fits\n",
      "Fitting 5 folds for each of 135 candidates, totalling 675 fits\n",
      "Fitting 5 folds for each of 135 candidates, totalling 675 fits\n",
      "Fitting 5 folds for each of 135 candidates, totalling 675 fits\n",
      "Fitting 5 folds for each of 135 candidates, totalling 675 fits\n",
      "Fitting 5 folds for each of 135 candidates, totalling 675 fits\n",
      "Fitting 5 folds for each of 135 candidates, totalling 675 fits\n",
      "Fitting 5 folds for each of 135 candidates, totalling 675 fits\n",
      "Fitting 5 folds for each of 135 candidates, totalling 675 fits\n",
      "Fitting 5 folds for each of 135 candidates, totalling 675 fits\n",
      "Fitting 5 folds for each of 135 candidates, totalling 675 fits\n",
      "Fitting 5 folds for each of 135 candidates, totalling 675 fits\n",
      "Fitting 5 folds for each of 135 candidates, totalling 675 fits\n",
      "Fitting 5 folds for each of 135 candidates, totalling 675 fits\n",
      "Fitting 5 folds for each of 135 candidates, totalling 675 fits\n",
      "Fitting 5 folds for each of 135 candidates, totalling 675 fits\n",
      "Fitting 5 folds for each of 135 candidates, totalling 675 fits\n",
      "Fitting 5 folds for each of 135 candidates, totalling 675 fits\n",
      "Fitting 5 folds for each of 135 candidates, totalling 675 fits\n",
      "20220330_12_39_07: evaluated 30 configurations\n",
      "Fitting 5 folds for each of 135 candidates, totalling 675 fits\n",
      "Fitting 5 folds for each of 135 candidates, totalling 675 fits\n",
      "Fitting 5 folds for each of 135 candidates, totalling 675 fits\n",
      "Fitting 5 folds for each of 135 candidates, totalling 675 fits\n",
      "Fitting 5 folds for each of 135 candidates, totalling 675 fits\n",
      "Fitting 5 folds for each of 135 candidates, totalling 675 fits\n",
      "Fitting 5 folds for each of 135 candidates, totalling 675 fits\n",
      "Fitting 5 folds for each of 135 candidates, totalling 675 fits\n",
      "Fitting 5 folds for each of 135 candidates, totalling 675 fits\n",
      "Fitting 5 folds for each of 135 candidates, totalling 675 fits\n",
      "Fitting 5 folds for each of 135 candidates, totalling 675 fits\n",
      "Fitting 5 folds for each of 135 candidates, totalling 675 fits\n",
      "Fitting 5 folds for each of 135 candidates, totalling 675 fits\n",
      "Fitting 5 folds for each of 135 candidates, totalling 675 fits\n",
      "Fitting 5 folds for each of 135 candidates, totalling 675 fits\n",
      "Fitting 5 folds for each of 135 candidates, totalling 675 fits\n",
      "Fitting 5 folds for each of 135 candidates, totalling 675 fits\n",
      "Fitting 5 folds for each of 135 candidates, totalling 675 fits\n",
      "Fitting 5 folds for each of 135 candidates, totalling 675 fits\n",
      "Fitting 5 folds for each of 135 candidates, totalling 675 fits\n",
      "Fitting 5 folds for each of 135 candidates, totalling 675 fits\n",
      "Fitting 5 folds for each of 135 candidates, totalling 675 fits\n",
      "Fitting 5 folds for each of 135 candidates, totalling 675 fits\n",
      "Fitting 5 folds for each of 135 candidates, totalling 675 fits\n",
      "Fitting 5 folds for each of 135 candidates, totalling 675 fits\n",
      "Fitting 5 folds for each of 135 candidates, totalling 675 fits\n",
      "Fitting 5 folds for each of 135 candidates, totalling 675 fits\n",
      "Fitting 5 folds for each of 135 candidates, totalling 675 fits\n",
      "Fitting 5 folds for each of 135 candidates, totalling 675 fits\n",
      "Fitting 5 folds for each of 135 candidates, totalling 675 fits\n",
      "20220330_12_44_42: evaluated 60 configurations\n",
      "Fitting 5 folds for each of 135 candidates, totalling 675 fits\n",
      "Fitting 5 folds for each of 135 candidates, totalling 675 fits\n",
      "Fitting 5 folds for each of 135 candidates, totalling 675 fits\n",
      "Fitting 5 folds for each of 135 candidates, totalling 675 fits\n",
      "Fitting 5 folds for each of 135 candidates, totalling 675 fits\n",
      "Fitting 5 folds for each of 135 candidates, totalling 675 fits\n",
      "Fitting 5 folds for each of 135 candidates, totalling 675 fits\n",
      "Fitting 5 folds for each of 135 candidates, totalling 675 fits\n",
      "Fitting 5 folds for each of 135 candidates, totalling 675 fits\n",
      "Fitting 5 folds for each of 135 candidates, totalling 675 fits\n",
      "Fitting 5 folds for each of 135 candidates, totalling 675 fits\n",
      "Fitting 5 folds for each of 135 candidates, totalling 675 fits\n",
      "Fitting 5 folds for each of 135 candidates, totalling 675 fits\n",
      "Fitting 5 folds for each of 135 candidates, totalling 675 fits\n",
      "Fitting 5 folds for each of 135 candidates, totalling 675 fits\n",
      "Fitting 5 folds for each of 135 candidates, totalling 675 fits\n",
      "Fitting 5 folds for each of 135 candidates, totalling 675 fits\n",
      "Fitting 5 folds for each of 135 candidates, totalling 675 fits\n",
      "Fitting 5 folds for each of 135 candidates, totalling 675 fits\n",
      "Fitting 5 folds for each of 135 candidates, totalling 675 fits\n",
      "Fitting 5 folds for each of 135 candidates, totalling 675 fits\n",
      "Fitting 5 folds for each of 135 candidates, totalling 675 fits\n",
      "Fitting 5 folds for each of 135 candidates, totalling 675 fits\n",
      "Fitting 5 folds for each of 135 candidates, totalling 675 fits\n",
      "Fitting 5 folds for each of 135 candidates, totalling 675 fits\n",
      "Fitting 5 folds for each of 135 candidates, totalling 675 fits\n",
      "Fitting 5 folds for each of 135 candidates, totalling 675 fits\n",
      "Fitting 5 folds for each of 135 candidates, totalling 675 fits\n",
      "Fitting 5 folds for each of 135 candidates, totalling 675 fits\n",
      "Fitting 5 folds for each of 135 candidates, totalling 675 fits\n",
      "20220330_12_50_55: evaluated 90 configurations\n",
      "Fitting 5 folds for each of 135 candidates, totalling 675 fits\n",
      "Fitting 5 folds for each of 135 candidates, totalling 675 fits\n",
      "Fitting 5 folds for each of 135 candidates, totalling 675 fits\n",
      "Fitting 5 folds for each of 135 candidates, totalling 675 fits\n",
      "Fitting 5 folds for each of 135 candidates, totalling 675 fits\n",
      "Fitting 5 folds for each of 135 candidates, totalling 675 fits\n",
      "Fitting 5 folds for each of 135 candidates, totalling 675 fits\n",
      "Fitting 5 folds for each of 135 candidates, totalling 675 fits\n",
      "Fitting 5 folds for each of 135 candidates, totalling 675 fits\n",
      "Fitting 5 folds for each of 135 candidates, totalling 675 fits\n",
      "Fitting 5 folds for each of 135 candidates, totalling 675 fits\n",
      "Fitting 5 folds for each of 135 candidates, totalling 675 fits\n",
      "Fitting 5 folds for each of 135 candidates, totalling 675 fits\n",
      "Fitting 5 folds for each of 135 candidates, totalling 675 fits\n",
      "20220330_12_52_44\n",
      "20220330_12_52_44\n"
     ]
    }
   ],
   "source": [
    "# param_search(prep_param_grid, eval_params_SPP, model=model, data_loader=dat)\n",
    "# print(f\"{datetime.now().strftime('%Y%m%d_%H_%M_%S')}\")"
   ]
  },
  {
   "cell_type": "code",
   "execution_count": null,
   "id": "2f445faa-cb0d-44b1-968c-77b19dc982c4",
   "metadata": {},
   "outputs": [],
   "source": [
    "best_scores_params"
   ]
  },
  {
   "cell_type": "code",
   "execution_count": 6,
   "id": "b428b9c8-93c9-4bdd-a155-46bf15b7c0ab",
   "metadata": {},
   "outputs": [],
   "source": [
    "i,x,y,p = next(iter(load_data(\"train\")))"
   ]
  },
  {
   "cell_type": "code",
   "execution_count": 7,
   "id": "75ab5832-f2d6-48d1-9542-cb14e7b491a6",
   "metadata": {},
   "outputs": [
    {
     "data": {
      "text/plain": [
       "(361111, 1)"
      ]
     },
     "execution_count": 7,
     "metadata": {},
     "output_type": "execute_result"
    }
   ],
   "source": [
    "moving_avg(x.reshape((-1,1))).shape"
   ]
  },
  {
   "cell_type": "code",
   "execution_count": 11,
   "id": "cd31c633-7995-40bc-a92c-488d856a40ba",
   "metadata": {},
   "outputs": [
    {
     "data": {
      "text/plain": [
       "dict_keys(['explained_variance', 'r2', 'max_error', 'neg_median_absolute_error', 'neg_mean_absolute_error', 'neg_mean_absolute_percentage_error', 'neg_mean_squared_error', 'neg_mean_squared_log_error', 'neg_root_mean_squared_error', 'neg_mean_poisson_deviance', 'neg_mean_gamma_deviance', 'accuracy', 'top_k_accuracy', 'roc_auc', 'roc_auc_ovr', 'roc_auc_ovo', 'roc_auc_ovr_weighted', 'roc_auc_ovo_weighted', 'balanced_accuracy', 'average_precision', 'neg_log_loss', 'neg_brier_score', 'adjusted_rand_score', 'rand_score', 'homogeneity_score', 'completeness_score', 'v_measure_score', 'mutual_info_score', 'adjusted_mutual_info_score', 'normalized_mutual_info_score', 'fowlkes_mallows_score', 'precision', 'precision_macro', 'precision_micro', 'precision_samples', 'precision_weighted', 'recall', 'recall_macro', 'recall_micro', 'recall_samples', 'recall_weighted', 'f1', 'f1_macro', 'f1_micro', 'f1_samples', 'f1_weighted', 'jaccard', 'jaccard_macro', 'jaccard_micro', 'jaccard_samples', 'jaccard_weighted'])"
      ]
     },
     "execution_count": 11,
     "metadata": {},
     "output_type": "execute_result"
    }
   ],
   "source": [
    "import sklearn\n",
    "sklearn.metrics.SCORERS.keys()"
   ]
  },
  {
   "cell_type": "code",
   "execution_count": null,
   "id": "ede92ccc-c83b-474c-a53e-123bd43cb92a",
   "metadata": {},
   "outputs": [],
   "source": []
  },
  {
   "cell_type": "code",
   "execution_count": 38,
   "id": "456bd016-c2c5-4d95-ba77-f83dfa84dc7f",
   "metadata": {},
   "outputs": [],
   "source": [
    "file_identifier = \"nalcs_*\"\n",
    "chd = ChatHighlightData(chat_dir=\"../data/final_data/\", highlight_dir=\"../data/gt/\", emote_dir=\"../data/emotes/\", frame_rate=30)\n",
    "chd.load_data(file_identifier=file_identifier)\n",
    "chd.load_emotes()"
   ]
  },
  {
   "cell_type": "code",
   "execution_count": 43,
   "id": "60e9ad75-e461-42b3-9321-64be7fe4f661",
   "metadata": {},
   "outputs": [],
   "source": [
    "chd.set_window_step(step=100, window=200)\n",
    "em_dens = chd.get_chat_measure(\"emote_density\")"
   ]
  },
  {
   "cell_type": "code",
   "execution_count": 44,
   "id": "3eb5079e-5bb5-410a-9249-744d85713174",
   "metadata": {},
   "outputs": [],
   "source": [
    "denses = np.concatenate([v for v in em_dens.values()])"
   ]
  },
  {
   "cell_type": "code",
   "execution_count": 45,
   "id": "883f9ca8-9834-439c-9971-8ba5e8a6b984",
   "metadata": {},
   "outputs": [
    {
     "data": {
      "text/plain": [
       "False"
      ]
     },
     "execution_count": 45,
     "metadata": {},
     "output_type": "execute_result"
    }
   ],
   "source": [
    "np.any(np.isinf(denses))"
   ]
  },
  {
   "cell_type": "code",
   "execution_count": 46,
   "id": "d1768d1b-24d7-4088-a8e7-5295f89b1372",
   "metadata": {},
   "outputs": [
    {
     "data": {
      "text/plain": [
       "False"
      ]
     },
     "execution_count": 46,
     "metadata": {},
     "output_type": "execute_result"
    }
   ],
   "source": [
    "np.any(np.isnan(denses))"
   ]
  },
  {
   "cell_type": "code",
   "execution_count": null,
   "id": "4d548f4e-4154-4673-9c87-312fac7021ac",
   "metadata": {},
   "outputs": [],
   "source": []
  },
  {
   "cell_type": "code",
   "execution_count": null,
   "id": "c7c37156-7d5a-41fc-91ac-0c42c3242cee",
   "metadata": {},
   "outputs": [],
   "source": []
  },
  {
   "cell_type": "markdown",
   "id": "8d5fbc1d-5ea9-4d4b-92b6-fd68f76be009",
   "metadata": {},
   "source": [
    "## Best results for message density"
   ]
  },
  {
   "cell_type": "code",
   "execution_count": null,
   "id": "99b074a1-0bc8-45a9-a2d6-186e27fc73da",
   "metadata": {},
   "outputs": [],
   "source": []
  }
 ],
 "metadata": {
  "kernelspec": {
   "display_name": "Python 3 (ipykernel)",
   "language": "python",
   "name": "python3"
  },
  "language_info": {
   "codemirror_mode": {
    "name": "ipython",
    "version": 3
   },
   "file_extension": ".py",
   "mimetype": "text/x-python",
   "name": "python",
   "nbconvert_exporter": "python",
   "pygments_lexer": "ipython3",
   "version": "3.8.12"
  }
 },
 "nbformat": 4,
 "nbformat_minor": 5
}
