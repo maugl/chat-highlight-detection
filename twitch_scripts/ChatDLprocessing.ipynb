{
 "cells": [
  {
   "cell_type": "code",
   "execution_count": 25,
   "id": "544b9177-dbe1-4674-9275-cde837504fe1",
   "metadata": {},
   "outputs": [],
   "source": [
    "import glob\n",
    "import json\n",
    "import os\n",
    "from datetime import datetime\n",
    "from zipfile import ZipFile"
   ]
  },
  {
   "cell_type": "code",
   "execution_count": 26,
   "id": "81fd13d2-233c-4a72-81ac-87fcdd6584a9",
   "metadata": {},
   "outputs": [],
   "source": [
    "def load_vid_info(info_files_path):\n",
    "    vid_info = list()\n",
    "\n",
    "    info_files = glob.glob(info_files_path)\n",
    "\n",
    "    for f_name in info_files:\n",
    "        with open(f_name, \"r\") as info_file:\n",
    "            vid_info.extend(json.load(info_file))\n",
    "\n",
    "    # for lookup later\n",
    "    vid2ind = {v[\"id\"]:i for i, v in enumerate(vid_info)}\n",
    "    return vid_info, vid2ind"
   ]
  },
  {
   "cell_type": "code",
   "execution_count": 27,
   "id": "9ea84c46-78df-4a89-839e-48cc42293dcc",
   "metadata": {},
   "outputs": [],
   "source": [
    "def extract_messages(chat_files_path, out_dir, bots_file):\n",
    "    bot_ids = []\n",
    "    with open(bots_file, \"r\") as in_file:\n",
    "        bots = json.load(in_file)\n",
    "        bot_ids = [bot[\"id\"] for bot in bots]\n",
    "\n",
    "    chat_files = glob.glob(chat_files_path)\n",
    "    num_files_extracted = 0\n",
    "    for chat_file_name in chat_files:\n",
    "        zf = ZipFile(chat_file_name)\n",
    "        for f_name in zf.namelist():            \n",
    "            if f_name.endswith(\"json\"):\n",
    "                with zf.open(f_name, \"r\") as in_file:\n",
    "                    vid_chat = json.load(in_file)\n",
    "                    video_id = f_name.split(\"/\")[-1].strip(\".json\")\n",
    "                    with open(f\"{out_dir}/{video_id}.txt\", \"w\") as out_file:\n",
    "                        out_file.write(\"\\n\".join([msg[\"message\"][\"body\"] for msg in vid_chat[\"comments\"] if msg[\"commenter\"][\"_id\"] not in bot_ids]))\n",
    "                    num_files_extracted += 1\n",
    "            if num_files_extracted%250 == 0:\n",
    "                print(f\"{datetime.now().strftime('%Y/%m/%d_%H:%M:%S')}: extracted {num_files_extracted} chat files.\")\n"
   ]
  },
  {
   "cell_type": "code",
   "execution_count": 28,
   "id": "e0b65120-1380-4cdc-b6ef-e0f58176a70a",
   "metadata": {},
   "outputs": [],
   "source": [
    "vinf, v2i = load_vid_info(\"../data/video_info/*_vids.json\")"
   ]
  },
  {
   "cell_type": "code",
   "execution_count": 29,
   "id": "c0549277-6bb5-44b9-95bb-6bee42705057",
   "metadata": {},
   "outputs": [],
   "source": [
    "channels = {c[\"user_login\"] for c in vinf}"
   ]
  },
  {
   "cell_type": "code",
   "execution_count": 30,
   "id": "78ec0631-5f2b-420b-a4cf-b53e37def047",
   "metadata": {},
   "outputs": [],
   "source": [
    "corpus_dir = \"../data/videos_chat/corpus_test\"\n",
    "if not os.path.exists(corpus_dir):\n",
    "    os.makedirs(corpus_dir)"
   ]
  },
  {
   "cell_type": "code",
   "execution_count": 31,
   "id": "7cee26ca-8e17-4c48-b4be-46fa591a6a74",
   "metadata": {},
   "outputs": [
    {
     "name": "stdout",
     "output_type": "stream",
     "text": [
      "2022/04/04_15:06:57: extracted 0 chat files.\n",
      "2022/04/04_15:06:58: extracted 250 chat files.\n",
      "2022/04/04_15:07:13: extracted 500 chat files.\n",
      "2022/04/04_15:07:23: extracted 750 chat files.\n",
      "2022/04/04_15:07:32: extracted 1000 chat files.\n",
      "2022/04/04_15:07:55: extracted 1250 chat files.\n"
     ]
    }
   ],
   "source": [
    "extract_messages(\"../data/videos_chat/*_vids_chat.zip\", corpus_dir, \"../data/twitch_info/twitch_bots.json\")"
   ]
  },
  {
   "cell_type": "code",
   "execution_count": null,
   "id": "c575bd9c-c867-4ce2-bc98-017664cc74d2",
   "metadata": {},
   "outputs": [],
   "source": []
  }
 ],
 "metadata": {
  "kernelspec": {
   "display_name": "Python 3 (ipykernel)",
   "language": "python",
   "name": "python3"
  },
  "language_info": {
   "codemirror_mode": {
    "name": "ipython",
    "version": 3
   },
   "file_extension": ".py",
   "mimetype": "text/x-python",
   "name": "python",
   "nbconvert_exporter": "python",
   "pygments_lexer": "ipython3",
   "version": "3.8.12"
  }
 },
 "nbformat": 4,
 "nbformat_minor": 5
}
