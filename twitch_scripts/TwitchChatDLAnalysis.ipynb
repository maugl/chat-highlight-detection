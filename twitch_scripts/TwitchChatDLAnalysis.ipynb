{
 "cells": [
  {
   "cell_type": "code",
   "execution_count": 7,
   "id": "8a21c578-91ea-4c6e-8a69-7dc6dfd9f866",
   "metadata": {},
   "outputs": [],
   "source": [
    "import json\n",
    "from zipfile import ZipFile\n",
    "import pandas as pd\n",
    "import glob"
   ]
  },
  {
   "cell_type": "markdown",
   "id": "12acbc22-61fe-4272-b404-b0359b81d1a7",
   "metadata": {
    "tags": []
   },
   "source": [
    "## Video info from zipped download"
   ]
  },
  {
   "cell_type": "code",
   "execution_count": 8,
   "id": "972aae0a-e0d2-4ceb-ba6e-9c4591829ee8",
   "metadata": {},
   "outputs": [],
   "source": [
    "vid_info = list()\n",
    "\n",
    "info_files_path = \"../data/video_info/*_vids.json\"\n",
    "info_files = glob.glob(info_files_path)\n",
    "\n",
    "for f_name in info_files:\n",
    "    with open(f_name, \"r\") as info_file:\n",
    "        vid_info.extend(json.load(info_file))\n",
    "\n",
    "# for lookup later\n",
    "vid2ind = {v[\"id\"]:i for i, v in enumerate(vid_info)}"
   ]
  },
  {
   "cell_type": "code",
   "execution_count": 9,
   "id": "edda882d-7bb7-483d-b7fe-f7963148ec96",
   "metadata": {},
   "outputs": [
    {
     "data": {
      "text/plain": [
       "{'id': '83571434',\n",
       " 'stream_id': '22827014832',\n",
       " 'user_id': '30707866',\n",
       " 'user_login': 'esl_lol',\n",
       " 'user_name': 'ESL_LOL',\n",
       " 'title': 'RERUN: fnatic vs. Millenium - Group A - IEM Katowice 2014 - League of Legends',\n",
       " 'description': '',\n",
       " 'created_at': '2016-08-14T14:26:23Z',\n",
       " 'published_at': '2016-08-14T14:26:23Z',\n",
       " 'url': 'https://www.twitch.tv/videos/83571434',\n",
       " 'thumbnail_url': 'https://static-cdn.jtvnw.net/cf_vods/d2nvs31859zcd8/ad3ef727c7_esl_lol_22827014832_500493871/thumb/thumb0-%{width}x%{height}.jpg',\n",
       " 'viewable': 'public',\n",
       " 'view_count': 36,\n",
       " 'language': 'en',\n",
       " 'type': 'archive',\n",
       " 'duration': '18h30m39s',\n",
       " 'muted_segments': None}"
      ]
     },
     "execution_count": 9,
     "metadata": {},
     "output_type": "execute_result"
    }
   ],
   "source": [
    "vid_info[vid2ind[\"83571434\"]]"
   ]
  },
  {
   "cell_type": "code",
   "execution_count": 49,
   "id": "fc41ec99-561a-4c0d-8d3f-0905f9312cb6",
   "metadata": {},
   "outputs": [],
   "source": [
    "chat_files_path = \"../data/videos_chat/*_vids_chat.zip\"\n",
    "chat_files = glob.glob(chat_files_path)\n",
    "\n",
    "\n",
    "for chat_file_name in chat_files:\n",
    "    zf = ZipFile(chat_file_name)\n",
    "    for f_name in zf.namelist():\n",
    "        # print(f_name)if f_name.endswith(\"json\") else None\n",
    "        if f_name.endswith(\"json\"):\n",
    "            with zf.open(f_name, \"r\") as in_file:\n",
    "                vid_chat = json.load(in_file)\n",
    "                v_ind = vid2ind[f_name.split(\"/\")[-1].strip(\".json\")]\n",
    "                chat_info = {\n",
    "                    \"msg_count\": len(vid_chat[\"comments\"]),\n",
    "                    \"is_rerun\": vid_info[v_ind][\"title\"].startswith(\"RERUN\") or vid_info[v_ind][\"title\"].startswith(\"REBROADCAST\") # might want to add more filters in future\n",
    "                }\n",
    "\n",
    "                vid_info[v_ind].update(chat_info)"
   ]
  },
  {
   "cell_type": "code",
   "execution_count": 16,
   "id": "7f750480-efa1-4ed7-bb1b-b3946c04bb84",
   "metadata": {},
   "outputs": [],
   "source": [
    "vid_info_filtered = [vinf for vinf in vid_info if \"msg_count\" in vinf.keys()]"
   ]
  },
  {
   "cell_type": "markdown",
   "id": "5fd07863-aaee-4da3-941e-8a1af5e94d02",
   "metadata": {},
   "source": [
    "## Video info into dataframe"
   ]
  },
  {
   "cell_type": "code",
   "execution_count": 19,
   "id": "bee33b06-e2fd-4b37-aaa3-fb1f10aa6515",
   "metadata": {},
   "outputs": [
    {
     "data": {
      "text/html": [
       "<div>\n",
       "<style scoped>\n",
       "    .dataframe tbody tr th:only-of-type {\n",
       "        vertical-align: middle;\n",
       "    }\n",
       "\n",
       "    .dataframe tbody tr th {\n",
       "        vertical-align: top;\n",
       "    }\n",
       "\n",
       "    .dataframe thead th {\n",
       "        text-align: right;\n",
       "    }\n",
       "</style>\n",
       "<table border=\"1\" class=\"dataframe\">\n",
       "  <thead>\n",
       "    <tr style=\"text-align: right;\">\n",
       "      <th></th>\n",
       "      <th>id</th>\n",
       "      <th>title</th>\n",
       "      <th>created_at</th>\n",
       "      <th>msg_count</th>\n",
       "      <th>is_rerun</th>\n",
       "      <th>duration</th>\n",
       "    </tr>\n",
       "  </thead>\n",
       "  <tbody>\n",
       "    <tr>\n",
       "      <th>0</th>\n",
       "      <td>1136665862</td>\n",
       "      <td>🔴 LIVE - ESL Mobile Open presents Wild Rift Oc...</td>\n",
       "      <td>2021-09-02 07:18:20+00:00</td>\n",
       "      <td>1282</td>\n",
       "      <td>False</td>\n",
       "      <td>8h11m38s</td>\n",
       "    </tr>\n",
       "    <tr>\n",
       "      <th>1</th>\n",
       "      <td>1129853487</td>\n",
       "      <td>🔴 LIVE - ESL Mobile Open presents Wild Rift Oc...</td>\n",
       "      <td>2021-08-26 07:14:01+00:00</td>\n",
       "      <td>376</td>\n",
       "      <td>False</td>\n",
       "      <td>5h46m43s</td>\n",
       "    </tr>\n",
       "    <tr>\n",
       "      <th>2</th>\n",
       "      <td>1122864123</td>\n",
       "      <td>🔴 LIVE - ESL Mobile Open presents Wild Rift Oc...</td>\n",
       "      <td>2021-08-19 07:15:57+00:00</td>\n",
       "      <td>1040</td>\n",
       "      <td>False</td>\n",
       "      <td>6h11m58s</td>\n",
       "    </tr>\n",
       "    <tr>\n",
       "      <th>3</th>\n",
       "      <td>1115898498</td>\n",
       "      <td>🔴 LIVE - ESL Mobile Open presents Wild Rift Oc...</td>\n",
       "      <td>2021-08-12 09:42:37+00:00</td>\n",
       "      <td>304</td>\n",
       "      <td>False</td>\n",
       "      <td>5h36m13s</td>\n",
       "    </tr>\n",
       "    <tr>\n",
       "      <th>4</th>\n",
       "      <td>1115852655</td>\n",
       "      <td>🔴 LIVE - ESL Mobile Open presents Wild Rift Oc...</td>\n",
       "      <td>2021-08-12 07:31:14+00:00</td>\n",
       "      <td>256</td>\n",
       "      <td>False</td>\n",
       "      <td>2h10m39s</td>\n",
       "    </tr>\n",
       "    <tr>\n",
       "      <th>...</th>\n",
       "      <td>...</td>\n",
       "      <td>...</td>\n",
       "      <td>...</td>\n",
       "      <td>...</td>\n",
       "      <td>...</td>\n",
       "      <td>...</td>\n",
       "    </tr>\n",
       "    <tr>\n",
       "      <th>1361</th>\n",
       "      <td>38013566</td>\n",
       "      <td>GPL 2013 Spring Season #63 #64 Azubu TPA vs KL...</td>\n",
       "      <td>2013-03-10 11:16:44+00:00</td>\n",
       "      <td>0</td>\n",
       "      <td>False</td>\n",
       "      <td>2h42m46s</td>\n",
       "    </tr>\n",
       "    <tr>\n",
       "      <th>1362</th>\n",
       "      <td>38013607</td>\n",
       "      <td>GPL 2013 Spring Season #56 #57 ahq vs SAJ, KLH...</td>\n",
       "      <td>2013-03-03 11:06:12+00:00</td>\n",
       "      <td>0</td>\n",
       "      <td>False</td>\n",
       "      <td>2h26m34s</td>\n",
       "    </tr>\n",
       "    <tr>\n",
       "      <th>1363</th>\n",
       "      <td>38013596</td>\n",
       "      <td>GPL 2013 Spring Season #52 KLH vs SAJ</td>\n",
       "      <td>2013-03-02 11:12:57+00:00</td>\n",
       "      <td>0</td>\n",
       "      <td>False</td>\n",
       "      <td>3h27m1s</td>\n",
       "    </tr>\n",
       "    <tr>\n",
       "      <th>1364</th>\n",
       "      <td>38013562</td>\n",
       "      <td>GPL 2013 Spring Season #44 #45 #46 MLE vs ahq,...</td>\n",
       "      <td>2013-02-23 10:56:24+00:00</td>\n",
       "      <td>0</td>\n",
       "      <td>False</td>\n",
       "      <td>2h41m17s</td>\n",
       "    </tr>\n",
       "    <tr>\n",
       "      <th>1365</th>\n",
       "      <td>38013588</td>\n",
       "      <td>Dell Invitational Cup (VN) - English Stream</td>\n",
       "      <td>2013-02-23 02:32:37+00:00</td>\n",
       "      <td>0</td>\n",
       "      <td>False</td>\n",
       "      <td>7h11m43s</td>\n",
       "    </tr>\n",
       "  </tbody>\n",
       "</table>\n",
       "<p>1366 rows × 6 columns</p>\n",
       "</div>"
      ],
      "text/plain": [
       "              id                                              title  \\\n",
       "0     1136665862  🔴 LIVE - ESL Mobile Open presents Wild Rift Oc...   \n",
       "1     1129853487  🔴 LIVE - ESL Mobile Open presents Wild Rift Oc...   \n",
       "2     1122864123  🔴 LIVE - ESL Mobile Open presents Wild Rift Oc...   \n",
       "3     1115898498  🔴 LIVE - ESL Mobile Open presents Wild Rift Oc...   \n",
       "4     1115852655  🔴 LIVE - ESL Mobile Open presents Wild Rift Oc...   \n",
       "...          ...                                                ...   \n",
       "1361    38013566  GPL 2013 Spring Season #63 #64 Azubu TPA vs KL...   \n",
       "1362    38013607  GPL 2013 Spring Season #56 #57 ahq vs SAJ, KLH...   \n",
       "1363    38013596              GPL 2013 Spring Season #52 KLH vs SAJ   \n",
       "1364    38013562  GPL 2013 Spring Season #44 #45 #46 MLE vs ahq,...   \n",
       "1365    38013588        Dell Invitational Cup (VN) - English Stream   \n",
       "\n",
       "                    created_at  msg_count  is_rerun  duration  \n",
       "0    2021-09-02 07:18:20+00:00       1282     False  8h11m38s  \n",
       "1    2021-08-26 07:14:01+00:00        376     False  5h46m43s  \n",
       "2    2021-08-19 07:15:57+00:00       1040     False  6h11m58s  \n",
       "3    2021-08-12 09:42:37+00:00        304     False  5h36m13s  \n",
       "4    2021-08-12 07:31:14+00:00        256     False  2h10m39s  \n",
       "...                        ...        ...       ...       ...  \n",
       "1361 2013-03-10 11:16:44+00:00          0     False  2h42m46s  \n",
       "1362 2013-03-03 11:06:12+00:00          0     False  2h26m34s  \n",
       "1363 2013-03-02 11:12:57+00:00          0     False   3h27m1s  \n",
       "1364 2013-02-23 10:56:24+00:00          0     False  2h41m17s  \n",
       "1365 2013-02-23 02:32:37+00:00          0     False  7h11m43s  \n",
       "\n",
       "[1366 rows x 6 columns]"
      ]
     },
     "execution_count": 19,
     "metadata": {},
     "output_type": "execute_result"
    }
   ],
   "source": [
    "cols = [\"id\", \"title\", \"created_at\", \"msg_count\", \"is_rerun\", \"duration\"]\n",
    "\n",
    "df_vid_info = pd.DataFrame(vid_info_filtered, columns=cols)\n",
    "df_vid_info[\"created_at\"] = pd.to_datetime(df_vid_info[\"created_at\"])\n",
    "\n",
    "df_vid_info"
   ]
  },
  {
   "cell_type": "code",
   "execution_count": 20,
   "id": "f33d6d83-e295-4f69-a423-6e78c0425765",
   "metadata": {},
   "outputs": [
    {
     "data": {
      "text/html": [
       "<div>\n",
       "<style scoped>\n",
       "    .dataframe tbody tr th:only-of-type {\n",
       "        vertical-align: middle;\n",
       "    }\n",
       "\n",
       "    .dataframe tbody tr th {\n",
       "        vertical-align: top;\n",
       "    }\n",
       "\n",
       "    .dataframe thead th {\n",
       "        text-align: right;\n",
       "    }\n",
       "</style>\n",
       "<table border=\"1\" class=\"dataframe\">\n",
       "  <thead>\n",
       "    <tr style=\"text-align: right;\">\n",
       "      <th></th>\n",
       "      <th>msg_count</th>\n",
       "    </tr>\n",
       "  </thead>\n",
       "  <tbody>\n",
       "    <tr>\n",
       "      <th>count</th>\n",
       "      <td>1366.000000</td>\n",
       "    </tr>\n",
       "    <tr>\n",
       "      <th>mean</th>\n",
       "      <td>1607.335286</td>\n",
       "    </tr>\n",
       "    <tr>\n",
       "      <th>std</th>\n",
       "      <td>14107.745856</td>\n",
       "    </tr>\n",
       "    <tr>\n",
       "      <th>min</th>\n",
       "      <td>0.000000</td>\n",
       "    </tr>\n",
       "    <tr>\n",
       "      <th>25%</th>\n",
       "      <td>0.000000</td>\n",
       "    </tr>\n",
       "    <tr>\n",
       "      <th>50%</th>\n",
       "      <td>0.000000</td>\n",
       "    </tr>\n",
       "    <tr>\n",
       "      <th>75%</th>\n",
       "      <td>165.500000</td>\n",
       "    </tr>\n",
       "    <tr>\n",
       "      <th>max</th>\n",
       "      <td>264144.000000</td>\n",
       "    </tr>\n",
       "  </tbody>\n",
       "</table>\n",
       "</div>"
      ],
      "text/plain": [
       "           msg_count\n",
       "count    1366.000000\n",
       "mean     1607.335286\n",
       "std     14107.745856\n",
       "min         0.000000\n",
       "25%         0.000000\n",
       "50%         0.000000\n",
       "75%       165.500000\n",
       "max    264144.000000"
      ]
     },
     "execution_count": 20,
     "metadata": {},
     "output_type": "execute_result"
    }
   ],
   "source": [
    "df_vid_info.describe()"
   ]
  },
  {
   "cell_type": "code",
   "execution_count": 47,
   "id": "ab88973e-b427-40bf-8f4d-de668158614e",
   "metadata": {},
   "outputs": [],
   "source": [
    "vid_info_out = \"../data/videos_chat/vid_info.csv\"\n",
    "df_vid_info.to_csv(vid_info_out)"
   ]
  },
  {
   "cell_type": "code",
   "execution_count": 21,
   "id": "6e2e2488-659a-4342-848e-acd96d511747",
   "metadata": {},
   "outputs": [
    {
     "data": {
      "text/plain": [
       "'564/1366 videos with comments'"
      ]
     },
     "execution_count": 21,
     "metadata": {},
     "output_type": "execute_result"
    }
   ],
   "source": [
    "df_commented_vids = df_vid_info[df_vid_info.msg_count > 0]\n",
    "f\"{df_commented_vids.id.count()}/{df_vid_info.id.count()} videos with comments\""
   ]
  },
  {
   "cell_type": "code",
   "execution_count": 35,
   "id": "550c3265-17f6-4087-bf8c-fb795d2486ab",
   "metadata": {},
   "outputs": [
    {
     "name": "stdout",
     "output_type": "stream",
     "text": [
      "652/1366 videos are reruns (approx)\n"
     ]
    }
   ],
   "source": [
    "df_reruns = df_vid_info[df_vid_info.is_rerun]\n",
    "print(f\"{df_reruns.id.count()}/{df_vid_info.id.count()} videos are reruns (approx)\")"
   ]
  },
  {
   "cell_type": "code",
   "execution_count": 41,
   "id": "021641ba-f92f-4f37-93ec-475cc8c49c6f",
   "metadata": {},
   "outputs": [
    {
     "name": "stdout",
     "output_type": "stream",
     "text": [
      "294/652 reruns have comments\n"
     ]
    }
   ],
   "source": [
    "print(f\"{sum(df_reruns.msg_count > 0)}/{df_reruns.id.count()} reruns have comments\")"
   ]
  },
  {
   "cell_type": "code",
   "execution_count": 44,
   "id": "47ee65d9-308b-48d6-9110-6bf51b722077",
   "metadata": {},
   "outputs": [
    {
     "name": "stdout",
     "output_type": "stream",
     "text": [
      "689.3067484662577 comments per rerun video on average\n"
     ]
    }
   ],
   "source": [
    "print(f\"{df_reruns.msg_count.mean()} comments per rerun video on average\") # maybe an approximate cutoff for what to sort out"
   ]
  },
  {
   "cell_type": "code",
   "execution_count": 36,
   "id": "fe8629c8-dbdc-4bc7-af6a-79d31992d482",
   "metadata": {},
   "outputs": [
    {
     "name": "stdout",
     "output_type": "stream",
     "text": [
      "2195620 comments in total\n"
     ]
    }
   ],
   "source": [
    "print(f\"{df_commented_vids.msg_count.sum()} comments in total\")"
   ]
  },
  {
   "cell_type": "code",
   "execution_count": 37,
   "id": "d1ef7f2d-3a9e-4bb5-a934-865de269e4ec",
   "metadata": {},
   "outputs": [
    {
     "name": "stdout",
     "output_type": "stream",
     "text": [
      "3892.9432624113474 comments per video on average\n"
     ]
    }
   ],
   "source": [
    "print(f\"{df_commented_vids.msg_count.mean()} comments per video on average\")"
   ]
  },
  {
   "cell_type": "code",
   "execution_count": 38,
   "id": "b3c1c57b-13f3-4a65-b040-af9e372f8e5f",
   "metadata": {},
   "outputs": [
    {
     "name": "stdout",
     "output_type": "stream",
     "text": [
      "oldest video from\t2012-05-29 11:43:41+00:00\n",
      "most recent video from\t2021-09-02 07:18:20+00:00\n"
     ]
    }
   ],
   "source": [
    "print(f\"oldest video from\\t{df_vid_info.created_at.min()}\\nmost recent video from\\t{df_vid_info.created_at.max()}\")"
   ]
  },
  {
   "cell_type": "code",
   "execution_count": null,
   "id": "5ee26132-ffed-495c-854c-6b4df0e00805",
   "metadata": {},
   "outputs": [],
   "source": []
  }
 ],
 "metadata": {
  "kernelspec": {
   "display_name": "Python 3 (ipykernel)",
   "language": "python",
   "name": "python3"
  },
  "language_info": {
   "codemirror_mode": {
    "name": "ipython",
    "version": 3
   },
   "file_extension": ".py",
   "mimetype": "text/x-python",
   "name": "python",
   "nbconvert_exporter": "python",
   "pygments_lexer": "ipython3",
   "version": "3.8.12"
  }
 },
 "nbformat": 4,
 "nbformat_minor": 5
}
