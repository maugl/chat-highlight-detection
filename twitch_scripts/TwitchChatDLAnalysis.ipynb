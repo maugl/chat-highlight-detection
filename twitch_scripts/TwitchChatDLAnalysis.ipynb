{
 "cells": [
  {
   "cell_type": "code",
   "execution_count": 20,
   "id": "8a21c578-91ea-4c6e-8a69-7dc6dfd9f866",
   "metadata": {},
   "outputs": [],
   "source": [
    "import json\n",
    "from zipfile import ZipFile\n",
    "import pandas as pd"
   ]
  },
  {
   "cell_type": "code",
   "execution_count": 10,
   "id": "972aae0a-e0d2-4ceb-ba6e-9c4591829ee8",
   "metadata": {},
   "outputs": [],
   "source": [
    "vid_info = list()\n",
    "\n",
    "with open(\"data/video_info/esl_lol_vids.json\", \"r\") as info_file:\n",
    "    vid_info = json.load(info_file)\n",
    "    vid2ind = {v[\"id\"]:i for i, v in enumerate(vid_info)}"
   ]
  },
  {
   "cell_type": "code",
   "execution_count": 11,
   "id": "edda882d-7bb7-483d-b7fe-f7963148ec96",
   "metadata": {},
   "outputs": [
    {
     "data": {
      "text/plain": [
       "{'id': '83571434',\n",
       " 'stream_id': '22827014832',\n",
       " 'user_id': '30707866',\n",
       " 'user_login': 'esl_lol',\n",
       " 'user_name': 'ESL_LOL',\n",
       " 'title': 'RERUN: fnatic vs. Millenium - Group A - IEM Katowice 2014 - League of Legends',\n",
       " 'description': '',\n",
       " 'created_at': '2016-08-14T14:26:23Z',\n",
       " 'published_at': '2016-08-14T14:26:23Z',\n",
       " 'url': 'https://www.twitch.tv/videos/83571434',\n",
       " 'thumbnail_url': 'https://static-cdn.jtvnw.net/cf_vods/d2nvs31859zcd8/ad3ef727c7_esl_lol_22827014832_500493871/thumb/thumb0-%{width}x%{height}.jpg',\n",
       " 'viewable': 'public',\n",
       " 'view_count': 36,\n",
       " 'language': 'en',\n",
       " 'type': 'archive',\n",
       " 'duration': '18h30m39s',\n",
       " 'muted_segments': None}"
      ]
     },
     "execution_count": 11,
     "metadata": {},
     "output_type": "execute_result"
    }
   ],
   "source": [
    "vid_info[vid2ind[\"83571434\"]]"
   ]
  },
  {
   "cell_type": "code",
   "execution_count": 23,
   "id": "fc41ec99-561a-4c0d-8d3f-0905f9312cb6",
   "metadata": {},
   "outputs": [],
   "source": [
    "zf = ZipFile(\"./data/videos_chat/esl_lol_vids_chat.zip\")\n",
    "for f_name in zf.namelist():\n",
    "    # print(f_name)if f_name.endswith(\"json\") else None\n",
    "    if f_name.endswith(\"json\"):\n",
    "        with zf.open(f_name, \"r\") as in_file:\n",
    "            vid_chat = json.load(in_file)\n",
    "            v_ind = vid2ind[f_name.split(\"/\")[-1].strip(\".json\")]\n",
    "            chat_info = {\n",
    "                \"msg_count\": len(vid_chat[\"comments\"]),\n",
    "                \"is_rerun\": vid_info[v_ind][\"title\"].startswith(\"RERUN\") or vid_info[v_ind][\"title\"].startswith(\"REBROADCAST\")\n",
    "            }\n",
    "            \n",
    "            vid_info[v_ind].update(chat_info)"
   ]
  },
  {
   "cell_type": "code",
   "execution_count": 24,
   "id": "7f750480-efa1-4ed7-bb1b-b3946c04bb84",
   "metadata": {},
   "outputs": [],
   "source": [
    "vid_info_filtered = [vinf for vinf in vid_info if \"msg_count\" in vinf.keys()]"
   ]
  },
  {
   "cell_type": "code",
   "execution_count": 43,
   "id": "bee33b06-e2fd-4b37-aaa3-fb1f10aa6515",
   "metadata": {},
   "outputs": [
    {
     "data": {
      "text/html": [
       "<div>\n",
       "<style scoped>\n",
       "    .dataframe tbody tr th:only-of-type {\n",
       "        vertical-align: middle;\n",
       "    }\n",
       "\n",
       "    .dataframe tbody tr th {\n",
       "        vertical-align: top;\n",
       "    }\n",
       "\n",
       "    .dataframe thead th {\n",
       "        text-align: right;\n",
       "    }\n",
       "</style>\n",
       "<table border=\"1\" class=\"dataframe\">\n",
       "  <thead>\n",
       "    <tr style=\"text-align: right;\">\n",
       "      <th></th>\n",
       "      <th>id</th>\n",
       "      <th>title</th>\n",
       "      <th>created_at</th>\n",
       "      <th>msg_count</th>\n",
       "      <th>is_rerun</th>\n",
       "      <th>duration</th>\n",
       "    </tr>\n",
       "  </thead>\n",
       "  <tbody>\n",
       "    <tr>\n",
       "      <th>0</th>\n",
       "      <td>1136665862</td>\n",
       "      <td>🔴 LIVE - ESL Mobile Open presents Wild Rift Oc...</td>\n",
       "      <td>2021-09-02 07:18:20+00:00</td>\n",
       "      <td>1282</td>\n",
       "      <td>False</td>\n",
       "      <td>8h11m38s</td>\n",
       "    </tr>\n",
       "    <tr>\n",
       "      <th>1</th>\n",
       "      <td>1129853487</td>\n",
       "      <td>🔴 LIVE - ESL Mobile Open presents Wild Rift Oc...</td>\n",
       "      <td>2021-08-26 07:14:01+00:00</td>\n",
       "      <td>376</td>\n",
       "      <td>False</td>\n",
       "      <td>5h46m43s</td>\n",
       "    </tr>\n",
       "    <tr>\n",
       "      <th>2</th>\n",
       "      <td>1122864123</td>\n",
       "      <td>🔴 LIVE - ESL Mobile Open presents Wild Rift Oc...</td>\n",
       "      <td>2021-08-19 07:15:57+00:00</td>\n",
       "      <td>1040</td>\n",
       "      <td>False</td>\n",
       "      <td>6h11m58s</td>\n",
       "    </tr>\n",
       "    <tr>\n",
       "      <th>3</th>\n",
       "      <td>1115898498</td>\n",
       "      <td>🔴 LIVE - ESL Mobile Open presents Wild Rift Oc...</td>\n",
       "      <td>2021-08-12 09:42:37+00:00</td>\n",
       "      <td>304</td>\n",
       "      <td>False</td>\n",
       "      <td>5h36m13s</td>\n",
       "    </tr>\n",
       "    <tr>\n",
       "      <th>4</th>\n",
       "      <td>1115852655</td>\n",
       "      <td>🔴 LIVE - ESL Mobile Open presents Wild Rift Oc...</td>\n",
       "      <td>2021-08-12 07:31:14+00:00</td>\n",
       "      <td>256</td>\n",
       "      <td>False</td>\n",
       "      <td>2h10m39s</td>\n",
       "    </tr>\n",
       "    <tr>\n",
       "      <th>...</th>\n",
       "      <td>...</td>\n",
       "      <td>...</td>\n",
       "      <td>...</td>\n",
       "      <td>...</td>\n",
       "      <td>...</td>\n",
       "      <td>...</td>\n",
       "    </tr>\n",
       "    <tr>\n",
       "      <th>1015</th>\n",
       "      <td>38088822</td>\n",
       "      <td>CPL Shenyang Korean Qualifier. Tempest vs CJ E...</td>\n",
       "      <td>2012-08-13 11:48:06+00:00</td>\n",
       "      <td>0</td>\n",
       "      <td>False</td>\n",
       "      <td>3h39m30s</td>\n",
       "    </tr>\n",
       "    <tr>\n",
       "      <th>1016</th>\n",
       "      <td>38088808</td>\n",
       "      <td>Go4LoL EU West June Final with Joe and ButButB...</td>\n",
       "      <td>2012-08-09 17:56:24+00:00</td>\n",
       "      <td>0</td>\n",
       "      <td>False</td>\n",
       "      <td>6h18m57s</td>\n",
       "    </tr>\n",
       "    <tr>\n",
       "      <th>1017</th>\n",
       "      <td>38088787</td>\n",
       "      <td>ESL Pro Series LoL Playoffs with Joe and ButBu...</td>\n",
       "      <td>2012-08-04 15:02:40+00:00</td>\n",
       "      <td>0</td>\n",
       "      <td>False</td>\n",
       "      <td>4h49m30s</td>\n",
       "    </tr>\n",
       "    <tr>\n",
       "      <th>1018</th>\n",
       "      <td>38088203</td>\n",
       "      <td>Gamescom European Regional Finals Decider</td>\n",
       "      <td>2012-08-02 18:57:41+00:00</td>\n",
       "      <td>0</td>\n",
       "      <td>False</td>\n",
       "      <td>1h59m59s</td>\n",
       "    </tr>\n",
       "    <tr>\n",
       "      <th>1019</th>\n",
       "      <td>38088788</td>\n",
       "      <td>World Elite vs Taipei Assassins - Grand Final ...</td>\n",
       "      <td>2012-05-29 11:43:41+00:00</td>\n",
       "      <td>0</td>\n",
       "      <td>False</td>\n",
       "      <td>1h59m59s</td>\n",
       "    </tr>\n",
       "  </tbody>\n",
       "</table>\n",
       "<p>1020 rows × 6 columns</p>\n",
       "</div>"
      ],
      "text/plain": [
       "              id                                              title  \\\n",
       "0     1136665862  🔴 LIVE - ESL Mobile Open presents Wild Rift Oc...   \n",
       "1     1129853487  🔴 LIVE - ESL Mobile Open presents Wild Rift Oc...   \n",
       "2     1122864123  🔴 LIVE - ESL Mobile Open presents Wild Rift Oc...   \n",
       "3     1115898498  🔴 LIVE - ESL Mobile Open presents Wild Rift Oc...   \n",
       "4     1115852655  🔴 LIVE - ESL Mobile Open presents Wild Rift Oc...   \n",
       "...          ...                                                ...   \n",
       "1015    38088822  CPL Shenyang Korean Qualifier. Tempest vs CJ E...   \n",
       "1016    38088808  Go4LoL EU West June Final with Joe and ButButB...   \n",
       "1017    38088787  ESL Pro Series LoL Playoffs with Joe and ButBu...   \n",
       "1018    38088203          Gamescom European Regional Finals Decider   \n",
       "1019    38088788  World Elite vs Taipei Assassins - Grand Final ...   \n",
       "\n",
       "                    created_at  msg_count  is_rerun  duration  \n",
       "0    2021-09-02 07:18:20+00:00       1282     False  8h11m38s  \n",
       "1    2021-08-26 07:14:01+00:00        376     False  5h46m43s  \n",
       "2    2021-08-19 07:15:57+00:00       1040     False  6h11m58s  \n",
       "3    2021-08-12 09:42:37+00:00        304     False  5h36m13s  \n",
       "4    2021-08-12 07:31:14+00:00        256     False  2h10m39s  \n",
       "...                        ...        ...       ...       ...  \n",
       "1015 2012-08-13 11:48:06+00:00          0     False  3h39m30s  \n",
       "1016 2012-08-09 17:56:24+00:00          0     False  6h18m57s  \n",
       "1017 2012-08-04 15:02:40+00:00          0     False  4h49m30s  \n",
       "1018 2012-08-02 18:57:41+00:00          0     False  1h59m59s  \n",
       "1019 2012-05-29 11:43:41+00:00          0     False  1h59m59s  \n",
       "\n",
       "[1020 rows x 6 columns]"
      ]
     },
     "execution_count": 43,
     "metadata": {},
     "output_type": "execute_result"
    }
   ],
   "source": [
    "cols = [\"id\", \"title\", \"created_at\", \"msg_count\", \"is_rerun\", \"duration\"]\n",
    "\n",
    "df_vid_info = pd.DataFrame(vid_info, columns=cols)\n",
    "df_vid_info[\"created_at\"] = pd.to_datetime(df_vid_info[\"created_at\"])\n",
    "\n",
    "df_vid_info"
   ]
  },
  {
   "cell_type": "code",
   "execution_count": 44,
   "id": "f33d6d83-e295-4f69-a423-6e78c0425765",
   "metadata": {},
   "outputs": [
    {
     "data": {
      "text/html": [
       "<div>\n",
       "<style scoped>\n",
       "    .dataframe tbody tr th:only-of-type {\n",
       "        vertical-align: middle;\n",
       "    }\n",
       "\n",
       "    .dataframe tbody tr th {\n",
       "        vertical-align: top;\n",
       "    }\n",
       "\n",
       "    .dataframe thead th {\n",
       "        text-align: right;\n",
       "    }\n",
       "</style>\n",
       "<table border=\"1\" class=\"dataframe\">\n",
       "  <thead>\n",
       "    <tr style=\"text-align: right;\">\n",
       "      <th></th>\n",
       "      <th>msg_count</th>\n",
       "    </tr>\n",
       "  </thead>\n",
       "  <tbody>\n",
       "    <tr>\n",
       "      <th>count</th>\n",
       "      <td>1020.000000</td>\n",
       "    </tr>\n",
       "    <tr>\n",
       "      <th>mean</th>\n",
       "      <td>2107.175490</td>\n",
       "    </tr>\n",
       "    <tr>\n",
       "      <th>std</th>\n",
       "      <td>16294.075474</td>\n",
       "    </tr>\n",
       "    <tr>\n",
       "      <th>min</th>\n",
       "      <td>0.000000</td>\n",
       "    </tr>\n",
       "    <tr>\n",
       "      <th>25%</th>\n",
       "      <td>0.000000</td>\n",
       "    </tr>\n",
       "    <tr>\n",
       "      <th>50%</th>\n",
       "      <td>1.000000</td>\n",
       "    </tr>\n",
       "    <tr>\n",
       "      <th>75%</th>\n",
       "      <td>265.000000</td>\n",
       "    </tr>\n",
       "    <tr>\n",
       "      <th>max</th>\n",
       "      <td>264144.000000</td>\n",
       "    </tr>\n",
       "  </tbody>\n",
       "</table>\n",
       "</div>"
      ],
      "text/plain": [
       "           msg_count\n",
       "count    1020.000000\n",
       "mean     2107.175490\n",
       "std     16294.075474\n",
       "min         0.000000\n",
       "25%         0.000000\n",
       "50%         1.000000\n",
       "75%       265.000000\n",
       "max    264144.000000"
      ]
     },
     "execution_count": 44,
     "metadata": {},
     "output_type": "execute_result"
    }
   ],
   "source": [
    "df_vid_info.describe()"
   ]
  },
  {
   "cell_type": "code",
   "execution_count": 39,
   "id": "6e2e2488-659a-4342-848e-acd96d511747",
   "metadata": {},
   "outputs": [
    {
     "data": {
      "text/plain": [
       "'511/1020 videos with comments'"
      ]
     },
     "execution_count": 39,
     "metadata": {},
     "output_type": "execute_result"
    }
   ],
   "source": [
    "df_commented_vids = df_vid_info[df_vid_info.msg_count > 0]\n",
    "f\"{df_commented_vids.id.count()}/{df_vid_info.id.count()} videos with comments\""
   ]
  },
  {
   "cell_type": "code",
   "execution_count": 47,
   "id": "550c3265-17f6-4087-bf8c-fb795d2486ab",
   "metadata": {},
   "outputs": [
    {
     "data": {
      "text/plain": [
       "'652/1020 videos are reruns'"
      ]
     },
     "execution_count": 47,
     "metadata": {},
     "output_type": "execute_result"
    }
   ],
   "source": [
    "df_reruns = df_vid_info[df_vid_info.is_rerun]\n",
    "f\"{df_reruns.id.count()}/{df_vid_info.id.count()} videos are reruns\""
   ]
  },
  {
   "cell_type": "code",
   "execution_count": 40,
   "id": "d1ef7f2d-3a9e-4bb5-a934-865de269e4ec",
   "metadata": {},
   "outputs": [
    {
     "data": {
      "text/plain": [
       "4206.103718199609"
      ]
     },
     "execution_count": 40,
     "metadata": {},
     "output_type": "execute_result"
    }
   ],
   "source": [
    "df_commented_vids.msg_count.mean()"
   ]
  },
  {
   "cell_type": "code",
   "execution_count": 45,
   "id": "b3c1c57b-13f3-4a65-b040-af9e372f8e5f",
   "metadata": {},
   "outputs": [
    {
     "data": {
      "text/plain": [
       "(Timestamp('2012-05-29 11:43:41+0000', tz='UTC'),\n",
       " Timestamp('2021-09-02 07:18:20+0000', tz='UTC'))"
      ]
     },
     "execution_count": 45,
     "metadata": {},
     "output_type": "execute_result"
    }
   ],
   "source": [
    "df_vid_info[\"created_at\"].min(), df_vid_info[\"created_at\"].max()"
   ]
  },
  {
   "cell_type": "code",
   "execution_count": null,
   "id": "fe8629c8-dbdc-4bc7-af6a-79d31992d482",
   "metadata": {},
   "outputs": [],
   "source": []
  }
 ],
 "metadata": {
  "kernelspec": {
   "display_name": "Python 3 (ipykernel)",
   "language": "python",
   "name": "python3"
  },
  "language_info": {
   "codemirror_mode": {
    "name": "ipython",
    "version": 3
   },
   "file_extension": ".py",
   "mimetype": "text/x-python",
   "name": "python",
   "nbconvert_exporter": "python",
   "pygments_lexer": "ipython3",
   "version": "3.8.12"
  }
 },
 "nbformat": 4,
 "nbformat_minor": 5
}
