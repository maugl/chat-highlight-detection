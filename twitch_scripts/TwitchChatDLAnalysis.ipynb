{
 "cells": [
  {
   "cell_type": "code",
   "execution_count": 62,
   "id": "d8fb680b-5d3d-4f23-a792-b6b62b384e14",
   "metadata": {},
   "outputs": [],
   "source": [
    "import sys\n",
    "sys.path.append('../')"
   ]
  },
  {
   "cell_type": "code",
   "execution_count": 79,
   "id": "8a21c578-91ea-4c6e-8a69-7dc6dfd9f866",
   "metadata": {},
   "outputs": [],
   "source": [
    "import json\n",
    "from zipfile import ZipFile\n",
    "import pandas as pd\n",
    "import numpy as np\n",
    "import glob\n",
    "import matplotlib.pyplot as plt\n",
    "from scipy.stats import pearsonr\n",
    "\n",
    "from sklearn.neighbors import KernelDensity\n",
    "\n",
    "from data_loading import ChatHighlightData\n",
    "import utils"
   ]
  },
  {
   "cell_type": "markdown",
   "id": "12acbc22-61fe-4272-b404-b0359b81d1a7",
   "metadata": {
    "tags": []
   },
   "source": [
    "## Video info from zipped download"
   ]
  },
  {
   "cell_type": "code",
   "execution_count": 8,
   "id": "972aae0a-e0d2-4ceb-ba6e-9c4591829ee8",
   "metadata": {},
   "outputs": [],
   "source": [
    "vid_info = list()\n",
    "\n",
    "info_files_path = \"../data/video_info/*_vids.json\"\n",
    "info_files = glob.glob(info_files_path)\n",
    "\n",
    "for f_name in info_files:\n",
    "    with open(f_name, \"r\") as info_file:\n",
    "        vid_info.extend(json.load(info_file))\n",
    "\n",
    "# for lookup later\n",
    "vid2ind = {v[\"id\"]:i for i, v in enumerate(vid_info)}"
   ]
  },
  {
   "cell_type": "code",
   "execution_count": 9,
   "id": "edda882d-7bb7-483d-b7fe-f7963148ec96",
   "metadata": {},
   "outputs": [
    {
     "data": {
      "text/plain": [
       "{'id': '83571434',\n",
       " 'stream_id': '22827014832',\n",
       " 'user_id': '30707866',\n",
       " 'user_login': 'esl_lol',\n",
       " 'user_name': 'ESL_LOL',\n",
       " 'title': 'RERUN: fnatic vs. Millenium - Group A - IEM Katowice 2014 - League of Legends',\n",
       " 'description': '',\n",
       " 'created_at': '2016-08-14T14:26:23Z',\n",
       " 'published_at': '2016-08-14T14:26:23Z',\n",
       " 'url': 'https://www.twitch.tv/videos/83571434',\n",
       " 'thumbnail_url': 'https://static-cdn.jtvnw.net/cf_vods/d2nvs31859zcd8/ad3ef727c7_esl_lol_22827014832_500493871/thumb/thumb0-%{width}x%{height}.jpg',\n",
       " 'viewable': 'public',\n",
       " 'view_count': 36,\n",
       " 'language': 'en',\n",
       " 'type': 'archive',\n",
       " 'duration': '18h30m39s',\n",
       " 'muted_segments': None}"
      ]
     },
     "execution_count": 9,
     "metadata": {},
     "output_type": "execute_result"
    }
   ],
   "source": [
    "vid_info[vid2ind[\"83571434\"]]"
   ]
  },
  {
   "cell_type": "code",
   "execution_count": 49,
   "id": "fc41ec99-561a-4c0d-8d3f-0905f9312cb6",
   "metadata": {},
   "outputs": [],
   "source": [
    "chat_files_path = \"../data/videos_chat/*_vids_chat.zip\"\n",
    "chat_files = glob.glob(chat_files_path)\n",
    "\n",
    "\n",
    "for chat_file_name in chat_files:\n",
    "    zf = ZipFile(chat_file_name)\n",
    "    for f_name in zf.namelist():\n",
    "        # print(f_name)if f_name.endswith(\"json\") else None\n",
    "        if f_name.endswith(\"json\"):\n",
    "            with zf.open(f_name, \"r\") as in_file:\n",
    "                vid_chat = json.load(in_file)\n",
    "                v_ind = vid2ind[f_name.split(\"/\")[-1].strip(\".json\")]\n",
    "                chat_info = {\n",
    "                    \"msg_count\": len(vid_chat[\"comments\"]),\n",
    "                    \"is_rerun\": vid_info[v_ind][\"title\"].startswith(\"RERUN\") or vid_info[v_ind][\"title\"].startswith(\"REBROADCAST\") # might want to add more filters in future\n",
    "                }\n",
    "\n",
    "                vid_info[v_ind].update(chat_info)"
   ]
  },
  {
   "cell_type": "code",
   "execution_count": 16,
   "id": "7f750480-efa1-4ed7-bb1b-b3946c04bb84",
   "metadata": {},
   "outputs": [],
   "source": [
    "vid_info_filtered = [vinf for vinf in vid_info if \"msg_count\" in vinf.keys()]"
   ]
  },
  {
   "cell_type": "markdown",
   "id": "5fd07863-aaee-4da3-941e-8a1af5e94d02",
   "metadata": {},
   "source": [
    "## Video info into dataframe"
   ]
  },
  {
   "cell_type": "code",
   "execution_count": 2,
   "id": "bee33b06-e2fd-4b37-aaa3-fb1f10aa6515",
   "metadata": {},
   "outputs": [
    {
     "data": {
      "text/html": [
       "<div>\n",
       "<style scoped>\n",
       "    .dataframe tbody tr th:only-of-type {\n",
       "        vertical-align: middle;\n",
       "    }\n",
       "\n",
       "    .dataframe tbody tr th {\n",
       "        vertical-align: top;\n",
       "    }\n",
       "\n",
       "    .dataframe thead th {\n",
       "        text-align: right;\n",
       "    }\n",
       "</style>\n",
       "<table border=\"1\" class=\"dataframe\">\n",
       "  <thead>\n",
       "    <tr style=\"text-align: right;\">\n",
       "      <th></th>\n",
       "      <th>Unnamed: 0</th>\n",
       "      <th>id</th>\n",
       "      <th>title</th>\n",
       "      <th>created_at</th>\n",
       "      <th>msg_count</th>\n",
       "      <th>is_rerun</th>\n",
       "      <th>duration</th>\n",
       "    </tr>\n",
       "  </thead>\n",
       "  <tbody>\n",
       "    <tr>\n",
       "      <th>0</th>\n",
       "      <td>0</td>\n",
       "      <td>227102357</td>\n",
       "      <td>CDL Apertura 2019 Semana 3</td>\n",
       "      <td>2018-02-09 00:45:28+00:00</td>\n",
       "      <td>3874</td>\n",
       "      <td>False</td>\n",
       "      <td>4h27m52s</td>\n",
       "    </tr>\n",
       "    <tr>\n",
       "      <th>1</th>\n",
       "      <td>1</td>\n",
       "      <td>225381050</td>\n",
       "      <td>LLN Apertura 2018 S3 Día 2</td>\n",
       "      <td>2018-02-03 19:45:22+00:00</td>\n",
       "      <td>4457</td>\n",
       "      <td>False</td>\n",
       "      <td>1h25m18s</td>\n",
       "    </tr>\n",
       "    <tr>\n",
       "      <th>2</th>\n",
       "      <td>2</td>\n",
       "      <td>225068727</td>\n",
       "      <td>LLN Apertura 2018 S3 Día 1</td>\n",
       "      <td>2018-02-02 22:45:18+00:00</td>\n",
       "      <td>10065</td>\n",
       "      <td>False</td>\n",
       "      <td>3h49m24s</td>\n",
       "    </tr>\n",
       "    <tr>\n",
       "      <th>3</th>\n",
       "      <td>3</td>\n",
       "      <td>224766976</td>\n",
       "      <td>CDL Apertura 2018 Semana 2</td>\n",
       "      <td>2018-02-02 00:45:30+00:00</td>\n",
       "      <td>5975</td>\n",
       "      <td>False</td>\n",
       "      <td>4h21m25s</td>\n",
       "    </tr>\n",
       "    <tr>\n",
       "      <th>4</th>\n",
       "      <td>4</td>\n",
       "      <td>223003357</td>\n",
       "      <td>LLN Apertura 2018 S2 Día 2</td>\n",
       "      <td>2018-01-27 19:45:02+00:00</td>\n",
       "      <td>6873</td>\n",
       "      <td>False</td>\n",
       "      <td>2h34m17s</td>\n",
       "    </tr>\n",
       "    <tr>\n",
       "      <th>...</th>\n",
       "      <td>...</td>\n",
       "      <td>...</td>\n",
       "      <td>...</td>\n",
       "      <td>...</td>\n",
       "      <td>...</td>\n",
       "      <td>...</td>\n",
       "      <td>...</td>\n",
       "    </tr>\n",
       "    <tr>\n",
       "      <th>5949</th>\n",
       "      <td>5949</td>\n",
       "      <td>69488592</td>\n",
       "      <td>LCK Summer - Week 2 Day 1: AFS vs. SSG (OGN)</td>\n",
       "      <td>2016-05-30 10:46:44+00:00</td>\n",
       "      <td>9010</td>\n",
       "      <td>False</td>\n",
       "      <td>2h19m28s</td>\n",
       "    </tr>\n",
       "    <tr>\n",
       "      <th>5950</th>\n",
       "      <td>5950</td>\n",
       "      <td>69052411</td>\n",
       "      <td>LCK Summer - Week 1 Day 4: JAG vs. LZ</td>\n",
       "      <td>2016-05-28 04:44:00+00:00</td>\n",
       "      <td>7634</td>\n",
       "      <td>False</td>\n",
       "      <td>2h19m44s</td>\n",
       "    </tr>\n",
       "    <tr>\n",
       "      <th>5951</th>\n",
       "      <td>5951</td>\n",
       "      <td>68882512</td>\n",
       "      <td>LCK Summer - Week 1 Day 3: MVP vs. KT (OGN)</td>\n",
       "      <td>2016-05-27 10:47:11+00:00</td>\n",
       "      <td>10036</td>\n",
       "      <td>False</td>\n",
       "      <td>2h42m56s</td>\n",
       "    </tr>\n",
       "    <tr>\n",
       "      <th>5952</th>\n",
       "      <td>5952</td>\n",
       "      <td>68694328</td>\n",
       "      <td>LCK Summer - Week 1 Day 2: ROX vs. SSG (OGN)</td>\n",
       "      <td>2016-05-26 10:46:49+00:00</td>\n",
       "      <td>14758</td>\n",
       "      <td>False</td>\n",
       "      <td>2h42m2s</td>\n",
       "    </tr>\n",
       "    <tr>\n",
       "      <th>5953</th>\n",
       "      <td>5953</td>\n",
       "      <td>68491602</td>\n",
       "      <td>LCK Summer - Week 1 Day 1: AFS vs. LZ | CJ vs....</td>\n",
       "      <td>2016-05-25 07:52:12+00:00</td>\n",
       "      <td>38290</td>\n",
       "      <td>False</td>\n",
       "      <td>5h21m29s</td>\n",
       "    </tr>\n",
       "  </tbody>\n",
       "</table>\n",
       "<p>5954 rows × 7 columns</p>\n",
       "</div>"
      ],
      "text/plain": [
       "      Unnamed: 0         id  \\\n",
       "0              0  227102357   \n",
       "1              1  225381050   \n",
       "2              2  225068727   \n",
       "3              3  224766976   \n",
       "4              4  223003357   \n",
       "...          ...        ...   \n",
       "5949        5949   69488592   \n",
       "5950        5950   69052411   \n",
       "5951        5951   68882512   \n",
       "5952        5952   68694328   \n",
       "5953        5953   68491602   \n",
       "\n",
       "                                                  title  \\\n",
       "0                            CDL Apertura 2019 Semana 3   \n",
       "1                            LLN Apertura 2018 S3 Día 2   \n",
       "2                            LLN Apertura 2018 S3 Día 1   \n",
       "3                            CDL Apertura 2018 Semana 2   \n",
       "4                            LLN Apertura 2018 S2 Día 2   \n",
       "...                                                 ...   \n",
       "5949       LCK Summer - Week 2 Day 1: AFS vs. SSG (OGN)   \n",
       "5950              LCK Summer - Week 1 Day 4: JAG vs. LZ   \n",
       "5951        LCK Summer - Week 1 Day 3: MVP vs. KT (OGN)   \n",
       "5952       LCK Summer - Week 1 Day 2: ROX vs. SSG (OGN)   \n",
       "5953  LCK Summer - Week 1 Day 1: AFS vs. LZ | CJ vs....   \n",
       "\n",
       "                     created_at  msg_count  is_rerun  duration  \n",
       "0     2018-02-09 00:45:28+00:00       3874     False  4h27m52s  \n",
       "1     2018-02-03 19:45:22+00:00       4457     False  1h25m18s  \n",
       "2     2018-02-02 22:45:18+00:00      10065     False  3h49m24s  \n",
       "3     2018-02-02 00:45:30+00:00       5975     False  4h21m25s  \n",
       "4     2018-01-27 19:45:02+00:00       6873     False  2h34m17s  \n",
       "...                         ...        ...       ...       ...  \n",
       "5949  2016-05-30 10:46:44+00:00       9010     False  2h19m28s  \n",
       "5950  2016-05-28 04:44:00+00:00       7634     False  2h19m44s  \n",
       "5951  2016-05-27 10:47:11+00:00      10036     False  2h42m56s  \n",
       "5952  2016-05-26 10:46:49+00:00      14758     False   2h42m2s  \n",
       "5953  2016-05-25 07:52:12+00:00      38290     False  5h21m29s  \n",
       "\n",
       "[5954 rows x 7 columns]"
      ]
     },
     "execution_count": 2,
     "metadata": {},
     "output_type": "execute_result"
    }
   ],
   "source": [
    "\"\"\"\n",
    "cols = [\"id\", \"title\", \"created_at\", \"msg_count\", \"is_rerun\", \"duration\"]\n",
    "\n",
    "df_vid_info = pd.DataFrame(vid_info_filtered, columns=cols)\n",
    "df_vid_info[\"created_at\"] = pd.to_datetime(df_vid_info[\"created_at\"])\n",
    "\"\"\"\n",
    "df_vid_info = pd.read_csv(\"../data/video_info/vid_info.csv\")\n",
    "df_vid_info"
   ]
  },
  {
   "cell_type": "code",
   "execution_count": 3,
   "id": "bf222d26-ae75-4e81-865d-f98fee276d57",
   "metadata": {},
   "outputs": [],
   "source": [
    "hours, dur = zip(*[d.split(\"h\") if \"h\" in d else (0,d) for d in df_vid_info.duration])\n",
    "minutes, dur = zip(*[d.split(\"m\") if \"m\" in d else (0,d) for d in dur])\n",
    "seconds, _ = zip(*[d.split(\"s\") if \"s\" in d else (0,d) for d in dur])\n",
    "\n",
    "hours = np.asarray(hours, dtype=int)\n",
    "minutes = np.asarray(minutes, dtype=int)\n",
    "seconds = np.asarray(seconds, dtype=int)\n",
    "\n",
    "df_vid_info[\"duration_hrs\"] = hours + minutes/60 + seconds/(60*60)"
   ]
  },
  {
   "cell_type": "code",
   "execution_count": 4,
   "id": "5d05214d-6ee6-47f8-be18-9f4a0ac40376",
   "metadata": {},
   "outputs": [],
   "source": [
    "#delete 0 length stream\n",
    "df_vid_info = df_vid_info.drop(df_vid_info[df_vid_info[\"duration_hrs\"] == 0].index)"
   ]
  },
  {
   "cell_type": "code",
   "execution_count": 5,
   "id": "20a3458e-701e-46b9-b7a0-951241aef158",
   "metadata": {},
   "outputs": [],
   "source": [
    "rerun_markers = [\"(RE-BROADCAST)\", \"(REBROADCAST)\",\"REBROADCAST:\",\"RERUNL:\",\"RERUN:\",\"Rerun:\",\"[Rebroadcast]\",\"RERUN\",\"REBROADCAST\"]"
   ]
  },
  {
   "cell_type": "code",
   "execution_count": 6,
   "id": "89b6d276-14a9-4da4-acc2-8c19e2d6ee46",
   "metadata": {},
   "outputs": [],
   "source": [
    "df_vid_info[\"is_rerun\"] = df_vid_info.apply(lambda x: bool(min(1, x[\"is_rerun\"] + sum([x[\"title\"].startswith(k) for k in rerun_markers]))), axis=1).to_numpy()"
   ]
  },
  {
   "cell_type": "code",
   "execution_count": 7,
   "id": "28957287-8ff7-4367-918d-782da8b64956",
   "metadata": {},
   "outputs": [],
   "source": [
    "df_vid_info[\"msg_per_min\"] = df_vid_info.apply(lambda x: x[\"msg_count\"]/(x[\"duration_hrs\"]*60),axis=1)"
   ]
  },
  {
   "cell_type": "code",
   "execution_count": 8,
   "id": "6fca5df3-61c9-467b-800e-6f65b9df533f",
   "metadata": {},
   "outputs": [
    {
     "data": {
      "text/html": [
       "<div>\n",
       "<style scoped>\n",
       "    .dataframe tbody tr th:only-of-type {\n",
       "        vertical-align: middle;\n",
       "    }\n",
       "\n",
       "    .dataframe tbody tr th {\n",
       "        vertical-align: top;\n",
       "    }\n",
       "\n",
       "    .dataframe thead th {\n",
       "        text-align: right;\n",
       "    }\n",
       "</style>\n",
       "<table border=\"1\" class=\"dataframe\">\n",
       "  <thead>\n",
       "    <tr style=\"text-align: right;\">\n",
       "      <th></th>\n",
       "      <th>Unnamed: 0</th>\n",
       "      <th>id</th>\n",
       "      <th>title</th>\n",
       "      <th>created_at</th>\n",
       "      <th>msg_count</th>\n",
       "      <th>is_rerun</th>\n",
       "      <th>duration</th>\n",
       "      <th>duration_hrs</th>\n",
       "      <th>msg_per_min</th>\n",
       "    </tr>\n",
       "  </thead>\n",
       "  <tbody>\n",
       "    <tr>\n",
       "      <th>0</th>\n",
       "      <td>0</td>\n",
       "      <td>227102357</td>\n",
       "      <td>CDL Apertura 2019 Semana 3</td>\n",
       "      <td>2018-02-09 00:45:28+00:00</td>\n",
       "      <td>3874</td>\n",
       "      <td>False</td>\n",
       "      <td>4h27m52s</td>\n",
       "      <td>4.464444</td>\n",
       "      <td>14.462419</td>\n",
       "    </tr>\n",
       "    <tr>\n",
       "      <th>1</th>\n",
       "      <td>1</td>\n",
       "      <td>225381050</td>\n",
       "      <td>LLN Apertura 2018 S3 Día 2</td>\n",
       "      <td>2018-02-03 19:45:22+00:00</td>\n",
       "      <td>4457</td>\n",
       "      <td>False</td>\n",
       "      <td>1h25m18s</td>\n",
       "      <td>1.421667</td>\n",
       "      <td>52.250879</td>\n",
       "    </tr>\n",
       "    <tr>\n",
       "      <th>2</th>\n",
       "      <td>2</td>\n",
       "      <td>225068727</td>\n",
       "      <td>LLN Apertura 2018 S3 Día 1</td>\n",
       "      <td>2018-02-02 22:45:18+00:00</td>\n",
       "      <td>10065</td>\n",
       "      <td>False</td>\n",
       "      <td>3h49m24s</td>\n",
       "      <td>3.823333</td>\n",
       "      <td>43.875327</td>\n",
       "    </tr>\n",
       "    <tr>\n",
       "      <th>3</th>\n",
       "      <td>3</td>\n",
       "      <td>224766976</td>\n",
       "      <td>CDL Apertura 2018 Semana 2</td>\n",
       "      <td>2018-02-02 00:45:30+00:00</td>\n",
       "      <td>5975</td>\n",
       "      <td>False</td>\n",
       "      <td>4h21m25s</td>\n",
       "      <td>4.356944</td>\n",
       "      <td>22.856232</td>\n",
       "    </tr>\n",
       "    <tr>\n",
       "      <th>4</th>\n",
       "      <td>4</td>\n",
       "      <td>223003357</td>\n",
       "      <td>LLN Apertura 2018 S2 Día 2</td>\n",
       "      <td>2018-01-27 19:45:02+00:00</td>\n",
       "      <td>6873</td>\n",
       "      <td>False</td>\n",
       "      <td>2h34m17s</td>\n",
       "      <td>2.571389</td>\n",
       "      <td>44.547910</td>\n",
       "    </tr>\n",
       "    <tr>\n",
       "      <th>...</th>\n",
       "      <td>...</td>\n",
       "      <td>...</td>\n",
       "      <td>...</td>\n",
       "      <td>...</td>\n",
       "      <td>...</td>\n",
       "      <td>...</td>\n",
       "      <td>...</td>\n",
       "      <td>...</td>\n",
       "      <td>...</td>\n",
       "    </tr>\n",
       "    <tr>\n",
       "      <th>5949</th>\n",
       "      <td>5949</td>\n",
       "      <td>69488592</td>\n",
       "      <td>LCK Summer - Week 2 Day 1: AFS vs. SSG (OGN)</td>\n",
       "      <td>2016-05-30 10:46:44+00:00</td>\n",
       "      <td>9010</td>\n",
       "      <td>False</td>\n",
       "      <td>2h19m28s</td>\n",
       "      <td>2.324444</td>\n",
       "      <td>64.603250</td>\n",
       "    </tr>\n",
       "    <tr>\n",
       "      <th>5950</th>\n",
       "      <td>5950</td>\n",
       "      <td>69052411</td>\n",
       "      <td>LCK Summer - Week 1 Day 4: JAG vs. LZ</td>\n",
       "      <td>2016-05-28 04:44:00+00:00</td>\n",
       "      <td>7634</td>\n",
       "      <td>False</td>\n",
       "      <td>2h19m44s</td>\n",
       "      <td>2.328889</td>\n",
       "      <td>54.632634</td>\n",
       "    </tr>\n",
       "    <tr>\n",
       "      <th>5951</th>\n",
       "      <td>5951</td>\n",
       "      <td>68882512</td>\n",
       "      <td>LCK Summer - Week 1 Day 3: MVP vs. KT (OGN)</td>\n",
       "      <td>2016-05-27 10:47:11+00:00</td>\n",
       "      <td>10036</td>\n",
       "      <td>False</td>\n",
       "      <td>2h42m56s</td>\n",
       "      <td>2.715556</td>\n",
       "      <td>61.595745</td>\n",
       "    </tr>\n",
       "    <tr>\n",
       "      <th>5952</th>\n",
       "      <td>5952</td>\n",
       "      <td>68694328</td>\n",
       "      <td>LCK Summer - Week 1 Day 2: ROX vs. SSG (OGN)</td>\n",
       "      <td>2016-05-26 10:46:49+00:00</td>\n",
       "      <td>14758</td>\n",
       "      <td>False</td>\n",
       "      <td>2h42m2s</td>\n",
       "      <td>2.700556</td>\n",
       "      <td>91.080025</td>\n",
       "    </tr>\n",
       "    <tr>\n",
       "      <th>5953</th>\n",
       "      <td>5953</td>\n",
       "      <td>68491602</td>\n",
       "      <td>LCK Summer - Week 1 Day 1: AFS vs. LZ | CJ vs....</td>\n",
       "      <td>2016-05-25 07:52:12+00:00</td>\n",
       "      <td>38290</td>\n",
       "      <td>False</td>\n",
       "      <td>5h21m29s</td>\n",
       "      <td>5.358056</td>\n",
       "      <td>119.104153</td>\n",
       "    </tr>\n",
       "  </tbody>\n",
       "</table>\n",
       "<p>5953 rows × 9 columns</p>\n",
       "</div>"
      ],
      "text/plain": [
       "      Unnamed: 0         id  \\\n",
       "0              0  227102357   \n",
       "1              1  225381050   \n",
       "2              2  225068727   \n",
       "3              3  224766976   \n",
       "4              4  223003357   \n",
       "...          ...        ...   \n",
       "5949        5949   69488592   \n",
       "5950        5950   69052411   \n",
       "5951        5951   68882512   \n",
       "5952        5952   68694328   \n",
       "5953        5953   68491602   \n",
       "\n",
       "                                                  title  \\\n",
       "0                            CDL Apertura 2019 Semana 3   \n",
       "1                            LLN Apertura 2018 S3 Día 2   \n",
       "2                            LLN Apertura 2018 S3 Día 1   \n",
       "3                            CDL Apertura 2018 Semana 2   \n",
       "4                            LLN Apertura 2018 S2 Día 2   \n",
       "...                                                 ...   \n",
       "5949       LCK Summer - Week 2 Day 1: AFS vs. SSG (OGN)   \n",
       "5950              LCK Summer - Week 1 Day 4: JAG vs. LZ   \n",
       "5951        LCK Summer - Week 1 Day 3: MVP vs. KT (OGN)   \n",
       "5952       LCK Summer - Week 1 Day 2: ROX vs. SSG (OGN)   \n",
       "5953  LCK Summer - Week 1 Day 1: AFS vs. LZ | CJ vs....   \n",
       "\n",
       "                     created_at  msg_count  is_rerun  duration  duration_hrs  \\\n",
       "0     2018-02-09 00:45:28+00:00       3874     False  4h27m52s      4.464444   \n",
       "1     2018-02-03 19:45:22+00:00       4457     False  1h25m18s      1.421667   \n",
       "2     2018-02-02 22:45:18+00:00      10065     False  3h49m24s      3.823333   \n",
       "3     2018-02-02 00:45:30+00:00       5975     False  4h21m25s      4.356944   \n",
       "4     2018-01-27 19:45:02+00:00       6873     False  2h34m17s      2.571389   \n",
       "...                         ...        ...       ...       ...           ...   \n",
       "5949  2016-05-30 10:46:44+00:00       9010     False  2h19m28s      2.324444   \n",
       "5950  2016-05-28 04:44:00+00:00       7634     False  2h19m44s      2.328889   \n",
       "5951  2016-05-27 10:47:11+00:00      10036     False  2h42m56s      2.715556   \n",
       "5952  2016-05-26 10:46:49+00:00      14758     False   2h42m2s      2.700556   \n",
       "5953  2016-05-25 07:52:12+00:00      38290     False  5h21m29s      5.358056   \n",
       "\n",
       "      msg_per_min  \n",
       "0       14.462419  \n",
       "1       52.250879  \n",
       "2       43.875327  \n",
       "3       22.856232  \n",
       "4       44.547910  \n",
       "...           ...  \n",
       "5949    64.603250  \n",
       "5950    54.632634  \n",
       "5951    61.595745  \n",
       "5952    91.080025  \n",
       "5953   119.104153  \n",
       "\n",
       "[5953 rows x 9 columns]"
      ]
     },
     "execution_count": 8,
     "metadata": {},
     "output_type": "execute_result"
    }
   ],
   "source": [
    "df_vid_info"
   ]
  },
  {
   "cell_type": "code",
   "execution_count": 9,
   "id": "1aba0b1e-030c-477f-b241-26adae0e6134",
   "metadata": {},
   "outputs": [
    {
     "data": {
      "text/html": [
       "<div>\n",
       "<style scoped>\n",
       "    .dataframe tbody tr th:only-of-type {\n",
       "        vertical-align: middle;\n",
       "    }\n",
       "\n",
       "    .dataframe tbody tr th {\n",
       "        vertical-align: top;\n",
       "    }\n",
       "\n",
       "    .dataframe thead th {\n",
       "        text-align: right;\n",
       "    }\n",
       "</style>\n",
       "<table border=\"1\" class=\"dataframe\">\n",
       "  <thead>\n",
       "    <tr style=\"text-align: right;\">\n",
       "      <th></th>\n",
       "      <th>Unnamed: 0</th>\n",
       "      <th>id</th>\n",
       "      <th>title</th>\n",
       "      <th>created_at</th>\n",
       "      <th>msg_count</th>\n",
       "      <th>is_rerun</th>\n",
       "      <th>duration</th>\n",
       "      <th>duration_hrs</th>\n",
       "      <th>msg_per_min</th>\n",
       "    </tr>\n",
       "  </thead>\n",
       "  <tbody>\n",
       "  </tbody>\n",
       "</table>\n",
       "</div>"
      ],
      "text/plain": [
       "Empty DataFrame\n",
       "Columns: [Unnamed: 0, id, title, created_at, msg_count, is_rerun, duration, duration_hrs, msg_per_min]\n",
       "Index: []"
      ]
     },
     "execution_count": 9,
     "metadata": {},
     "output_type": "execute_result"
    }
   ],
   "source": [
    "df_vid_info[df_vid_info.msg_count.isna()] # missing videos"
   ]
  },
  {
   "cell_type": "code",
   "execution_count": 10,
   "id": "f33d6d83-e295-4f69-a423-6e78c0425765",
   "metadata": {},
   "outputs": [
    {
     "data": {
      "text/html": [
       "<div>\n",
       "<style scoped>\n",
       "    .dataframe tbody tr th:only-of-type {\n",
       "        vertical-align: middle;\n",
       "    }\n",
       "\n",
       "    .dataframe tbody tr th {\n",
       "        vertical-align: top;\n",
       "    }\n",
       "\n",
       "    .dataframe thead th {\n",
       "        text-align: right;\n",
       "    }\n",
       "</style>\n",
       "<table border=\"1\" class=\"dataframe\">\n",
       "  <thead>\n",
       "    <tr style=\"text-align: right;\">\n",
       "      <th></th>\n",
       "      <th>Unnamed: 0</th>\n",
       "      <th>id</th>\n",
       "      <th>msg_count</th>\n",
       "      <th>duration_hrs</th>\n",
       "      <th>msg_per_min</th>\n",
       "    </tr>\n",
       "  </thead>\n",
       "  <tbody>\n",
       "    <tr>\n",
       "      <th>count</th>\n",
       "      <td>5953.000000</td>\n",
       "      <td>5.953000e+03</td>\n",
       "      <td>5953.000000</td>\n",
       "      <td>5953.000000</td>\n",
       "      <td>5953.000000</td>\n",
       "    </tr>\n",
       "    <tr>\n",
       "      <th>mean</th>\n",
       "      <td>2976.138922</td>\n",
       "      <td>3.187749e+08</td>\n",
       "      <td>15733.779607</td>\n",
       "      <td>6.361180</td>\n",
       "      <td>43.619916</td>\n",
       "    </tr>\n",
       "    <tr>\n",
       "      <th>std</th>\n",
       "      <td>1718.834639</td>\n",
       "      <td>3.586141e+08</td>\n",
       "      <td>34000.960054</td>\n",
       "      <td>8.103318</td>\n",
       "      <td>80.568819</td>\n",
       "    </tr>\n",
       "    <tr>\n",
       "      <th>min</th>\n",
       "      <td>0.000000</td>\n",
       "      <td>3.590598e+06</td>\n",
       "      <td>0.000000</td>\n",
       "      <td>0.000278</td>\n",
       "      <td>0.000000</td>\n",
       "    </tr>\n",
       "    <tr>\n",
       "      <th>25%</th>\n",
       "      <td>1488.000000</td>\n",
       "      <td>3.812734e+07</td>\n",
       "      <td>0.000000</td>\n",
       "      <td>2.897778</td>\n",
       "      <td>0.000000</td>\n",
       "    </tr>\n",
       "    <tr>\n",
       "      <th>50%</th>\n",
       "      <td>2976.000000</td>\n",
       "      <td>1.501160e+08</td>\n",
       "      <td>1229.000000</td>\n",
       "      <td>5.471111</td>\n",
       "      <td>7.998690</td>\n",
       "    </tr>\n",
       "    <tr>\n",
       "      <th>75%</th>\n",
       "      <td>4464.000000</td>\n",
       "      <td>4.826927e+08</td>\n",
       "      <td>14297.000000</td>\n",
       "      <td>6.876667</td>\n",
       "      <td>46.996744</td>\n",
       "    </tr>\n",
       "    <tr>\n",
       "      <th>max</th>\n",
       "      <td>5953.000000</td>\n",
       "      <td>1.419109e+09</td>\n",
       "      <td>409973.000000</td>\n",
       "      <td>89.180833</td>\n",
       "      <td>586.882192</td>\n",
       "    </tr>\n",
       "  </tbody>\n",
       "</table>\n",
       "</div>"
      ],
      "text/plain": [
       "        Unnamed: 0            id      msg_count  duration_hrs  msg_per_min\n",
       "count  5953.000000  5.953000e+03    5953.000000   5953.000000  5953.000000\n",
       "mean   2976.138922  3.187749e+08   15733.779607      6.361180    43.619916\n",
       "std    1718.834639  3.586141e+08   34000.960054      8.103318    80.568819\n",
       "min       0.000000  3.590598e+06       0.000000      0.000278     0.000000\n",
       "25%    1488.000000  3.812734e+07       0.000000      2.897778     0.000000\n",
       "50%    2976.000000  1.501160e+08    1229.000000      5.471111     7.998690\n",
       "75%    4464.000000  4.826927e+08   14297.000000      6.876667    46.996744\n",
       "max    5953.000000  1.419109e+09  409973.000000     89.180833   586.882192"
      ]
     },
     "execution_count": 10,
     "metadata": {},
     "output_type": "execute_result"
    }
   ],
   "source": [
    "df_vid_info.describe()"
   ]
  },
  {
   "cell_type": "code",
   "execution_count": 52,
   "id": "7b27bad2-8280-4cc4-af39-d61729fd85a9",
   "metadata": {},
   "outputs": [
    {
     "data": {
      "text/html": [
       "<div>\n",
       "<style scoped>\n",
       "    .dataframe tbody tr th:only-of-type {\n",
       "        vertical-align: middle;\n",
       "    }\n",
       "\n",
       "    .dataframe tbody tr th {\n",
       "        vertical-align: top;\n",
       "    }\n",
       "\n",
       "    .dataframe thead th {\n",
       "        text-align: right;\n",
       "    }\n",
       "</style>\n",
       "<table border=\"1\" class=\"dataframe\">\n",
       "  <thead>\n",
       "    <tr style=\"text-align: right;\">\n",
       "      <th></th>\n",
       "      <th>Unnamed: 0</th>\n",
       "      <th>id</th>\n",
       "      <th>title</th>\n",
       "      <th>created_at</th>\n",
       "      <th>msg_count</th>\n",
       "      <th>is_rerun</th>\n",
       "      <th>duration</th>\n",
       "      <th>duration_hrs</th>\n",
       "      <th>msg_per_min</th>\n",
       "    </tr>\n",
       "  </thead>\n",
       "  <tbody>\n",
       "    <tr>\n",
       "      <th>1263</th>\n",
       "      <td>1263</td>\n",
       "      <td>30009722</td>\n",
       "      <td>RERUN: Team WE vs. TSM - IEM Katowice 2015 - G...</td>\n",
       "      <td>2013-12-26 22:08:10+00:00</td>\n",
       "      <td>0</td>\n",
       "      <td>True</td>\n",
       "      <td>89h10m51s</td>\n",
       "      <td>89.180833</td>\n",
       "      <td>0.000000</td>\n",
       "    </tr>\n",
       "    <tr>\n",
       "      <th>982</th>\n",
       "      <td>982</td>\n",
       "      <td>51850869</td>\n",
       "      <td>RERUN: Team Curse vs Gambit Gaming - Group A -...</td>\n",
       "      <td>2016-03-02 05:20:58+00:00</td>\n",
       "      <td>3791</td>\n",
       "      <td>True</td>\n",
       "      <td>47h57m9s</td>\n",
       "      <td>47.952500</td>\n",
       "      <td>1.317623</td>\n",
       "    </tr>\n",
       "    <tr>\n",
       "      <th>886</th>\n",
       "      <td>886</td>\n",
       "      <td>67804358</td>\n",
       "      <td>RERUN: Azubu Frost vs Gambit Gaming - Match 2 ...</td>\n",
       "      <td>2016-05-21 20:44:50+00:00</td>\n",
       "      <td>240</td>\n",
       "      <td>True</td>\n",
       "      <td>47h57m5s</td>\n",
       "      <td>47.951389</td>\n",
       "      <td>0.083418</td>\n",
       "    </tr>\n",
       "    <tr>\n",
       "      <th>918</th>\n",
       "      <td>918</td>\n",
       "      <td>61083342</td>\n",
       "      <td>RERUN: fnatic vs SK Telecom T1 Game 2 - IEM Co...</td>\n",
       "      <td>2016-04-17 01:21:51+00:00</td>\n",
       "      <td>365</td>\n",
       "      <td>True</td>\n",
       "      <td>47h57m5s</td>\n",
       "      <td>47.951389</td>\n",
       "      <td>0.126865</td>\n",
       "    </tr>\n",
       "    <tr>\n",
       "      <th>1036</th>\n",
       "      <td>1036</td>\n",
       "      <td>30986044</td>\n",
       "      <td>RERUN: Team SoloMid vs. LGD Gaming - IEM 2015 ...</td>\n",
       "      <td>2015-12-20 21:34:30+00:00</td>\n",
       "      <td>0</td>\n",
       "      <td>True</td>\n",
       "      <td>47h57m4s</td>\n",
       "      <td>47.951111</td>\n",
       "      <td>0.000000</td>\n",
       "    </tr>\n",
       "    <tr>\n",
       "      <th>...</th>\n",
       "      <td>...</td>\n",
       "      <td>...</td>\n",
       "      <td>...</td>\n",
       "      <td>...</td>\n",
       "      <td>...</td>\n",
       "      <td>...</td>\n",
       "      <td>...</td>\n",
       "      <td>...</td>\n",
       "      <td>...</td>\n",
       "    </tr>\n",
       "    <tr>\n",
       "      <th>3288</th>\n",
       "      <td>3288</td>\n",
       "      <td>30072948</td>\n",
       "      <td>2015 All-Star Event Rebroadcast - Day 4</td>\n",
       "      <td>2015-01-16 04:43:04+00:00</td>\n",
       "      <td>0</td>\n",
       "      <td>False</td>\n",
       "      <td>6s</td>\n",
       "      <td>0.001667</td>\n",
       "      <td>0.000000</td>\n",
       "    </tr>\n",
       "    <tr>\n",
       "      <th>1112</th>\n",
       "      <td>1112</td>\n",
       "      <td>30006333</td>\n",
       "      <td>RERUN: Team WE vs. TSM - IEM Katowice 2015 - G...</td>\n",
       "      <td>2015-03-30 16:03:41+00:00</td>\n",
       "      <td>0</td>\n",
       "      <td>True</td>\n",
       "      <td>5s</td>\n",
       "      <td>0.001389</td>\n",
       "      <td>0.000000</td>\n",
       "    </tr>\n",
       "    <tr>\n",
       "      <th>3750</th>\n",
       "      <td>3750</td>\n",
       "      <td>38127627</td>\n",
       "      <td>Riot Season 2 World Finals -- Playoffs</td>\n",
       "      <td>2012-10-06 20:52:48+00:00</td>\n",
       "      <td>0</td>\n",
       "      <td>False</td>\n",
       "      <td>5s</td>\n",
       "      <td>0.001389</td>\n",
       "      <td>0.000000</td>\n",
       "    </tr>\n",
       "    <tr>\n",
       "      <th>558</th>\n",
       "      <td>558</td>\n",
       "      <td>151406797</td>\n",
       "      <td>RERUN: ROX Tigers vs. H2K - Group A Winners Ga...</td>\n",
       "      <td>2017-06-12 21:08:30+00:00</td>\n",
       "      <td>0</td>\n",
       "      <td>True</td>\n",
       "      <td>2s</td>\n",
       "      <td>0.000556</td>\n",
       "      <td>0.000000</td>\n",
       "    </tr>\n",
       "    <tr>\n",
       "      <th>5817</th>\n",
       "      <td>5817</td>\n",
       "      <td>149393567</td>\n",
       "      <td>LCK Summer: EEW vs. MVP | BBQ vs. SKT</td>\n",
       "      <td>2017-06-04 07:20:44+00:00</td>\n",
       "      <td>0</td>\n",
       "      <td>False</td>\n",
       "      <td>1s</td>\n",
       "      <td>0.000278</td>\n",
       "      <td>0.000000</td>\n",
       "    </tr>\n",
       "  </tbody>\n",
       "</table>\n",
       "<p>5953 rows × 9 columns</p>\n",
       "</div>"
      ],
      "text/plain": [
       "      Unnamed: 0         id  \\\n",
       "1263        1263   30009722   \n",
       "982          982   51850869   \n",
       "886          886   67804358   \n",
       "918          918   61083342   \n",
       "1036        1036   30986044   \n",
       "...          ...        ...   \n",
       "3288        3288   30072948   \n",
       "1112        1112   30006333   \n",
       "3750        3750   38127627   \n",
       "558          558  151406797   \n",
       "5817        5817  149393567   \n",
       "\n",
       "                                                  title  \\\n",
       "1263  RERUN: Team WE vs. TSM - IEM Katowice 2015 - G...   \n",
       "982   RERUN: Team Curse vs Gambit Gaming - Group A -...   \n",
       "886   RERUN: Azubu Frost vs Gambit Gaming - Match 2 ...   \n",
       "918   RERUN: fnatic vs SK Telecom T1 Game 2 - IEM Co...   \n",
       "1036  RERUN: Team SoloMid vs. LGD Gaming - IEM 2015 ...   \n",
       "...                                                 ...   \n",
       "3288            2015 All-Star Event Rebroadcast - Day 4   \n",
       "1112  RERUN: Team WE vs. TSM - IEM Katowice 2015 - G...   \n",
       "3750             Riot Season 2 World Finals -- Playoffs   \n",
       "558   RERUN: ROX Tigers vs. H2K - Group A Winners Ga...   \n",
       "5817              LCK Summer: EEW vs. MVP | BBQ vs. SKT   \n",
       "\n",
       "                     created_at  msg_count  is_rerun   duration  duration_hrs  \\\n",
       "1263  2013-12-26 22:08:10+00:00          0      True  89h10m51s     89.180833   \n",
       "982   2016-03-02 05:20:58+00:00       3791      True   47h57m9s     47.952500   \n",
       "886   2016-05-21 20:44:50+00:00        240      True   47h57m5s     47.951389   \n",
       "918   2016-04-17 01:21:51+00:00        365      True   47h57m5s     47.951389   \n",
       "1036  2015-12-20 21:34:30+00:00          0      True   47h57m4s     47.951111   \n",
       "...                         ...        ...       ...        ...           ...   \n",
       "3288  2015-01-16 04:43:04+00:00          0     False         6s      0.001667   \n",
       "1112  2015-03-30 16:03:41+00:00          0      True         5s      0.001389   \n",
       "3750  2012-10-06 20:52:48+00:00          0     False         5s      0.001389   \n",
       "558   2017-06-12 21:08:30+00:00          0      True         2s      0.000556   \n",
       "5817  2017-06-04 07:20:44+00:00          0     False         1s      0.000278   \n",
       "\n",
       "      msg_per_min  \n",
       "1263     0.000000  \n",
       "982      1.317623  \n",
       "886      0.083418  \n",
       "918      0.126865  \n",
       "1036     0.000000  \n",
       "...           ...  \n",
       "3288     0.000000  \n",
       "1112     0.000000  \n",
       "3750     0.000000  \n",
       "558      0.000000  \n",
       "5817     0.000000  \n",
       "\n",
       "[5953 rows x 9 columns]"
      ]
     },
     "execution_count": 52,
     "metadata": {},
     "output_type": "execute_result"
    }
   ],
   "source": [
    "df_vid_info.sort_values(\"duration_hrs\", ascending=False)"
   ]
  },
  {
   "cell_type": "code",
   "execution_count": 11,
   "id": "f5eb6fea-e004-4a15-b523-490f750b4831",
   "metadata": {},
   "outputs": [
    {
     "name": "stdout",
     "output_type": "stream",
     "text": [
      "<class 'pandas.core.frame.DataFrame'>\n",
      "Int64Index: 5953 entries, 0 to 5953\n",
      "Data columns (total 9 columns):\n",
      " #   Column        Non-Null Count  Dtype  \n",
      "---  ------        --------------  -----  \n",
      " 0   Unnamed: 0    5953 non-null   int64  \n",
      " 1   id            5953 non-null   int64  \n",
      " 2   title         5953 non-null   object \n",
      " 3   created_at    5953 non-null   object \n",
      " 4   msg_count     5953 non-null   int64  \n",
      " 5   is_rerun      5953 non-null   bool   \n",
      " 6   duration      5953 non-null   object \n",
      " 7   duration_hrs  5953 non-null   float64\n",
      " 8   msg_per_min   5953 non-null   float64\n",
      "dtypes: bool(1), float64(2), int64(3), object(3)\n",
      "memory usage: 424.4+ KB\n"
     ]
    }
   ],
   "source": [
    "df_vid_info.info()"
   ]
  },
  {
   "cell_type": "code",
   "execution_count": 12,
   "id": "ab88973e-b427-40bf-8f4d-de668158614e",
   "metadata": {},
   "outputs": [],
   "source": [
    "#vid_info_out = \"../data/videos_chat/vid_info.csv\"\n",
    "#df_vid_info.to_csv(vid_info_out)"
   ]
  },
  {
   "cell_type": "code",
   "execution_count": 13,
   "id": "6e2e2488-659a-4342-848e-acd96d511747",
   "metadata": {},
   "outputs": [
    {
     "data": {
      "text/plain": [
       "'4072/5953 videos with comments'"
      ]
     },
     "execution_count": 13,
     "metadata": {},
     "output_type": "execute_result"
    }
   ],
   "source": [
    "df_commented_vids = df_vid_info[df_vid_info.msg_count > 0]\n",
    "f\"{df_commented_vids.id.count()}/{df_vid_info.id.count()} videos with comments\""
   ]
  },
  {
   "cell_type": "code",
   "execution_count": 14,
   "id": "550c3265-17f6-4087-bf8c-fb795d2486ab",
   "metadata": {},
   "outputs": [
    {
     "name": "stdout",
     "output_type": "stream",
     "text": [
      "946/5953 videos are reruns (approx)\n"
     ]
    }
   ],
   "source": [
    "df_reruns = df_vid_info[df_vid_info.is_rerun]\n",
    "print(f\"{df_reruns.id.count()}/{df_vid_info.id.count()} videos are reruns (approx)\")"
   ]
  },
  {
   "cell_type": "code",
   "execution_count": 15,
   "id": "021641ba-f92f-4f37-93ec-475cc8c49c6f",
   "metadata": {},
   "outputs": [
    {
     "name": "stdout",
     "output_type": "stream",
     "text": [
      "586/946 reruns have comments\n"
     ]
    }
   ],
   "source": [
    "print(f\"{sum(df_reruns.msg_count > 0)}/{df_reruns.id.count()} reruns have comments\")"
   ]
  },
  {
   "cell_type": "code",
   "execution_count": 16,
   "id": "47ee65d9-308b-48d6-9110-6bf51b722077",
   "metadata": {},
   "outputs": [
    {
     "name": "stdout",
     "output_type": "stream",
     "text": [
      "3697.881606765328 comments per rerun video on average\n"
     ]
    }
   ],
   "source": [
    "print(f\"{df_reruns.msg_count.mean()} comments per rerun video on average\") # maybe an approximate cutoff for what to sort out"
   ]
  },
  {
   "cell_type": "code",
   "execution_count": 17,
   "id": "fe8629c8-dbdc-4bc7-af6a-79d31992d482",
   "metadata": {},
   "outputs": [
    {
     "name": "stdout",
     "output_type": "stream",
     "text": [
      "93663190 comments in total\n"
     ]
    }
   ],
   "source": [
    "print(f\"{df_commented_vids.msg_count.sum()} comments in total\")"
   ]
  },
  {
   "cell_type": "code",
   "execution_count": 18,
   "id": "d1ef7f2d-3a9e-4bb5-a934-865de269e4ec",
   "metadata": {},
   "outputs": [
    {
     "name": "stdout",
     "output_type": "stream",
     "text": [
      "23001.765717092338 comments per video on average\n"
     ]
    }
   ],
   "source": [
    "print(f\"{df_commented_vids.msg_count.mean()} comments per video on average\")"
   ]
  },
  {
   "cell_type": "code",
   "execution_count": 19,
   "id": "b3c1c57b-13f3-4a65-b040-af9e372f8e5f",
   "metadata": {},
   "outputs": [
    {
     "name": "stdout",
     "output_type": "stream",
     "text": [
      "oldest video from\t2012-05-29 11:43:41+00:00\n",
      "most recent video from\t2022-03-08 07:48:50+00:00\n"
     ]
    }
   ],
   "source": [
    "print(f\"oldest video from\\t{df_vid_info.created_at.min()}\\nmost recent video from\\t{df_vid_info.created_at.max()}\")"
   ]
  },
  {
   "cell_type": "code",
   "execution_count": 20,
   "id": "e36c0616-c5e7-4f23-9c63-a794fcb7727d",
   "metadata": {},
   "outputs": [
    {
     "name": "stdout",
     "output_type": "stream",
     "text": [
      "oldest video with comments from\t2016-03-02 05:20:58+00:00\n",
      "most recent video with comments from\t2022-03-08 07:48:50+00:00\n"
     ]
    }
   ],
   "source": [
    "print(f\"oldest video with comments from\\t{df_commented_vids.created_at.min()}\\nmost recent video with comments from\\t{df_commented_vids.created_at.max()}\")"
   ]
  },
  {
   "cell_type": "code",
   "execution_count": 21,
   "id": "5ee26132-ffed-495c-854c-6b4df0e00805",
   "metadata": {},
   "outputs": [
    {
     "name": "stdout",
     "output_type": "stream",
     "text": [
      "56.726654638890906 comments per minute on average\n"
     ]
    }
   ],
   "source": [
    "print(f\"{df_commented_vids.msg_count.sum()/(df_commented_vids.duration_hrs.sum()*60)} comments per minute on average\")"
   ]
  },
  {
   "cell_type": "code",
   "execution_count": 22,
   "id": "f59572af-6f3c-4b34-9669-f0000b1e80f3",
   "metadata": {},
   "outputs": [
    {
     "data": {
      "image/png": "[encoded data removed]",
      "text/plain": [
       "<Figure size 432x288 with 1 Axes>"
      ]
     },
     "metadata": {
      "needs_background": "light"
     },
     "output_type": "display_data"
    }
   ],
   "source": [
    "n, bins, _ = plt.hist(df_commented_vids.msg_count,bins=20)\n",
    "plt.show()"
   ]
  },
  {
   "cell_type": "code",
   "execution_count": 23,
   "id": "f7596162-eab0-492e-bd2d-abe2dae7d7d5",
   "metadata": {},
   "outputs": [
    {
     "data": {
      "text/plain": [
       "[(2910.0, 1.0),\n",
       " (476.0, 20499.6),\n",
       " (205.0, 40998.2),\n",
       " (149.0, 61496.799999999996),\n",
       " (103.0, 81995.4)]"
      ]
     },
     "execution_count": 23,
     "metadata": {},
     "output_type": "execute_result"
    }
   ],
   "source": [
    "list(zip(n[:5],bins[:5]))"
   ]
  },
  {
   "cell_type": "code",
   "execution_count": 24,
   "id": "7d619ff9-402b-4e12-b302-92c764c73a21",
   "metadata": {},
   "outputs": [
    {
     "data": {
      "image/png": "[encoded data removed]",
      "text/plain": [
       "<Figure size 432x288 with 1 Axes>"
      ]
     },
     "metadata": {
      "needs_background": "light"
     },
     "output_type": "display_data"
    }
   ],
   "source": [
    "n, bins, _ = plt.hist(df_commented_vids.msg_per_min,bins=20, range=(100,df_commented_vids.msg_per_min.max()))\n",
    "plt.show()"
   ]
  },
  {
   "cell_type": "markdown",
   "id": "40326864-18de-4301-8757-32138c039ed4",
   "metadata": {},
   "source": [
    "messages per minute helps us to characterize the VODs:"
   ]
  },
  {
   "cell_type": "code",
   "execution_count": null,
   "id": "683f0dfe-a9f8-4d27-a433-4f4ba2df5b38",
   "metadata": {},
   "outputs": [],
   "source": [
    "sum(n)"
   ]
  },
  {
   "cell_type": "code",
   "execution_count": null,
   "id": "4741eb14-84e9-43e2-a8be-a64d690dc030",
   "metadata": {},
   "outputs": [],
   "source": [
    "len(set(df_vid_info.title))"
   ]
  },
  {
   "cell_type": "code",
   "execution_count": 26,
   "id": "9efb2fe4-5c8b-4b25-af69-8b14fa29011c",
   "metadata": {},
   "outputs": [
    {
     "data": {
      "text/plain": [
       "5953"
      ]
     },
     "execution_count": 26,
     "metadata": {},
     "output_type": "execute_result"
    }
   ],
   "source": [
    "df_vid_info.title.count()"
   ]
  },
  {
   "cell_type": "markdown",
   "id": "14f4123a-84fd-4c07-b1e4-5636c422c7a7",
   "metadata": {},
   "source": [
    "## Duplicates\n",
    "There are no duplicated videos, however there are duplicated titles. This seems to stem from:\n",
    "\n",
    "a) some titles being \" \" one whitespace only\n",
    "\n",
    "b) some streams being stopped and restarted with the same title"
   ]
  },
  {
   "cell_type": "code",
   "execution_count": 27,
   "id": "ad8cf7ef-e5a6-4023-9578-df1b0eaae69e",
   "metadata": {},
   "outputs": [
    {
     "data": {
      "text/plain": [
       "0"
      ]
     },
     "execution_count": 27,
     "metadata": {},
     "output_type": "execute_result"
    }
   ],
   "source": [
    "df_vid_info[df_vid_info.duplicated()].id.count()"
   ]
  },
  {
   "cell_type": "code",
   "execution_count": 28,
   "id": "bdb13ad4-9f69-4924-8d57-9578402fda5a",
   "metadata": {},
   "outputs": [
    {
     "name": "stdout",
     "output_type": "stream",
     "text": [
      "1918 duplicated titles\n"
     ]
    }
   ],
   "source": [
    "print(f\"{df_vid_info.title.duplicated().sum()} duplicated titles\")"
   ]
  },
  {
   "cell_type": "code",
   "execution_count": null,
   "id": "32139459-7045-4edc-ae64-f428b97ed7f7",
   "metadata": {},
   "outputs": [],
   "source": [
    "set(df_vid_info[df_vid_info.title.duplicated()].title)"
   ]
  },
  {
   "cell_type": "code",
   "execution_count": 33,
   "id": "4673a963-abf5-4a28-8ce5-afdb7b8ed36a",
   "metadata": {},
   "outputs": [
    {
     "data": {
      "text/html": [
       "<div>\n",
       "<style scoped>\n",
       "    .dataframe tbody tr th:only-of-type {\n",
       "        vertical-align: middle;\n",
       "    }\n",
       "\n",
       "    .dataframe tbody tr th {\n",
       "        vertical-align: top;\n",
       "    }\n",
       "\n",
       "    .dataframe thead th {\n",
       "        text-align: right;\n",
       "    }\n",
       "</style>\n",
       "<table border=\"1\" class=\"dataframe\">\n",
       "  <thead>\n",
       "    <tr style=\"text-align: right;\">\n",
       "      <th></th>\n",
       "      <th>Unnamed: 0</th>\n",
       "      <th>id</th>\n",
       "      <th>title</th>\n",
       "      <th>created_at</th>\n",
       "      <th>msg_count</th>\n",
       "      <th>is_rerun</th>\n",
       "      <th>duration</th>\n",
       "      <th>duration_hrs</th>\n",
       "      <th>msg_per_min</th>\n",
       "    </tr>\n",
       "  </thead>\n",
       "  <tbody>\n",
       "    <tr>\n",
       "      <th>1635</th>\n",
       "      <td>1635</td>\n",
       "      <td>1013003053</td>\n",
       "      <td></td>\n",
       "      <td>2021-05-06 11:38:35+00:00</td>\n",
       "      <td>151294</td>\n",
       "      <td>False</td>\n",
       "      <td>7h46m12s</td>\n",
       "      <td>7.770000</td>\n",
       "      <td>324.525955</td>\n",
       "    </tr>\n",
       "    <tr>\n",
       "      <th>1636</th>\n",
       "      <td>1636</td>\n",
       "      <td>1013003051</td>\n",
       "      <td></td>\n",
       "      <td>2021-05-06 11:38:35+00:00</td>\n",
       "      <td>0</td>\n",
       "      <td>False</td>\n",
       "      <td>7h46m12s</td>\n",
       "      <td>7.770000</td>\n",
       "      <td>0.000000</td>\n",
       "    </tr>\n",
       "    <tr>\n",
       "      <th>1643</th>\n",
       "      <td>1643</td>\n",
       "      <td>979788223</td>\n",
       "      <td></td>\n",
       "      <td>2021-04-08 11:45:45+00:00</td>\n",
       "      <td>14460</td>\n",
       "      <td>False</td>\n",
       "      <td>5h9m25s</td>\n",
       "      <td>5.156944</td>\n",
       "      <td>46.733100</td>\n",
       "    </tr>\n",
       "    <tr>\n",
       "      <th>1495</th>\n",
       "      <td>1495</td>\n",
       "      <td>1155878473</td>\n",
       "      <td></td>\n",
       "      <td>2021-09-22 10:55:28+00:00</td>\n",
       "      <td>0</td>\n",
       "      <td>False</td>\n",
       "      <td>1h56m22s</td>\n",
       "      <td>1.939444</td>\n",
       "      <td>0.000000</td>\n",
       "    </tr>\n",
       "    <tr>\n",
       "      <th>2241</th>\n",
       "      <td>2241</td>\n",
       "      <td>368573688</td>\n",
       "      <td></td>\n",
       "      <td>2019-01-23 17:52:34+00:00</td>\n",
       "      <td>54</td>\n",
       "      <td>False</td>\n",
       "      <td>4m25s</td>\n",
       "      <td>0.073611</td>\n",
       "      <td>12.226415</td>\n",
       "    </tr>\n",
       "    <tr>\n",
       "      <th>...</th>\n",
       "      <td>...</td>\n",
       "      <td>...</td>\n",
       "      <td>...</td>\n",
       "      <td>...</td>\n",
       "      <td>...</td>\n",
       "      <td>...</td>\n",
       "      <td>...</td>\n",
       "      <td>...</td>\n",
       "      <td>...</td>\n",
       "    </tr>\n",
       "    <tr>\n",
       "      <th>385</th>\n",
       "      <td>385</td>\n",
       "      <td>1115852655</td>\n",
       "      <td>🔴 LIVE - ESL Mobile Open presents Wild Rift Oc...</td>\n",
       "      <td>2021-08-12 07:31:14+00:00</td>\n",
       "      <td>256</td>\n",
       "      <td>False</td>\n",
       "      <td>2h10m39s</td>\n",
       "      <td>2.177500</td>\n",
       "      <td>1.959434</td>\n",
       "    </tr>\n",
       "    <tr>\n",
       "      <th>535</th>\n",
       "      <td>535</td>\n",
       "      <td>164771991</td>\n",
       "      <td>🔴 LIVE: Return of the Legends - Team NA vs  Te...</td>\n",
       "      <td>2017-08-06 01:45:19+00:00</td>\n",
       "      <td>16</td>\n",
       "      <td>False</td>\n",
       "      <td>48s</td>\n",
       "      <td>0.013333</td>\n",
       "      <td>20.000000</td>\n",
       "    </tr>\n",
       "    <tr>\n",
       "      <th>542</th>\n",
       "      <td>542</td>\n",
       "      <td>160383037</td>\n",
       "      <td>🔴 [LIVE] ESL Premiership - 2017 Autumn Group S...</td>\n",
       "      <td>2017-07-19 17:44:44+00:00</td>\n",
       "      <td>0</td>\n",
       "      <td>False</td>\n",
       "      <td>3m12s</td>\n",
       "      <td>0.053333</td>\n",
       "      <td>0.000000</td>\n",
       "    </tr>\n",
       "    <tr>\n",
       "      <th>541</th>\n",
       "      <td>541</td>\n",
       "      <td>160383776</td>\n",
       "      <td>🔴 [LIVE] ESL Premiership - 2017 Autumn Group S...</td>\n",
       "      <td>2017-07-19 17:48:04+00:00</td>\n",
       "      <td>1</td>\n",
       "      <td>False</td>\n",
       "      <td>4m48s</td>\n",
       "      <td>0.080000</td>\n",
       "      <td>0.208333</td>\n",
       "    </tr>\n",
       "    <tr>\n",
       "      <th>540</th>\n",
       "      <td>540</td>\n",
       "      <td>160385048</td>\n",
       "      <td>🔴 [LIVE] ESL Premiership - 2017 Autumn Group S...</td>\n",
       "      <td>2017-07-19 17:52:57+00:00</td>\n",
       "      <td>0</td>\n",
       "      <td>False</td>\n",
       "      <td>46s</td>\n",
       "      <td>0.012778</td>\n",
       "      <td>0.000000</td>\n",
       "    </tr>\n",
       "  </tbody>\n",
       "</table>\n",
       "<p>1918 rows × 9 columns</p>\n",
       "</div>"
      ],
      "text/plain": [
       "      Unnamed: 0          id  \\\n",
       "1635        1635  1013003053   \n",
       "1636        1636  1013003051   \n",
       "1643        1643   979788223   \n",
       "1495        1495  1155878473   \n",
       "2241        2241   368573688   \n",
       "...          ...         ...   \n",
       "385          385  1115852655   \n",
       "535          535   164771991   \n",
       "542          542   160383037   \n",
       "541          541   160383776   \n",
       "540          540   160385048   \n",
       "\n",
       "                                                  title  \\\n",
       "1635                                                      \n",
       "1636                                                      \n",
       "1643                                                      \n",
       "1495                                                      \n",
       "2241                                                      \n",
       "...                                                 ...   \n",
       "385   🔴 LIVE - ESL Mobile Open presents Wild Rift Oc...   \n",
       "535   🔴 LIVE: Return of the Legends - Team NA vs  Te...   \n",
       "542   🔴 [LIVE] ESL Premiership - 2017 Autumn Group S...   \n",
       "541   🔴 [LIVE] ESL Premiership - 2017 Autumn Group S...   \n",
       "540   🔴 [LIVE] ESL Premiership - 2017 Autumn Group S...   \n",
       "\n",
       "                     created_at  msg_count  is_rerun  duration  duration_hrs  \\\n",
       "1635  2021-05-06 11:38:35+00:00     151294     False  7h46m12s      7.770000   \n",
       "1636  2021-05-06 11:38:35+00:00          0     False  7h46m12s      7.770000   \n",
       "1643  2021-04-08 11:45:45+00:00      14460     False   5h9m25s      5.156944   \n",
       "1495  2021-09-22 10:55:28+00:00          0     False  1h56m22s      1.939444   \n",
       "2241  2019-01-23 17:52:34+00:00         54     False     4m25s      0.073611   \n",
       "...                         ...        ...       ...       ...           ...   \n",
       "385   2021-08-12 07:31:14+00:00        256     False  2h10m39s      2.177500   \n",
       "535   2017-08-06 01:45:19+00:00         16     False       48s      0.013333   \n",
       "542   2017-07-19 17:44:44+00:00          0     False     3m12s      0.053333   \n",
       "541   2017-07-19 17:48:04+00:00          1     False     4m48s      0.080000   \n",
       "540   2017-07-19 17:52:57+00:00          0     False       46s      0.012778   \n",
       "\n",
       "      msg_per_min  \n",
       "1635   324.525955  \n",
       "1636     0.000000  \n",
       "1643    46.733100  \n",
       "1495     0.000000  \n",
       "2241    12.226415  \n",
       "...           ...  \n",
       "385      1.959434  \n",
       "535     20.000000  \n",
       "542      0.000000  \n",
       "541      0.208333  \n",
       "540      0.000000  \n",
       "\n",
       "[1918 rows x 9 columns]"
      ]
     },
     "execution_count": 33,
     "metadata": {},
     "output_type": "execute_result"
    }
   ],
   "source": [
    "df_vid_info[df_vid_info.title.duplicated()].sort_values(\"title\")"
   ]
  },
  {
   "cell_type": "code",
   "execution_count": 34,
   "id": "4fd26466-6b80-4290-8676-71cd9e331eb6",
   "metadata": {},
   "outputs": [
    {
     "data": {
      "text/html": [
       "<div>\n",
       "<style scoped>\n",
       "    .dataframe tbody tr th:only-of-type {\n",
       "        vertical-align: middle;\n",
       "    }\n",
       "\n",
       "    .dataframe tbody tr th {\n",
       "        vertical-align: top;\n",
       "    }\n",
       "\n",
       "    .dataframe thead th {\n",
       "        text-align: right;\n",
       "    }\n",
       "</style>\n",
       "<table border=\"1\" class=\"dataframe\">\n",
       "  <thead>\n",
       "    <tr style=\"text-align: right;\">\n",
       "      <th></th>\n",
       "      <th>Unnamed: 0</th>\n",
       "      <th>id</th>\n",
       "      <th>title</th>\n",
       "      <th>created_at</th>\n",
       "      <th>msg_count</th>\n",
       "      <th>is_rerun</th>\n",
       "      <th>duration</th>\n",
       "      <th>duration_hrs</th>\n",
       "      <th>msg_per_min</th>\n",
       "    </tr>\n",
       "  </thead>\n",
       "  <tbody>\n",
       "    <tr>\n",
       "      <th>1494</th>\n",
       "      <td>1494</td>\n",
       "      <td>1155878474</td>\n",
       "      <td></td>\n",
       "      <td>2021-09-22 10:55:28+00:00</td>\n",
       "      <td>29528</td>\n",
       "      <td>False</td>\n",
       "      <td>1h56m22s</td>\n",
       "      <td>1.939444</td>\n",
       "      <td>253.749642</td>\n",
       "    </tr>\n",
       "    <tr>\n",
       "      <th>1495</th>\n",
       "      <td>1495</td>\n",
       "      <td>1155878473</td>\n",
       "      <td></td>\n",
       "      <td>2021-09-22 10:55:28+00:00</td>\n",
       "      <td>0</td>\n",
       "      <td>False</td>\n",
       "      <td>1h56m22s</td>\n",
       "      <td>1.939444</td>\n",
       "      <td>0.000000</td>\n",
       "    </tr>\n",
       "    <tr>\n",
       "      <th>1635</th>\n",
       "      <td>1635</td>\n",
       "      <td>1013003053</td>\n",
       "      <td></td>\n",
       "      <td>2021-05-06 11:38:35+00:00</td>\n",
       "      <td>151294</td>\n",
       "      <td>False</td>\n",
       "      <td>7h46m12s</td>\n",
       "      <td>7.770000</td>\n",
       "      <td>324.525955</td>\n",
       "    </tr>\n",
       "    <tr>\n",
       "      <th>1636</th>\n",
       "      <td>1636</td>\n",
       "      <td>1013003051</td>\n",
       "      <td></td>\n",
       "      <td>2021-05-06 11:38:35+00:00</td>\n",
       "      <td>0</td>\n",
       "      <td>False</td>\n",
       "      <td>7h46m12s</td>\n",
       "      <td>7.770000</td>\n",
       "      <td>0.000000</td>\n",
       "    </tr>\n",
       "    <tr>\n",
       "      <th>1643</th>\n",
       "      <td>1643</td>\n",
       "      <td>979788223</td>\n",
       "      <td></td>\n",
       "      <td>2021-04-08 11:45:45+00:00</td>\n",
       "      <td>14460</td>\n",
       "      <td>False</td>\n",
       "      <td>5h9m25s</td>\n",
       "      <td>5.156944</td>\n",
       "      <td>46.733100</td>\n",
       "    </tr>\n",
       "    <tr>\n",
       "      <th>2082</th>\n",
       "      <td>2082</td>\n",
       "      <td>448475597</td>\n",
       "      <td></td>\n",
       "      <td>2019-07-05 06:24:35+00:00</td>\n",
       "      <td>13650</td>\n",
       "      <td>False</td>\n",
       "      <td>6h38m55s</td>\n",
       "      <td>6.648611</td>\n",
       "      <td>34.217673</td>\n",
       "    </tr>\n",
       "    <tr>\n",
       "      <th>2241</th>\n",
       "      <td>2241</td>\n",
       "      <td>368573688</td>\n",
       "      <td></td>\n",
       "      <td>2019-01-23 17:52:34+00:00</td>\n",
       "      <td>54</td>\n",
       "      <td>False</td>\n",
       "      <td>4m25s</td>\n",
       "      <td>0.073611</td>\n",
       "      <td>12.226415</td>\n",
       "    </tr>\n",
       "  </tbody>\n",
       "</table>\n",
       "</div>"
      ],
      "text/plain": [
       "      Unnamed: 0          id title                 created_at  msg_count  \\\n",
       "1494        1494  1155878474        2021-09-22 10:55:28+00:00      29528   \n",
       "1495        1495  1155878473        2021-09-22 10:55:28+00:00          0   \n",
       "1635        1635  1013003053        2021-05-06 11:38:35+00:00     151294   \n",
       "1636        1636  1013003051        2021-05-06 11:38:35+00:00          0   \n",
       "1643        1643   979788223        2021-04-08 11:45:45+00:00      14460   \n",
       "2082        2082   448475597        2019-07-05 06:24:35+00:00      13650   \n",
       "2241        2241   368573688        2019-01-23 17:52:34+00:00         54   \n",
       "\n",
       "      is_rerun  duration  duration_hrs  msg_per_min  \n",
       "1494     False  1h56m22s      1.939444   253.749642  \n",
       "1495     False  1h56m22s      1.939444     0.000000  \n",
       "1635     False  7h46m12s      7.770000   324.525955  \n",
       "1636     False  7h46m12s      7.770000     0.000000  \n",
       "1643     False   5h9m25s      5.156944    46.733100  \n",
       "2082     False  6h38m55s      6.648611    34.217673  \n",
       "2241     False     4m25s      0.073611    12.226415  "
      ]
     },
     "execution_count": 34,
     "metadata": {},
     "output_type": "execute_result"
    }
   ],
   "source": [
    "df_vid_info[df_vid_info.title == \" \"]"
   ]
  },
  {
   "cell_type": "code",
   "execution_count": 35,
   "id": "8e02c062-2135-4747-b570-f3e5f0111e34",
   "metadata": {},
   "outputs": [
    {
     "data": {
      "text/plain": [
       "' '"
      ]
     },
     "execution_count": 35,
     "metadata": {},
     "output_type": "execute_result"
    }
   ],
   "source": [
    "df_vid_info[df_vid_info.title.duplicated()].sort_values(\"title\").iloc[0].title"
   ]
  },
  {
   "cell_type": "markdown",
   "id": "d1f8e580-3127-4a5a-993e-d61a7160b280",
   "metadata": {},
   "source": [
    "some streams actually have no title https://www.twitch.tv/videos/1013003053"
   ]
  },
  {
   "cell_type": "markdown",
   "id": "a9141136-b7bd-4db1-a62c-daf994a7903a",
   "metadata": {},
   "source": [
    "## Filtering out videos to reduce the number of messages"
   ]
  },
  {
   "cell_type": "markdown",
   "id": "592fadc5-38f1-4737-9360-ecf1250804f8",
   "metadata": {},
   "source": [
    "Discard videos without messages"
   ]
  },
  {
   "cell_type": "code",
   "execution_count": 81,
   "id": "fb2d6f15-b0db-491c-8026-53ddde00f028",
   "metadata": {},
   "outputs": [
    {
     "data": {
      "text/plain": [
       "'4072/5953 videos with comments'"
      ]
     },
     "execution_count": 81,
     "metadata": {},
     "output_type": "execute_result"
    }
   ],
   "source": [
    "df_reduced = df_vid_info[df_vid_info.msg_count > 0]\n",
    "f\"{df_commented_vids.id.count()}/{df_vid_info.id.count()} videos with comments\""
   ]
  },
  {
   "cell_type": "markdown",
   "id": "b6f1e40f-5d4e-4ee4-80f9-ef860deeb1f6",
   "metadata": {},
   "source": [
    "discard reruns"
   ]
  },
  {
   "cell_type": "code",
   "execution_count": 82,
   "id": "e35879ed-c379-4cb5-8d7b-a305c0e04611",
   "metadata": {},
   "outputs": [],
   "source": [
    "# to look at stream titles, write them to file\n",
    "# with open(\"stream_titles.txt\", \"w\") as out_file:\n",
    "#    out_file.write(\"\\n\".join(sorted(df_commented_vids.title.unique().tolist())))"
   ]
  },
  {
   "cell_type": "code",
   "execution_count": 83,
   "id": "cbc1f0fb-fb25-434f-8e6a-a1c57485e86b",
   "metadata": {},
   "outputs": [],
   "source": [
    "df_reduced = df_reduced[df_reduced.is_rerun==False]"
   ]
  },
  {
   "cell_type": "code",
   "execution_count": 84,
   "id": "0146b694-89f4-456d-b342-5a53ba76338f",
   "metadata": {},
   "outputs": [],
   "source": [
    "df_reduced = df_reduced[df_reduced[\"duration_hrs\"] >= 1]"
   ]
  },
  {
   "cell_type": "code",
   "execution_count": 85,
   "id": "d1cabd8e-4f9e-4535-b735-5e925074ae68",
   "metadata": {},
   "outputs": [],
   "source": [
    "# df_reduced = df_reduced[df_reduced[\"msg_per_min\"] >= 300]"
   ]
  },
  {
   "cell_type": "code",
   "execution_count": 86,
   "id": "a0c76c6a-2b6d-43ef-8447-1f38707e1d6f",
   "metadata": {},
   "outputs": [
    {
     "data": {
      "text/plain": [
       "(3110, 89960287)"
      ]
     },
     "execution_count": 86,
     "metadata": {},
     "output_type": "execute_result"
    }
   ],
   "source": [
    "df_reduced.id.count(),df_reduced.msg_count.sum()"
   ]
  },
  {
   "cell_type": "code",
   "execution_count": null,
   "id": "b352a955-fd06-494c-b9d6-bd0245fcb857",
   "metadata": {},
   "outputs": [],
   "source": []
  },
  {
   "cell_type": "code",
   "execution_count": 47,
   "id": "81d378ec-bbc4-4987-abec-59a4f2e62d96",
   "metadata": {},
   "outputs": [
    {
     "data": {
      "text/html": [
       "<div>\n",
       "<style scoped>\n",
       "    .dataframe tbody tr th:only-of-type {\n",
       "        vertical-align: middle;\n",
       "    }\n",
       "\n",
       "    .dataframe tbody tr th {\n",
       "        vertical-align: top;\n",
       "    }\n",
       "\n",
       "    .dataframe thead th {\n",
       "        text-align: right;\n",
       "    }\n",
       "</style>\n",
       "<table border=\"1\" class=\"dataframe\">\n",
       "  <thead>\n",
       "    <tr style=\"text-align: right;\">\n",
       "      <th></th>\n",
       "      <th>Unnamed: 0</th>\n",
       "      <th>id</th>\n",
       "      <th>title</th>\n",
       "      <th>created_at</th>\n",
       "      <th>msg_count</th>\n",
       "      <th>is_rerun</th>\n",
       "      <th>duration</th>\n",
       "      <th>duration_hrs</th>\n",
       "      <th>msg_per_min</th>\n",
       "    </tr>\n",
       "  </thead>\n",
       "  <tbody>\n",
       "    <tr>\n",
       "      <th>1936</th>\n",
       "      <td>1936</td>\n",
       "      <td>506331985</td>\n",
       "      <td>PRESHOW | Finals | 2019 World Championship | G...</td>\n",
       "      <td>2019-11-10 04:05:29+00:00</td>\n",
       "      <td>235568</td>\n",
       "      <td>False</td>\n",
       "      <td>12h4m52s</td>\n",
       "      <td>12.081111</td>\n",
       "      <td>324.981146</td>\n",
       "    </tr>\n",
       "    <tr>\n",
       "      <th>974</th>\n",
       "      <td>974</td>\n",
       "      <td>52477612</td>\n",
       "      <td>SKT vs CLG - IEM Katowice 2016 - group B</td>\n",
       "      <td>2016-03-05 10:38:03+00:00</td>\n",
       "      <td>264144</td>\n",
       "      <td>False</td>\n",
       "      <td>11h36m23s</td>\n",
       "      <td>11.606389</td>\n",
       "      <td>379.308331</td>\n",
       "    </tr>\n",
       "    <tr>\n",
       "      <th>2834</th>\n",
       "      <td>2834</td>\n",
       "      <td>61178465</td>\n",
       "      <td>LCS Spring Playoffs - Finals: OG vs G2 | CLG v...</td>\n",
       "      <td>2016-04-17 13:58:47+00:00</td>\n",
       "      <td>230420</td>\n",
       "      <td>False</td>\n",
       "      <td>11h30m16s</td>\n",
       "      <td>11.504444</td>\n",
       "      <td>333.813019</td>\n",
       "    </tr>\n",
       "    <tr>\n",
       "      <th>4147</th>\n",
       "      <td>4147</td>\n",
       "      <td>732975955</td>\n",
       "      <td>Warm Up Finals Preshow | LEC Summer (2020) |Le...</td>\n",
       "      <td>2020-09-06 08:00:39+00:00</td>\n",
       "      <td>234119</td>\n",
       "      <td>False</td>\n",
       "      <td>11h23m24s</td>\n",
       "      <td>11.390000</td>\n",
       "      <td>342.579748</td>\n",
       "    </tr>\n",
       "    <tr>\n",
       "      <th>980</th>\n",
       "      <td>980</td>\n",
       "      <td>52259670</td>\n",
       "      <td>LIVE: IEM Katowice 2016</td>\n",
       "      <td>2016-03-04 10:44:57+00:00</td>\n",
       "      <td>259020</td>\n",
       "      <td>False</td>\n",
       "      <td>11h6m14s</td>\n",
       "      <td>11.103889</td>\n",
       "      <td>388.782709</td>\n",
       "    </tr>\n",
       "    <tr>\n",
       "      <th>...</th>\n",
       "      <td>...</td>\n",
       "      <td>...</td>\n",
       "      <td>...</td>\n",
       "      <td>...</td>\n",
       "      <td>...</td>\n",
       "      <td>...</td>\n",
       "      <td>...</td>\n",
       "      <td>...</td>\n",
       "      <td>...</td>\n",
       "    </tr>\n",
       "    <tr>\n",
       "      <th>4165</th>\n",
       "      <td>4165</td>\n",
       "      <td>663187389</td>\n",
       "      <td>Week 3 Day 2 | LEC Summer Split (2020): OG vs....</td>\n",
       "      <td>2020-06-27 17:26:10+00:00</td>\n",
       "      <td>58269</td>\n",
       "      <td>False</td>\n",
       "      <td>2h50m3s</td>\n",
       "      <td>2.834167</td>\n",
       "      <td>342.658042</td>\n",
       "    </tr>\n",
       "    <tr>\n",
       "      <th>1982</th>\n",
       "      <td>1982</td>\n",
       "      <td>485355544</td>\n",
       "      <td>2019 World Championship Draw Show</td>\n",
       "      <td>2019-09-23 12:30:11+00:00</td>\n",
       "      <td>50895</td>\n",
       "      <td>False</td>\n",
       "      <td>2h28m18s</td>\n",
       "      <td>2.471667</td>\n",
       "      <td>343.189481</td>\n",
       "    </tr>\n",
       "    <tr>\n",
       "      <th>1958</th>\n",
       "      <td>1958</td>\n",
       "      <td>495468093</td>\n",
       "      <td>Legends of Runeterra with Pastrytime and Andre...</td>\n",
       "      <td>2019-10-16 18:01:12+00:00</td>\n",
       "      <td>47512</td>\n",
       "      <td>False</td>\n",
       "      <td>2h18m13s</td>\n",
       "      <td>2.303611</td>\n",
       "      <td>343.750151</td>\n",
       "    </tr>\n",
       "    <tr>\n",
       "      <th>2854</th>\n",
       "      <td>2854</td>\n",
       "      <td>57989033</td>\n",
       "      <td>League of Draven Caster Showdown</td>\n",
       "      <td>2016-04-01 17:01:02+00:00</td>\n",
       "      <td>40041</td>\n",
       "      <td>False</td>\n",
       "      <td>1h58m5s</td>\n",
       "      <td>1.968056</td>\n",
       "      <td>339.091037</td>\n",
       "    </tr>\n",
       "    <tr>\n",
       "      <th>1699</th>\n",
       "      <td>1699</td>\n",
       "      <td>865795081</td>\n",
       "      <td>Season 2021 Opening Day | Full Livestream - Le...</td>\n",
       "      <td>2021-01-08 14:52:14+00:00</td>\n",
       "      <td>30185</td>\n",
       "      <td>False</td>\n",
       "      <td>1h0m21s</td>\n",
       "      <td>1.005833</td>\n",
       "      <td>500.165700</td>\n",
       "    </tr>\n",
       "  </tbody>\n",
       "</table>\n",
       "<p>151 rows × 9 columns</p>\n",
       "</div>"
      ],
      "text/plain": [
       "      Unnamed: 0         id  \\\n",
       "1936        1936  506331985   \n",
       "974          974   52477612   \n",
       "2834        2834   61178465   \n",
       "4147        4147  732975955   \n",
       "980          980   52259670   \n",
       "...          ...        ...   \n",
       "4165        4165  663187389   \n",
       "1982        1982  485355544   \n",
       "1958        1958  495468093   \n",
       "2854        2854   57989033   \n",
       "1699        1699  865795081   \n",
       "\n",
       "                                                  title  \\\n",
       "1936  PRESHOW | Finals | 2019 World Championship | G...   \n",
       "974            SKT vs CLG - IEM Katowice 2016 - group B   \n",
       "2834  LCS Spring Playoffs - Finals: OG vs G2 | CLG v...   \n",
       "4147  Warm Up Finals Preshow | LEC Summer (2020) |Le...   \n",
       "980                             LIVE: IEM Katowice 2016   \n",
       "...                                                 ...   \n",
       "4165  Week 3 Day 2 | LEC Summer Split (2020): OG vs....   \n",
       "1982                  2019 World Championship Draw Show   \n",
       "1958  Legends of Runeterra with Pastrytime and Andre...   \n",
       "2854                   League of Draven Caster Showdown   \n",
       "1699  Season 2021 Opening Day | Full Livestream - Le...   \n",
       "\n",
       "                     created_at  msg_count  is_rerun   duration  duration_hrs  \\\n",
       "1936  2019-11-10 04:05:29+00:00     235568     False   12h4m52s     12.081111   \n",
       "974   2016-03-05 10:38:03+00:00     264144     False  11h36m23s     11.606389   \n",
       "2834  2016-04-17 13:58:47+00:00     230420     False  11h30m16s     11.504444   \n",
       "4147  2020-09-06 08:00:39+00:00     234119     False  11h23m24s     11.390000   \n",
       "980   2016-03-04 10:44:57+00:00     259020     False   11h6m14s     11.103889   \n",
       "...                         ...        ...       ...        ...           ...   \n",
       "4165  2020-06-27 17:26:10+00:00      58269     False    2h50m3s      2.834167   \n",
       "1982  2019-09-23 12:30:11+00:00      50895     False   2h28m18s      2.471667   \n",
       "1958  2019-10-16 18:01:12+00:00      47512     False   2h18m13s      2.303611   \n",
       "2854  2016-04-01 17:01:02+00:00      40041     False    1h58m5s      1.968056   \n",
       "1699  2021-01-08 14:52:14+00:00      30185     False    1h0m21s      1.005833   \n",
       "\n",
       "      msg_per_min  \n",
       "1936   324.981146  \n",
       "974    379.308331  \n",
       "2834   333.813019  \n",
       "4147   342.579748  \n",
       "980    388.782709  \n",
       "...           ...  \n",
       "4165   342.658042  \n",
       "1982   343.189481  \n",
       "1958   343.750151  \n",
       "2854   339.091037  \n",
       "1699   500.165700  \n",
       "\n",
       "[151 rows x 9 columns]"
      ]
     },
     "execution_count": 47,
     "metadata": {},
     "output_type": "execute_result"
    }
   ],
   "source": [
    "df_reduced.sort_values(\"duration_hrs\", ascending=False)"
   ]
  },
  {
   "cell_type": "code",
   "execution_count": 50,
   "id": "e3a7de2e-6158-4d99-a2b2-1a2e447a5e45",
   "metadata": {},
   "outputs": [
    {
     "data": {
      "text/html": [
       "<div>\n",
       "<style scoped>\n",
       "    .dataframe tbody tr th:only-of-type {\n",
       "        vertical-align: middle;\n",
       "    }\n",
       "\n",
       "    .dataframe tbody tr th {\n",
       "        vertical-align: top;\n",
       "    }\n",
       "\n",
       "    .dataframe thead th {\n",
       "        text-align: right;\n",
       "    }\n",
       "</style>\n",
       "<table border=\"1\" class=\"dataframe\">\n",
       "  <thead>\n",
       "    <tr style=\"text-align: right;\">\n",
       "      <th></th>\n",
       "      <th>Unnamed: 0</th>\n",
       "      <th>id</th>\n",
       "      <th>msg_count</th>\n",
       "      <th>duration_hrs</th>\n",
       "      <th>msg_per_min</th>\n",
       "    </tr>\n",
       "  </thead>\n",
       "  <tbody>\n",
       "    <tr>\n",
       "      <th>count</th>\n",
       "      <td>151.000000</td>\n",
       "      <td>1.510000e+02</td>\n",
       "      <td>151.000000</td>\n",
       "      <td>151.000000</td>\n",
       "      <td>151.000000</td>\n",
       "    </tr>\n",
       "    <tr>\n",
       "      <th>mean</th>\n",
       "      <td>2459.814570</td>\n",
       "      <td>4.386562e+08</td>\n",
       "      <td>153574.198675</td>\n",
       "      <td>6.965432</td>\n",
       "      <td>367.257931</td>\n",
       "    </tr>\n",
       "    <tr>\n",
       "      <th>std</th>\n",
       "      <td>914.324584</td>\n",
       "      <td>3.115202e+08</td>\n",
       "      <td>50049.773854</td>\n",
       "      <td>2.051003</td>\n",
       "      <td>48.195257</td>\n",
       "    </tr>\n",
       "    <tr>\n",
       "      <th>min</th>\n",
       "      <td>972.000000</td>\n",
       "      <td>5.225967e+07</td>\n",
       "      <td>30185.000000</td>\n",
       "      <td>1.005833</td>\n",
       "      <td>302.146496</td>\n",
       "    </tr>\n",
       "    <tr>\n",
       "      <th>25%</th>\n",
       "      <td>1959.500000</td>\n",
       "      <td>1.840128e+08</td>\n",
       "      <td>117874.500000</td>\n",
       "      <td>5.619306</td>\n",
       "      <td>328.958000</td>\n",
       "    </tr>\n",
       "    <tr>\n",
       "      <th>50%</th>\n",
       "      <td>2276.000000</td>\n",
       "      <td>3.455940e+08</td>\n",
       "      <td>156511.000000</td>\n",
       "      <td>7.220556</td>\n",
       "      <td>354.108056</td>\n",
       "    </tr>\n",
       "    <tr>\n",
       "      <th>75%</th>\n",
       "      <td>2614.500000</td>\n",
       "      <td>5.443060e+08</td>\n",
       "      <td>181030.000000</td>\n",
       "      <td>8.137083</td>\n",
       "      <td>398.780118</td>\n",
       "    </tr>\n",
       "    <tr>\n",
       "      <th>max</th>\n",
       "      <td>5769.000000</td>\n",
       "      <td>1.211185e+09</td>\n",
       "      <td>280448.000000</td>\n",
       "      <td>12.081111</td>\n",
       "      <td>507.795565</td>\n",
       "    </tr>\n",
       "  </tbody>\n",
       "</table>\n",
       "</div>"
      ],
      "text/plain": [
       "        Unnamed: 0            id      msg_count  duration_hrs  msg_per_min\n",
       "count   151.000000  1.510000e+02     151.000000    151.000000   151.000000\n",
       "mean   2459.814570  4.386562e+08  153574.198675      6.965432   367.257931\n",
       "std     914.324584  3.115202e+08   50049.773854      2.051003    48.195257\n",
       "min     972.000000  5.225967e+07   30185.000000      1.005833   302.146496\n",
       "25%    1959.500000  1.840128e+08  117874.500000      5.619306   328.958000\n",
       "50%    2276.000000  3.455940e+08  156511.000000      7.220556   354.108056\n",
       "75%    2614.500000  5.443060e+08  181030.000000      8.137083   398.780118\n",
       "max    5769.000000  1.211185e+09  280448.000000     12.081111   507.795565"
      ]
     },
     "execution_count": 50,
     "metadata": {},
     "output_type": "execute_result"
    }
   ],
   "source": [
    "df_reduced.describe()"
   ]
  },
  {
   "cell_type": "code",
   "execution_count": null,
   "id": "4b8b53b4-0c9b-4b71-ad76-b934c30a4ba8",
   "metadata": {},
   "outputs": [],
   "source": []
  },
  {
   "cell_type": "markdown",
   "id": "310096ce-1706-450b-aa73-411e09b1fc4d",
   "metadata": {},
   "source": [
    "## Interesting observations"
   ]
  },
  {
   "cell_type": "code",
   "execution_count": 54,
   "id": "91fdbff5-5569-49b7-8260-ec6f2000bf73",
   "metadata": {},
   "outputs": [
    {
     "data": {
      "image/png": "[encoded data removed]",
      "text/plain": [
       "<Figure size 432x288 with 1 Axes>"
      ]
     },
     "metadata": {
      "needs_background": "light"
     },
     "output_type": "display_data"
    }
   ],
   "source": [
    "plt.scatter(df_reduced.msg_per_min, df_reduced.duration_hrs)\n",
    "plt.show()"
   ]
  },
  {
   "cell_type": "code",
   "execution_count": 57,
   "id": "e371176a-f651-4915-b6a4-6ffceccf5bfb",
   "metadata": {},
   "outputs": [
    {
     "data": {
      "text/plain": [
       "(0.014865720551946023, 0.856238022307642)"
      ]
     },
     "execution_count": 57,
     "metadata": {},
     "output_type": "execute_result"
    }
   ],
   "source": [
    "scipy.stats.pearsonr(df_reduced.msg_per_min, df_reduced.duration_hrs)"
   ]
  },
  {
   "cell_type": "code",
   "execution_count": null,
   "id": "451652a1-586f-4f2b-98de-1c2d60742dd7",
   "metadata": {},
   "outputs": [],
   "source": []
  },
  {
   "cell_type": "markdown",
   "id": "b80a95ed-b1fd-41f2-b2c8-dbd498545c33",
   "metadata": {},
   "source": [
    "## Distribution of message densities in matches of Fu et. al dataset"
   ]
  },
  {
   "cell_type": "code",
   "execution_count": 67,
   "id": "0ba678e3-d583-46e2-865d-592f3f1811b4",
   "metadata": {},
   "outputs": [],
   "source": [
    "chd = ChatHighlightData(chat_dir=\"../data/final_data\", highlight_dir=\"../data/gt\",)\n",
    "chd.load_data(file_identifier=\"nalcs*\")"
   ]
  },
  {
   "cell_type": "code",
   "execution_count": 68,
   "id": "44a8ea7e-b2d8-4fbc-8766-3e19033d5d3d",
   "metadata": {},
   "outputs": [],
   "source": [
    "data_totals = chd.get_data_totals()"
   ]
  },
  {
   "cell_type": "code",
   "execution_count": 69,
   "id": "0f319a66-82b5-4817-8d0c-a66f2da85a86",
   "metadata": {},
   "outputs": [
    {
     "data": {
      "text/plain": [
       "174.60866602711147"
      ]
     },
     "execution_count": 69,
     "metadata": {},
     "output_type": "execute_result"
    }
   ],
   "source": [
    "data_totals[\"chat_message_count\"]/(data_totals[\"video_length_secs\"]/60)"
   ]
  },
  {
   "cell_type": "markdown",
   "id": "390932d1-bd7f-4853-91c0-5f211e8e0c29",
   "metadata": {},
   "source": [
    "characteristics of message counts per video where one __video__ is one __match__ in the tournament"
   ]
  },
  {
   "cell_type": "code",
   "execution_count": 72,
   "id": "2c306b62-7940-4c3c-be7a-d4825e1a33b7",
   "metadata": {
    "tags": []
   },
   "outputs": [],
   "source": [
    "msg_counts =  list()\n",
    "video_lengths = list()\n",
    "for match, data in chd.chat.items():\n",
    "    msg_counts.append(len(utils.unpack_messages(data)))\n",
    "    video_lengths.append(len(data))"
   ]
  },
  {
   "cell_type": "code",
   "execution_count": 73,
   "id": "6ee8092b-7b51-4b10-b8c6-12a0d0d7201e",
   "metadata": {},
   "outputs": [
    {
     "data": {
      "text/plain": [
       "5364.576250815363"
      ]
     },
     "execution_count": 73,
     "metadata": {},
     "output_type": "execute_result"
    }
   ],
   "source": [
    "np.std(msg_counts)"
   ]
  },
  {
   "cell_type": "code",
   "execution_count": 74,
   "id": "2e2da208-8a7a-47e9-8e0d-58f63b26cc57",
   "metadata": {},
   "outputs": [],
   "source": [
    "video_lens_mins = np.asarray(video_lengths)/30/60"
   ]
  },
  {
   "cell_type": "code",
   "execution_count": 75,
   "id": "a2090eb9-93fa-4aa5-badb-67b001cd0179",
   "metadata": {},
   "outputs": [],
   "source": [
    "video_msg_per_min = np.asarray(msg_counts)/video_lens_mins"
   ]
  },
  {
   "cell_type": "markdown",
   "id": "a215e6f0-1d66-4ec1-8075-d7390e59daf7",
   "metadata": {},
   "source": [
    "## Selecting VODs based on distributions in our highlight data\n",
    "\n",
    "We can model the distributions of different features of the videos in our data and then sample VODs based on these criteria until we have a certain amount of tokens"
   ]
  },
  {
   "cell_type": "markdown",
   "id": "24fb8aec-b655-494c-b6db-7f17a56403c2",
   "metadata": {},
   "source": [
    "Follow this guide to get the bi-modal distribution out: https://machinelearningmastery.com/probability-density-estimation/"
   ]
  },
  {
   "cell_type": "code",
   "execution_count": 76,
   "id": "92c6f6d1-37f5-4d17-8ba5-658094563de2",
   "metadata": {},
   "outputs": [],
   "source": [
    "def model_from_samples(s, b):\n",
    "    # fit density\n",
    "    sample = s.reshape((-1, 1))\n",
    "    m = KernelDensity(bandwidth=b, kernel='gaussian')\n",
    "    return m.fit(s)"
   ]
  },
  {
   "cell_type": "code",
   "execution_count": 77,
   "id": "92650cd2-f259-44b5-bd63-06596efe798e",
   "metadata": {},
   "outputs": [],
   "source": [
    "def plot_model(v, model):\n",
    "    # sample probabilities for a range of outcomes\n",
    "    values = np.arange(0,v.max(),1)\n",
    "    values = values.reshape((-1, 1))\n",
    "    probabilities = m.score_samples(values)\n",
    "    probabilities = np.exp(probabilities)\n",
    "    \n",
    "    # plot the histogram and pdf\n",
    "    plt.hist(v, bins=50, density=True)\n",
    "    plt.plot(values[:], probabilities)\n",
    "    plt.show()"
   ]
  },
  {
   "cell_type": "code",
   "execution_count": 80,
   "id": "e0525e16-3642-4b11-8850-61052cac976a",
   "metadata": {},
   "outputs": [
    {
     "data": {
      "image/png": "[encoded data removed]",
      "text/plain": [
       "<Figure size 432x288 with 1 Axes>"
      ]
     },
     "metadata": {
      "needs_background": "light"
     },
     "output_type": "display_data"
    }
   ],
   "source": [
    "vals = video_msg_per_min.reshape((-1,1))\n",
    "m = model_from_samples(vals, 20)\n",
    "plot_model(vals, m)"
   ]
  },
  {
   "cell_type": "code",
   "execution_count": 175,
   "id": "b70970a8-5d8b-412b-9d27-1a6572e8ade0",
   "metadata": {},
   "outputs": [],
   "source": [
    "df_sampled_vids = pd.DataFrame(columns=df_reduced.columns)\n",
    "\n",
    "while df_sampled_vids.msg_count.sum() < 2*10**7:\n",
    "    val = m.sample()[0,0]\n",
    "    idx = df_reduced.msg_per_min.apply(lambda x: abs(x-val)).idxmin()\n",
    "    df_sampled_vids = pd.concat([df_sampled_vids, df_reduced[df_reduced.index == idx]])"
   ]
  },
  {
   "cell_type": "code",
   "execution_count": 177,
   "id": "49afbde5-fa10-46d9-95ff-8530405d59cf",
   "metadata": {},
   "outputs": [
    {
     "data": {
      "image/png": "[encoded data removed]",
      "text/plain": [
       "<Figure size 432x288 with 1 Axes>"
      ]
     },
     "metadata": {
      "needs_background": "light"
     },
     "output_type": "display_data"
    }
   ],
   "source": [
    "plt.hist(df_sampled_vids.msg_per_min,bins=30)\n",
    "plt.show()"
   ]
  },
  {
   "cell_type": "code",
   "execution_count": 179,
   "id": "df81fccf-e11c-4ec2-a2a0-eaa1eb976ef8",
   "metadata": {},
   "outputs": [
    {
     "data": {
      "text/plain": [
       "20011366"
      ]
     },
     "execution_count": 179,
     "metadata": {},
     "output_type": "execute_result"
    }
   ],
   "source": [
    "df_sampled_vids.msg_count.sum()"
   ]
  },
  {
   "cell_type": "code",
   "execution_count": 181,
   "id": "1d4a40fe-de18-444a-b19b-3a1283777555",
   "metadata": {},
   "outputs": [
    {
     "data": {
      "text/plain": [
       "['Group Stage Day 3 | Mid-Season Invitational (2018)',\n",
       " 'The Dive Podcast | Classic Legends',\n",
       " '2016 Mid-Season Invitational: Group Stage Day 2',\n",
       " 'Worlds 2018 Group Stage Day 8',\n",
       " 'Week 1 Day 1 | LEC Summer Split (2020)',\n",
       " 'DK vs DRXㅣT1 vs LSB | 2021 LCK Summer',\n",
       " 'DK vs T1 | HLE vs LSB | 2022 LCK Spring Split',\n",
       " 'LCK Summer: KZ vs. KT - GEN vs. GRF',\n",
       " 'EU Challenger Spring - Semifinals Day 2',\n",
       " 'G2 vs. MAD | Playoffs Round 1 | LEC Summer | G2 Esports vs. MAD Lions (2020)',\n",
       " 'BLG vs. JDG | IG vs. TES - Week 8 Day 7 | LPL Summer Split (2020)',\n",
       " 'Week 5 Day 1 | LCS Spring Split (2019)',\n",
       " 'AF vs. DRX - SB vs. T1 [2020 LCK Summer Split]',\n",
       " '2018 World Championship: Play-In Day 4',\n",
       " 'Week 4 Day 2 | LEC Summer Split (2020)',\n",
       " 'EU LCS Promotion Tournament - Day 3',\n",
       " 'Group Stage Day 3 | Mid-Season Invitational (2018)',\n",
       " 'WE vs. DMO | JDG vs. EDG - Week 6 Day 1 | LPL Summer Split (2020)',\n",
       " 'VIT vs FNC - EU LCS Spring Playoffs Quarterfinals Day 1',\n",
       " 'SP vs. HLE - DYN vs. DRX [2020 LCK Summer Split]',\n",
       " 'All-Star Event: Day 2',\n",
       " 'LCK Summer: KZ vs. AFS - BBQ vs. KT',\n",
       " 'EU Masters Summer 2019 - Play-ins Knockouts',\n",
       " 'Week 7 Day 1 | LEC Summer Split (2019)',\n",
       " 'AF vs DK - BRO vs NSㅣ2021 LCK Spring Split',\n",
       " 'DWG vs. SKT - KZ vs. JAG | Week 3 Day 1 | LCK Summer Split (2019)',\n",
       " 'Play-In Groups Day 3 | Worlds 2021',\n",
       " 'NA LCS Countdown',\n",
       " 'SKT vs. DWG - JAG vs. GEN | Week 2 Day 5 | LCK Spring Split (2019)',\n",
       " 'T1 vs. AF | Round 2 [2020 LCK Regional Qualifier]',\n",
       " 'WE vs. JDG | Playoffs Round 1 | LPL Spring Split | Team WE vs. JD Gaming (2019)',\n",
       " ' SB vs. DWG | Playoffs Round 1 | LCK Spring Split | Hanwha Life Esports vs. DAMWON Gaming (2019)',\n",
       " 'Week 6 Day 1 | LEC Summer Split (2020)',\n",
       " '2016 Mid-Season Invitational: Group Stage Day 3',\n",
       " 'Week 6 Day 2 | LEC Summer Split (2020)',\n",
       " 'LCK Spring: JAG vs. KT - MVP vs. BBQ',\n",
       " 'MAD vs. S04 | Playoffs Round 2 | LEC Summer | MAD Lions vs. Schalke 04 (2020)',\n",
       " 'PrimeTime League - 2016 Season Episode 10',\n",
       " 'PrimeTime League - 2016 Season Episode 8',\n",
       " 'EU LCS Spring: Week 1 Day 1 ',\n",
       " 'SB vs. GEN - AF vs. T1 [2020 LCK Spring Split]',\n",
       " '2018 World Championship: Play-In Knockouts Day 1',\n",
       " 'LoR Masters Europe - Quarter Finals',\n",
       " 'FPX VS. UP |  WE VS. LGD - Week 5 Day 1 | LPL Spring Split (2022)',\n",
       " 'DMO vs. JDG | LGD vs. IG - Week 4 Day 2 | LPL Summer Split (2020)',\n",
       " 'MSI Countdown',\n",
       " 'Worlds 2018: Group Stage Day 3',\n",
       " 'GEN vs T1ㅣ2021 LCK Spring PLAYOFFS Round 2',\n",
       " 'GRF vs. SKT | Finals | LCK Spring Split | Griffin vs. SK telecom T1 (2019)',\n",
       " 'LCK Summer: EEW vs. KT | ROX vs. SKT',\n",
       " 'Worlds 2017 Play-In: Young Generation vs. Kaos Latin Gamers',\n",
       " 'World Championship: Group Stage Day 3',\n",
       " 'TES vs. SN - Semi-Finals | LPL Summer Split (2020)',\n",
       " 'Worlds 2019 Play-In Groups Day 1',\n",
       " 'CLG vs. CG | Third Place | LCS Summer Split | Counter Logic Gaming vs. Clutch Gaming (2019)',\n",
       " 'Groups Day 8 | 2020 World Championship',\n",
       " '  FNC vs. H2K | Regional Qualifier Day 3 | EU LCS Summer Split | Fnatic vs. H2K (2017)',\n",
       " 'OG vs. SPY | Day 1 | LEC Regional Qualifier | Origen vs. Splyce (2019)',\n",
       " 'MSI 2021: Countdown',\n",
       " 'Worlds 2018: Group Stage Day 3',\n",
       " 'EU LCS Spring 2017 - Week 7 Day 3: ROCCAT vs. Vitality | Misfits vs. H2K',\n",
       " 'SBG vs. SKT - GEN vs. AF | Week 2 Day 2 | LCK Spring Split (2019)',\n",
       " '2016 Mid-Season Invitational: Group Stage Day 2 Rebroadcast',\n",
       " 'LCK Summer: KT vs. CJ (OGN)',\n",
       " 'LCK Summer Finals: ROX vs. KT (OGN)',\n",
       " 'RNG vs. EDG | Quarterfinals Day 2 | Worlds 2021',\n",
       " 'EU LCS Summer (2018) | Week 1 Day 2',\n",
       " 'EU LCS Summer Split Week 10 Day 1: G2 Esports vs. Roccat | Ninjas in Pyjamas vs. Fnatic',\n",
       " 'T1 vs. DRX - DYN vs. HLE [2020 LCK Summer Split]',\n",
       " 'EU LCS Rebroadcast - Week 2 Day 1',\n",
       " 'AF vs. GRF - HLE vs. GEN | Week 5 Day 5 | LCK Summer Split (2019)\\n',\n",
       " 'Week 7 Day 2 | LCS Spring Split (2019)',\n",
       " 'Worlds 2017 Finals - Samsung Galaxy vs. SK telecom T1',\n",
       " 'LCK Summer: GRF vs. GEN - HLE vs. SKT',\n",
       " 'GEN vs T1 | NS vs KDF | 2022 LCK Spring Split',\n",
       " 'WE vs. JDG | Playoffs Round 1 | LPL Spring Split | Team WE vs. JD Gaming (2019)',\n",
       " 'LCK Summer: MVP vs. BBQ | EEW vs. SKT',\n",
       " 'MSI Countdown',\n",
       " '  FNC vs. H2K | Regional Qualifier Day 3 | EU LCS Summer Split | Fnatic vs. H2K (2017)',\n",
       " 'C9A vs. FLYA | Semifinals | NA Academy Summer Split | C9 Academy vs. FLY Academy (2018)',\n",
       " 'EU LCS Summer (2018) | Week 8 Day 2',\n",
       " 'PrimeTime League - 2016 Season Episode 10',\n",
       " 'TL vs. CG | Semifinals Day 2 | LCS Summer Split | Team Liquid vs. Clutch Gaming (2019)',\n",
       " '2017 All-Star Event: Day 4',\n",
       " 'KT vs BRO | HLE vs T1 | 2022 LCK Spring Split',\n",
       " '2016 Mid-Season Invitational: Group Stage Day 1',\n",
       " 'Week 8 Day 2 | LCS Spring Split (2019)',\n",
       " 'EU LCS Summer 2017 - Week 8 Day 3:  Ninjas in Pyjamas vs. Roccat | Unicorns of Love vs. Mysterious Monkeys',\n",
       " 'LCS Spring: Week 1 Day 2',\n",
       " 'SB vs. HLE - GRF vs. AF | Week 1 Day 2 | LCK Summer Split (2019)',\n",
       " 'EU LCS Promotion Tournament - Day 3',\n",
       " 'NS vs HLE - AF vs GENㅣ2021 LCK Spring Split',\n",
       " '2019 All-Star Event: Day 1',\n",
       " 'FOX vs. TSM | Quarterfinals | NA LCS Summer | Echo Fox vs. TSM (2018)',\n",
       " 'European Masters Spring Split Knockout 2018 - Semi Finals',\n",
       " 'Week 5 Day 2 | LEC Summer Split (2019)',\n",
       " \"LLN Apertura '17 - Semana 11 Semifinales Día 1\",\n",
       " 'Worlds 2020 Groups: Day 2',\n",
       " 'LCK Summer: HLE vs. GRF - KT vs. SKT',\n",
       " 'MSI Play-In Groups Day 1',\n",
       " 'Week 5 Day 1 | LCS Summer Split (2019)',\n",
       " '2022 Spring LEC - Week 7 Day 1',\n",
       " 'EU LCS Week 3 Day 2',\n",
       " 'EU LCS Promotion Tournament - Day 1',\n",
       " 'MSI 2017: Group Stage Day 4',\n",
       " 'Worlds 2020 Groups: Day 6',\n",
       " 'Week 1 Day 2 | LCS Summer Split (2019)',\n",
       " 'Worlds 2017 Play-In: Hong Kong Attitude vs. Rampage',\n",
       " 'Week 4 Day 1 | LCS Summer Split (2019)',\n",
       " 'EU LCS Finals - 3rd Place: Misfits vs. Fnatic',\n",
       " 'CLG vs. CG | Third Place | LCS Summer Split | Counter Logic Gaming vs. Clutch Gaming (2019)',\n",
       " 'NA Academy: TL Academy vs. TSM Academy',\n",
       " '2016 Mid-Season Invitational: Group Stage Day 2',\n",
       " 'Malaysia eSports League of Legends Championship 2016',\n",
       " 'JDG vs. ES | FPX vs. LGD - Week 9 Day 3 | LPL Summer Split (2020)',\n",
       " 'The Americas | Monuments of Power Seasonal Tournament',\n",
       " 'Worlds 2020 Groups: Day 6',\n",
       " 'Worlds 2017: Groups Day 3',\n",
       " 'DRX vs KT - T1 vs LSBㅣ2021 LCK Spring Split',\n",
       " 'LGD vs. EDG | OMG vs. IG - Week 5 Day2 | LPL Spring (2020)',\n",
       " 'CLG vs. CG | Third Place | LCS Summer Split | Counter Logic Gaming vs. Clutch Gaming (2019)',\n",
       " 'LCK Playoffs: Gen.G vs. Afreeca Freecs',\n",
       " 'HLE vs LSB - DK vs DRXㅣ2021 LCK Spring Split',\n",
       " 'Week 8 Day 2 | LEC Summer Split (2019)',\n",
       " 'Wild Rift Horizon Cup | GROUP STAGE - Day 1',\n",
       " 'NA LCS Summer (2018) | Week 1 Day 2',\n",
       " 'Fnatic vs. Vitality | Playoffs Round 1 | LEC Spring Split (2019)\\n',\n",
       " 'DRX vs. kt - SB vs. HLE [2020 LCK Summer Split]',\n",
       " 'Day 3 | Play-In Group Stage | Mid-Season Invitational (2018)',\n",
       " 'LCK Summer: BBQ vs. JAG | AFS vs. SKT',\n",
       " 'League of Legends Live: A Concert Experience at 2017 Worlds',\n",
       " 'LCK Spring Playoffs: SSG vs. KT (OGN)',\n",
       " 'The Dive Podcast l Classic Legends',\n",
       " 'Group Stage Day 2 | 2019 Mid-Season Invitational',\n",
       " 'Worlds 2020 Groups: Day 6',\n",
       " 'Worlds 2018 Final: Fnatic vs. Invictus Gaming',\n",
       " 'LCK Summer: MVP vs. SKTelecom T1 (OGN)',\n",
       " 'LCK Summer: BBQ vs. SSG | AFS vs. MVP',\n",
       " 'Worlds 2017 Quarterfinals: Team WE vs. Cloud9',\n",
       " 'LCK Spring Playoffs: AFS vs. KT',\n",
       " 'Day 4 | Rift Rivals: KR/CN/LMS/VN (2019)',\n",
       " 'NS vs DKㅣBRO vs KT | 2021 LCK Summer',\n",
       " 'Worlds Quarterfinals: ROX Tigers vs. Edward Gaming',\n",
       " 'JAG vs. SKT - AFS vs. KT | Week 6 Day 2 | LCK Summer Split (2019)',\n",
       " 'DWG vs. KZ | Final | LCK Regional Qualifier | DAMWON Gaming vs. KING-ZONE DragonX (2019)',\n",
       " 'Worlds 2020 Groups: Day 2',\n",
       " 'Group Stage Day 4 | 2019 Mid-Season Invitational',\n",
       " 'Countdown | Groups Day 6 | Worlds 2021',\n",
       " 'C9 vs. TSM | Round 3 | NA LCS Regional Qualifier | Cloud9 vs. TSM (2018)',\n",
       " 'CLG vs. CG | Third Place | LCS Summer Split | Counter Logic Gaming vs. Clutch Gaming (2019)',\n",
       " 'LCK Summer Finals: ROX vs. KT (OGN)',\n",
       " 'JDG vs. TES - 2020 LPL Summer Finals | LoL China 9th Anniversary (2020)',\n",
       " '2016 Mid-Season Invitational: Semifinals Day 1',\n",
       " 'EU LCS: Fnatic vs. Mysterious Monkeys | Ninjas in Pyjamas vs. H2K',\n",
       " ' GRF vs. JAG - AF vs. HLE | Week 10 Day 2 | LCK Summer Split (2019)',\n",
       " 'LEC/LCS Superstar Showdown | All-Star Event 2020',\n",
       " 'AF vs T1 - NS vs KTㅣ2021 LCK Spring Split',\n",
       " 'Week 1 Day 2 | LEC Summer Split (2019)',\n",
       " 'NA LCS Lounge: C9 vs. CLG',\n",
       " 'NA LCS Summer (2018) | Week 1 Day 2',\n",
       " '🔴 LIVE: Return of the Legends - EU vs Hk/Tw/Mo',\n",
       " 'LCS Spring Playoffs - Finals: OG vs G2 | CLG vs TSM',\n",
       " '2016 Mid-Season Invitational: Group Stage Day 1',\n",
       " 'Week 6 Day 2 | LEC Summer Split (2020)',\n",
       " 'LCK Regional Qualifier: Gen.G vs. SK telecom T1',\n",
       " 'Warm Up Finals Preshow | LEC Summer (2020) |League of Legends',\n",
       " 'LK vs. DWG | Play-In Knockouts Day 1 | 2019 World Championship',\n",
       " 'Week 3 Day 1 | LCS Spring Split (2019)',\n",
       " 'LK vs. DWG | Play-In Knockouts Day 1 | 2019 World Championship',\n",
       " 'SKT vs. G2 | Semifinals Day 2 | 2019 Mid-Season Invitational | SK telecom T1 vs. G2 Esports',\n",
       " '2016 Mid-Season Invitational: Group Stage Day 4',\n",
       " 'JDG vs. FPX - SEMI-FINALS | LPL Spring (2020)',\n",
       " 'Finals | Mid-Season Invitational | Royal Never Give Up vs. KING-ZONE DragonX (2018)',\n",
       " 'GEN vs. EDG | Semifinals Day 2 | Worlds 2021',\n",
       " 'Week 8 Day 1 | LEC Spring Split (2019)',\n",
       " 'T1 vs HLE | DRX vs KT | 2022 LCK Spring Split',\n",
       " 'MSI Countdown',\n",
       " 'LCK Playoffs: KING-ZONE DragonX vs. Afreeca Freecs',\n",
       " '2017 All-Star Event: Day 4',\n",
       " 'Worlds 2020 Groups: Day 3',\n",
       " 'IG vs. JDG | Finals | LPL Spring Split | Invictus Gaming vs. JD Gaming (2019)',\n",
       " '2022 Spring LEC - Week 2 Day 1',\n",
       " 'Week 8 Day 1 | LCS Summer Split (2019)',\n",
       " 'LPL Spring - Week 6 Day 4',\n",
       " '2021 LEC Spring - Week 2 Day 1',\n",
       " 'Week 9 Day 2 | LCS Summer Split (2019)',\n",
       " 'SKT vs. KZ - AF vs. DWG | Week 8 Day 1 | LCK Summer Split (2019)',\n",
       " 'Countdown | Groups Day 5 | Worlds 2021',\n",
       " 'PRIMETIME LEAGUE: EPISODE 25',\n",
       " 'FPX vs. RNG | Finals | LPL Summer | FunPlus Phoenix vs. Royal Never Give Up (2019)',\n",
       " 'LCK Spring: ROX vs. KT - SKT vs. AFS',\n",
       " 'EU LCS Finals - 3rd Place: Misfits vs. Fnatic',\n",
       " 'MSI 2021: Countdown',\n",
       " 'GRF vs. SKT - DWG vs. JAG | Week 7 Day 4 | LCK Summer Split (2019)',\n",
       " 'EU LCS Spring 2018 : Week 4 Day 1',\n",
       " 'EU LCS  Week 6 Day 1: Ninjas in Pyjamas vs. Vitality | Roccat vs H2K',\n",
       " '[ES] Campeonato Mundial 2016: Fase de Grupos, Día 1',\n",
       " 'LCK Spring Playoffs: KT vs. SKT',\n",
       " 'T1 vs. DWG - GEN vs. SB [2020 LCK Summer Split]',\n",
       " 'MSI 2017: Group Stage Day 2',\n",
       " 'FW vs. GMB | Play-In Knockout | Mid-Season Invitational | Flash Wolves vs. Gambit Esports (2018)',\n",
       " 'DWG vs. SB - JAG vs. HLE | Week 7 Day 2 | LCK Summer Split (2019)',\n",
       " '[2020 LoL Mid Season Cup] Day 1',\n",
       " 'PRESHOW | Finals | 2019 World Championship | G2 Esports vs. FunPlus Phoenix',\n",
       " 'Worlds 2018 Quarterfinals Day 2',\n",
       " 'LPL Playoffs: OMG vs. IG | WE vs. NB',\n",
       " 'MSI Play-In Groups Day 1',\n",
       " 'HKA vs. ISG | Play-In Knockouts Day 2 | 2019 World Championship\\n',\n",
       " 'NA LCS Week 6 Day 2',\n",
       " 'Week 6 Day 1 | LEC Spring Split (2019)',\n",
       " 'GRF vs. AF - SBG vs. KT | Week 4 Day 5 | LCK Spring Split (2019)',\n",
       " 'LCK Spring - Week 12 Day 3',\n",
       " 'NA LCS Lounge: Echo Fox vs. Golden Guardians',\n",
       " 'LCK Summer: BBQ vs. HLE - JAG vs. SKT',\n",
       " 'FNC vs. H2K | Third Place | EU LCS Summer Split | Fnatic vs. H2K (2017)',\n",
       " 'PRIMETIME LEAGUE: EPISODE 20 (2016)',\n",
       " 'EU Spring Promotion - Round 2: FC Schalke 04 vs. ROCCAT ',\n",
       " 'LCK Summer: GEN vs. KZ - JAG vs. BBQ',\n",
       " 'LSB vs GENㅣAF vs T1 | 2021 LCK Summer',\n",
       " 'EU LCS Summer - Week 1 Day 2: SPY vs. ROC | GIA vs. G2 | H2K vs. S04 (EULCS1)',\n",
       " 'Worlds 2017 Finals - Samsung Galaxy vs. SK telecom T1',\n",
       " 'SK Gaming vs. Splyce | POV Stream | Playoffs Round 1',\n",
       " 'SK Gaming vs. Splyce | Playoffs Round 1 | LEC Spring Split (2019): Game 4',\n",
       " 'LCK Summer: SSG vs. LZ | JAG vs. AFS',\n",
       " 'LCK Summer - Week 4 Day 5: JAG vs. SKT | ROX vs. LZ (OGN)',\n",
       " 'NA LCS Summer (2018) | Week 5 Day 2',\n",
       " 'EU LCS Spring 2017 - Week 6 Day 1: Misfits vs. Unicorns of Love | H2K vs. Fnatic',\n",
       " 'EU LCS Playoffs Semifinal Day 2: Unicorns of Love vs. Misfits',\n",
       " 'Week 8 Day 2 | LCS Spring Split (2019)',\n",
       " 'Worlds 2017 Finals - Samsung Galaxy vs. SK telecom T1',\n",
       " 'LK vs. DWG | Play-In Knockouts Day 1 | 2019 World Championship',\n",
       " '2022 Spring LEC - Week 1 Day 1',\n",
       " 'Play-In Groups Day 3 | 2019 World Championship',\n",
       " 'LK vs. DWG | Play-In Knockouts Day 1 | 2019 World Championship',\n",
       " 'LCK Spring: KDM vs. KZ - ROX vs. BBQ',\n",
       " 'Groups Day 1 | 2020 World Championship',\n",
       " 'NA LCS Spring (2018) | Week 9 Day 1',\n",
       " 'LPL Spring Playoffs: IG vs. NB | QG vs. IM',\n",
       " 'EU LCS Summer 2017 - Week 1 Day 1: H2K vs. Splyce | Fnatic vs. Misfits ',\n",
       " 'G2 vs. SPY | Semifinals Day 1 | EU LCS Spring Split | G2 Esports vs. Splyce (2018)',\n",
       " 'LCK Spring: ROX vs. SKT - KZ vs. AFS',\n",
       " 'KDF vs NS | BRO vs KT | 2022 LCK Spring Split',\n",
       " 'FNC vs. VIT | Semifinals Day 2 | EU LCS Spring Split | Fnatic vs. Team Vitality (2018)',\n",
       " 'AF vs. T1 - HLE vs. DYN [2020 LCK Summer Split]',\n",
       " 'LCK Spring: JAG vs. MVP - KT vs. SKT',\n",
       " 'World Championship: Group Stage Day 5',\n",
       " \"LLN Apertura '17 - Semana 10 Día 1\",\n",
       " '2017 All-Star Event: Day 4',\n",
       " 'MAD vs. S04 | Playoffs Round 2 | LEC Summer | MAD Lions vs. Schalke 04 (2020)',\n",
       " 'Play-In Knockouts Day 2 | Worlds 2021',\n",
       " 'Week 1 Day 2 | LEC Spring Split (2019)',\n",
       " 'KT vs. GRF - SKT vs. GEN | Week 7 Day 1 | LCK Summer Split (2019)',\n",
       " 'Worlds 2017 Play-In: Cloud9 vs. Lyon Gaming',\n",
       " '2022 Spring LEC - Week 5 Day 1',\n",
       " 'NA LCS Countdown',\n",
       " 'Week 9 Day 2 | LEC Summer Split (2019)',\n",
       " 'EU LCS Summer - Week 1 Day 1: OG vs. G2 | S04 vs. UOL | FNC vs. GIA',\n",
       " 'MAD vs. S04 | Playoffs Round 2 | LEC Summer | MAD Lions vs. Schalke 04 (2020)',\n",
       " 'Week 6 Day 1 | LEC Summer Split (2020)',\n",
       " 'SKT vs. AF | Playoffs Round 1 | LCK Summer | SK telecom T1 vs. Afreeca Freecs (2019)',\n",
       " 'Worlds 2017: Groups Day 6',\n",
       " '[ES] Campeonato Mundial 2016: Cuartos de Final 3 ROX vs. EDG',\n",
       " 'BLG vs. RW | EDG vs. LNG - Week 9 Day 2 | LPL Summer Split (2020)',\n",
       " '2017 All-Star Event: Day 4',\n",
       " 'LCK Spring Playoffs: SKT vs. KSV',\n",
       " 'Week 6 Day 2 | LEC Summer Split (2020)',\n",
       " 'FPX vs. RNG - 2021 LPL SPRING FINALS | LPL Spring Split (2021)',\n",
       " 'KZ vs. HLE - SKT vs. GEN | Week 6 Day 2 | LCK Spring Split (2019)',\n",
       " 'EU LCS Promotion Tournament - Day 3',\n",
       " 'NA LCS Spring (2018) | Week 9 Day 1']"
      ]
     },
     "execution_count": 181,
     "metadata": {},
     "output_type": "execute_result"
    }
   ],
   "source": [
    "list(df_sampled_vids.title)"
   ]
  },
  {
   "cell_type": "code",
   "execution_count": null,
   "id": "32cc9bff-cabf-4efe-803a-bb64f483e63e",
   "metadata": {},
   "outputs": [],
   "source": []
  }
 ],
 "metadata": {
  "kernelspec": {
   "display_name": "Python 3 (ipykernel)",
   "language": "python",
   "name": "python3"
  },
  "language_info": {
   "codemirror_mode": {
    "name": "ipython",
    "version": 3
   },
   "file_extension": ".py",
   "mimetype": "text/x-python",
   "name": "python",
   "nbconvert_exporter": "python",
   "pygments_lexer": "ipython3",
   "version": "3.8.12"
  }
 },
 "nbformat": 4,
 "nbformat_minor": 5
}
